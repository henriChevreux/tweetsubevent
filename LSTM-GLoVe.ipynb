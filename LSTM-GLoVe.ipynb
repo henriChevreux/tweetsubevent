{
 "cells": [
  {
   "cell_type": "code",
   "execution_count": 1,
   "metadata": {},
   "outputs": [
    {
     "name": "stderr",
     "output_type": "stream",
     "text": [
<<<<<<< HEAD
      "2024-12-11 10:42:43.599306: I tensorflow/core/platform/cpu_feature_guard.cc:210] This TensorFlow binary is optimized to use available CPU instructions in performance-critical operations.\n",
      "To enable the following instructions: AVX2 FMA, in other operations, rebuild TensorFlow with the appropriate compiler flags.\n",
      "\n",
      "A module that was compiled using NumPy 1.x cannot be run in\n",
      "NumPy 2.0.2 as it may crash. To support both 1.x and 2.x\n",
      "versions of NumPy, modules must be compiled with NumPy 2.0.\n",
      "Some module may need to rebuild instead e.g. with 'pybind11>=2.12'.\n",
      "\n",
      "If you are a user of the module, the easiest solution will be to\n",
      "downgrade to 'numpy<2' or try to upgrade the affected module.\n",
      "We expect that some modules will need time to support NumPy 2.\n",
      "\n",
      "Traceback (most recent call last):  File \"<frozen runpy>\", line 198, in _run_module_as_main\n",
      "  File \"<frozen runpy>\", line 88, in _run_code\n",
      "  File \"/Users/charles/Desktop/STUDY/Polytechnique - MScT AI & VC/Courses/M1/S1/Machine and Deep Learning /END_PROJECT/.venv/lib/python3.11/site-packages/ipykernel_launcher.py\", line 18, in <module>\n",
      "    app.launch_new_instance()\n",
      "  File \"/Users/charles/Desktop/STUDY/Polytechnique - MScT AI & VC/Courses/M1/S1/Machine and Deep Learning /END_PROJECT/.venv/lib/python3.11/site-packages/traitlets/config/application.py\", line 1075, in launch_instance\n",
      "    app.start()\n",
      "  File \"/Users/charles/Desktop/STUDY/Polytechnique - MScT AI & VC/Courses/M1/S1/Machine and Deep Learning /END_PROJECT/.venv/lib/python3.11/site-packages/ipykernel/kernelapp.py\", line 739, in start\n",
      "    self.io_loop.start()\n",
      "  File \"/Users/charles/Desktop/STUDY/Polytechnique - MScT AI & VC/Courses/M1/S1/Machine and Deep Learning /END_PROJECT/.venv/lib/python3.11/site-packages/tornado/platform/asyncio.py\", line 205, in start\n",
      "    self.asyncio_loop.run_forever()\n",
      "  File \"/Library/Frameworks/Python.framework/Versions/3.11/lib/python3.11/asyncio/base_events.py\", line 604, in run_forever\n",
      "    self._run_once()\n",
      "  File \"/Library/Frameworks/Python.framework/Versions/3.11/lib/python3.11/asyncio/base_events.py\", line 1909, in _run_once\n",
      "    handle._run()\n",
      "  File \"/Library/Frameworks/Python.framework/Versions/3.11/lib/python3.11/asyncio/events.py\", line 80, in _run\n",
      "    self._context.run(self._callback, *self._args)\n",
      "  File \"/Users/charles/Desktop/STUDY/Polytechnique - MScT AI & VC/Courses/M1/S1/Machine and Deep Learning /END_PROJECT/.venv/lib/python3.11/site-packages/ipykernel/kernelbase.py\", line 545, in dispatch_queue\n",
      "    await self.process_one()\n",
      "  File \"/Users/charles/Desktop/STUDY/Polytechnique - MScT AI & VC/Courses/M1/S1/Machine and Deep Learning /END_PROJECT/.venv/lib/python3.11/site-packages/ipykernel/kernelbase.py\", line 534, in process_one\n",
      "    await dispatch(*args)\n",
      "  File \"/Users/charles/Desktop/STUDY/Polytechnique - MScT AI & VC/Courses/M1/S1/Machine and Deep Learning /END_PROJECT/.venv/lib/python3.11/site-packages/ipykernel/kernelbase.py\", line 437, in dispatch_shell\n",
      "    await result\n",
      "  File \"/Users/charles/Desktop/STUDY/Polytechnique - MScT AI & VC/Courses/M1/S1/Machine and Deep Learning /END_PROJECT/.venv/lib/python3.11/site-packages/ipykernel/ipkernel.py\", line 362, in execute_request\n",
      "    await super().execute_request(stream, ident, parent)\n",
      "  File \"/Users/charles/Desktop/STUDY/Polytechnique - MScT AI & VC/Courses/M1/S1/Machine and Deep Learning /END_PROJECT/.venv/lib/python3.11/site-packages/ipykernel/kernelbase.py\", line 778, in execute_request\n",
      "    reply_content = await reply_content\n",
      "  File \"/Users/charles/Desktop/STUDY/Polytechnique - MScT AI & VC/Courses/M1/S1/Machine and Deep Learning /END_PROJECT/.venv/lib/python3.11/site-packages/ipykernel/ipkernel.py\", line 449, in do_execute\n",
      "    res = shell.run_cell(\n",
      "  File \"/Users/charles/Desktop/STUDY/Polytechnique - MScT AI & VC/Courses/M1/S1/Machine and Deep Learning /END_PROJECT/.venv/lib/python3.11/site-packages/ipykernel/zmqshell.py\", line 549, in run_cell\n",
      "    return super().run_cell(*args, **kwargs)\n",
      "  File \"/Users/charles/Desktop/STUDY/Polytechnique - MScT AI & VC/Courses/M1/S1/Machine and Deep Learning /END_PROJECT/.venv/lib/python3.11/site-packages/IPython/core/interactiveshell.py\", line 3075, in run_cell\n",
      "    result = self._run_cell(\n",
      "  File \"/Users/charles/Desktop/STUDY/Polytechnique - MScT AI & VC/Courses/M1/S1/Machine and Deep Learning /END_PROJECT/.venv/lib/python3.11/site-packages/IPython/core/interactiveshell.py\", line 3130, in _run_cell\n",
      "    result = runner(coro)\n",
      "  File \"/Users/charles/Desktop/STUDY/Polytechnique - MScT AI & VC/Courses/M1/S1/Machine and Deep Learning /END_PROJECT/.venv/lib/python3.11/site-packages/IPython/core/async_helpers.py\", line 128, in _pseudo_sync_runner\n",
      "    coro.send(None)\n",
      "  File \"/Users/charles/Desktop/STUDY/Polytechnique - MScT AI & VC/Courses/M1/S1/Machine and Deep Learning /END_PROJECT/.venv/lib/python3.11/site-packages/IPython/core/interactiveshell.py\", line 3334, in run_cell_async\n",
      "    has_raised = await self.run_ast_nodes(code_ast.body, cell_name,\n",
      "  File \"/Users/charles/Desktop/STUDY/Polytechnique - MScT AI & VC/Courses/M1/S1/Machine and Deep Learning /END_PROJECT/.venv/lib/python3.11/site-packages/IPython/core/interactiveshell.py\", line 3517, in run_ast_nodes\n",
      "    if await self.run_code(code, result, async_=asy):\n",
      "  File \"/Users/charles/Desktop/STUDY/Polytechnique - MScT AI & VC/Courses/M1/S1/Machine and Deep Learning /END_PROJECT/.venv/lib/python3.11/site-packages/IPython/core/interactiveshell.py\", line 3577, in run_code\n",
      "    exec(code_obj, self.user_global_ns, self.user_ns)\n",
      "  File \"/var/folders/zk/yx6v2s9j65vf9txb_j71tvn00000gn/T/ipykernel_17006/782360658.py\", line 4, in <module>\n",
      "    import tensorflow as tf\n",
      "  File \"/Users/charles/Desktop/STUDY/Polytechnique - MScT AI & VC/Courses/M1/S1/Machine and Deep Learning /END_PROJECT/.venv/lib/python3.11/site-packages/tensorflow/__init__.py\", line 45, in <module>\n",
      "    from tensorflow._api.v2 import __internal__\n",
      "  File \"/Users/charles/Desktop/STUDY/Polytechnique - MScT AI & VC/Courses/M1/S1/Machine and Deep Learning /END_PROJECT/.venv/lib/python3.11/site-packages/tensorflow/_api/v2/__internal__/__init__.py\", line 8, in <module>\n",
      "    from tensorflow._api.v2.__internal__ import autograph\n",
      "  File \"/Users/charles/Desktop/STUDY/Polytechnique - MScT AI & VC/Courses/M1/S1/Machine and Deep Learning /END_PROJECT/.venv/lib/python3.11/site-packages/tensorflow/_api/v2/__internal__/autograph/__init__.py\", line 8, in <module>\n",
      "    from tensorflow.python.autograph.core.ag_ctx import control_status_ctx # line: 34\n",
      "  File \"/Users/charles/Desktop/STUDY/Polytechnique - MScT AI & VC/Courses/M1/S1/Machine and Deep Learning /END_PROJECT/.venv/lib/python3.11/site-packages/tensorflow/python/autograph/core/ag_ctx.py\", line 21, in <module>\n",
      "    from tensorflow.python.autograph.utils import ag_logging\n",
      "  File \"/Users/charles/Desktop/STUDY/Polytechnique - MScT AI & VC/Courses/M1/S1/Machine and Deep Learning /END_PROJECT/.venv/lib/python3.11/site-packages/tensorflow/python/autograph/utils/__init__.py\", line 17, in <module>\n",
      "    from tensorflow.python.autograph.utils.context_managers import control_dependency_on_returns\n",
      "  File \"/Users/charles/Desktop/STUDY/Polytechnique - MScT AI & VC/Courses/M1/S1/Machine and Deep Learning /END_PROJECT/.venv/lib/python3.11/site-packages/tensorflow/python/autograph/utils/context_managers.py\", line 19, in <module>\n",
      "    from tensorflow.python.framework import ops\n",
      "  File \"/Users/charles/Desktop/STUDY/Polytechnique - MScT AI & VC/Courses/M1/S1/Machine and Deep Learning /END_PROJECT/.venv/lib/python3.11/site-packages/tensorflow/python/framework/ops.py\", line 46, in <module>\n",
      "    from tensorflow.python import pywrap_tfe\n",
      "  File \"/Users/charles/Desktop/STUDY/Polytechnique - MScT AI & VC/Courses/M1/S1/Machine and Deep Learning /END_PROJECT/.venv/lib/python3.11/site-packages/tensorflow/python/pywrap_tfe.py\", line 25, in <module>\n",
      "    from tensorflow.python._pywrap_tfe import *\n"
     ]
    },
    {
     "ename": "AttributeError",
     "evalue": "_ARRAY_API not found",
     "output_type": "error",
     "traceback": [
      "\u001b[0;31m---------------------------------------------------------------------------\u001b[0m",
      "\u001b[0;31mAttributeError\u001b[0m                            Traceback (most recent call last)",
      "\u001b[0;31mAttributeError\u001b[0m: _ARRAY_API not found"
     ]
    },
    {
     "name": "stderr",
     "output_type": "stream",
     "text": [
      "\n",
      "A module that was compiled using NumPy 1.x cannot be run in\n",
      "NumPy 2.0.2 as it may crash. To support both 1.x and 2.x\n",
      "versions of NumPy, modules must be compiled with NumPy 2.0.\n",
      "Some module may need to rebuild instead e.g. with 'pybind11>=2.12'.\n",
      "\n",
      "If you are a user of the module, the easiest solution will be to\n",
      "downgrade to 'numpy<2' or try to upgrade the affected module.\n",
      "We expect that some modules will need time to support NumPy 2.\n",
      "\n",
      "Traceback (most recent call last):  File \"<frozen runpy>\", line 198, in _run_module_as_main\n",
      "  File \"<frozen runpy>\", line 88, in _run_code\n",
      "  File \"/Users/charles/Desktop/STUDY/Polytechnique - MScT AI & VC/Courses/M1/S1/Machine and Deep Learning /END_PROJECT/.venv/lib/python3.11/site-packages/ipykernel_launcher.py\", line 18, in <module>\n",
      "    app.launch_new_instance()\n",
      "  File \"/Users/charles/Desktop/STUDY/Polytechnique - MScT AI & VC/Courses/M1/S1/Machine and Deep Learning /END_PROJECT/.venv/lib/python3.11/site-packages/traitlets/config/application.py\", line 1075, in launch_instance\n",
      "    app.start()\n",
      "  File \"/Users/charles/Desktop/STUDY/Polytechnique - MScT AI & VC/Courses/M1/S1/Machine and Deep Learning /END_PROJECT/.venv/lib/python3.11/site-packages/ipykernel/kernelapp.py\", line 739, in start\n",
      "    self.io_loop.start()\n",
      "  File \"/Users/charles/Desktop/STUDY/Polytechnique - MScT AI & VC/Courses/M1/S1/Machine and Deep Learning /END_PROJECT/.venv/lib/python3.11/site-packages/tornado/platform/asyncio.py\", line 205, in start\n",
      "    self.asyncio_loop.run_forever()\n",
      "  File \"/Library/Frameworks/Python.framework/Versions/3.11/lib/python3.11/asyncio/base_events.py\", line 604, in run_forever\n",
      "    self._run_once()\n",
      "  File \"/Library/Frameworks/Python.framework/Versions/3.11/lib/python3.11/asyncio/base_events.py\", line 1909, in _run_once\n",
      "    handle._run()\n",
      "  File \"/Library/Frameworks/Python.framework/Versions/3.11/lib/python3.11/asyncio/events.py\", line 80, in _run\n",
      "    self._context.run(self._callback, *self._args)\n",
      "  File \"/Users/charles/Desktop/STUDY/Polytechnique - MScT AI & VC/Courses/M1/S1/Machine and Deep Learning /END_PROJECT/.venv/lib/python3.11/site-packages/ipykernel/kernelbase.py\", line 545, in dispatch_queue\n",
      "    await self.process_one()\n",
      "  File \"/Users/charles/Desktop/STUDY/Polytechnique - MScT AI & VC/Courses/M1/S1/Machine and Deep Learning /END_PROJECT/.venv/lib/python3.11/site-packages/ipykernel/kernelbase.py\", line 534, in process_one\n",
      "    await dispatch(*args)\n",
      "  File \"/Users/charles/Desktop/STUDY/Polytechnique - MScT AI & VC/Courses/M1/S1/Machine and Deep Learning /END_PROJECT/.venv/lib/python3.11/site-packages/ipykernel/kernelbase.py\", line 437, in dispatch_shell\n",
      "    await result\n",
      "  File \"/Users/charles/Desktop/STUDY/Polytechnique - MScT AI & VC/Courses/M1/S1/Machine and Deep Learning /END_PROJECT/.venv/lib/python3.11/site-packages/ipykernel/ipkernel.py\", line 362, in execute_request\n",
      "    await super().execute_request(stream, ident, parent)\n",
      "  File \"/Users/charles/Desktop/STUDY/Polytechnique - MScT AI & VC/Courses/M1/S1/Machine and Deep Learning /END_PROJECT/.venv/lib/python3.11/site-packages/ipykernel/kernelbase.py\", line 778, in execute_request\n",
      "    reply_content = await reply_content\n",
      "  File \"/Users/charles/Desktop/STUDY/Polytechnique - MScT AI & VC/Courses/M1/S1/Machine and Deep Learning /END_PROJECT/.venv/lib/python3.11/site-packages/ipykernel/ipkernel.py\", line 449, in do_execute\n",
      "    res = shell.run_cell(\n",
      "  File \"/Users/charles/Desktop/STUDY/Polytechnique - MScT AI & VC/Courses/M1/S1/Machine and Deep Learning /END_PROJECT/.venv/lib/python3.11/site-packages/ipykernel/zmqshell.py\", line 549, in run_cell\n",
      "    return super().run_cell(*args, **kwargs)\n",
      "  File \"/Users/charles/Desktop/STUDY/Polytechnique - MScT AI & VC/Courses/M1/S1/Machine and Deep Learning /END_PROJECT/.venv/lib/python3.11/site-packages/IPython/core/interactiveshell.py\", line 3075, in run_cell\n",
      "    result = self._run_cell(\n",
      "  File \"/Users/charles/Desktop/STUDY/Polytechnique - MScT AI & VC/Courses/M1/S1/Machine and Deep Learning /END_PROJECT/.venv/lib/python3.11/site-packages/IPython/core/interactiveshell.py\", line 3130, in _run_cell\n",
      "    result = runner(coro)\n",
      "  File \"/Users/charles/Desktop/STUDY/Polytechnique - MScT AI & VC/Courses/M1/S1/Machine and Deep Learning /END_PROJECT/.venv/lib/python3.11/site-packages/IPython/core/async_helpers.py\", line 128, in _pseudo_sync_runner\n",
      "    coro.send(None)\n",
      "  File \"/Users/charles/Desktop/STUDY/Polytechnique - MScT AI & VC/Courses/M1/S1/Machine and Deep Learning /END_PROJECT/.venv/lib/python3.11/site-packages/IPython/core/interactiveshell.py\", line 3334, in run_cell_async\n",
      "    has_raised = await self.run_ast_nodes(code_ast.body, cell_name,\n",
      "  File \"/Users/charles/Desktop/STUDY/Polytechnique - MScT AI & VC/Courses/M1/S1/Machine and Deep Learning /END_PROJECT/.venv/lib/python3.11/site-packages/IPython/core/interactiveshell.py\", line 3517, in run_ast_nodes\n",
      "    if await self.run_code(code, result, async_=asy):\n",
      "  File \"/Users/charles/Desktop/STUDY/Polytechnique - MScT AI & VC/Courses/M1/S1/Machine and Deep Learning /END_PROJECT/.venv/lib/python3.11/site-packages/IPython/core/interactiveshell.py\", line 3577, in run_code\n",
      "    exec(code_obj, self.user_global_ns, self.user_ns)\n",
      "  File \"/var/folders/zk/yx6v2s9j65vf9txb_j71tvn00000gn/T/ipykernel_17006/782360658.py\", line 4, in <module>\n",
      "    import tensorflow as tf\n",
      "  File \"/Users/charles/Desktop/STUDY/Polytechnique - MScT AI & VC/Courses/M1/S1/Machine and Deep Learning /END_PROJECT/.venv/lib/python3.11/site-packages/tensorflow/__init__.py\", line 45, in <module>\n",
      "    from tensorflow._api.v2 import __internal__\n",
      "  File \"/Users/charles/Desktop/STUDY/Polytechnique - MScT AI & VC/Courses/M1/S1/Machine and Deep Learning /END_PROJECT/.venv/lib/python3.11/site-packages/tensorflow/_api/v2/__internal__/__init__.py\", line 8, in <module>\n",
      "    from tensorflow._api.v2.__internal__ import autograph\n",
      "  File \"/Users/charles/Desktop/STUDY/Polytechnique - MScT AI & VC/Courses/M1/S1/Machine and Deep Learning /END_PROJECT/.venv/lib/python3.11/site-packages/tensorflow/_api/v2/__internal__/autograph/__init__.py\", line 8, in <module>\n",
      "    from tensorflow.python.autograph.core.ag_ctx import control_status_ctx # line: 34\n",
      "  File \"/Users/charles/Desktop/STUDY/Polytechnique - MScT AI & VC/Courses/M1/S1/Machine and Deep Learning /END_PROJECT/.venv/lib/python3.11/site-packages/tensorflow/python/autograph/core/ag_ctx.py\", line 21, in <module>\n",
      "    from tensorflow.python.autograph.utils import ag_logging\n",
      "  File \"/Users/charles/Desktop/STUDY/Polytechnique - MScT AI & VC/Courses/M1/S1/Machine and Deep Learning /END_PROJECT/.venv/lib/python3.11/site-packages/tensorflow/python/autograph/utils/__init__.py\", line 17, in <module>\n",
      "    from tensorflow.python.autograph.utils.context_managers import control_dependency_on_returns\n",
      "  File \"/Users/charles/Desktop/STUDY/Polytechnique - MScT AI & VC/Courses/M1/S1/Machine and Deep Learning /END_PROJECT/.venv/lib/python3.11/site-packages/tensorflow/python/autograph/utils/context_managers.py\", line 19, in <module>\n",
      "    from tensorflow.python.framework import ops\n",
      "  File \"/Users/charles/Desktop/STUDY/Polytechnique - MScT AI & VC/Courses/M1/S1/Machine and Deep Learning /END_PROJECT/.venv/lib/python3.11/site-packages/tensorflow/python/framework/ops.py\", line 49, in <module>\n",
      "    from tensorflow.python.client import pywrap_tf_session\n",
      "  File \"/Users/charles/Desktop/STUDY/Polytechnique - MScT AI & VC/Courses/M1/S1/Machine and Deep Learning /END_PROJECT/.venv/lib/python3.11/site-packages/tensorflow/python/client/pywrap_tf_session.py\", line 19, in <module>\n",
      "    from tensorflow.python.client._pywrap_tf_session import *\n"
     ]
    },
    {
     "ename": "AttributeError",
     "evalue": "_ARRAY_API not found",
     "output_type": "error",
     "traceback": [
      "\u001b[0;31m---------------------------------------------------------------------------\u001b[0m",
      "\u001b[0;31mAttributeError\u001b[0m                            Traceback (most recent call last)",
      "\u001b[0;31mAttributeError\u001b[0m: _ARRAY_API not found"
     ]
    },
    {
     "name": "stderr",
     "output_type": "stream",
     "text": [
      "\n",
      "A module that was compiled using NumPy 1.x cannot be run in\n",
      "NumPy 2.0.2 as it may crash. To support both 1.x and 2.x\n",
      "versions of NumPy, modules must be compiled with NumPy 2.0.\n",
      "Some module may need to rebuild instead e.g. with 'pybind11>=2.12'.\n",
      "\n",
      "If you are a user of the module, the easiest solution will be to\n",
      "downgrade to 'numpy<2' or try to upgrade the affected module.\n",
      "We expect that some modules will need time to support NumPy 2.\n",
      "\n",
      "Traceback (most recent call last):  File \"<frozen runpy>\", line 198, in _run_module_as_main\n",
      "  File \"<frozen runpy>\", line 88, in _run_code\n",
      "  File \"/Users/charles/Desktop/STUDY/Polytechnique - MScT AI & VC/Courses/M1/S1/Machine and Deep Learning /END_PROJECT/.venv/lib/python3.11/site-packages/ipykernel_launcher.py\", line 18, in <module>\n",
      "    app.launch_new_instance()\n",
      "  File \"/Users/charles/Desktop/STUDY/Polytechnique - MScT AI & VC/Courses/M1/S1/Machine and Deep Learning /END_PROJECT/.venv/lib/python3.11/site-packages/traitlets/config/application.py\", line 1075, in launch_instance\n",
      "    app.start()\n",
      "  File \"/Users/charles/Desktop/STUDY/Polytechnique - MScT AI & VC/Courses/M1/S1/Machine and Deep Learning /END_PROJECT/.venv/lib/python3.11/site-packages/ipykernel/kernelapp.py\", line 739, in start\n",
      "    self.io_loop.start()\n",
      "  File \"/Users/charles/Desktop/STUDY/Polytechnique - MScT AI & VC/Courses/M1/S1/Machine and Deep Learning /END_PROJECT/.venv/lib/python3.11/site-packages/tornado/platform/asyncio.py\", line 205, in start\n",
      "    self.asyncio_loop.run_forever()\n",
      "  File \"/Library/Frameworks/Python.framework/Versions/3.11/lib/python3.11/asyncio/base_events.py\", line 604, in run_forever\n",
      "    self._run_once()\n",
      "  File \"/Library/Frameworks/Python.framework/Versions/3.11/lib/python3.11/asyncio/base_events.py\", line 1909, in _run_once\n",
      "    handle._run()\n",
      "  File \"/Library/Frameworks/Python.framework/Versions/3.11/lib/python3.11/asyncio/events.py\", line 80, in _run\n",
      "    self._context.run(self._callback, *self._args)\n",
      "  File \"/Users/charles/Desktop/STUDY/Polytechnique - MScT AI & VC/Courses/M1/S1/Machine and Deep Learning /END_PROJECT/.venv/lib/python3.11/site-packages/ipykernel/kernelbase.py\", line 545, in dispatch_queue\n",
      "    await self.process_one()\n",
      "  File \"/Users/charles/Desktop/STUDY/Polytechnique - MScT AI & VC/Courses/M1/S1/Machine and Deep Learning /END_PROJECT/.venv/lib/python3.11/site-packages/ipykernel/kernelbase.py\", line 534, in process_one\n",
      "    await dispatch(*args)\n",
      "  File \"/Users/charles/Desktop/STUDY/Polytechnique - MScT AI & VC/Courses/M1/S1/Machine and Deep Learning /END_PROJECT/.venv/lib/python3.11/site-packages/ipykernel/kernelbase.py\", line 437, in dispatch_shell\n",
      "    await result\n",
      "  File \"/Users/charles/Desktop/STUDY/Polytechnique - MScT AI & VC/Courses/M1/S1/Machine and Deep Learning /END_PROJECT/.venv/lib/python3.11/site-packages/ipykernel/ipkernel.py\", line 362, in execute_request\n",
      "    await super().execute_request(stream, ident, parent)\n",
      "  File \"/Users/charles/Desktop/STUDY/Polytechnique - MScT AI & VC/Courses/M1/S1/Machine and Deep Learning /END_PROJECT/.venv/lib/python3.11/site-packages/ipykernel/kernelbase.py\", line 778, in execute_request\n",
      "    reply_content = await reply_content\n",
      "  File \"/Users/charles/Desktop/STUDY/Polytechnique - MScT AI & VC/Courses/M1/S1/Machine and Deep Learning /END_PROJECT/.venv/lib/python3.11/site-packages/ipykernel/ipkernel.py\", line 449, in do_execute\n",
      "    res = shell.run_cell(\n",
      "  File \"/Users/charles/Desktop/STUDY/Polytechnique - MScT AI & VC/Courses/M1/S1/Machine and Deep Learning /END_PROJECT/.venv/lib/python3.11/site-packages/ipykernel/zmqshell.py\", line 549, in run_cell\n",
      "    return super().run_cell(*args, **kwargs)\n",
      "  File \"/Users/charles/Desktop/STUDY/Polytechnique - MScT AI & VC/Courses/M1/S1/Machine and Deep Learning /END_PROJECT/.venv/lib/python3.11/site-packages/IPython/core/interactiveshell.py\", line 3075, in run_cell\n",
      "    result = self._run_cell(\n",
      "  File \"/Users/charles/Desktop/STUDY/Polytechnique - MScT AI & VC/Courses/M1/S1/Machine and Deep Learning /END_PROJECT/.venv/lib/python3.11/site-packages/IPython/core/interactiveshell.py\", line 3130, in _run_cell\n",
      "    result = runner(coro)\n",
      "  File \"/Users/charles/Desktop/STUDY/Polytechnique - MScT AI & VC/Courses/M1/S1/Machine and Deep Learning /END_PROJECT/.venv/lib/python3.11/site-packages/IPython/core/async_helpers.py\", line 128, in _pseudo_sync_runner\n",
      "    coro.send(None)\n",
      "  File \"/Users/charles/Desktop/STUDY/Polytechnique - MScT AI & VC/Courses/M1/S1/Machine and Deep Learning /END_PROJECT/.venv/lib/python3.11/site-packages/IPython/core/interactiveshell.py\", line 3334, in run_cell_async\n",
      "    has_raised = await self.run_ast_nodes(code_ast.body, cell_name,\n",
      "  File \"/Users/charles/Desktop/STUDY/Polytechnique - MScT AI & VC/Courses/M1/S1/Machine and Deep Learning /END_PROJECT/.venv/lib/python3.11/site-packages/IPython/core/interactiveshell.py\", line 3517, in run_ast_nodes\n",
      "    if await self.run_code(code, result, async_=asy):\n",
      "  File \"/Users/charles/Desktop/STUDY/Polytechnique - MScT AI & VC/Courses/M1/S1/Machine and Deep Learning /END_PROJECT/.venv/lib/python3.11/site-packages/IPython/core/interactiveshell.py\", line 3577, in run_code\n",
      "    exec(code_obj, self.user_global_ns, self.user_ns)\n",
      "  File \"/var/folders/zk/yx6v2s9j65vf9txb_j71tvn00000gn/T/ipykernel_17006/782360658.py\", line 4, in <module>\n",
      "    import tensorflow as tf\n",
      "  File \"/Users/charles/Desktop/STUDY/Polytechnique - MScT AI & VC/Courses/M1/S1/Machine and Deep Learning /END_PROJECT/.venv/lib/python3.11/site-packages/tensorflow/__init__.py\", line 45, in <module>\n",
      "    from tensorflow._api.v2 import __internal__\n",
      "  File \"/Users/charles/Desktop/STUDY/Polytechnique - MScT AI & VC/Courses/M1/S1/Machine and Deep Learning /END_PROJECT/.venv/lib/python3.11/site-packages/tensorflow/_api/v2/__internal__/__init__.py\", line 8, in <module>\n",
      "    from tensorflow._api.v2.__internal__ import autograph\n",
      "  File \"/Users/charles/Desktop/STUDY/Polytechnique - MScT AI & VC/Courses/M1/S1/Machine and Deep Learning /END_PROJECT/.venv/lib/python3.11/site-packages/tensorflow/_api/v2/__internal__/autograph/__init__.py\", line 8, in <module>\n",
      "    from tensorflow.python.autograph.core.ag_ctx import control_status_ctx # line: 34\n",
      "  File \"/Users/charles/Desktop/STUDY/Polytechnique - MScT AI & VC/Courses/M1/S1/Machine and Deep Learning /END_PROJECT/.venv/lib/python3.11/site-packages/tensorflow/python/autograph/core/ag_ctx.py\", line 21, in <module>\n",
      "    from tensorflow.python.autograph.utils import ag_logging\n",
      "  File \"/Users/charles/Desktop/STUDY/Polytechnique - MScT AI & VC/Courses/M1/S1/Machine and Deep Learning /END_PROJECT/.venv/lib/python3.11/site-packages/tensorflow/python/autograph/utils/__init__.py\", line 17, in <module>\n",
      "    from tensorflow.python.autograph.utils.context_managers import control_dependency_on_returns\n",
      "  File \"/Users/charles/Desktop/STUDY/Polytechnique - MScT AI & VC/Courses/M1/S1/Machine and Deep Learning /END_PROJECT/.venv/lib/python3.11/site-packages/tensorflow/python/autograph/utils/context_managers.py\", line 19, in <module>\n",
      "    from tensorflow.python.framework import ops\n",
      "  File \"/Users/charles/Desktop/STUDY/Polytechnique - MScT AI & VC/Courses/M1/S1/Machine and Deep Learning /END_PROJECT/.venv/lib/python3.11/site-packages/tensorflow/python/framework/ops.py\", line 50, in <module>\n",
      "    from tensorflow.python.eager import context\n",
      "  File \"/Users/charles/Desktop/STUDY/Polytechnique - MScT AI & VC/Courses/M1/S1/Machine and Deep Learning /END_PROJECT/.venv/lib/python3.11/site-packages/tensorflow/python/eager/context.py\", line 37, in <module>\n",
      "    from tensorflow.python.eager import execute\n",
      "  File \"/Users/charles/Desktop/STUDY/Polytechnique - MScT AI & VC/Courses/M1/S1/Machine and Deep Learning /END_PROJECT/.venv/lib/python3.11/site-packages/tensorflow/python/eager/execute.py\", line 21, in <module>\n",
      "    from tensorflow.python.framework import dtypes\n",
      "  File \"/Users/charles/Desktop/STUDY/Polytechnique - MScT AI & VC/Courses/M1/S1/Machine and Deep Learning /END_PROJECT/.venv/lib/python3.11/site-packages/tensorflow/python/framework/dtypes.py\", line 21, in <module>\n",
      "    import ml_dtypes\n",
      "  File \"/Users/charles/Desktop/STUDY/Polytechnique - MScT AI & VC/Courses/M1/S1/Machine and Deep Learning /END_PROJECT/.venv/lib/python3.11/site-packages/ml_dtypes/__init__.py\", line 32, in <module>\n",
      "    from ml_dtypes._finfo import finfo\n",
      "  File \"/Users/charles/Desktop/STUDY/Polytechnique - MScT AI & VC/Courses/M1/S1/Machine and Deep Learning /END_PROJECT/.venv/lib/python3.11/site-packages/ml_dtypes/_finfo.py\", line 19, in <module>\n",
      "    from ml_dtypes._ml_dtypes_ext import bfloat16\n"
     ]
    },
    {
     "ename": "AttributeError",
     "evalue": "_ARRAY_API not found",
     "output_type": "error",
     "traceback": [
      "\u001b[0;31m---------------------------------------------------------------------------\u001b[0m",
      "\u001b[0;31mAttributeError\u001b[0m                            Traceback (most recent call last)",
      "\u001b[0;31mAttributeError\u001b[0m: _ARRAY_API not found"
     ]
    },
    {
     "ename": "ImportError",
     "evalue": "numpy.core._multiarray_umath failed to import",
     "output_type": "error",
     "traceback": [
      "\u001b[0;31m---------------------------------------------------------------------------\u001b[0m",
      "\u001b[0;31mImportError\u001b[0m                               Traceback (most recent call last)",
      "\u001b[0;31mImportError\u001b[0m: numpy.core._multiarray_umath failed to import"
     ]
    },
    {
     "ename": "ImportError",
     "evalue": "numpy.core.umath failed to import",
     "output_type": "error",
     "traceback": [
      "\u001b[0;31m---------------------------------------------------------------------------\u001b[0m",
      "\u001b[0;31mImportError\u001b[0m                               Traceback (most recent call last)",
      "Cell \u001b[0;32mIn[1], line 4\u001b[0m\n\u001b[1;32m      2\u001b[0m \u001b[38;5;28;01mimport\u001b[39;00m \u001b[38;5;21;01mnumpy\u001b[39;00m \u001b[38;5;28;01mas\u001b[39;00m \u001b[38;5;21;01mnp\u001b[39;00m\n\u001b[1;32m      3\u001b[0m \u001b[38;5;28;01mimport\u001b[39;00m \u001b[38;5;21;01mpandas\u001b[39;00m \u001b[38;5;28;01mas\u001b[39;00m \u001b[38;5;21;01mpd\u001b[39;00m\n\u001b[0;32m----> 4\u001b[0m \u001b[38;5;28;01mimport\u001b[39;00m \u001b[38;5;21;01mtensorflow\u001b[39;00m \u001b[38;5;28;01mas\u001b[39;00m \u001b[38;5;21;01mtf\u001b[39;00m\n\u001b[1;32m      5\u001b[0m \u001b[38;5;28;01mfrom\u001b[39;00m \u001b[38;5;21;01mtensorflow\u001b[39;00m\u001b[38;5;21;01m.\u001b[39;00m\u001b[38;5;21;01mkeras\u001b[39;00m\u001b[38;5;21;01m.\u001b[39;00m\u001b[38;5;21;01mmodels\u001b[39;00m \u001b[38;5;28;01mimport\u001b[39;00m Sequential\n\u001b[1;32m      6\u001b[0m \u001b[38;5;28;01mfrom\u001b[39;00m \u001b[38;5;21;01mtensorflow\u001b[39;00m\u001b[38;5;21;01m.\u001b[39;00m\u001b[38;5;21;01mkeras\u001b[39;00m\u001b[38;5;21;01m.\u001b[39;00m\u001b[38;5;21;01mlayers\u001b[39;00m \u001b[38;5;28;01mimport\u001b[39;00m LSTM, Dense\n",
      "File \u001b[0;32m~/Desktop/STUDY/Polytechnique - MScT AI & VC/Courses/M1/S1/Machine and Deep Learning /END_PROJECT/.venv/lib/python3.11/site-packages/tensorflow/__init__.py:45\u001b[0m\n\u001b[1;32m     42\u001b[0m \u001b[38;5;28;01mfrom\u001b[39;00m \u001b[38;5;21;01mtensorflow\u001b[39;00m\u001b[38;5;21;01m.\u001b[39;00m\u001b[38;5;21;01mpython\u001b[39;00m \u001b[38;5;28;01mimport\u001b[39;00m tf2 \u001b[38;5;28;01mas\u001b[39;00m _tf2\n\u001b[1;32m     43\u001b[0m _tf2\u001b[38;5;241m.\u001b[39menable()\n\u001b[0;32m---> 45\u001b[0m \u001b[38;5;28;01mfrom\u001b[39;00m \u001b[38;5;21;01mtensorflow\u001b[39;00m\u001b[38;5;21;01m.\u001b[39;00m\u001b[38;5;21;01m_api\u001b[39;00m\u001b[38;5;21;01m.\u001b[39;00m\u001b[38;5;21;01mv2\u001b[39;00m \u001b[38;5;28;01mimport\u001b[39;00m __internal__\n\u001b[1;32m     46\u001b[0m \u001b[38;5;28;01mfrom\u001b[39;00m \u001b[38;5;21;01mtensorflow\u001b[39;00m\u001b[38;5;21;01m.\u001b[39;00m\u001b[38;5;21;01m_api\u001b[39;00m\u001b[38;5;21;01m.\u001b[39;00m\u001b[38;5;21;01mv2\u001b[39;00m \u001b[38;5;28;01mimport\u001b[39;00m __operators__\n\u001b[1;32m     47\u001b[0m \u001b[38;5;28;01mfrom\u001b[39;00m \u001b[38;5;21;01mtensorflow\u001b[39;00m\u001b[38;5;21;01m.\u001b[39;00m\u001b[38;5;21;01m_api\u001b[39;00m\u001b[38;5;21;01m.\u001b[39;00m\u001b[38;5;21;01mv2\u001b[39;00m \u001b[38;5;28;01mimport\u001b[39;00m audio\n",
      "File \u001b[0;32m~/Desktop/STUDY/Polytechnique - MScT AI & VC/Courses/M1/S1/Machine and Deep Learning /END_PROJECT/.venv/lib/python3.11/site-packages/tensorflow/_api/v2/__internal__/__init__.py:8\u001b[0m\n\u001b[1;32m      3\u001b[0m \u001b[38;5;124;03m\"\"\"Public API for tf._api.v2.__internal__ namespace\u001b[39;00m\n\u001b[1;32m      4\u001b[0m \u001b[38;5;124;03m\"\"\"\u001b[39;00m\n\u001b[1;32m      6\u001b[0m \u001b[38;5;28;01mimport\u001b[39;00m \u001b[38;5;21;01msys\u001b[39;00m \u001b[38;5;28;01mas\u001b[39;00m \u001b[38;5;21;01m_sys\u001b[39;00m\n\u001b[0;32m----> 8\u001b[0m \u001b[38;5;28;01mfrom\u001b[39;00m \u001b[38;5;21;01mtensorflow\u001b[39;00m\u001b[38;5;21;01m.\u001b[39;00m\u001b[38;5;21;01m_api\u001b[39;00m\u001b[38;5;21;01m.\u001b[39;00m\u001b[38;5;21;01mv2\u001b[39;00m\u001b[38;5;21;01m.\u001b[39;00m\u001b[38;5;21;01m__internal__\u001b[39;00m \u001b[38;5;28;01mimport\u001b[39;00m autograph\n\u001b[1;32m      9\u001b[0m \u001b[38;5;28;01mfrom\u001b[39;00m \u001b[38;5;21;01mtensorflow\u001b[39;00m\u001b[38;5;21;01m.\u001b[39;00m\u001b[38;5;21;01m_api\u001b[39;00m\u001b[38;5;21;01m.\u001b[39;00m\u001b[38;5;21;01mv2\u001b[39;00m\u001b[38;5;21;01m.\u001b[39;00m\u001b[38;5;21;01m__internal__\u001b[39;00m \u001b[38;5;28;01mimport\u001b[39;00m decorator\n\u001b[1;32m     10\u001b[0m \u001b[38;5;28;01mfrom\u001b[39;00m \u001b[38;5;21;01mtensorflow\u001b[39;00m\u001b[38;5;21;01m.\u001b[39;00m\u001b[38;5;21;01m_api\u001b[39;00m\u001b[38;5;21;01m.\u001b[39;00m\u001b[38;5;21;01mv2\u001b[39;00m\u001b[38;5;21;01m.\u001b[39;00m\u001b[38;5;21;01m__internal__\u001b[39;00m \u001b[38;5;28;01mimport\u001b[39;00m dispatch\n",
      "File \u001b[0;32m~/Desktop/STUDY/Polytechnique - MScT AI & VC/Courses/M1/S1/Machine and Deep Learning /END_PROJECT/.venv/lib/python3.11/site-packages/tensorflow/_api/v2/__internal__/autograph/__init__.py:8\u001b[0m\n\u001b[1;32m      3\u001b[0m \u001b[38;5;124;03m\"\"\"Public API for tf._api.v2.__internal__.autograph namespace\u001b[39;00m\n\u001b[1;32m      4\u001b[0m \u001b[38;5;124;03m\"\"\"\u001b[39;00m\n\u001b[1;32m      6\u001b[0m \u001b[38;5;28;01mimport\u001b[39;00m \u001b[38;5;21;01msys\u001b[39;00m \u001b[38;5;28;01mas\u001b[39;00m \u001b[38;5;21;01m_sys\u001b[39;00m\n\u001b[0;32m----> 8\u001b[0m \u001b[38;5;28;01mfrom\u001b[39;00m \u001b[38;5;21;01mtensorflow\u001b[39;00m\u001b[38;5;21;01m.\u001b[39;00m\u001b[38;5;21;01mpython\u001b[39;00m\u001b[38;5;21;01m.\u001b[39;00m\u001b[38;5;21;01mautograph\u001b[39;00m\u001b[38;5;21;01m.\u001b[39;00m\u001b[38;5;21;01mcore\u001b[39;00m\u001b[38;5;21;01m.\u001b[39;00m\u001b[38;5;21;01mag_ctx\u001b[39;00m \u001b[38;5;28;01mimport\u001b[39;00m control_status_ctx \u001b[38;5;66;03m# line: 34\u001b[39;00m\n\u001b[1;32m      9\u001b[0m \u001b[38;5;28;01mfrom\u001b[39;00m \u001b[38;5;21;01mtensorflow\u001b[39;00m\u001b[38;5;21;01m.\u001b[39;00m\u001b[38;5;21;01mpython\u001b[39;00m\u001b[38;5;21;01m.\u001b[39;00m\u001b[38;5;21;01mautograph\u001b[39;00m\u001b[38;5;21;01m.\u001b[39;00m\u001b[38;5;21;01mimpl\u001b[39;00m\u001b[38;5;21;01m.\u001b[39;00m\u001b[38;5;21;01mapi\u001b[39;00m \u001b[38;5;28;01mimport\u001b[39;00m tf_convert \u001b[38;5;66;03m# line: 493\u001b[39;00m\n",
      "File \u001b[0;32m~/Desktop/STUDY/Polytechnique - MScT AI & VC/Courses/M1/S1/Machine and Deep Learning /END_PROJECT/.venv/lib/python3.11/site-packages/tensorflow/python/autograph/core/ag_ctx.py:21\u001b[0m\n\u001b[1;32m     18\u001b[0m \u001b[38;5;28;01mimport\u001b[39;00m \u001b[38;5;21;01minspect\u001b[39;00m\n\u001b[1;32m     19\u001b[0m \u001b[38;5;28;01mimport\u001b[39;00m \u001b[38;5;21;01mthreading\u001b[39;00m\n\u001b[0;32m---> 21\u001b[0m \u001b[38;5;28;01mfrom\u001b[39;00m \u001b[38;5;21;01mtensorflow\u001b[39;00m\u001b[38;5;21;01m.\u001b[39;00m\u001b[38;5;21;01mpython\u001b[39;00m\u001b[38;5;21;01m.\u001b[39;00m\u001b[38;5;21;01mautograph\u001b[39;00m\u001b[38;5;21;01m.\u001b[39;00m\u001b[38;5;21;01mutils\u001b[39;00m \u001b[38;5;28;01mimport\u001b[39;00m ag_logging\n\u001b[1;32m     22\u001b[0m \u001b[38;5;28;01mfrom\u001b[39;00m \u001b[38;5;21;01mtensorflow\u001b[39;00m\u001b[38;5;21;01m.\u001b[39;00m\u001b[38;5;21;01mpython\u001b[39;00m\u001b[38;5;21;01m.\u001b[39;00m\u001b[38;5;21;01mutil\u001b[39;00m\u001b[38;5;21;01m.\u001b[39;00m\u001b[38;5;21;01mtf_export\u001b[39;00m \u001b[38;5;28;01mimport\u001b[39;00m tf_export\n\u001b[1;32m     25\u001b[0m stacks \u001b[38;5;241m=\u001b[39m threading\u001b[38;5;241m.\u001b[39mlocal()\n",
      "File \u001b[0;32m~/Desktop/STUDY/Polytechnique - MScT AI & VC/Courses/M1/S1/Machine and Deep Learning /END_PROJECT/.venv/lib/python3.11/site-packages/tensorflow/python/autograph/utils/__init__.py:17\u001b[0m\n\u001b[1;32m      1\u001b[0m \u001b[38;5;66;03m# Copyright 2016 The TensorFlow Authors. All Rights Reserved.\u001b[39;00m\n\u001b[1;32m      2\u001b[0m \u001b[38;5;66;03m#\u001b[39;00m\n\u001b[1;32m      3\u001b[0m \u001b[38;5;66;03m# Licensed under the Apache License, Version 2.0 (the \"License\");\u001b[39;00m\n\u001b[0;32m   (...)\u001b[0m\n\u001b[1;32m     13\u001b[0m \u001b[38;5;66;03m# limitations under the License.\u001b[39;00m\n\u001b[1;32m     14\u001b[0m \u001b[38;5;66;03m# ==============================================================================\u001b[39;00m\n\u001b[1;32m     15\u001b[0m \u001b[38;5;124;03m\"\"\"Utility module that contains APIs usable in the generated code.\"\"\"\u001b[39;00m\n\u001b[0;32m---> 17\u001b[0m \u001b[38;5;28;01mfrom\u001b[39;00m \u001b[38;5;21;01mtensorflow\u001b[39;00m\u001b[38;5;21;01m.\u001b[39;00m\u001b[38;5;21;01mpython\u001b[39;00m\u001b[38;5;21;01m.\u001b[39;00m\u001b[38;5;21;01mautograph\u001b[39;00m\u001b[38;5;21;01m.\u001b[39;00m\u001b[38;5;21;01mutils\u001b[39;00m\u001b[38;5;21;01m.\u001b[39;00m\u001b[38;5;21;01mcontext_managers\u001b[39;00m \u001b[38;5;28;01mimport\u001b[39;00m control_dependency_on_returns\n\u001b[1;32m     18\u001b[0m \u001b[38;5;28;01mfrom\u001b[39;00m \u001b[38;5;21;01mtensorflow\u001b[39;00m\u001b[38;5;21;01m.\u001b[39;00m\u001b[38;5;21;01mpython\u001b[39;00m\u001b[38;5;21;01m.\u001b[39;00m\u001b[38;5;21;01mautograph\u001b[39;00m\u001b[38;5;21;01m.\u001b[39;00m\u001b[38;5;21;01mutils\u001b[39;00m\u001b[38;5;21;01m.\u001b[39;00m\u001b[38;5;21;01mmisc\u001b[39;00m \u001b[38;5;28;01mimport\u001b[39;00m alias_tensors\n\u001b[1;32m     19\u001b[0m \u001b[38;5;28;01mfrom\u001b[39;00m \u001b[38;5;21;01mtensorflow\u001b[39;00m\u001b[38;5;21;01m.\u001b[39;00m\u001b[38;5;21;01mpython\u001b[39;00m\u001b[38;5;21;01m.\u001b[39;00m\u001b[38;5;21;01mautograph\u001b[39;00m\u001b[38;5;21;01m.\u001b[39;00m\u001b[38;5;21;01mutils\u001b[39;00m\u001b[38;5;21;01m.\u001b[39;00m\u001b[38;5;21;01mtensor_list\u001b[39;00m \u001b[38;5;28;01mimport\u001b[39;00m dynamic_list_append\n",
      "File \u001b[0;32m~/Desktop/STUDY/Polytechnique - MScT AI & VC/Courses/M1/S1/Machine and Deep Learning /END_PROJECT/.venv/lib/python3.11/site-packages/tensorflow/python/autograph/utils/context_managers.py:19\u001b[0m\n\u001b[1;32m     15\u001b[0m \u001b[38;5;124;03m\"\"\"Various context managers.\"\"\"\u001b[39;00m\n\u001b[1;32m     17\u001b[0m \u001b[38;5;28;01mimport\u001b[39;00m \u001b[38;5;21;01mcontextlib\u001b[39;00m\n\u001b[0;32m---> 19\u001b[0m \u001b[38;5;28;01mfrom\u001b[39;00m \u001b[38;5;21;01mtensorflow\u001b[39;00m\u001b[38;5;21;01m.\u001b[39;00m\u001b[38;5;21;01mpython\u001b[39;00m\u001b[38;5;21;01m.\u001b[39;00m\u001b[38;5;21;01mframework\u001b[39;00m \u001b[38;5;28;01mimport\u001b[39;00m ops\n\u001b[1;32m     20\u001b[0m \u001b[38;5;28;01mfrom\u001b[39;00m \u001b[38;5;21;01mtensorflow\u001b[39;00m\u001b[38;5;21;01m.\u001b[39;00m\u001b[38;5;21;01mpython\u001b[39;00m\u001b[38;5;21;01m.\u001b[39;00m\u001b[38;5;21;01mops\u001b[39;00m \u001b[38;5;28;01mimport\u001b[39;00m tensor_array_ops\n\u001b[1;32m     23\u001b[0m \u001b[38;5;28;01mdef\u001b[39;00m \u001b[38;5;21mcontrol_dependency_on_returns\u001b[39m(return_value):\n",
      "File \u001b[0;32m~/Desktop/STUDY/Polytechnique - MScT AI & VC/Courses/M1/S1/Machine and Deep Learning /END_PROJECT/.venv/lib/python3.11/site-packages/tensorflow/python/framework/ops.py:50\u001b[0m\n\u001b[1;32m     48\u001b[0m \u001b[38;5;28;01mfrom\u001b[39;00m \u001b[38;5;21;01mtensorflow\u001b[39;00m\u001b[38;5;21;01m.\u001b[39;00m\u001b[38;5;21;01mpython\u001b[39;00m \u001b[38;5;28;01mimport\u001b[39;00m tf2\n\u001b[1;32m     49\u001b[0m \u001b[38;5;28;01mfrom\u001b[39;00m \u001b[38;5;21;01mtensorflow\u001b[39;00m\u001b[38;5;21;01m.\u001b[39;00m\u001b[38;5;21;01mpython\u001b[39;00m\u001b[38;5;21;01m.\u001b[39;00m\u001b[38;5;21;01mclient\u001b[39;00m \u001b[38;5;28;01mimport\u001b[39;00m pywrap_tf_session\n\u001b[0;32m---> 50\u001b[0m \u001b[38;5;28;01mfrom\u001b[39;00m \u001b[38;5;21;01mtensorflow\u001b[39;00m\u001b[38;5;21;01m.\u001b[39;00m\u001b[38;5;21;01mpython\u001b[39;00m\u001b[38;5;21;01m.\u001b[39;00m\u001b[38;5;21;01meager\u001b[39;00m \u001b[38;5;28;01mimport\u001b[39;00m context\n\u001b[1;32m     51\u001b[0m \u001b[38;5;28;01mfrom\u001b[39;00m \u001b[38;5;21;01mtensorflow\u001b[39;00m\u001b[38;5;21;01m.\u001b[39;00m\u001b[38;5;21;01mpython\u001b[39;00m\u001b[38;5;21;01m.\u001b[39;00m\u001b[38;5;21;01meager\u001b[39;00m \u001b[38;5;28;01mimport\u001b[39;00m core\n\u001b[1;32m     52\u001b[0m \u001b[38;5;28;01mfrom\u001b[39;00m \u001b[38;5;21;01mtensorflow\u001b[39;00m\u001b[38;5;21;01m.\u001b[39;00m\u001b[38;5;21;01mpython\u001b[39;00m\u001b[38;5;21;01m.\u001b[39;00m\u001b[38;5;21;01meager\u001b[39;00m \u001b[38;5;28;01mimport\u001b[39;00m monitoring\n",
      "File \u001b[0;32m~/Desktop/STUDY/Polytechnique - MScT AI & VC/Courses/M1/S1/Machine and Deep Learning /END_PROJECT/.venv/lib/python3.11/site-packages/tensorflow/python/eager/context.py:37\u001b[0m\n\u001b[1;32m     35\u001b[0m \u001b[38;5;28;01mfrom\u001b[39;00m \u001b[38;5;21;01mtensorflow\u001b[39;00m\u001b[38;5;21;01m.\u001b[39;00m\u001b[38;5;21;01mpython\u001b[39;00m\u001b[38;5;21;01m.\u001b[39;00m\u001b[38;5;21;01mclient\u001b[39;00m \u001b[38;5;28;01mimport\u001b[39;00m pywrap_tf_session\n\u001b[1;32m     36\u001b[0m \u001b[38;5;28;01mfrom\u001b[39;00m \u001b[38;5;21;01mtensorflow\u001b[39;00m\u001b[38;5;21;01m.\u001b[39;00m\u001b[38;5;21;01mpython\u001b[39;00m\u001b[38;5;21;01m.\u001b[39;00m\u001b[38;5;21;01meager\u001b[39;00m \u001b[38;5;28;01mimport\u001b[39;00m cancellation\n\u001b[0;32m---> 37\u001b[0m \u001b[38;5;28;01mfrom\u001b[39;00m \u001b[38;5;21;01mtensorflow\u001b[39;00m\u001b[38;5;21;01m.\u001b[39;00m\u001b[38;5;21;01mpython\u001b[39;00m\u001b[38;5;21;01m.\u001b[39;00m\u001b[38;5;21;01meager\u001b[39;00m \u001b[38;5;28;01mimport\u001b[39;00m execute\n\u001b[1;32m     38\u001b[0m \u001b[38;5;28;01mfrom\u001b[39;00m \u001b[38;5;21;01mtensorflow\u001b[39;00m\u001b[38;5;21;01m.\u001b[39;00m\u001b[38;5;21;01mpython\u001b[39;00m\u001b[38;5;21;01m.\u001b[39;00m\u001b[38;5;21;01meager\u001b[39;00m \u001b[38;5;28;01mimport\u001b[39;00m executor\n\u001b[1;32m     39\u001b[0m \u001b[38;5;28;01mfrom\u001b[39;00m \u001b[38;5;21;01mtensorflow\u001b[39;00m\u001b[38;5;21;01m.\u001b[39;00m\u001b[38;5;21;01mpython\u001b[39;00m\u001b[38;5;21;01m.\u001b[39;00m\u001b[38;5;21;01meager\u001b[39;00m \u001b[38;5;28;01mimport\u001b[39;00m monitoring\n",
      "File \u001b[0;32m~/Desktop/STUDY/Polytechnique - MScT AI & VC/Courses/M1/S1/Machine and Deep Learning /END_PROJECT/.venv/lib/python3.11/site-packages/tensorflow/python/eager/execute.py:21\u001b[0m\n\u001b[1;32m     19\u001b[0m \u001b[38;5;28;01mfrom\u001b[39;00m \u001b[38;5;21;01mtensorflow\u001b[39;00m\u001b[38;5;21;01m.\u001b[39;00m\u001b[38;5;21;01mpython\u001b[39;00m \u001b[38;5;28;01mimport\u001b[39;00m pywrap_tfe\n\u001b[1;32m     20\u001b[0m \u001b[38;5;28;01mfrom\u001b[39;00m \u001b[38;5;21;01mtensorflow\u001b[39;00m\u001b[38;5;21;01m.\u001b[39;00m\u001b[38;5;21;01mpython\u001b[39;00m\u001b[38;5;21;01m.\u001b[39;00m\u001b[38;5;21;01meager\u001b[39;00m \u001b[38;5;28;01mimport\u001b[39;00m core\n\u001b[0;32m---> 21\u001b[0m \u001b[38;5;28;01mfrom\u001b[39;00m \u001b[38;5;21;01mtensorflow\u001b[39;00m\u001b[38;5;21;01m.\u001b[39;00m\u001b[38;5;21;01mpython\u001b[39;00m\u001b[38;5;21;01m.\u001b[39;00m\u001b[38;5;21;01mframework\u001b[39;00m \u001b[38;5;28;01mimport\u001b[39;00m dtypes\n\u001b[1;32m     22\u001b[0m \u001b[38;5;28;01mfrom\u001b[39;00m \u001b[38;5;21;01mtensorflow\u001b[39;00m\u001b[38;5;21;01m.\u001b[39;00m\u001b[38;5;21;01mpython\u001b[39;00m\u001b[38;5;21;01m.\u001b[39;00m\u001b[38;5;21;01mframework\u001b[39;00m \u001b[38;5;28;01mimport\u001b[39;00m tensor_conversion_registry\n\u001b[1;32m     23\u001b[0m \u001b[38;5;28;01mfrom\u001b[39;00m \u001b[38;5;21;01mtensorflow\u001b[39;00m\u001b[38;5;21;01m.\u001b[39;00m\u001b[38;5;21;01mpython\u001b[39;00m\u001b[38;5;21;01m.\u001b[39;00m\u001b[38;5;21;01mframework\u001b[39;00m \u001b[38;5;28;01mimport\u001b[39;00m tensor_shape\n",
      "File \u001b[0;32m~/Desktop/STUDY/Polytechnique - MScT AI & VC/Courses/M1/S1/Machine and Deep Learning /END_PROJECT/.venv/lib/python3.11/site-packages/tensorflow/python/framework/dtypes.py:21\u001b[0m\n\u001b[1;32m     18\u001b[0m \u001b[38;5;28;01mimport\u001b[39;00m \u001b[38;5;21;01mdataclasses\u001b[39;00m\n\u001b[1;32m     19\u001b[0m \u001b[38;5;28;01mfrom\u001b[39;00m \u001b[38;5;21;01mtyping\u001b[39;00m \u001b[38;5;28;01mimport\u001b[39;00m Type, Sequence, Optional\n\u001b[0;32m---> 21\u001b[0m \u001b[38;5;28;01mimport\u001b[39;00m \u001b[38;5;21;01mml_dtypes\u001b[39;00m\n\u001b[1;32m     22\u001b[0m \u001b[38;5;28;01mimport\u001b[39;00m \u001b[38;5;21;01mnumpy\u001b[39;00m \u001b[38;5;28;01mas\u001b[39;00m \u001b[38;5;21;01mnp\u001b[39;00m\n\u001b[1;32m     24\u001b[0m \u001b[38;5;28;01mfrom\u001b[39;00m \u001b[38;5;21;01mtensorflow\u001b[39;00m\u001b[38;5;21;01m.\u001b[39;00m\u001b[38;5;21;01mcore\u001b[39;00m\u001b[38;5;21;01m.\u001b[39;00m\u001b[38;5;21;01mframework\u001b[39;00m \u001b[38;5;28;01mimport\u001b[39;00m types_pb2\n",
      "File \u001b[0;32m~/Desktop/STUDY/Polytechnique - MScT AI & VC/Courses/M1/S1/Machine and Deep Learning /END_PROJECT/.venv/lib/python3.11/site-packages/ml_dtypes/__init__.py:32\u001b[0m\n\u001b[1;32m     16\u001b[0m __all__ \u001b[38;5;241m=\u001b[39m [\n\u001b[1;32m     17\u001b[0m     \u001b[38;5;124m'\u001b[39m\u001b[38;5;124m__version__\u001b[39m\u001b[38;5;124m'\u001b[39m,\n\u001b[1;32m     18\u001b[0m     \u001b[38;5;124m'\u001b[39m\u001b[38;5;124mbfloat16\u001b[39m\u001b[38;5;124m'\u001b[39m,\n\u001b[0;32m   (...)\u001b[0m\n\u001b[1;32m     27\u001b[0m     \u001b[38;5;124m'\u001b[39m\u001b[38;5;124muint4\u001b[39m\u001b[38;5;124m'\u001b[39m,\n\u001b[1;32m     28\u001b[0m ]\n\u001b[1;32m     30\u001b[0m \u001b[38;5;28;01mfrom\u001b[39;00m \u001b[38;5;21;01mtyping\u001b[39;00m \u001b[38;5;28;01mimport\u001b[39;00m Type\n\u001b[0;32m---> 32\u001b[0m \u001b[38;5;28;01mfrom\u001b[39;00m \u001b[38;5;21;01mml_dtypes\u001b[39;00m\u001b[38;5;21;01m.\u001b[39;00m\u001b[38;5;21;01m_finfo\u001b[39;00m \u001b[38;5;28;01mimport\u001b[39;00m finfo\n\u001b[1;32m     33\u001b[0m \u001b[38;5;28;01mfrom\u001b[39;00m \u001b[38;5;21;01mml_dtypes\u001b[39;00m\u001b[38;5;21;01m.\u001b[39;00m\u001b[38;5;21;01m_iinfo\u001b[39;00m \u001b[38;5;28;01mimport\u001b[39;00m iinfo\n\u001b[1;32m     34\u001b[0m \u001b[38;5;28;01mfrom\u001b[39;00m \u001b[38;5;21;01mml_dtypes\u001b[39;00m\u001b[38;5;21;01m.\u001b[39;00m\u001b[38;5;21;01m_ml_dtypes_ext\u001b[39;00m \u001b[38;5;28;01mimport\u001b[39;00m bfloat16\n",
      "File \u001b[0;32m~/Desktop/STUDY/Polytechnique - MScT AI & VC/Courses/M1/S1/Machine and Deep Learning /END_PROJECT/.venv/lib/python3.11/site-packages/ml_dtypes/_finfo.py:19\u001b[0m\n\u001b[1;32m     15\u001b[0m \u001b[38;5;124;03m\"\"\"Overload of numpy.finfo to handle dtypes defined in ml_dtypes.\"\"\"\u001b[39;00m\n\u001b[1;32m     17\u001b[0m \u001b[38;5;28;01mfrom\u001b[39;00m \u001b[38;5;21;01mtyping\u001b[39;00m \u001b[38;5;28;01mimport\u001b[39;00m Dict\n\u001b[0;32m---> 19\u001b[0m \u001b[38;5;28;01mfrom\u001b[39;00m \u001b[38;5;21;01mml_dtypes\u001b[39;00m\u001b[38;5;21;01m.\u001b[39;00m\u001b[38;5;21;01m_ml_dtypes_ext\u001b[39;00m \u001b[38;5;28;01mimport\u001b[39;00m bfloat16\n\u001b[1;32m     20\u001b[0m \u001b[38;5;28;01mfrom\u001b[39;00m \u001b[38;5;21;01mml_dtypes\u001b[39;00m\u001b[38;5;21;01m.\u001b[39;00m\u001b[38;5;21;01m_ml_dtypes_ext\u001b[39;00m \u001b[38;5;28;01mimport\u001b[39;00m float8_e4m3b11fnuz\n\u001b[1;32m     21\u001b[0m \u001b[38;5;28;01mfrom\u001b[39;00m \u001b[38;5;21;01mml_dtypes\u001b[39;00m\u001b[38;5;21;01m.\u001b[39;00m\u001b[38;5;21;01m_ml_dtypes_ext\u001b[39;00m \u001b[38;5;28;01mimport\u001b[39;00m float8_e4m3fn\n",
      "\u001b[0;31mImportError\u001b[0m: numpy.core.umath failed to import"
=======
      "2024-12-10 23:29:13.334486: I tensorflow/core/platform/cpu_feature_guard.cc:210] This TensorFlow binary is optimized to use available CPU instructions in performance-critical operations.\n",
      "To enable the following instructions: AVX2 FMA, in other operations, rebuild TensorFlow with the appropriate compiler flags.\n"
>>>>>>> 978535eb40be43af96b249bcaf70b14930e99a6c
     ]
    }
   ],
   "source": [
    "import os\n",
    "import numpy as np\n",
    "import pandas as pd\n",
    "import tensorflow as tf\n",
    "from tensorflow.keras.models import Sequential\n",
    "from tensorflow.keras.layers import LSTM, Dense\n",
    "from tensorflow.keras.optimizers import Adam\n",
    "from sklearn.model_selection import train_test_split\n",
    "from sklearn.preprocessing import LabelEncoder\n",
    "from sklearn.metrics import accuracy_score\n",
    "from tqdm import tqdm\n",
    "from nltk.corpus import stopwords\n",
    "from nltk.stem import WordNetLemmatizer\n",
    "from sklearn.preprocessing import OneHotEncoder\n",
    "import gensim.downloader as api\n",
    "import re\n",
    "import swifter\n",
    "from tensorflow.keras.callbacks import EarlyStopping\n",
    "from tensorflow.keras.initializers import GlorotUniform, Orthogonal\n",
    "import random\n",
    "# Enable tqdm for pandas\n",
    "tqdm.pandas()\n",
    "\n",
    "# Ensure Reproducibility\n",
    "import random\n",
    "# Set seeds for reproducibility\n",
    "SEED = 42\n",
    "\n",
    "# Python's built-in random\n",
    "random.seed(SEED)\n",
    "\n",
    "# NumPy\n",
    "np.random.seed(SEED)\n",
    "\n",
    "# TensorFlow\n",
    "tf.random.set_seed(SEED)\n",
    "\n",
    "# Set Python hash seed\n",
    "os.environ['PYTHONHASHSEED'] = str(SEED)\n",
    "\n",
    "# Configure TensorFlow for deterministic operations\n",
    "tf.keras.utils.set_random_seed(SEED)  # Sets all random seeds for the program (Python, NumPy, and TensorFlow)\n",
    "tf.config.experimental.enable_op_determinism()  # Enable deterministic operations in TensorFlow\n",
    "\n",
    "# If using GPU, you might also want to set these:\n",
    "if tf.config.list_physical_devices('GPU'):\n",
    "    # Force TensorFlow to use deterministic GPU operations\n",
    "    tf.config.experimental.enable_op_determinism()\n",
    "    # Limit GPU memory growth\n",
    "    for gpu in tf.config.experimental.list_physical_devices('GPU'):\n",
    "        tf.config.experimental.set_memory_growth(gpu, True)\n",
    "\n",
    "os.environ['TF_DETERMINISTIC_OPS'] = '1'\n",
    "os.environ['CUDA_VISIBLE_DEVICES'] = '0'  # Limit to one GPU if using multiple GPUs\n",
    "os.environ['TF_CUDNN_DETERMINISTIC'] = '1'"
   ]
  },
  {
   "cell_type": "code",
   "execution_count": null,
   "metadata": {},
   "outputs": [],
   "source": [
    "# Load GloVe model\n",
    "glove_model = api.load(\"glove-twitter-200\")  # 200-dimensional GloVe embeddings"
   ]
  },
  {
   "cell_type": "code",
<<<<<<< HEAD
   "execution_count": null,
=======
   "execution_count": 49,
>>>>>>> 978535eb40be43af96b249bcaf70b14930e99a6c
   "metadata": {},
   "outputs": [],
   "source": [
    "# Country list for team extraction\n",
    "country_list = [\n",
    "    \"Argentina\", \"Belgium\", \"Germany\", \"Serbia\", \"Greece\", \"IvoryCoast\", \n",
    "    \"Netherlands\", \"Mexico\", \"Australia\", \"Spain\", \"SouthKorea\", \n",
    "    \"Cameroon\", \"Brazil\", \"France\", \"Nigeria\", \"Algeria\", \"USA\", \n",
    "    \"Honduras\", \"Switzerland\", \"Croatia\", \"Chile\", \"Portugal\", \n",
    "    \"Ghana\", \"Slovenia\"\n",
    "]\n",
    "\n",
    "country_variations = {\n",
    "    'argentina': ['argentina', 'arg', 'argentine', 'argies', 'albiceleste', 'argentinian', 'argentinos', 'argentinas'],\n",
    "    'australia': ['australia', 'aus', 'aussie', 'aussies', 'socceroos', 'oz', 'straya', 'australian', 'au'],\n",
    "    'belgium': ['belgium', 'bel', 'belgique', 'belgie', 'belgian', 'belgians', 'red devils', 'diables rouges'],\n",
    "    'brazil': ['brazil', 'bra', 'brasil', 'bresil', 'brazilian', 'brazilians', 'selecao', 'canarinho', 'verde amarela', 'samba boys'],\n",
    "    'cameroon': ['cameroon', 'cmr', 'cameroun', 'camerounais', 'indomitable lions', 'lions'],\n",
    "    'france': ['france', 'fra', 'french', 'les bleus', 'tricolore', 'tricolores', 'equipe de france', 'allez les bleus'],\n",
    "    'honduras': ['honduras', 'hon', 'honduran', 'hondurans', 'los catrachos', 'catrachos', 'la h'],\n",
    "    'portugal': ['portugal', 'por', 'portuguese', 'selecao das quinas', 'seleccao', 'navegadores', 'team portugal'],\n",
    "    'spain': ['spain', 'esp', 'espana', 'espania', 'spanish', 'la roja', 'furia roja', 'la furia', 'la seleccion'],\n",
    "    'southkorea': ['south korea', 'korea', 'kor', 'skorea', 'korean', 'koreans', 'taeguk warriors', 'warriors'],\n",
    "    'switzerland': ['switzerland', 'sui', 'suisse', 'schweiz', 'swiss', 'nati', 'rossocrociati', 'a team'],\n",
    "    'usa': ['usa', 'united states', 'america', 'united states of america', 'us', 'usa', 'usmnt', 'americans', 'american', 'yanks', 'uncle sam', 'stars and stripes', 'team usa'],\n",
    "    'ghana': ['ghana', 'gha', 'ghanaian', 'ghanaians', 'black stars', 'stars'],\n",
    "    'netherlands': ['netherlands', 'ned', 'holland', 'dutch', 'oranje', 'flying dutchmen', 'orange', 'clockwork orange', 'nederlands'],\n",
    "    'germany': ['germany', 'ger', 'alemania', 'deutschland', 'german', 'germans', 'die mannschaft', 'nationalelf', 'deu'],\n",
    "    'iran': ['iran', 'irn', 'iranian', 'iranians', 'team melli', 'persian stars'],\n",
    "    'nigeria': ['nigeria', 'nga', 'naija', 'super eagles', 'eagles', 'nigerian', 'nigerians', 'green eagles'],\n",
    "    'algeria': ['algeria', 'alg', 'algerian', 'algerians', 'fennecs', 'desert foxes', 'les verts'],\n",
    "    'croatia': ['croatia', 'cro', 'hrvatska', 'hrv', 'croatian', 'croatians', 'vatreni', 'blazers', 'kockasti'],\n",
    "    'chile': ['chile', 'chi', 'chilean', 'chileans', 'la roja', 'team chile'],\n",
    "    'slovenia': ['slovenia', 'svn', 'slovenian', 'slovenians', 'slovenski', 'boys'],\n",
    "    'serbia': ['serbia', 'srb', 'serbian', 'serbians', 'beli orlovi', 'white eagles', 'orlovi'],\n",
    "    'greece': ['greece', 'gre', 'greek', 'greeks', 'piratiko', 'ethniki', 'galanolefki'],\n",
    "    'ivorycoast': ['ivory coast', 'civ', 'cote divoire', 'cotedivoire', 'ivorians', 'les elephants', 'elephants', 'ivory'],\n",
    "    'mexico': ['mexico', 'mex', 'mexiko', 'mexican', 'mexicans', 'el tri', 'tricolor', 'aztecas', 'el tricolor', 'verde']\n",
    "}\n"
   ]
  },
  {
   "cell_type": "code",
<<<<<<< HEAD
   "execution_count": null,
=======
   "execution_count": 50,
>>>>>>> 978535eb40be43af96b249bcaf70b14930e99a6c
   "metadata": {},
   "outputs": [],
   "source": [
    "# Function to compute the average word vector for a tweet\n",
    "def get_avg_embedding(tweet, model, vector_size=200):\n",
    "    words = tweet.split()  # Tokenize by whitespace\n",
    "    word_vectors = [model[word] for word in words if word in model]\n",
    "    if not word_vectors:  # If no words in the tweet are in the vocabulary, return a zero vector\n",
    "        return np.zeros(vector_size)\n",
    "    return np.mean(word_vectors, axis=0)\n",
    "\n",
    "def extract_teams_from_filename(filename):\n",
    "    # Remove numbers and file extension\n",
    "    base_name = re.sub(r'\\d+\\.csv$', '', filename)\n",
    "    \n",
    "    # Identify teams from the predefined country list\n",
    "    teams = [country for country in country_list if country in base_name]\n",
    "    \n",
    "    if len(teams) >= 2:\n",
    "        return teams[0], teams[1]\n",
    "    elif len(teams) == 1:\n",
    "        return teams[0], \"Unknown\"\n",
    "    else:\n",
    "        return \"Unknown\", \"Unknown\"\n",
    "    \n",
    "def normalize_countries_with_teams(words, home_team, away_team):\n",
    "    # Text is already preprocessed and split into words\n",
    "    normalized_words = words.copy()\n",
    "    \n",
    "    # Replace individual country mentions\n",
    "    for i, word in enumerate(words):\n",
    "        # Check if it's home team\n",
    "        if word in country_variations.get(home_team.lower(), []):\n",
    "            normalized_words[i] = 'hometeam'\n",
    "        # Check if it's away team\n",
    "        elif word in country_variations.get(away_team.lower(), []):\n",
    "            normalized_words[i] = 'awayteam'\n",
    "        else:\n",
    "            # Check if it's any other country\n",
    "            for country, variations in country_variations.items():\n",
    "                if word in variations and country.lower() not in [home_team.lower(), away_team.lower()]:\n",
    "                    normalized_words[i] = 'othercountry'\n",
    "                    break\n",
    "    \n",
    "    return normalized_words\n",
    "\n",
    "\n",
    "def preprocess_text(text, hometeam, awayteam):\n",
    "    # Lowercasing\n",
    "    text = text.lower()\n",
    "    # Remove punctuation\n",
    "    text = re.sub(r'[^\\w\\s]', '', text)\n",
    "    # Remove numbers\n",
    "    text = re.sub(r'\\d+', '', text)\n",
    "    # Tokenization\n",
    "    words = text.split()\n",
    "    # Remove stopwords\n",
    "    stop_words = set(stopwords.words('english'))\n",
    "    words = [word for word in words if word not in stop_words]\n",
    "    words = [word for word in words if not word.startswith('http')]\n",
    "    # Lemmatization\n",
    "    lemmatizer = WordNetLemmatizer()\n",
    "    words = [lemmatizer.lemmatize(word) for word in words]\n",
    "\n",
    "    # Apply country normalization if matchID is provided\n",
    "    words = normalize_countries_with_teams(words, hometeam, awayteam)\n",
    "    \n",
    "    return ' '.join(words)"
   ]
  },
  {
   "cell_type": "code",
   "execution_count": null,
   "metadata": {},
<<<<<<< HEAD
   "outputs": [],
=======
   "outputs": [
    {
     "data": {
      "application/vnd.jupyter.widget-view+json": {
       "model_id": "0fc21f80c1984a3bbfcdd7e9561bcb85",
       "version_major": 2,
       "version_minor": 0
      },
      "text/plain": [
       "Pandas Apply:   0%|          | 0/5056050 [00:00<?, ?it/s]"
      ]
     },
     "metadata": {},
     "output_type": "display_data"
    }
   ],
>>>>>>> 978535eb40be43af96b249bcaf70b14930e99a6c
   "source": [
    "# Load data\n",
    "folder_path = \"train_tweets\"\n",
    "csv_files = [os.path.join(folder_path, f) for f in os.listdir(folder_path) if f.endswith(\".csv\")]\n",
    "# First load all data with team information\n",
    "dataframes = []\n",
    "for file_path in csv_files:\n",
    "    # Load the CSV\n",
    "    current_df = pd.read_csv(file_path)\n",
    "    \n",
    "    # Get filename and extract teams\n",
    "    filename = os.path.basename(file_path)\n",
    "    home_team, away_team = extract_teams_from_filename(filename)\n",
    "    \n",
    "    # Add team columns\n",
    "    current_df['HomeTeam'] = home_team\n",
    "    current_df['AwayTeam'] = away_team\n",
    "    \n",
    "    dataframes.append(current_df)\n",
    "\n",
    "# Concatenate all dataframes\n",
    "df = pd.concat(dataframes, ignore_index=True)\n",
    "\n",
<<<<<<< HEAD
    "\n",
    "# Then apply regular preprocessing with MatchID\n",
    "df['Tweet'] = df.swifter.apply(lambda row: preprocess_text(row['Tweet'], row['HomeTeam'], row['AwayTeam']), axis=1)\n",
    "\n",
=======
    "\n",
    "# Then apply regular preprocessing with MatchID\n",
    "df['Tweet'] = df.swifter.apply(lambda row: preprocess_text(row['Tweet'], row['HomeTeam'], row['AwayTeam']), axis=1)\n",
    "\n",
>>>>>>> 978535eb40be43af96b249bcaf70b14930e99a6c
    "df.to_pickle('preprocessed_train.pkl')"
   ]
  },
  {
   "cell_type": "code",
<<<<<<< HEAD
   "execution_count": null,
   "metadata": {},
   "outputs": [],
=======
   "execution_count": 93,
   "metadata": {},
   "outputs": [
    {
     "name": "stdout",
     "output_type": "stream",
     "text": [
      "    ID  MatchID  PeriodID  EventType      Timestamp  \\\n",
      "0  2_0        2         0          0  1403538600000   \n",
      "1  2_0        2         0          0  1403538600000   \n",
      "2  2_0        2         0          0  1403538600000   \n",
      "3  2_0        2         0          0  1403538600000   \n",
      "4  2_0        2         0          0  1403538600000   \n",
      "\n",
      "                                               Tweet   HomeTeam AwayTeam  \\\n",
      "0  rt soccerdotcom awayteam beat hometeam well gi...  Australia    Spain   \n",
      "1  visit sitep official web site spanis real stat...  Australia    Spain   \n",
      "2  rt soccerdotcom awayteam beat hometeam well gi...  Australia    Spain   \n",
      "3  rt worldsoccershop winner hometeam v awayteam ...  Australia    Spain   \n",
      "4  rt soccerdotcom hometeam beat awayteam well gi...  Australia    Spain   \n",
      "\n",
      "   TweetCount  TweetLength  ...  WeightedScore_half  WeightedScore_uru  \\\n",
      "0           7     0.361011  ...                 0.0                0.0   \n",
      "1           7     0.328520  ...                 0.0                0.0   \n",
      "2           7     0.361011  ...                 0.0                0.0   \n",
      "3           7     0.353791  ...                 0.0                0.0   \n",
      "4           7     0.361011  ...                 0.0                0.0   \n",
      "\n",
      "   WeightedScore_champion  WeightedScore_bih  WeightedScore_like  \\\n",
      "0                     0.0                0.0                 0.0   \n",
      "1                     0.0                0.0                 0.0   \n",
      "2                     0.0                0.0                 0.0   \n",
      "3                     0.0                0.0                 0.0   \n",
      "4                     0.0                0.0                 0.0   \n",
      "\n",
      "   WeightedScore_finally  WeightedScore_contest  WeightedScore_header  \\\n",
      "0                    0.0                    0.0                   0.0   \n",
      "1                    0.0                    0.0                   0.0   \n",
      "2                    0.0                    0.0                   0.0   \n",
      "3                    0.0                    0.0                   0.0   \n",
      "4                    0.0                    0.0                   0.0   \n",
      "\n",
      "   WeightedScore_scorer  WeightedScore_equalises  \n",
      "0                   0.0                      0.0  \n",
      "1                   0.0                      0.0  \n",
      "2                   0.0                      0.0  \n",
      "3                   0.0                      0.0  \n",
      "4                   0.0                      0.0  \n",
      "\n",
      "[5 rows x 76 columns]\n"
     ]
    }
   ],
>>>>>>> 978535eb40be43af96b249bcaf70b14930e99a6c
   "source": [
    "# Feature creation\n",
    "from sklearn.preprocessing import MinMaxScaler\n",
    "MMscaler = MinMaxScaler()\n",
    "\n",
    "\n",
<<<<<<< HEAD
    "loaded_df = pd.read_pickle('preprocessed_train.pkl')\n",
=======
    "# loaded_df = pd.read_pickle('preprocessed_train.pkl')\n",
>>>>>>> 978535eb40be43af96b249bcaf70b14930e99a6c
    "\n",
    "# Add the length of each tweet as a feature\n",
    "loaded_df['TweetLength'] = loaded_df['Tweet'].apply(len)\n",
    "\n",
    "# Add a simple tweet count feature\n",
    "loaded_df['TweetCount'] = loaded_df.groupby(['MatchID', 'PeriodID', 'Timestamp'])['Timestamp'].transform('count')\n",
    "\n",
    "# Add word count as a feature\n",
    "loaded_df['WordCount'] = loaded_df['Tweet'].apply(lambda x: len(x.split()))\n",
    "\n",
    "loaded_df['TweetLength'] = MMscaler.fit_transform(loaded_df['TweetLength'].values.reshape(-1, 1))\n",
    "# Add 1 to avoid division by zero\n",
    "\n",
    "\n",
    "\n",
    "\n",
<<<<<<< HEAD
    "\n",
    "\n",
    "print(loaded_df.head())"
   ]
  },
  {
   "cell_type": "markdown",
   "metadata": {},
   "source": [
    "*PREPROCESSING ALL DATA AND SAVING IT*\n",
    "\n",
    "Use this to make weights and tfidf, Could be more efficient. But eitherway nice to have preprocessed df saved.\n"
=======
    "\n",
    "\n",
    "print(loaded_df.head())"
>>>>>>> 978535eb40be43af96b249bcaf70b14930e99a6c
   ]
  },
  {
   "cell_type": "code",
   "execution_count": null,
   "metadata": {},
   "outputs": [],
   "source": [
    "#####PREPROCESSING ALL DATA AND SAVING IT#####\n",
    "\n",
    "# # Directories\n",
    "# input_folder = \"all_tweets\"\n",
    "# output_folder = \"all_tweets_preprocessed\"\n",
    "# os.makedirs(output_folder, exist_ok=True)  # Ensure the output folder exists\n",
    "\n",
    "# # Process each file in the input folder\n",
    "# csv_files = [os.path.join(input_folder, f) for f in os.listdir(input_folder) if f.endswith(\".csv\")]\n",
    "# for file_path in csv_files:\n",
    "#     # Load the CSV\n",
    "#     current_df = pd.read_csv(file_path)\n",
    "    \n",
    "#     # Extract teams from filename\n",
    "#     filename = os.path.basename(file_path)\n",
    "#     home_team, away_team = extract_teams_from_filename(filename)  # Use your existing function\n",
    "    \n",
    "#     # Preprocess the tweets\n",
    "#     current_df['Tweet'] = current_df.swifter.apply(\n",
    "#         lambda row: preprocess_text(row['Tweet'], home_team, away_team), axis=1\n",
    "#     )\n",
    "    \n",
    "#     # Save the preprocessed data to the output folder\n",
    "#     output_path = os.path.join(output_folder, filename)\n",
    "#     current_df.to_csv(output_path, index=False)\n"
   ]
  },
  {
   "cell_type": "code",
<<<<<<< HEAD
   "execution_count": null,
=======
   "execution_count": 94,
>>>>>>> 978535eb40be43af96b249bcaf70b14930e99a6c
   "metadata": {},
   "outputs": [],
   "source": [
    "from sklearn.feature_extraction.text import TfidfVectorizer\n",
    "import pickle\n",
    "\n",
    "# # Folder containing preprocessed tweets\n",
    "# input_folder = \"all_tweets_preprocessed\"\n",
<<<<<<< HEAD
    "\n",
    "# # Collect all tweets grouped by minute across all files\n",
    "# tweet_documents = []\n",
    "\n",
    "# # Process each preprocessed file\n",
    "# csv_files = [os.path.join(input_folder, f) for f in os.listdir(input_folder) if f.endswith(\".csv\")]\n",
    "# for file_path in csv_files:\n",
    "#     # Load the preprocessed CSV\n",
    "#     df_all_tweets = pd.read_csv(file_path)\n",
    "#     tweet_documents.extend(df_all_tweets['Tweet'].tolist())\n",
    "    \n",
    "\n",
    "# # Compute TF-IDF weights for the corpus\n",
    "\n",
    "# # Optional: start from zero and fit on tweets\n",
    "# # Initialize TF-IDF Vectorizer\n",
    "# vectorizer_all_tweets = TfidfVectorizer(\n",
    "#     max_features=15000,           # Limit vocabulary size to 10,000 terms\n",
    "#     min_df=3,                     # Ignore terms in fewer than 3 documents\n",
    "#     #max_df=0.90,                  # Ignore overly frequent terms\n",
    "#     sublinear_tf=True,            # Apply logarithmic scaling to term frequencies     \n",
    "#     norm='l2',                    # L2 normalization\n",
    "# ) # Adjust max_features if needed\n",
    "# # Fit the TF-IDF vectorizer on minute-level documents\n",
    "# vectorizer_all_tweets.fit(tweet_documents)\n",
    "\n",
=======
    "\n",
    "# # Collect all tweets grouped by minute across all files\n",
    "# tweet_documents = []\n",
    "\n",
    "# # Process each preprocessed file\n",
    "# csv_files = [os.path.join(input_folder, f) for f in os.listdir(input_folder) if f.endswith(\".csv\")]\n",
    "# for file_path in csv_files:\n",
    "#     # Load the preprocessed CSV\n",
    "#     df_all_tweets = pd.read_csv(file_path)\n",
    "#     tweet_documents.extend(df_all_tweets['Tweet'].tolist())\n",
    "    \n",
    "\n",
    "# # Compute TF-IDF weights for the corpus\n",
    "\n",
    "# # Optional: start from zero and fit on tweets\n",
    "# # Initialize TF-IDF Vectorizer\n",
    "# vectorizer_all_tweets = TfidfVectorizer(\n",
    "#     max_features=15000,           # Limit vocabulary size to 10,000 terms\n",
    "#     min_df=3,                     # Ignore terms in fewer than 3 documents\n",
    "#     #max_df=0.90,                  # Ignore overly frequent terms\n",
    "#     sublinear_tf=True,            # Apply logarithmic scaling to term frequencies     \n",
    "#     norm='l2',                    # L2 normalization\n",
    "# ) # Adjust max_features if needed\n",
    "# # Fit the TF-IDF vectorizer on minute-level documents\n",
    "# vectorizer_all_tweets.fit(tweet_documents)\n",
    "\n",
>>>>>>> 978535eb40be43af96b249bcaf70b14930e99a6c
    "# # Save the vectorizer\n",
    "# with open(\"tfidf_vectorizer_all_tweets.pkl\", \"wb\") as f:\n",
    "#     pickle.dump(vectorizer_all_tweets, f)\n",
    "\n",
    "# Load pre-computed\n",
    "with open('tfidf_vectorizer_all_tweets.pkl', 'rb') as f:\n",
    "   vectorizer_all_tweets = pickle.load(f)\n",
    "\n",
    "# Extract TF-IDF weights\n",
    "tfidf_weights_all_tweets = dict(zip(vectorizer_all_tweets.get_feature_names_out(), vectorizer_all_tweets.idf_))\n",
    "\n",
    "\n",
    "# Weighted average embeddings\n",
    "def get_weighted_avg_embedding(tweet, model, vector_size=200, weights=tfidf_weights_all_tweets):\n",
    "    words = tweet.split()\n",
    "    word_vectors = [model[word] * weights.get(word, 1) for word in words if word in model]\n",
    "    if not word_vectors:\n",
    "        return np.zeros(vector_size)\n",
    "    return np.mean(word_vectors, axis=0)\n"
   ]
  },
  {
   "cell_type": "code",
<<<<<<< HEAD
   "execution_count": null,
   "metadata": {},
   "outputs": [],
=======
   "execution_count": 95,
   "metadata": {},
   "outputs": [
    {
     "name": "stdout",
     "output_type": "stream",
     "text": [
      "Embeddings loaded successfully!\n",
      "Loaded vectors shape: (5056050, 200)\n"
     ]
    }
   ],
>>>>>>> 978535eb40be43af96b249bcaf70b14930e99a6c
   "source": [
    "# # Generate embeddings for each tweet\n",
    "# # vector_size = 200  # GloVe embedding dimension\n",
    "# tweet_vectors = loaded_df['Tweet'].swifter.apply(lambda tweet: get_weighted_avg_embedding(tweet, model=glove_model, vector_size=200, weights=tfidf_weights_all_tweets))\n",
    "# tweet_vectors = np.array(list(tweet_vectors), dtype=np.float32)\n",
    "\n",
    "# # Save the tweet vectors\n",
    "# with open(\"tweet_vectors_all_data.pkl\", \"wb\") as f:\n",
    "#     pickle.dump(tweet_vectors, f)\n",
    "\n",
    "# print(\"Embeddings saved successfully!\")\n",
    "\n",
    "# Load the tweet vectors\n",
    "with open(\"tweet_vectors_all_data.pkl\", \"rb\") as f:\n",
    "    loaded_tweet_vectors = pickle.load(f)\n",
    "\n",
    "print(\"Embeddings loaded successfully!\")\n",
    "print(\"Loaded vectors shape:\", loaded_tweet_vectors.shape)\n",
    "\n"
   ]
  },
  {
   "cell_type": "code",
   "execution_count": 96,
   "metadata": {},
<<<<<<< HEAD
   "outputs": [],
=======
   "outputs": [
    {
     "name": "stdout",
     "output_type": "stream",
     "text": [
      "X_train_reshaped shape: (5056050, 272)\n",
      "Period features saved successfully!\n",
      "Period features loaded successfully!\n",
      "Loaded vectors shape: (2137, 272)\n"
     ]
    }
   ],
>>>>>>> 978535eb40be43af96b249bcaf70b14930e99a6c
   "source": [
    "###### Use if no period features ######\n",
    "tweet_df = pd.DataFrame(loaded_tweet_vectors)\n",
    "\n",
    "# Attach the vectors into the original dataframe\n",
    "period_features = pd.concat([loaded_df, tweet_df], axis=1)\n",
    "\n",
    "# Drop the columns that are not useful anymore\n",
    "period_features = period_features.drop(columns=['Timestamp', 'Tweet', 'HomeTeam', 'AwayTeam'])\n",
    "\n",
    "print(\"X_train_reshaped shape:\", period_features.shape)\n",
    "# Group the tweets into their corresponding periods. This way we generate an average embedding vector for each period\n",
    "period_features = period_features.groupby(['MatchID', 'PeriodID', 'ID']).mean().reset_index()\n",
    "\n",
    "# Save the tweet vectors\n",
    "with open(\"period_features.pkl\", \"wb\") as f:\n",
    "    pickle.dump(period_features, f)\n",
    "\n",
    "print(\"Period features saved successfully!\")\n",
    "\n",
    "# Load the tweet vectors\n",
    "with open(\"period_features.pkl\", \"rb\") as f:\n",
    "    loaded_period_features = pickle.load(f)\n",
    "\n",
    "print(\"Period features loaded successfully!\")\n",
    "print(\"Loaded vectors shape:\", loaded_period_features.shape)"
   ]
  },
  {
   "cell_type": "code",
   "execution_count": 97,
   "metadata": {},
   "outputs": [],
   "source": [
    "# We drop the non-numerical features and keep the embeddings values for each period\n",
    "X = loaded_period_features.drop(columns=['EventType', 'MatchID', 'ID']).values\n",
    "# We extract the labels of our training samples\n",
    "y = loaded_period_features['EventType'].values\n",
    "\n",
    "\n",
    "# One-hot encode labels\n",
    "encoder = OneHotEncoder(sparse_output=False)\n",
    "y_encoded = encoder.fit_transform(y.reshape(-1, 1))\n",
    "\n",
    "# Train-test split\n",
    "X_train, X_test, y_train, y_test = train_test_split(X, y_encoded, test_size=0.2, random_state=SEED)\n",
    "\n",
    "# Add a time step dimension to match the LSTM input shape\n",
    "X_train_reshaped = X_train[:, None, :]  # Add a new axis for timesteps\n",
    "X_test_reshaped = X_test[:, None, :]    # Add a new axis for timesteps"
   ]
  },
  {
   "cell_type": "code",
<<<<<<< HEAD
   "execution_count": null,
   "metadata": {},
   "outputs": [],
=======
   "execution_count": 98,
   "metadata": {},
   "outputs": [
    {
     "name": "stdout",
     "output_type": "stream",
     "text": [
      "Epoch 1/50\n",
      "\u001b[1m43/43\u001b[0m \u001b[32m━━━━━━━━━━━━━━━━━━━━\u001b[0m\u001b[37m\u001b[0m \u001b[1m3s\u001b[0m 16ms/step - accuracy: 0.5780 - loss: 0.6894 - val_accuracy: 0.5848 - val_loss: 0.6849\n",
      "Epoch 2/50\n",
      "\u001b[1m43/43\u001b[0m \u001b[32m━━━━━━━━━━━━━━━━━━━━\u001b[0m\u001b[37m\u001b[0m \u001b[1m0s\u001b[0m 6ms/step - accuracy: 0.6448 - loss: 0.6314 - val_accuracy: 0.6374 - val_loss: 0.6431\n",
      "Epoch 3/50\n",
      "\u001b[1m43/43\u001b[0m \u001b[32m━━━━━━━━━━━━━━━━━━━━\u001b[0m\u001b[37m\u001b[0m \u001b[1m0s\u001b[0m 5ms/step - accuracy: 0.6742 - loss: 0.6122 - val_accuracy: 0.6520 - val_loss: 0.6375\n",
      "Epoch 4/50\n",
      "\u001b[1m43/43\u001b[0m \u001b[32m━━━━━━━━━━━━━━━━━━━━\u001b[0m\u001b[37m\u001b[0m \u001b[1m0s\u001b[0m 5ms/step - accuracy: 0.6645 - loss: 0.6046 - val_accuracy: 0.6433 - val_loss: 0.6300\n",
      "Epoch 5/50\n",
      "\u001b[1m43/43\u001b[0m \u001b[32m━━━━━━━━━━━━━━━━━━━━\u001b[0m\u001b[37m\u001b[0m \u001b[1m0s\u001b[0m 5ms/step - accuracy: 0.6784 - loss: 0.5793 - val_accuracy: 0.6287 - val_loss: 0.6448\n",
      "Epoch 6/50\n",
      "\u001b[1m43/43\u001b[0m \u001b[32m━━━━━━━━━━━━━━━━━━━━\u001b[0m\u001b[37m\u001b[0m \u001b[1m0s\u001b[0m 5ms/step - accuracy: 0.6832 - loss: 0.5757 - val_accuracy: 0.6345 - val_loss: 0.6479\n",
      "Epoch 7/50\n",
      "\u001b[1m43/43\u001b[0m \u001b[32m━━━━━━━━━━━━━━━━━━━━\u001b[0m\u001b[37m\u001b[0m \u001b[1m0s\u001b[0m 5ms/step - accuracy: 0.7103 - loss: 0.5728 - val_accuracy: 0.6491 - val_loss: 0.6402\n",
      "Epoch 8/50\n",
      "\u001b[1m43/43\u001b[0m \u001b[32m━━━━━━━━━━━━━━━━━━━━\u001b[0m\u001b[37m\u001b[0m \u001b[1m0s\u001b[0m 5ms/step - accuracy: 0.6784 - loss: 0.5846 - val_accuracy: 0.6608 - val_loss: 0.6277\n",
      "Epoch 9/50\n",
      "\u001b[1m43/43\u001b[0m \u001b[32m━━━━━━━━━━━━━━━━━━━━\u001b[0m\u001b[37m\u001b[0m \u001b[1m0s\u001b[0m 7ms/step - accuracy: 0.6871 - loss: 0.5760 - val_accuracy: 0.6257 - val_loss: 0.6299\n",
      "Epoch 10/50\n",
      "\u001b[1m43/43\u001b[0m \u001b[32m━━━━━━━━━━━━━━━━━━━━\u001b[0m\u001b[37m\u001b[0m \u001b[1m0s\u001b[0m 6ms/step - accuracy: 0.6908 - loss: 0.5744 - val_accuracy: 0.6316 - val_loss: 0.6310\n",
      "Epoch 11/50\n",
      "\u001b[1m43/43\u001b[0m \u001b[32m━━━━━━━━━━━━━━━━━━━━\u001b[0m\u001b[37m\u001b[0m \u001b[1m0s\u001b[0m 5ms/step - accuracy: 0.7069 - loss: 0.5731 - val_accuracy: 0.6228 - val_loss: 0.6396\n",
      "Epoch 12/50\n",
      "\u001b[1m43/43\u001b[0m \u001b[32m━━━━━━━━━━━━━━━━━━━━\u001b[0m\u001b[37m\u001b[0m \u001b[1m0s\u001b[0m 6ms/step - accuracy: 0.6966 - loss: 0.5787 - val_accuracy: 0.6404 - val_loss: 0.6435\n",
      "Epoch 13/50\n",
      "\u001b[1m43/43\u001b[0m \u001b[32m━━━━━━━━━━━━━━━━━━━━\u001b[0m\u001b[37m\u001b[0m \u001b[1m0s\u001b[0m 5ms/step - accuracy: 0.7043 - loss: 0.5700 - val_accuracy: 0.6520 - val_loss: 0.6454\n",
      "\u001b[1m14/14\u001b[0m \u001b[32m━━━━━━━━━━━━━━━━━━━━\u001b[0m\u001b[37m\u001b[0m \u001b[1m0s\u001b[0m 4ms/step - accuracy: 0.6465 - loss: 0.6178 \n",
      "Test Accuracy: 0.6542\n"
     ]
    }
   ],
>>>>>>> 978535eb40be43af96b249bcaf70b14930e99a6c
   "source": [
    "\n",
    "\n",
    "# Define the early stopping callback\n",
    "early_stopping = EarlyStopping(\n",
    "    monitor='val_loss',      # Monitor validation loss\n",
    "    patience=5,              # Stop training if no improvement after 3 epochs\n",
    "    restore_best_weights=True  # Restore the best weights when stopping\n",
    ")\n",
    "\n",
    "# Define the LSTM model with deterministic initializers\n",
    "model = Sequential([\n",
    "    tf.keras.layers.Input(shape=(1, X_train_reshaped.shape[2])),  \n",
    "    LSTM(\n",
    "        128, \n",
    "        return_sequences=False, \n",
    "        kernel_initializer=GlorotUniform(seed=SEED), \n",
    "        recurrent_initializer=Orthogonal(seed=SEED),\n",
    "        bias_initializer='zeros'\n",
    "    ),             \n",
    "    Dense(y_encoded.shape[1], activation='softmax', kernel_initializer=GlorotUniform(seed=SEED))\n",
    "])\n",
    "\n",
    "# Compile the model\n",
    "model.compile(optimizer=Adam(learning_rate=0.001),\n",
    "              loss='categorical_crossentropy',\n",
    "              metrics=['accuracy'])\n",
    "\n",
    "# Train the model\n",
    "history = model.fit(X_train_reshaped, y_train,\n",
    "                    epochs=50,\n",
    "                    batch_size=32,\n",
    "                    validation_split=0.2,\n",
    "                    callbacks=[early_stopping],  # Include the early stopping callback\n",
    "                    verbose=1)\n",
    "\n",
    "# Evaluate on the test set\n",
    "test_loss, test_accuracy = model.evaluate(X_test_reshaped, y_test, verbose=1)\n",
    "\n",
    "print(f\"Test Accuracy: {test_accuracy:.4f}\")"
   ]
  },
  {
   "cell_type": "code",
   "execution_count": null,
   "metadata": {},
<<<<<<< HEAD
   "outputs": [],
=======
   "outputs": [
    {
     "data": {
      "application/vnd.jupyter.widget-view+json": {
       "model_id": "2a3bcf40d7ee46778949870576155241",
       "version_major": 2,
       "version_minor": 0
      },
      "text/plain": [
       "Pandas Apply:   0%|          | 0/285804 [00:00<?, ?it/s]"
      ]
     },
     "metadata": {},
     "output_type": "display_data"
    },
    {
     "data": {
      "application/vnd.jupyter.widget-view+json": {
       "model_id": "1edf3d343f7e4cd1ba8ab77b93037801",
       "version_major": 2,
       "version_minor": 0
      },
      "text/plain": [
       "Pandas Apply:   0%|          | 0/285804 [00:00<?, ?it/s]"
      ]
     },
     "metadata": {},
     "output_type": "display_data"
    },
    {
     "name": "stdout",
     "output_type": "stream",
     "text": [
      "\u001b[1m5/5\u001b[0m \u001b[32m━━━━━━━━━━━━━━━━━━━━\u001b[0m\u001b[37m\u001b[0m \u001b[1m0s\u001b[0m 70ms/step\n"
     ]
    },
    {
     "data": {
      "application/vnd.jupyter.widget-view+json": {
       "model_id": "1e8391fa755e4f99beaa46faa894b4e3",
       "version_major": 2,
       "version_minor": 0
      },
      "text/plain": [
       "Pandas Apply:   0%|          | 0/45024 [00:00<?, ?it/s]"
      ]
     },
     "metadata": {},
     "output_type": "display_data"
    },
    {
     "data": {
      "application/vnd.jupyter.widget-view+json": {
       "model_id": "823c5abb02c84895afbc182a6f3a83cd",
       "version_major": 2,
       "version_minor": 0
      },
      "text/plain": [
       "Pandas Apply:   0%|          | 0/45024 [00:00<?, ?it/s]"
      ]
     },
     "metadata": {},
     "output_type": "display_data"
    },
    {
     "name": "stdout",
     "output_type": "stream",
     "text": [
      "\u001b[1m5/5\u001b[0m \u001b[32m━━━━━━━━━━━━━━━━━━━━\u001b[0m\u001b[37m\u001b[0m \u001b[1m0s\u001b[0m 8ms/step \n"
     ]
    },
    {
     "data": {
      "application/vnd.jupyter.widget-view+json": {
       "model_id": "a3d482430b2b4133bc21e5feaff9b973",
       "version_major": 2,
       "version_minor": 0
      },
      "text/plain": [
       "Pandas Apply:   0%|          | 0/113402 [00:00<?, ?it/s]"
      ]
     },
     "metadata": {},
     "output_type": "display_data"
    },
    {
     "data": {
      "application/vnd.jupyter.widget-view+json": {
       "model_id": "d4ab4e77f0ad4c8d858d146c787d9d7d",
       "version_major": 2,
       "version_minor": 0
      },
      "text/plain": [
       "Pandas Apply:   0%|          | 0/113402 [00:00<?, ?it/s]"
      ]
     },
     "metadata": {},
     "output_type": "display_data"
    },
    {
     "name": "stdout",
     "output_type": "stream",
     "text": [
      "\u001b[1m5/5\u001b[0m \u001b[32m━━━━━━━━━━━━━━━━━━━━\u001b[0m\u001b[37m\u001b[0m \u001b[1m0s\u001b[0m 8ms/step \n"
     ]
    },
    {
     "data": {
      "application/vnd.jupyter.widget-view+json": {
       "model_id": "2fe2dfb2040442d2bdca58a922cb38af",
       "version_major": 2,
       "version_minor": 0
      },
      "text/plain": [
       "Pandas Apply:   0%|          | 0/628698 [00:00<?, ?it/s]"
      ]
     },
     "metadata": {},
     "output_type": "display_data"
    },
    {
     "data": {
      "application/vnd.jupyter.widget-view+json": {
       "model_id": "d271875402744140b5853c62b82b6d3c",
       "version_major": 2,
       "version_minor": 0
      },
      "text/plain": [
       "Pandas Apply:   0%|          | 0/628698 [00:00<?, ?it/s]"
      ]
     },
     "metadata": {},
     "output_type": "display_data"
    },
    {
     "name": "stdout",
     "output_type": "stream",
     "text": [
      "\u001b[1m4/4\u001b[0m \u001b[32m━━━━━━━━━━━━━━━━━━━━\u001b[0m\u001b[37m\u001b[0m \u001b[1m0s\u001b[0m 9ms/step \n"
     ]
    }
   ],
>>>>>>> 978535eb40be43af96b249bcaf70b14930e99a6c
   "source": [
    "###### For Kaggle submission\n",
    "\n",
    "predictions = []\n",
    "dummy_predictions = []\n",
    "# We read each file separately, we preprocess the tweets and then use the classifier to predict the labels.\n",
    "# Finally, we concatenate all predictions into a list that will eventually be concatenated and exported\n",
    "# to be submitted on Kaggle.\n",
    "for fname in sorted(os.listdir(\"eval_tweets\")):\n",
    "    val_df = pd.read_csv(\"eval_tweets/\" + fname)\n",
    "    \n",
    "    home_team, away_team = extract_teams_from_filename(fname)\n",
    "    val_df['HomeTeam'] = home_team\n",
    "    val_df['AwayTeam'] = away_team\n",
    "    \n",
    "    val_df['Tweet'] = val_df.swifter.apply(lambda row: preprocess_text(row['Tweet'], row['HomeTeam'], row['AwayTeam']), axis=1)\n",
    "\n",
    "    # Feature creation\n",
    "    # Add the length of each tweet as a feature\n",
    "    val_df['TweetLength'] = val_df['Tweet'].apply(len)\n",
    "    \n",
    "    # Add a simple tweet count feature\n",
    "    val_df['TweetCount'] = val_df.groupby(['MatchID', 'PeriodID', 'Timestamp'])['Timestamp'].transform('count')\n",
    "    \n",
    "    # Add word count as a feature\n",
    "    val_df['WordCount'] = val_df['Tweet'].apply(lambda x: len(x.split()))\n",
    "\n",
    "    tweet_vectors = val_df['Tweet'].swifter.apply(lambda tweet: get_weighted_avg_embedding(tweet, model=glove_model, vector_size=200, weights= tfidf_weights_all_tweets))\n",
    "\n",
    "    tweet_vectors = np.array(list(tweet_vectors), dtype=np.float32)\n",
    "\n",
    "    tweet_df = pd.DataFrame(tweet_vectors)\n",
    "\n",
    "    period_features_val = pd.concat([val_df, tweet_df], axis=1)\n",
    "    period_features_val = period_features_val.drop(columns=['Timestamp', 'Tweet', 'HomeTeam', 'AwayTeam'])\n",
    "    period_features_val = period_features_val.groupby(['MatchID', 'PeriodID', 'ID']).mean().reset_index()\n",
    "\n",
    "    X = period_features_val.drop(columns=['MatchID', 'ID']).values\n",
    "\n",
    "    # Reshape input for LSTM\n",
    "    X_reshaped = X[:, None, :]  # Add timestep dimension\n",
    "\n",
    "    preds = model.predict(X_reshaped)\n",
    "    preds = preds.argmax(axis=1)  # Convert probabilities to class indices\n",
    "    period_features_val['EventType'] = preds\n",
    "    predictions.append(period_features_val[['ID', 'EventType']])\n",
    "\n",
    "\n",
    "pred_df = pd.concat(predictions)\n",
    "pred_df.to_csv('LSTM_predictions.csv', index=False)\n",
    "\n"
   ]
  },
  {
   "cell_type": "code",
   "execution_count": 27,
   "metadata": {},
   "outputs": [],
   "source": [
    "import pickle\n",
    "# Save TF-IDF trained on the training data\n",
    "with open('tfidf_vectorizer.pkl', 'wb') as f:\n",
    "    pickle.dump(vectorizer, f)"
   ]
  },
  {
   "cell_type": "code",
<<<<<<< HEAD
=======
   "execution_count": 28,
   "metadata": {},
   "outputs": [
    {
     "name": "stdout",
     "output_type": "stream",
     "text": [
      "            ID  MatchID  PeriodID      Timestamp  \\\n",
      "0         15_0       15         0  1404057289000   \n",
      "1         15_0       15         0  1404057289000   \n",
      "2         15_0       15         0  1404057289000   \n",
      "3         15_0       15         0  1404057289000   \n",
      "4         15_0       15         0  1404057289000   \n",
      "...        ...      ...       ...            ...   \n",
      "628693  15_125       15       125  1404064800000   \n",
      "628694  15_125       15       125  1404064800000   \n",
      "628695  15_125       15       125  1404064800000   \n",
      "628696  15_125       15       125  1404064800000   \n",
      "628697  15_125       15       125  1404064800000   \n",
      "\n",
      "                                                    Tweet     HomeTeam  \\\n",
      "0       I feel like shit >.< but gonna watch the game ...  Netherlands   \n",
      "1       As much as I like Herrera and Ochoa (because h...  Netherlands   \n",
      "2       RT @lfc_family: If Robben scores for #NED we'l...  Netherlands   \n",
      "3       Mexico Game with Ben⚽️⚽️ @ Broadacres Marketpl...  Netherlands   \n",
      "4       RT @TrueSoccerLife: If #MEX wins we'll give aw...  Netherlands   \n",
      "...                                                   ...          ...   \n",
      "628693  Dutch deserve to be in last 8.Keep their nerve...  Netherlands   \n",
      "628694  RT @GeniusFootball: RETWEET if you think #MEX ...  Netherlands   \n",
      "628695  Hold your head high Mexico, played beautifully...  Netherlands   \n",
      "628696  RT @TheWorIdCup: Mexico fans right now... http...  Netherlands   \n",
      "628697  Go @FEDEFUTBOL_CR! #WorldCup Who are you suppo...  Netherlands   \n",
      "\n",
      "       AwayTeam  TweetLength  TweetCount  WordCount  \n",
      "0        Mexico           61          18         13  \n",
      "1        Mexico          115          18         23  \n",
      "2        Mexico          138          18         22  \n",
      "3        Mexico           87          18         11  \n",
      "4        Mexico          139          18         21  \n",
      "...         ...          ...         ...        ...  \n",
      "628693   Mexico          132         125         23  \n",
      "628694   Mexico           84         125         11  \n",
      "628695   Mexico           69         125         11  \n",
      "628696   Mexico           64         125          7  \n",
      "628697   Mexico           75         125          8  \n",
      "\n",
      "[628698 rows x 10 columns]\n"
     ]
    }
   ],
   "source": [
    "print(val_df)"
   ]
  },
  {
   "cell_type": "code",
   "execution_count": null,
   "metadata": {},
   "outputs": [
    {
     "data": {
      "application/vnd.jupyter.widget-view+json": {
       "model_id": "799608dd31214bf6845c556930df177a",
       "version_major": 2,
       "version_minor": 0
      },
      "text/plain": [
       "Pandas Apply:   0%|          | 0/86843 [00:00<?, ?it/s]"
      ]
     },
     "metadata": {},
     "output_type": "display_data"
    },
    {
     "data": {
      "application/vnd.jupyter.widget-view+json": {
       "model_id": "7a177e73831042558b4b97cf47d7aaeb",
       "version_major": 2,
       "version_minor": 0
      },
      "text/plain": [
       "Pandas Apply:   0%|          | 0/272389 [00:00<?, ?it/s]"
      ]
     },
     "metadata": {},
     "output_type": "display_data"
    },
    {
     "data": {
      "application/vnd.jupyter.widget-view+json": {
       "model_id": "88dfe6eb8c454ec6ac52fb5a4fc6ed84",
       "version_major": 2,
       "version_minor": 0
      },
      "text/plain": [
       "Pandas Apply:   0%|          | 0/148298 [00:00<?, ?it/s]"
      ]
     },
     "metadata": {},
     "output_type": "display_data"
    },
    {
     "data": {
      "application/vnd.jupyter.widget-view+json": {
       "model_id": "a870b8aa111747d58b3ba53587509674",
       "version_major": 2,
       "version_minor": 0
      },
      "text/plain": [
       "Pandas Apply:   0%|          | 0/973985 [00:00<?, ?it/s]"
      ]
     },
     "metadata": {},
     "output_type": "display_data"
    },
    {
     "data": {
      "application/vnd.jupyter.widget-view+json": {
       "model_id": "47fbd0614f30422380c28748b86cb91e",
       "version_major": 2,
       "version_minor": 0
      },
      "text/plain": [
       "Pandas Apply:   0%|          | 0/99192 [00:00<?, ?it/s]"
      ]
     },
     "metadata": {},
     "output_type": "display_data"
    },
    {
     "data": {
      "application/vnd.jupyter.widget-view+json": {
       "model_id": "b4d81aa2c2b346af8e86ca1267f420fc",
       "version_major": 2,
       "version_minor": 0
      },
      "text/plain": [
       "Pandas Apply:   0%|          | 0/95108 [00:00<?, ?it/s]"
      ]
     },
     "metadata": {},
     "output_type": "display_data"
    },
    {
     "data": {
      "application/vnd.jupyter.widget-view+json": {
       "model_id": "89dccacba5a349fabaac6e2740fb8ec7",
       "version_major": 2,
       "version_minor": 0
      },
      "text/plain": [
       "Pandas Apply:   0%|          | 0/285804 [00:00<?, ?it/s]"
      ]
     },
     "metadata": {},
     "output_type": "display_data"
    },
    {
     "data": {
      "application/vnd.jupyter.widget-view+json": {
       "model_id": "98537295677840629fd53de2d10427ed",
       "version_major": 2,
       "version_minor": 0
      },
      "text/plain": [
       "Pandas Apply:   0%|          | 0/712525 [00:00<?, ?it/s]"
      ]
     },
     "metadata": {},
     "output_type": "display_data"
    },
    {
     "data": {
      "application/vnd.jupyter.widget-view+json": {
       "model_id": "ef2ab336a64244dba2df0660c0f59f19",
       "version_major": 2,
       "version_minor": 0
      },
      "text/plain": [
       "Pandas Apply:   0%|          | 0/525725 [00:00<?, ?it/s]"
      ]
     },
     "metadata": {},
     "output_type": "display_data"
    },
    {
     "data": {
      "application/vnd.jupyter.widget-view+json": {
       "model_id": "abef8bfd090d46698d69d530b99053b8",
       "version_major": 2,
       "version_minor": 0
      },
      "text/plain": [
       "Pandas Apply:   0%|          | 0/155549 [00:00<?, ?it/s]"
      ]
     },
     "metadata": {},
     "output_type": "display_data"
    },
    {
     "data": {
      "application/vnd.jupyter.widget-view+json": {
       "model_id": "777a406bab444d9f94ae0fb54257095c",
       "version_major": 2,
       "version_minor": 0
      },
      "text/plain": [
       "Pandas Apply:   0%|          | 0/45024 [00:00<?, ?it/s]"
      ]
     },
     "metadata": {},
     "output_type": "display_data"
    },
    {
     "data": {
      "application/vnd.jupyter.widget-view+json": {
       "model_id": "e15a6e8d62cf4394bd462b7889801374",
       "version_major": 2,
       "version_minor": 0
      },
      "text/plain": [
       "Pandas Apply:   0%|          | 0/367899 [00:00<?, ?it/s]"
      ]
     },
     "metadata": {},
     "output_type": "display_data"
    },
    {
     "data": {
      "application/vnd.jupyter.widget-view+json": {
       "model_id": "ed38b2fafed04a25975f33b0f5f8570b",
       "version_major": 2,
       "version_minor": 0
      },
      "text/plain": [
       "Pandas Apply:   0%|          | 0/96834 [00:00<?, ?it/s]"
      ]
     },
     "metadata": {},
     "output_type": "display_data"
    },
    {
     "data": {
      "application/vnd.jupyter.widget-view+json": {
       "model_id": "2c4887f8498646b1b22bb2ff8b9a3587",
       "version_major": 2,
       "version_minor": 0
      },
      "text/plain": [
       "Pandas Apply:   0%|          | 0/41539 [00:00<?, ?it/s]"
      ]
     },
     "metadata": {},
     "output_type": "display_data"
    },
    {
     "data": {
      "application/vnd.jupyter.widget-view+json": {
       "model_id": "4abf450829954fc786118b4ab2664d5c",
       "version_major": 2,
       "version_minor": 0
      },
      "text/plain": [
       "Pandas Apply:   0%|          | 0/628698 [00:00<?, ?it/s]"
      ]
     },
     "metadata": {},
     "output_type": "display_data"
    },
    {
     "data": {
      "application/vnd.jupyter.widget-view+json": {
       "model_id": "0ddb40b099e34c52a0529b34f28399ad",
       "version_major": 2,
       "version_minor": 0
      },
      "text/plain": [
       "Pandas Apply:   0%|          | 0/824241 [00:00<?, ?it/s]"
      ]
     },
     "metadata": {},
     "output_type": "display_data"
    },
    {
     "data": {
      "application/vnd.jupyter.widget-view+json": {
       "model_id": "68acf28d2ba04155b410def1e093b5f6",
       "version_major": 2,
       "version_minor": 0
      },
      "text/plain": [
       "Pandas Apply:   0%|          | 0/313803 [00:00<?, ?it/s]"
      ]
     },
     "metadata": {},
     "output_type": "display_data"
    },
    {
     "data": {
      "application/vnd.jupyter.widget-view+json": {
       "model_id": "276729cbfd38478f91dd35d8edc0f8b5",
       "version_major": 2,
       "version_minor": 0
      },
      "text/plain": [
       "Pandas Apply:   0%|          | 0/85675 [00:00<?, ?it/s]"
      ]
     },
     "metadata": {},
     "output_type": "display_data"
    },
    {
     "data": {
      "application/vnd.jupyter.widget-view+json": {
       "model_id": "b92b44f7490f4b3f9bc016e025d8008e",
       "version_major": 2,
       "version_minor": 0
      },
      "text/plain": [
       "Pandas Apply:   0%|          | 0/256445 [00:00<?, ?it/s]"
      ]
     },
     "metadata": {},
     "output_type": "display_data"
    },
    {
     "data": {
      "application/vnd.jupyter.widget-view+json": {
       "model_id": "df443209c3f94e01af20b6add50b236c",
       "version_major": 2,
       "version_minor": 0
      },
      "text/plain": [
       "Pandas Apply:   0%|          | 0/113402 [00:00<?, ?it/s]"
      ]
     },
     "metadata": {},
     "output_type": "display_data"
    }
   ],
   "source": []
  },
  {
   "cell_type": "code",
>>>>>>> 978535eb40be43af96b249bcaf70b14930e99a6c
   "execution_count": null,
   "metadata": {},
   "outputs": [],
   "source": [
<<<<<<< HEAD
    "print(val_df)"
=======
    "import os\n",
    "import pandas as pd\n",
    "from sklearn.feature_extraction.text import TfidfVectorizer\n",
    "import pickle\n",
    "import numpy as np\n",
    "\n"
>>>>>>> 978535eb40be43af96b249bcaf70b14930e99a6c
   ]
  },
  {
   "cell_type": "code",
   "execution_count": null,
   "metadata": {},
   "outputs": [],
<<<<<<< HEAD
=======
   "source": []
  },
  {
   "cell_type": "code",
   "execution_count": null,
   "metadata": {},
   "outputs": [
    {
     "name": "stdout",
     "output_type": "stream",
     "text": [
      "Top words by TF-IDF difference:\n",
      "[('othercountry', 0.010828674205031412), ('goal', 0.008851619194959507), ('othercountry othercountry', 0.00553906708012019), ('rt', -0.005361666354132065), ('win', -0.00460967473589384), ('worldcup', 0.004348642020163475), ('let', -0.003715311035168256), ('worldcupfinal', -0.0035732039285204403), ('rt fifaworldcup', 0.0034277311116108584), ('joinin', 0.0033793622953986547)]\n"
     ]
    }
   ],
>>>>>>> 978535eb40be43af96b249bcaf70b14930e99a6c
   "source": [
    "from sklearn.feature_extraction.text import TfidfVectorizer\n",
    "import numpy as np\n",
    "import pandas as pd\n",
    "\n",
    "# Load dataset\n",
    "loaded_df = pd.read_pickle('preprocessed_train.pkl')\n",
    "\n",
    "# Single vectorizer for consistent vocabulary\n",
    "vectorizer = TfidfVectorizer(max_features=20000, stop_words='english', ngram_range=(1, 2))\n",
    "X = vectorizer.fit_transform(loaded_df['Tweet'])\n",
    "\n",
    "# Separate event and non-event tweets\n",
    "event_X = X[loaded_df['EventType'] == 1]\n",
    "non_event_X = X[loaded_df['EventType'] == 0]\n",
    "\n",
    "# Compute mean TF-IDF scores for sparse matrices\n",
    "event_tfidf_scores = np.array(event_X.mean(axis=0)).flatten()\n",
    "non_event_tfidf_scores = np.array(non_event_X.mean(axis=0)).flatten()\n",
    "\n",
    "# Get feature names\n",
    "tfidf_words = vectorizer.get_feature_names_out()\n",
    "\n",
    "# Compute differences and sort\n",
    "tfidf_differences = event_tfidf_scores - non_event_tfidf_scores\n",
    "tfidf_word_differences = sorted(zip(tfidf_words, tfidf_differences), key=lambda x: abs(x[1]), reverse=True)\n",
    "\n",
    "# Output top words\n",
    "print(\"Top words by TF-IDF difference:\")\n",
    "print(tfidf_word_differences[:10])\n"
   ]
  },
  {
   "cell_type": "code",
<<<<<<< HEAD
   "execution_count": null,
   "metadata": {},
   "outputs": [],
=======
   "execution_count": 60,
   "metadata": {},
   "outputs": [
    {
     "name": "stdout",
     "output_type": "stream",
     "text": [
      "Top event-specific words by Chi2 score:\n",
      "               Word    Chi2_Score  P_Value\n",
      "1824           goal  32308.745782      0.0\n",
      "2352         joinin  24144.574445      0.0\n",
      "1515   fifaworldcup  18912.784342      0.0\n",
      "3690          round  15164.971834      0.0\n",
      "4892  worldcupfinal  11900.078412      0.0\n",
      "2518           lead  11292.152325      0.0\n",
      "1690             ft  10184.541633      0.0\n",
      "1917          group  10182.150419      0.0\n",
      "962             crc  10146.826701      0.0\n",
      "829             col   9869.036969      0.0\n"
     ]
    }
   ],
>>>>>>> 978535eb40be43af96b249bcaf70b14930e99a6c
   "source": [
    "from sklearn.feature_extraction.text import CountVectorizer\n",
    "from sklearn.feature_selection import chi2\n",
    "import pandas as pd\n",
    "\n",
    "# Convert tweets into a bag-of-words representation\n",
    "vectorizer = CountVectorizer(max_features=5000, stop_words='english', binary=True)\n",
    "X = vectorizer.fit_transform(loaded_df['Tweet'])  # Word presence (binary matrix)\n",
    "y = loaded_df['EventType']  # Binary labels: 1 (event), 0 (no event)\n",
    "\n",
    "# Perform chi-square test\n",
    "chi2_scores, p_values = chi2(X, y)\n",
    "\n",
    "# Create a DataFrame of words and chi-square scores\n",
    "chi2_results = pd.DataFrame({\n",
    "    'Word': vectorizer.get_feature_names_out(),\n",
    "    'Chi2_Score': chi2_scores,\n",
    "    'P_Value': p_values\n",
    "}).sort_values(by='Chi2_Score', ascending=False)\n",
    "\n",
    "# Display the top 10 words most associated with events\n",
    "print(\"Top event-specific words by Chi2 score:\")\n",
    "print(chi2_results.head(10))"
   ]
  },
  {
   "cell_type": "code",
<<<<<<< HEAD
   "execution_count": null,
=======
   "execution_count": 72,
>>>>>>> 978535eb40be43af96b249bcaf70b14930e99a6c
   "metadata": {},
   "outputs": [],
   "source": [
    "name_list = [\n",
    "    'messi', 'ronaldo', 'neymar', 'beckham', 'villa', 'modric', 'suarez', 'griezmann',\n",
    "    'mbappe', 'kroos', 'kane', 'iniesta', 'xavi', 'pogba', 'drogba', 'gerard', 'hummels',\n",
    "    'ribery', 'salah', 'hazard', 'benzema', 'aguero', 'zlatan', 'kaka', 'rooney', 'degea',\n",
    "    'ozil', 'bale', 'schweinsteiger', 'pirlo', 'terry', 'alves', 'pique', 'david', 'cristiano', \n",
    "    'kramer', 'klose', 'muller', 'lahm', 'neuer', 'gotze', 'reus', 'schurrle', 'kroos', 'boateng',\n",
    "    'cromex', 'chicharito', 'torres', 'leroy', 'hernandez', 'christoph', 'vertonghen', 'john',\n",
    "    'javier', 'fernandez', 'slimani', 'matshummels', 'romero', 'porgha', 'marquez', 'guajevilla',\n",
    "    'honsui', 'cahill', 'neymarjr', 'porgha', \n",
    "]\n",
    "\n",
    "\n",
    "def remove_rows_with_names(df, name_list):\n",
    "    # Filter the DataFrame to exclude rows where the \"Word\" column matches any name in the name list\n",
    "    return df[~df['Word'].str.lower().isin(name_list)]\n"
   ]
  },
  {
   "cell_type": "code",
<<<<<<< HEAD
   "execution_count": null,
   "metadata": {},
   "outputs": [],
   "source": [
    "chi2_results = remove_rows_with_names(chi2_results, name_list)\n",
    "\n"
=======
   "execution_count": 73,
   "metadata": {},
   "outputs": [],
   "source": [
    "chi2_results = remove_rows_with_names(chi2_results, name_list)\n"
>>>>>>> 978535eb40be43af96b249bcaf70b14930e99a6c
   ]
  },
  {
   "cell_type": "code",
   "execution_count": null,
   "metadata": {},
<<<<<<< HEAD
   "outputs": [],
=======
   "outputs": [
    {
     "name": "stdout",
     "output_type": "stream",
     "text": [
      "               Word    Chi2_Score        P_Value\n",
      "1824           goal  32308.745782   0.000000e+00\n",
      "2352         joinin  24144.574445   0.000000e+00\n",
      "1515   fifaworldcup  18912.784342   0.000000e+00\n",
      "3690          round  15164.971834   0.000000e+00\n",
      "4892  worldcupfinal  11900.078412   0.000000e+00\n",
      "...             ...           ...            ...\n",
      "4123        stadium   1186.324953  5.718505e-260\n",
      "2114           host   1184.285335  1.586913e-259\n",
      "2186            ill   1182.649192  3.598625e-259\n",
      "2154     hypervenom   1176.529235  7.694724e-258\n",
      "263          attack   1172.139852  6.920633e-257\n",
      "\n",
      "[135 rows x 3 columns]\n"
     ]
    }
   ],
>>>>>>> 978535eb40be43af96b249bcaf70b14930e99a6c
   "source": [
    "print(chi2_results)"
   ]
  },
  {
   "cell_type": "code",
<<<<<<< HEAD
   "execution_count": null,
=======
   "execution_count": 78,
>>>>>>> 978535eb40be43af96b249bcaf70b14930e99a6c
   "metadata": {},
   "outputs": [],
   "source": [
    "top_words = chi2_results[:62]"
   ]
  },
  {
   "cell_type": "code",
<<<<<<< HEAD
   "execution_count": null,
   "metadata": {},
   "outputs": [],
=======
   "execution_count": 91,
   "metadata": {},
   "outputs": [
    {
     "name": "stdout",
     "output_type": "stream",
     "text": [
      "loaded_df shape: (5056050, 76)\n"
     ]
    }
   ],
>>>>>>> 978535eb40be43af96b249bcaf70b14930e99a6c
   "source": [
    "# Create a dictionary for the chi² scores\n",
    "chi2_dict = dict(zip(top_words['Word'], top_words['Chi2_Score']))\n",
    "\n",
    "# Compute weighted score features for each important word\n",
    "for word in chi2_dict.keys():\n",
    "    loaded_df[f'WeightedScore_{word}'] = loaded_df['Tweet'].apply(\n",
    "        lambda tweet: tweet.split().count(word) * chi2_dict.get(word, 0)\n",
    "    )\n",
    "\n",
    "print(\"loaded_df shape:\", loaded_df.shape)\n"
   ]
  },
  {
   "cell_type": "code",
   "execution_count": null,
   "metadata": {},
   "outputs": [],
   "source": [
    "loaded_df.to_pickle('preprocessed_train_extra_weights.pkl')"
   ]
  },
  {
   "cell_type": "code",
<<<<<<< HEAD
   "execution_count": null,
   "metadata": {},
   "outputs": [],
=======
   "execution_count": 12,
   "metadata": {},
   "outputs": [
    {
     "name": "stdout",
     "output_type": "stream",
     "text": [
      "Correlation between TweetLength and WordCount:\n",
      "             TweetLength  WordCount\n",
      "TweetLength     1.000000   0.950894\n",
      "WordCount       0.950894   1.000000\n"
     ]
    }
   ],
>>>>>>> 978535eb40be43af96b249bcaf70b14930e99a6c
   "source": [
    "correlation = loaded_df[['TweetLength', 'WordCount']].corr()\n",
    "print(\"Correlation between TweetLength and WordCount:\")\n",
    "print(correlation)\n"
   ]
  },
  {
   "cell_type": "code",
<<<<<<< HEAD
   "execution_count": null,
   "metadata": {},
   "outputs": [],
=======
   "execution_count": 39,
   "metadata": {},
   "outputs": [
    {
     "data": {
      "image/png": "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",
      "text/plain": [
       "<Figure size 640x480 with 1 Axes>"
      ]
     },
     "metadata": {},
     "output_type": "display_data"
    }
   ],
>>>>>>> 978535eb40be43af96b249bcaf70b14930e99a6c
   "source": [
    "import matplotlib.pyplot as plt\n",
    "\n",
    "plt.scatter(loaded_df['TweetLength'], loaded_df['WordCount'], alpha=0.5)\n",
    "plt.xlabel('TweetLength')\n",
    "plt.ylabel('WordCount')\n",
    "plt.title('Relationship Between Tweet Length and Word Count')\n",
    "plt.show()"
   ]
  },
  {
   "cell_type": "code",
<<<<<<< HEAD
   "execution_count": null,
=======
   "execution_count": 13,
>>>>>>> 978535eb40be43af96b249bcaf70b14930e99a6c
   "metadata": {},
   "outputs": [],
   "source": [
    "# Average word length in a tweet\n",
    "loaded_df['AvgWordLength'] = loaded_df['TweetLength'] / (loaded_df['WordCount'] + 1)  # Add 1 to avoid division by zero\n"
   ]
  },
  {
   "cell_type": "code",
   "execution_count": null,
   "metadata": {},
   "outputs": [],
   "source": []
  }
 ],
 "metadata": {
  "kernelspec": {
   "display_name": ".venv",
   "language": "python",
   "name": "python3"
  },
  "language_info": {
   "codemirror_mode": {
    "name": "ipython",
    "version": 3
   },
   "file_extension": ".py",
   "mimetype": "text/x-python",
   "name": "python",
   "nbconvert_exporter": "python",
   "pygments_lexer": "ipython3",
   "version": "3.11.0"
  }
 },
 "nbformat": 4,
 "nbformat_minor": 2
}
