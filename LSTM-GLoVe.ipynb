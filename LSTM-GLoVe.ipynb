{
 "cells": [
  {
   "cell_type": "code",
   "execution_count": 1,
   "metadata": {},
   "outputs": [
    {
     "name": "stderr",
     "output_type": "stream",
     "text": [
      "2024-12-11 13:28:40.593488: I tensorflow/core/platform/cpu_feature_guard.cc:210] This TensorFlow binary is optimized to use available CPU instructions in performance-critical operations.\n",
      "To enable the following instructions: AVX2 FMA, in other operations, rebuild TensorFlow with the appropriate compiler flags.\n"
     ]
    }
   ],
   "source": [
    "import os\n",
    "import numpy as np\n",
    "import pandas as pd\n",
    "import tensorflow as tf\n",
    "from tensorflow.keras.models import Sequential\n",
    "from tensorflow.keras.layers import LSTM, Dense\n",
    "from tensorflow.keras.optimizers import Adam\n",
    "from sklearn.model_selection import train_test_split\n",
    "from sklearn.preprocessing import LabelEncoder\n",
    "from sklearn.metrics import accuracy_score\n",
    "from tqdm import tqdm\n",
    "from nltk.corpus import stopwords\n",
    "from nltk.stem import WordNetLemmatizer\n",
    "from sklearn.preprocessing import OneHotEncoder\n",
    "import gensim.downloader as api\n",
    "import re\n",
    "import swifter\n",
    "from tensorflow.keras.callbacks import EarlyStopping\n",
    "from tensorflow.keras.initializers import GlorotUniform, Orthogonal\n",
    "import random\n",
    "# Enable tqdm for pandas\n",
    "tqdm.pandas()\n",
    "\n",
    "# Ensure Reproducibility\n",
    "import random\n",
    "# Set seeds for reproducibility\n",
    "SEED = 42\n",
    "\n",
    "# Python's built-in random\n",
    "random.seed(SEED)\n",
    "\n",
    "# NumPy\n",
    "np.random.seed(SEED)\n",
    "\n",
    "# TensorFlow\n",
    "tf.random.set_seed(SEED)\n",
    "\n",
    "# Set Python hash seed\n",
    "os.environ['PYTHONHASHSEED'] = str(SEED)\n",
    "\n",
    "# Configure TensorFlow for deterministic operations\n",
    "tf.keras.utils.set_random_seed(SEED)  # Sets all random seeds for the program (Python, NumPy, and TensorFlow)\n",
    "tf.config.experimental.enable_op_determinism()  # Enable deterministic operations in TensorFlow\n",
    "\n",
    "# If using GPU, you might also want to set these:\n",
    "if tf.config.list_physical_devices('GPU'):\n",
    "    # Force TensorFlow to use deterministic GPU operations\n",
    "    tf.config.experimental.enable_op_determinism()\n",
    "    # Limit GPU memory growth\n",
    "    for gpu in tf.config.experimental.list_physical_devices('GPU'):\n",
    "        tf.config.experimental.set_memory_growth(gpu, True)\n",
    "\n",
    "os.environ['TF_DETERMINISTIC_OPS'] = '1'\n",
    "os.environ['CUDA_VISIBLE_DEVICES'] = '0'  # Limit to one GPU if using multiple GPUs\n",
    "os.environ['TF_CUDNN_DETERMINISTIC'] = '1'"
   ]
  },
  {
   "cell_type": "code",
   "execution_count": 2,
   "metadata": {},
   "outputs": [],
   "source": [
    "# Load GloVe model\n",
    "glove_model = api.load(\"glove-twitter-200\")  # 200-dimensional GloVe embeddings"
   ]
  },
  {
   "cell_type": "code",
   "execution_count": null,
   "metadata": {},
   "outputs": [],
   "source": [
    "# Country list for team extraction\n",
    "country_list = [\n",
    "    \"Argentina\", \"Belgium\", \"Germany\", \"Serbia\", \"Greece\", \"IvoryCoast\", \n",
    "    \"Netherlands\", \"Mexico\", \"Australia\", \"Spain\", \"SouthKorea\", \n",
    "    \"Cameroon\", \"Brazil\", \"France\", \"Nigeria\", \"Algeria\", \"USA\", \n",
    "    \"Honduras\", \"Switzerland\", \"Croatia\", \"Chile\", \"Portugal\", \n",
    "    \"Ghana\", \"Slovenia\"\n",
    "]\n",
    "\n",
    "country_variations = {\n",
    "    'argentina': ['argentina', 'arg', 'argentine', 'argies', 'albiceleste', 'argentinian', 'argentinos', 'argentinas'],\n",
    "    'australia': ['australia', 'aus', 'aussie', 'aussies', 'socceroos', 'oz', 'straya', 'australian', 'au'],\n",
    "    'belgium': ['belgium', 'bel', 'belgique', 'belgie', 'belgian', 'belgians', 'red devils', 'diables rouges'],\n",
    "    'brazil': ['brazil', 'bra', 'brasil', 'bresil', 'brazilian', 'brazilians', 'selecao', 'canarinho', 'verde amarela', 'samba boys'],\n",
    "    'cameroon': ['cameroon', 'cmr', 'cameroun', 'camerounais', 'indomitable lions', 'lions'],\n",
    "    'france': ['france', 'fra', 'french', 'les bleus', 'tricolore', 'tricolores', 'equipe de france', 'allez les bleus'],\n",
    "    'honduras': ['honduras', 'hon', 'honduran', 'hondurans', 'los catrachos', 'catrachos', 'la h'],\n",
    "    'portugal': ['portugal', 'por', 'portuguese', 'selecao das quinas', 'seleccao', 'navegadores', 'team portugal'],\n",
    "    'spain': ['spain', 'esp', 'espana', 'espania', 'spanish', 'la roja', 'furia roja', 'la furia', 'la seleccion'],\n",
    "    'southkorea': ['south korea', 'korea', 'kor', 'skorea', 'korean', 'koreans', 'taeguk warriors', 'warriors'],\n",
    "    'switzerland': ['switzerland', 'sui', 'suisse', 'schweiz', 'swiss', 'nati', 'rossocrociati', 'a team'],\n",
    "    'usa': ['usa', 'united states', 'america', 'united states of america', 'us', 'usa', 'usmnt', 'americans', 'american', 'yanks', 'uncle sam', 'stars and stripes', 'team usa'],\n",
    "    'ghana': ['ghana', 'gha', 'ghanaian', 'ghanaians', 'black stars', 'stars'],\n",
    "    'netherlands': ['netherlands', 'ned', 'holland', 'dutch', 'oranje', 'flying dutchmen', 'orange', 'clockwork orange', 'nederlands'],\n",
    "    'germany': ['germany', 'ger', 'alemania', 'deutschland', 'german', 'germans', 'die mannschaft', 'nationalelf', 'deu'],\n",
    "    'iran': ['iran', 'irn', 'iranian', 'iranians', 'team melli', 'persian stars'],\n",
    "    'nigeria': ['nigeria', 'nga', 'naija', 'super eagles', 'eagles', 'nigerian', 'nigerians', 'green eagles'],\n",
    "    'algeria': ['algeria', 'alg', 'algerian', 'algerians', 'fennecs', 'desert foxes', 'les verts'],\n",
    "    'croatia': ['croatia', 'cro', 'hrvatska', 'hrv', 'croatian', 'croatians', 'vatreni', 'blazers', 'kockasti'],\n",
    "    'chile': ['chile', 'chi', 'chilean', 'chileans', 'la roja', 'team chile'],\n",
    "    'slovenia': ['slovenia', 'svn', 'slovenian', 'slovenians', 'slovenski', 'boys'],\n",
    "    'serbia': ['serbia', 'srb', 'serbian', 'serbians', 'beli orlovi', 'white eagles', 'orlovi'],\n",
    "    'greece': ['greece', 'gre', 'greek', 'greeks', 'piratiko', 'ethniki', 'galanolefki'],\n",
    "    'ivorycoast': ['ivory coast', 'civ', 'cote divoire', 'cotedivoire', 'ivorians', 'les elephants', 'elephants', 'ivory'],\n",
    "    'mexico': ['mexico', 'mex', 'mexiko', 'mexican', 'mexicans', 'el tri', 'tricolor', 'aztecas', 'el tricolor', 'verde']\n",
    "}\n",
    "\n",
    "# Define the country code mapping\n",
    "country_code_mapping = {\n",
    "    \"Argentina\": \"ar\", \"Belgium\": \"be\", \"Germany\": \"de\", \"Serbia\": \"rs\", \"Greece\": \"gr\",\n",
    "    \"IvoryCoast\": \"ci\", \"Netherlands\": \"nl\", \"Mexico\": \"mx\", \"Australia\": \"au\", \"Spain\": \"es\",\n",
    "    \"SouthKorea\": \"kr\", \"Cameroon\": \"cm\", \"Brazil\": \"br\", \"France\": \"fr\", \"Nigeria\": \"ng\",\n",
    "    \"Algeria\": \"dz\", \"USA\": \"us\", \"Honduras\": \"hn\", \"Switzerland\": \"ch\", \"Croatia\": \"hr\",\n",
    "    \"Chile\": \"cl\", \"Portugal\": \"pt\", \"Ghana\": \"gh\", \"Slovenia\": \"si\"\n",
    "}\n"
   ]
  },
  {
   "cell_type": "code",
   "execution_count": 23,
   "metadata": {},
   "outputs": [],
   "source": [
    "# Function to compute the average word vector for a tweet\n",
    "def get_avg_embedding(tweet, model, vector_size=200):\n",
    "    words = tweet.split()  # Tokenize by whitespace\n",
    "    word_vectors = [model[word] for word in words if word in model]\n",
    "    if not word_vectors:  # If no words in the tweet are in the vocabulary, return a zero vector\n",
    "        return np.zeros(vector_size)\n",
    "    return np.mean(word_vectors, axis=0)\n",
    "\n",
    "def extract_teams_from_filename(filename):\n",
    "    # Remove numbers and file extension\n",
    "    base_name = re.sub(r'\\d+\\.csv$', '', filename)\n",
    "    \n",
    "    # Identify teams from the predefined country list\n",
    "    teams = [country for country in country_list if country in base_name]\n",
    "    \n",
    "    if len(teams) >= 2:\n",
    "        return teams[0], teams[1]\n",
    "    elif len(teams) == 1:\n",
    "        return teams[0], \"Unknown\"\n",
    "    else:\n",
    "        return \"Unknown\", \"Unknown\"\n",
    "    \n",
    "def normalize_countries_with_teams(words, home_team, away_team):\n",
    "    # Text is already preprocessed and split into words\n",
    "    normalized_words = words.copy()\n",
    "    \n",
    "    # Replace individual country mentions\n",
    "    for i, word in enumerate(words):\n",
    "        # Check if it's home team\n",
    "        if word in country_variations.get(home_team.lower(), []):\n",
    "            normalized_words[i] = 'hometeam'\n",
    "        # Check if it's away team\n",
    "        elif word in country_variations.get(away_team.lower(), []):\n",
    "            normalized_words[i] = 'awayteam'\n",
    "        else:\n",
    "            # Check if it's any other country\n",
    "            for country, variations in country_variations.items():\n",
    "                if word in variations and country.lower() not in [home_team.lower(), away_team.lower()]:\n",
    "                    normalized_words[i] = 'othercountry'\n",
    "                    break\n",
    "    \n",
    "    return normalized_words\n",
    "\n",
    "def normalize_football_player_names_with_country(words, country, football_player_data):\n",
    "    \"\"\"\n",
    "    Normalize football player names in a list of words to 'footballplayername', filtering by country.\n",
    "\n",
    "    Args:\n",
    "        words (list of str): List of words (preprocessed text).\n",
    "        country (str): Country code of the players to focus on.\n",
    "        football_player_data (dict): Dictionary mapping country codes to lists of last names.\n",
    "\n",
    "    Returns:\n",
    "        list of str: Words with football player names normalized to 'footballplayername'.\n",
    "    \"\"\"\n",
    "    normalized_words = words.copy()\n",
    "    \n",
    "    # Get the list of player names for the given country\n",
    "    player_last_names = football_player_data.get(country, [])\n",
    "    \n",
    "    # Replace individual football player last names\n",
    "    for i, word in enumerate(words):\n",
    "        if word in player_last_names:\n",
    "            normalized_words[i] = 'footballplayername'\n",
    "    \n",
    "    return normalized_words\n",
    "\n",
    "def preprocess_text(text, hometeam, awayteam):\n",
    "    # Lowercasing\n",
    "    text = text.lower()\n",
    "    # Remove punctuation\n",
    "    text = re.sub(r'[^\\w\\s]', '', text)\n",
    "    # Remove numbers\n",
    "    text = re.sub(r'\\d+', '', text)\n",
    "    # Tokenization\n",
    "    words = text.split()\n",
    "    # Remove stopwords\n",
    "    stop_words = set(stopwords.words('english'))\n",
    "    words = [word for word in words if word not in stop_words]\n",
    "    words = [word for word in words if not word.startswith('http')]\n",
    "    # Lemmatization\n",
    "    lemmatizer = WordNetLemmatizer()\n",
    "    words = [lemmatizer.lemmatize(word) for word in words]\n",
    "\n",
    "    # Apply country normalization if matchID is provided\n",
    "    words = normalize_countries_with_teams(words, hometeam, awayteam)\n",
    "    \n",
    "    return ' '.join(words)\n",
    "\n",
    "# Function to map team names to country codes\n",
    "def map_team_to_country_code(team_name, country_code_mapping):\n",
    "    return country_code_mapping.get(team_name, \"unknown\")\n",
    "\n",
    "\n",
    "def remove_player_names(row, football_player_data):\n",
    "    \"\"\"\n",
    "    Replace player names in the tweet with 'footballplayername'.\n",
    "    \"\"\"    \n",
    "    # Tokenize the tweet\n",
    "    words = row['Tweet'].split()\n",
    "    \n",
    "    # Normalize player names\n",
    "    normalized_words = [\n",
    "        'footballplayername' if word in football_player_data else word for word in words\n",
    "    ]\n",
    "    \n",
    "    return ' '.join(normalized_words)\n",
    "\n"
   ]
  },
  {
   "cell_type": "code",
   "execution_count": null,
   "metadata": {},
   "outputs": [
    {
     "name": "stdout",
     "output_type": "stream",
     "text": [
      "{'ad': ['alavedra', 'alvarez'], 'ae': ['a', 'abaelaziz', 'abbas', 'abdalla', 'abdulbasit', 'abdulla', 'abdulrahman', 'adel', 'ahmad', 'ahmed', 'al-baloushi', 'aldhanhani', 'alghassani', 'alhammadi', 'alharbi', 'ali', 'aljasmi', 'almansoori', 'almentheri', 'almheiri', 'alshamsi', 'alzaabi', 'ameri', 'ammar', 'atiq', 'attas', 'autonne', 'aydh', 'ayman', 'azizi', 'baloushi', 'balushi', 'bandar', 'barman', 'bawazir', 'bilal', 'blooshi', 'butti', 'caio', 'dhawi', 'esam', 'essa', 'fadaq', 'fahad', 'fawzi', 'fuad', 'ghazy', 'hammadi', 'hamza', 'hashemi', 'hassan', 'hosani', 'hussain', 'ibrahim', 'idrees', 'issam', 'jaafar', 'jaber', 'jamil', 'juma', 'kaabi', 'kaidi', 'karbi', 'khairi', 'khalfan', 'khalil', 'khamis', 'khaseif', 'lashkari', 'lima', 'luanzinho', 'mabkhout', 'mahmoud', 'marzooq', 'matar', 'mazami', 'menhali', 'meqebaali', 'mohamad', 'mohamed', 'mohammad', 'mubarak', 'muhsin', 'murad', 'nader', 'naqbi', 'naser', 'rabeeh', 'ramadan', 'rashid', 'saadi', 'saeed', 'saleh', 'salem', 'salmeen', 'salmin', 'sebil', 'sembaij', 'senani', 'shaker', 'shamsi', 'shikali', 'suleiman', 'sultan', 'surour', 'tagliabue', 'tahir', 'tawhid', 'waleed', 'yahya', 'zaabi', 'zaal', 'zamah', 'zohari'], 'ag': ['romeo'], 'al': ['abibi', 'abrashi', 'agolli', 'ajeti', 'asllani', 'athmane', 'bajrami', 'balliu', 'bare', 'basha', 'berisha', 'bregu', 'broja', 'celhaka', 'cereni', 'civeja', 'cugnata', 'cuni', 'daku', 'deliu', 'dermaku', 'dervishi', 'djimsiti', 'doka', 'frroku', 'gjasula', 'gripshi', 'haxhiu', 'hoxha', 'hysaj', 'ismajlgeci', 'ismajli', 'jaku', 'jonuzi', 'kalaj', 'karrica', 'kasa', 'kolici', 'kumbulla', 'laci', 'lika', 'lulaj', 'lushkja', 'manaj', 'meta', 'mici', 'mihaj', 'mitaj', 'muci', 'mucolli', 'ndoj', 'nikqi', 'pellumbi', 'pergjoni', 'prenga', 'ramadani', 'selmani', 'shabani', 'shpendi', 'simoni', 'strakosha', 'trashi', 'tuci', 'uzuni', 'vrioni', 'xhaka', 'xhixha', 'zukaj'], 'am': ['adamyan', 'afyan', 'avagyan', 'babayan', 'barseghyan', 'bayramyan', 'briasco', 'buchnev', 'dashyan', 'davidyan', 'grigoryan', 'haroyan', 'harutyunyan', 'hovhannisyan', 'iwu', 'malakyan', 'mikaelyan', 'mkhitaryan', 'ranos', 'sargsyan', 'sevikyan', 'spertsyan', 'tiknizyan', 'udo'], 'ao': ['abreu', 'antonio', 'augusto', 'banza', 'batxi', 'bela', 'buatu', 'caetano', 'cafumana', 'carlinhos', 'carmo', 'carneiro', 'catraio', 'cavaleiro', 'coio', 'cruz', 'depu', 'eddie', 'eduardo', 'fortuna', 'gaspar', 'gilberto', 'hossi', 'isaac', 'jaredi', 'julinho', 'keliano', 'kinito', 'lucoqui', 'luvumbo', 'marques', 'mata', 'megue', 'miguel', 'milson', 'miro', 'modesto', \"n'zola\", 'neblu', 'paizo', 'sandro', 'tchutchu', 'va', 'vanilson', 'vidinho', 'zini'], 'ar': ['abascia', 'abila', 'abrego', 'acevedo', 'acosta', 'acuna', 'adin', 'aguero', 'aguerre', 'aguilar', 'aguilera', 'aguirre', 'alanis', 'alarcon', 'alario', 'albarracin', 'alcaraz', 'alderete', 'alfaro', 'alfonso', 'aliendro', 'allende', 'allister', 'almada', 'almendra', 'altamira', 'alvarez', 'alzugaray', 'amaya', 'amione', 'amor', 'amoroso', 'andrada', 'angileri', 'ansaldi', 'antonini', 'aquino', 'aranda', 'araujo', 'arcando', 'arce', 'arena', 'arguello', 'arismendi', 'armani', 'arnijas', 'arregui', 'asad', 'ascacibar', 'atum', 'aude', 'aued', 'auzmendi', 'avellaneda', 'avila', 'aviles', 'ayala', 'azcurra', 'badaloni', 'baez', 'bailone', 'baldi', 'balerdi', 'balzi', 'banega', 'banos', 'barbieri', 'barco', 'barcos', 'bareiro', 'barinaga', 'barovero', 'barreal', 'barrenechea', 'barrera', 'barreto', 'barrientos', 'barrios', 'basso', 'batalla', 'batallini', 'batista', 'battaglia', 'bay', 'bazan', 'bechtholdt', 'belmonte', 'beltran', 'benavidez', 'benedetti', 'benedetto', 'benitez', 'bernabei', 'bernardi', 'berterame', 'besozzi', 'bilbao', 'bisanz', 'blanco', 'blando', 'blasi', 'blasis', 'blazquez', 'bochi', 'bolivar', 'bologna', 'bolzicco', 'bonifacio', 'bontempo', 'boolsen', 'bordacahar', 'bordagaray', 'borgnino', 'botta', 'bou', 'bouzat', 'boye', 'bravo', 'brea', 'brener', 'brey', 'britez', 'brizuela', 'brochero', 'broun', 'bruera', 'brun', 'brunetta', 'buendia', 'buffarini', 'bullaude', 'buonanotte', 'burdisso', 'burgos', 'bustos', 'butti', 'cabral', 'cabrera', 'cacciabue', 'caceres', 'caire', 'calcaterra', 'calderara', 'calderon', 'callejo', 'calleri', 'cambeses', 'campagnaro', 'campisi', 'campos', 'canelo', 'canete', 'cannavo', 'cano', 'cantero', 'canto', 'capaldo', 'capano', 'capasso', 'capraro', 'carabajal', 'carando', 'carboni', 'cardona', 'cardozo', 'carranza', 'carrera', 'carrillo', 'carrizo', 'cartabia', 'casco', 'caseres', 'casermeiro', 'castellani', 'castellanos', 'castelli', 'castet', 'castillo', 'castro', 'cavanagh', 'cecchini', 'cejas', 'celso', 'centurion', 'cerato', 'cerrudo', 'cervera', 'cervi', 'cesare', 'chancalay', 'charpentier', 'chavarria', 'chavez', 'chiatti', 'chiaverano', 'chicco', 'chichizola', 'ciccioli', 'cingolani', 'colazo', 'colidio', 'colitto', 'coll', 'colman', 'colombo', 'comachi', 'comas', 'conechny', 'conti', 'contin', 'contreras', 'copetti', 'corda', 'cordero', 'coronel', 'correa', 'cortave', 'cortazzo', 'corvalan', 'costa', 'cozzani', 'cristaldo', 'cruz', 'cuello', 'cuesta', 'daniele', 'degregorio', 'delgadillo', 'delgado', 'demartini', 'depietri', 'desabato', 'diarte', 'diaz', 'dinenno', 'dituro', 'doffo', 'domina', 'dominguez', 'dorregaray', 'driussi', 'druille', 'duarte', 'dubersarsky', 'duma', 'dybala', 'echavarria', 'echeverri', 'echeverria', 'elizari', 'encinas', 'enrique', 'erbes', 'erquiaga', 'escalante', 'escobar', 'eseiza', 'esparza', 'espejo', 'espindola', 'espinoza', 'esquivel', 'estevez', 'facello', 'fara', 'faravelli', 'farias', 'farina', 'fascendini', 'fattori', 'fazio', 'fecit', 'fedorco', 'felipe', 'fernandez', 'ferrari', 'ferreyra', 'fertoli', 'figal', 'figueredo', 'fioravanti', 'flores', 'fontana', 'forastiero', 'forclaz', 'foyth', 'fragapane', 'franco', 'freire', 'freytes', 'frias', 'fuente', 'fuentes', 'furch', 'fydriszewski', 'gagliardo', 'gaitan', 'galarza', 'galeano', 'gallardo', 'gallo', 'galoppo', 'galvan', 'gamba', 'garate', 'garay', 'garces', 'garcia', 'garnacho', 'garnier', 'garro', 'garzon', 'gattoni', 'gauto', 'gazzaniga', 'genez', 'gerometta', 'gho', 'giaccone', 'giacopuzzi', 'giampaoli', 'giannetti', 'gigliotti', 'gimenez', 'giordana', 'girotti', 'giuliano', 'glavinovich', 'glavocic', 'glellel', 'godoy', 'goltz', 'gomes', 'gomez', 'gondou', 'goni', 'gonzalez', 'graciani', 'grahl', 'grillo', 'guanca', 'guasone', 'gudino', 'guedes', 'guiffrey', 'guille', 'guillen', 'guzman', 'hachen', 'hauche', 'henriquez', 'heredia', 'hernandez', 'herrera', 'hezze', 'hidalgo', 'holgado', 'hoyos', 'iacobellis', 'iacovich', 'ibanez', 'ibarra', 'icardi', 'infantino', 'insaurralde', 'insfran', 'insua', 'irazoque', 'iribarren', 'irusta', 'izquierdoz', 'jacob', 'jaime', 'janson', 'jara', 'jourdan', 'juarez', 'juncos', 'kannemann', 'killane', 'kociubinski', 'komar', 'kranevitter', 'krilanovich', 'kruspzky', 'laborie', 'lago', 'lamela', 'langoni', 'lanzini', 'laso', 'lazaro', 'leanos', 'lecanda', 'ledesma', 'leguizamon', 'lema', 'lemos', 'lena', 'lencioni', 'lertora', 'lescano', 'leschuk', 'levato', 'levi', 'leyes', 'leys', 'lezcano', 'linares', 'lodico', 'lollo', 'lomonaco', 'longo', 'lopes', 'lopez', 'lorenzo', 'lotti', 'lovera', 'lozada', 'lozano', 'lucco', 'lucero', 'luciatti', 'luduena', 'luna', 'macagno', 'machuca', 'maciel', 'maffeo', 'maffini', 'magnin', 'mainero', 'maio', 'malanca', 'malatini', 'malcorra', 'maldonado', 'mammana', 'mammini', 'mamut', 'mana', 'mancini', 'mancuello', 'mancuso', 'mansilla', 'manzur', 'marchesin', 'marchiori', 'marcich', 'marco', 'marcone', 'maria', 'marinelli', 'maroni', 'marquez', 'martegani', 'martin', 'martinez', 'martino', 'mastantuono', 'masuero', 'mateos', 'mater', 'mazzantti', 'medina', 'melano', 'meli', 'melo', 'mendez', 'mendieta', 'menossi', 'mercado', 'meriano', 'merlini', 'merolla', 'messi', 'metilli', 'meuli', 'meza', 'milo', 'mingo', 'mino', 'miramon', 'miranda', 'modica', 'molina', 'molinas', 'monaco', 'mondino', 'monetti', 'montefiori', 'montenegro', 'montiel', 'montoro', 'morales', 'moralez', 'moreno', 'moreyra', 'morgantini', 'moriceau', 'morro', 'mosca', 'mosqueira', 'moya', 'moyano', 'mugni', 'mulet', 'munoz', 'mura', 'murillo', 'muscia', 'mussis', 'musso', 'nahuelpan', 'nardelli', 'nardoni', 'navarro', 'navas', 'negri', 'nervo', 'nicosia', 'nieto', 'nunez', \"o'connor\", 'obando', 'ocampo', 'ocampos', 'ojeda', 'olivera', 'olmedo', 'ordonez', 'orellano', 'orosco', 'oroz', 'orsini', 'ortega', 'ortegoza', 'ortiz', 'orzan', 'otamendi', 'ovando', 'oviedo', 'oyola', 'palacio', 'palacios', 'palavecino', 'palomino', 'panichelli', 'papaleo', 'paradela', 'pardo', 'paredes', 'parisi', 'parnisari', 'parra', 'pasquini', 'passerini', 'paul', 'pavia', 'pavon', 'payer', 'payero', 'paz', 'peano', 'peinipil', 'pellegrino', 'pena', 'penalva', 'peralta', 'perello', 'pereyra', 'perez', 'pernicone', 'perrone', 'petino', 'petroli', 'pezzella', 'piatti', 'picco', 'picech', 'pierotti', 'pignani', 'pignata', 'pillud', 'pinedo', 'pino', 'piovi', 'pirez', 'pitton', 'pizarro', 'pizzini', 'placido', 'poblete', 'pochettino', 'pombo', 'ponce', 'pons', 'portillo', 'postigo', 'pourtau', 'prediger', 'prestianni', 'prete', 'prieto', 'profini', 'prost', 'protti', 'prudencio', 'puch', 'puebla', 'pumpido', 'pussetto', 'quarta', 'quignon', 'quintana', 'quintero', 'quinteros', 'quiroga', 'quiros', 'quiroz', 'rami', 'ramirez', 'ramua', 'rasmussen', 'rebola', 'recalde', 'redondo', 'requena', 'retamar', 'rey', 'reynoso', 'riep', 'rigamonti', 'rigoni', 'rio', 'rios', 'risso', 'ritacco', 'rius', 'rivadeneira', 'rivera', 'rivero', 'robertone', 'rodriguez', 'roffo', 'rojas', 'rojo', 'roldan', 'rollheiser', 'rolon', 'romagnoli', 'romano', 'romero', 'rosa', 'roselli', 'rossi', 'rotondi', 'rubio', 'ruiz', 'rulli', 'russo', 'sabella', 'saborido', 'saez', 'salas', 'salazar', 'salle', 'salomon', 'salomoni', 'sanchez', 'sandez', 'sandoval', 'sanguinetti', 'santamaria', 'saracho', 'saralegui', 'saravia', 'sarco', 'sauro', 'schamine', 'schelotto', 'schlegel', 'schomberger', 'schor', 'schott', 'schunke', 'segovia', 'senesi', 'sepulveda', 'sequeira', 'serrano', 'servio', 'sforza', 'sigali', 'silva', 'simeone', 'simon', 'sittaro', 'solari', 'soldano', 'soler', 'soraire', 'sordo', 'sosa', 'sotelo', 'soto', 'soule', 'souto', 'sporle', 'steimbach', 'strumia', 'suarez', 'sultani', 'sumavil', 'suso', 'taborda', 'tagliafico', 'tagliamonte', 'talpone', 'tanco', 'tanda', 'tanlongo', 'tapia', 'taron', 'tasso', 'tenaglia', 'tevez', 'thaller', 'tica', 'tirado', 'tissera', 'tobares', 'tobio', 'toledo', 'tolosa', 'toloza', 'tomasetti', 'torren', 'torres', 'trejo', 'tripichio', 'triverio', 'troilo', 'troyansky', 'ulariaga', 'unsain', 'urruti', 'urzi', 'ustari', 'vada', 'valdivia', 'valenti', 'valentini', 'valenzuela', 'vallejo', 'vallejos', 'vangioni', 'varela', 'vargas', 'vazquez', 'vecchio', 'vega', 'vegetti', 'velasco', 'velazco', 'velazquez', 'veliz', 'velurtas', 'vera', 'verde', 'veron', 'vicedo', 'vicentini', 'vigo', 'vila', 'villafanez', 'villagra', 'villalba', 'villar', 'villegas', 'viveros', 'vogliotti', 'watson', 'weigandt', 'werner', 'zabala', 'zalazar', 'zampedri', 'zanini', 'zapiola', 'zaracho', 'zeineddin', 'zenobio', 'zenon', 'zozaya', 'zuculini', 'zuqui', 'zurita'], 'at': ['adamu', 'affengruber', 'aiwu', 'alaba', 'arnautovic', 'auer', 'bachmann', 'baidoo', 'baumgartner', 'borkovic', 'bozic', 'breit', 'burgstaller', 'casali', 'chabbi', 'cham', 'daniliuc', 'danso', 'demir', 'dragovic', 'dursun', 'egho', 'fischer', 'fitz', 'flecker', 'florucz', 'fraisl', 'friedl', 'gartler', 'geyrhofer', 'gluck', 'gregoritsch', 'greiml', 'grgic', 'grillitsch', 'gruber', 'grull', 'haider', 'handl', 'haring', 'havel', 'hedl', 'hierlander', 'hinterseer', 'hofmann', 'honsak', 'horvath', 'huskovic', 'ibrisimovic', 'jakupovic', 'jukic', 'jungwirth', 'kainz', 'kalajdzic', 'kameri', 'karamatic', 'karic', 'kerschbaum', 'klarer', 'kobald', 'kos', 'kreidl', 'kuttin', 'laimer', 'lainer', 'lang', 'langer', 'lawal', 'lazaro', 'leitner', 'lienhart', 'lindner', 'ljubic', 'ljubicic', 'lucic', 'luckeneder', 'maric', 'meisl', 'moormann', 'muhamedbegovic', 'murg', 'mustapha', 'mwene', 'nemeth', 'nussbaumer', 'onisiwo', 'oswald', 'pazourek', 'pentz', 'pervan', 'plavotic', 'polster', 'posch', 'potzmann', 'prass', 'querfeld', 'raguz', 'ranftl', 'renner', 'sabitzer', 'sakic', 'saljic', 'sarkaria', 'sattlberger', 'schaub', 'schick', 'schlager', 'schmid', 'schmidt', 'schnegg', 'schopf', 'schwab', 'seidl', 'seiwald', 'shabanhaxhaj', 'sheiwi', 'sollbauer', 'stankovic', 'stoger', 'strunz', 'svoboda', 'trauner', 'trimmel', 'ullmann', 'ulmer', 'unger', 'vincze', 'vucic', 'wallner', 'wedl', 'weimann', 'wels', 'wetschka', 'wiesinger', 'wimmer', 'wober', 'wolf', 'wustinger', 'zivkovic', 'zulj'], 'au': ['acton', 'al-taay', 'alagich', 'amini', 'ansell', 'antonis', 'aquilina', 'armiento', 'arzani', 'aspropotamitis', 'atkinson', 'ayoubi', 'badolato', 'balard', 'barr', 'beach', 'beadling', 'behich', 'bennie', 'blair', 'bodnar', 'bonetig', 'borrello', 'bovalina', 'bowling', 'boyle', 'brandtman', 'brattan', 'brillante', 'brimmer', 'brook', 'brown', 'brownlie', 'broxham', 'buhagiar', 'burgess', 'burke-gilroy', 'busek', 'caceres', 'cahill', 'caletti', 'caputo', 'carluccio', 'cavallo', 'circati', 'cleur', 'clisby', 'colli', 'cook', 'courtney', 'cox', \"d'agostino\", 'degenek', 'delbridge', 'delianov', 'deng', 'devlin', 'diaz', 'dougall', 'dowse', 'duarte', 'dukuly', 'duncan', 'duzel', 'elder', 'esposito', 'farrell', 'folami', 'fornaroli', 'freke', 'galloway', 'gauci', 'genreau', 'geria', 'gibson', 'girdwood-reich', 'glover', 'gomulka', 'good', 'goodwin', 'gorman', 'grant', 'grdic', 'grozos', 'hall', 'halloran', 'harper', 'hoffman', 'holland', 'hollman', 'hore', 'irankunda', 'iredale', 'irvine', 'izzo', 'jeggo', 'jelacic', 'jones', 'jovanovic', 'kalik', 'kamau', 'kikianis', 'king', 'kitto', 'koutroumbis', 'kucharski', 'kuol', 'langerak', 'laws', 'leckie', 'lethlean', 'lino', 'lofthouse', 'lopane', 'lowry', 'luongo', 'mabil', 'maclaren', 'madanha', 'majekodunmi', 'majok', 'margush', 'markovski', 'matthews', 'mauk', 'mauragis', 'maynard-brewer', 'mcgree', 'meinicke', 'metcalfe', 'milanovic', 'mileusnic', 'miller', 'muir', 'murray', 'natta', 'neville', 'ngo', 'nieuwenhof', 'nikolovski', 'nisbet', \"o'neill\", 'oikonomidis', 'ostler', 'pantazopoulos', 'parsons', 'paull', 'pavlesic', 'pennington', 'peupion', 'pierias', 'piscopo', 'pizio', 'priestman', 'rawlins', 'redmayne', 'reec', 'retre', 'robertson', 'rowles', 'russell', 'ryan', 'saag', 'sapsford', 'schreiber', 'scott', 'siciliano', 'silvera', 'simmons', 'sinnott', 'smith', 'souttar', 'stamatelopoulos', 'steele', 'stensness', 'stynes', 'susnjar', 'taggart', 'talbot', 'tapp', 'taylor', 'teague', 'theoharous', 'thomas', 'timmins', 'toure', 'trewin', 'triantis', 'ugarkovic', 'valadon', 'vartuli', 'velupillay', 'vukovic', 'waddingham', 'warland', 'warshawsky', 'weier', 'wenzel-halls', 'williams', 'wilmering', 'wilson', 'wood', 'yazbek', 'yengi', 'younis', 'yull', 'zabala', 'zimarino'], 'az': ['akhundzade', 'aliev', 'balayev', 'bayramov', 'buludov', 'c@f@rov', 'cafarquliyev', 'emreli', 'guliyev', 'hajiyev', 'haqverdi', 'huseynov', 'isaev', 'kazimov', 'makhmudov', 'mammadov', 'medvedev', 'mustafazade', 'ozobic', 'qarayev', 'qurbanly', 'ramazanov', 'richard', 'salahli', 'silvestre'], 'ba': ['ahmedhodzic', 'andusic', 'anicic', 'babaluk', 'barisic', 'beganovic', 'begovic', 'besic', 'besirovic', 'biber', 'bicakcic', 'bilal', 'bilbija', 'bristric', 'buljubasic', 'catakovic', 'celik', 'civic', 'corluka', 'cuic', 'danilovic', 'dedic', 'demirovic', 'dizdarevic', 'drina', 'drljo', 'duljevic', 'durakovic', 'duric', 'dzeko', 'galic', 'gazibegovic', 'gojak', 'hadziahmetovic', 'hadzikadunic', 'hamulic', 'haracic', 'hasic', 'hiros', 'hodzic', 'hotic', 'hrvanovic', 'huseinbasic', 'ilinkovic', 'isic', 'jajalo', 'jukic', 'juricic', 'kanuric', 'kapetanovic', 'karacic', 'kodro', 'kolasinac', 'kozina', 'krdzalic', 'krkalic', 'krunic', 'loncar', 'mahmic', 'mehmedovic', 'mekic', 'memija', 'milicevic', 'milosevic', 'muftic', 'mulahusejnovic', 'mustafic', 'ovcina', 'piric', 'pjanic', 'prevljak', 'radetinac', 'radonja', 'radovac', 'ramic', 'sabljic', 'sanicanin', 'saric', 'savic', 'sefo', 'soldo', 'spahic', 'stilic', 'sucic', 'sunjic', 'susic', 'tabakovic', 'tahirovic', 'vasilj', 'visca', 'zeljkovic', 'zlomislic', 'zovko'], 'bb': ['gale'], 'be': ['adedeji-sternberg', 'akpa-chukwu', 'al-dakhil', 'alderweireld', 'amuzu', 'bakayoko', 'balikwisha', 'bataille', 'batshuayi', 'benteke', 'bodart', 'bornauw', 'bosch', 'boussaid', 'boyata', 'brempt', 'bruyne', 'burlet', 'busi', 'carrasco', 'castagne', 'casteels', 'castro-montes', 'caufriez', 'chambaere', 'claes', 'coosemans', 'corbanie', 'courtois', 'crombrugge', 'croux', 'cuyper', 'cuypers', 'debast', 'dejaegere', 'delcroix', 'deman', 'dendoncker', 'depoitre', 'descotte', 'dessoleil', 'devalckeneer', 'dewaele', 'doku', 'dony', 'duranville', 'emmers', 'engels', 'epolo', 'faes', 'fernandez-pardo', 'fofana', 'foket', 'fortin', 'francois', 'gerkens', 'godfroid', 'godts', 'govaers', 'guillaume', 'hadj', 'hautekiet', 'hazard', 'henkinet', 'heyden', 'heynen', 'hoorenbeeck', 'huygevelde', 'idumbo', 'jackers', 'januzaj', 'kabangu', 'kabasele', 'karetsas', 'keita', 'ketelaere', 'kongolo', 'kums', 'laet', 'lammens', 'lapage', 'lavalee', 'lavia', 'leoni', 'leysen', 'lukaku', 'lukebakio', 'lynen', 'mambabua', 'mangala', 'manuel', 'matazo', 'mayoka-tika', 'mbamba', 'mechele', 'medina', 'mertens', 'meunier', 'mignolet', 'mokio', 'musonda', 'ndenbe', 'neck', 'ngonge', 'ngoy', 'nkuba', 'nonge', 'norre', 'noubi', 'ntanda', 'odjidja-ofoe', 'onana', 'openda', 'origi', 'oyen', 'patris', 'pavlic', 'peersman', 'penders', 'pieklak', 'poitoux', 'praet', 'ramazani', 'raskin', 'rits', 'roef', 'sabbe', 'saelemaekers', 'samoise', 'sardella', 'sart', 'schrevel', 'sels', 'shinton', 'sishuba', 'smet', 'smits', 'spileers', 'stroeykens', 'talbi', 'theate', 'tielemans', 'tresor', 'trossard', 'vanaken', 'vandevoordt', 'vanheusden', 'vanhoutte', 'vanlerberghe', 'vanzeir', 'verhulst', 'vermeeren', 'verschaeren', 'vershueren', 'verstraete', 'vertessen', 'vertonghen', 'vliegen', 'vlieger', 'vranckx', 'winter', 'witsel'], 'bf': ['badolo', 'bande', 'bayala', 'bazie', 'bouda', 'dabo', 'djiga', 'fofana', 'guiebre', 'irie', 'nagalo', 'nikiema', 'ouattara', 'ouedraogo', 'tapsoba', 'traore', 'zagre'], 'bg': ['andonov', 'andreev', 'antonov', 'antov', 'bachev', 'borukov', 'chandarov', 'chochev', 'chorbadzhiyski', 'cicinho', 'delev', 'despodov', 'dimitrov', 'evtimov', 'galchev', 'gruev', 'hristov', 'iliev', 'jasper', 'kostadinov', 'kraev', 'kun', 'lyubenov', 'mihalev', 'mihaylov', 'mitkov', 'nedelev', 'nedyalkov', 'orlinov', 'petkov', 'petrov', 'shopov', 'stefanov', 'stoyanov', 'stoychev', 'terziev', 'tsonev', 'turitsov', 'yankov', 'yordanov', 'yovov'], 'bh': ['abdulkarim', 'abdulmalek', 'ajmi', 'al-khalasi', 'alaker', 'ali', 'benaddi', 'fardan', 'haram', 'hayam', 'ibrahim', 'issa', 'malood', 'qadhaib', 'shaikh'], 'bi': ['mutombo', 'ndayishimiye', 'nduwarugira', 'ntibazonkiza'], 'bj': ['akinyoola', 'allagbe', 'chibozo', 'dossou', 'hountondji', 'mounie', 'tosin', 'verdon'], 'bo': ['abastoflor', 'abrego', 'adorno', 'aguilar', 'akologo', 'alanoca', 'algaranaz', 'alvarez', 'andia', 'anez', 'antelo', 'apinaye', 'arabe', 'arancibia', 'arce', 'arrascaita', 'azogue', 'baldomar', 'ballivian', 'barboza', 'barrios', 'bazan', 'becerra', 'bejarano', 'berdecio', 'bernal', 'bonilla', 'briceno', 'bustamante', 'bustos', 'cabral', 'cabrera', 'calero', 'calle', 'campos', 'cardenas', 'cardozo', 'careaga', 'carlitos', 'castedo', 'cespedez', 'chajtur', 'choque', 'chumacero', 'chura', 'clemison', 'condarco', 'condori', 'coplot', 'cordano', 'corrales', 'crescencio', 'cruz', 'cuellar', 'demiquel', 'diez', 'eguez', 'enoumba', 'farell', 'fernandez', 'ferrel', 'figueroa', 'flores', 'galindo', 'gallardo', 'gallegos', 'garcia', 'garzon', 'gil', 'gomez', 'gongora', 'gonzales', 'guerra', 'gutierrez', 'guzman', 'haquin', 'herrera', 'hinojosa', 'hoyos', 'huanaco', 'huasna', 'hugo', 'hurtado', 'isita', 'jimenez', 'jusino', 'justiniano', 'kamawura', 'kuqui', 'lampe', 'landa', 'lara', 'ledezma', 'lino', 'lopez', 'lovera', 'machado', 'malgor', 'mamani', 'mancilla', 'mansilla', 'martinez', 'massi', 'medina', 'melean', 'menacho', 'mendez', 'mercado', 'miranda', 'mojica', 'montalvo', 'montano', 'montenegro', 'montero', 'morales', 'moreno', 'mustafa', 'ochoa', 'olivares', 'ortiz', 'osorio', 'ovando', 'ovejero', 'pacheco', 'paco', 'padilla', 'paniagua', 'pavia', 'paz', 'pedraza', 'pena', 'peredo', 'pereira', 'perez', 'pinto', 'poveda', 'pozo', 'quaglio', 'quiroga', 'rafinha', 'ramallo', 'rea', 'reinoso', 'ribera', 'rios', 'rivero', 'roca', 'rocha', 'rodriguez', 'rojas', 'romay', 'romero', 'saavedra', 'sagredo', 'salazar', 'saldias', 'salinas', 'salvatierra', 'sanchez', 'sandoval', 'saucedo', 'segovia', 'sejas', 'serrano', 'severiche', 'siles', 'silva', 'somoya', 'sotomayor', 'spenhay', 'suarez', 'supayabe', 'taborga', 'tapia', 'tellez', 'terrazas', 'tome', 'tonino', 'torrez', 'torrico', 'troncoso', 'uraezana', 'urena', 'ursino', 'uzeda', 'vaca', 'vallejos', 'valverde', 'vargas', 'vasquez', 'velasco', 'velasquez', 'villamil', 'villarroel', 'viscarra', 'wayar', 'yonima', 'zabala', 'zamora', 'zeballos', 'zenteno'], 'br': ['abner', 'acacio', 'adalberto', 'adell', 'ademilson', 'aderlan', 'adilson', 'adriano', 'adriel', 'adryan', 'adryelson', 'adson', 'adyson', 'afonso', 'ageu', 'agu', 'aguiar', 'ainoa', 'airon', 'airton', 'alan', 'alano', 'albano', 'alberto', 'aldo', 'ale', 'alemao', 'alerrandro', 'alessandro', 'alesson', 'alex', 'alexandre', 'alexsander', 'alexsandro', 'alison', 'alisson', 'alix', 'allan', 'allano', 'allyson', 'almeida', 'aluisio', 'alvaro', 'alves', 'alysson', 'amaral', 'amarildo', 'amorim', 'amorin', 'amoroso', 'anderson', 'andrade', 'andre', 'andrew', 'andrey', 'angelo', 'anjos', 'anselmo', 'anthoni', 'anthony', 'antonio', 'antony', 'apis', 'apodi', 'aquino', 'aragao', 'arana', 'arantes', 'arao', 'araujo', 'arcanjo', 'arez', 'arilson', 'arnaldo', 'arruda', 'arthur', 'artur', 'assis', 'assuncao', 'athos', 'atila', 'augusto', 'auremir', 'avelino', 'aylon', 'ayrton', 'azevedo', 'aznar', 'azulao', 'azzi', 'babi', 'baggio', 'bahia', 'baiano', 'baio', 'bala', 'balardin', 'balieiro', 'balotelli', 'bambu', 'baptistao', 'baraka', 'baralhas', 'barba', 'barboni', 'barbosa', 'barcellos', 'barcelos', 'barletta', 'barone', 'barra', 'barreta', 'barreto', 'barros', 'basso', 'bastos', 'basty', 'batista', 'baya', 'becao', 'belao', 'belem', 'beltrame', 'ben-hur', 'benassi', 'benedetti', 'benevenuto', 'beraldo', 'bergson', 'berguinho', 'bernabe', 'bernard', 'bernardo', 'berola', 'bertolo', 'bessa', 'betinho', 'bianqui', 'biasi', 'biazus', 'bidon', 'bidu', 'biel', 'bigode', 'bill', 'bilu', 'biro', 'bismarck', 'bismark', 'bispo', 'bissoli', 'bitello', 'bobsin', 'bochecha', 'boia', 'boldrin', 'bolonhin', 'bolt', 'bombado', 'bonatini', 'bonilha', 'borel', 'borges', 'botelho', 'brandao', 'braz', 'brazao', 'bremer', 'brendon', 'brenner', 'brenno', 'breno', 'brito', 'brock', 'brumado', 'brunao', 'bruninho', 'bruno', 'buchecha', 'bueno', 'buiate', 'busanello', 'busatto', 'cabral', 'caca', 'cacho', 'cachoeira', 'cadorini', 'cadu', 'caetano', 'cafe', 'cafu', 'caike', 'caio', 'caion', 'caique', 'caito', 'caja', 'caju', 'calebe', 'calegari', 'calyson', 'camacho', 'camargo', 'camilo', 'campanharo', 'campos', 'camutanga', 'candido', 'capixaba', 'caprini', 'carbone', 'cardoso', 'careca', 'carioca', 'carlao', 'carlinhos', 'carlos', 'carne', 'carneiro', 'carrerette', 'carrilho', 'carvalheira', 'carvalho', 'casemiro', 'cassiano', 'cassinho', 'cassio', 'castan', 'castro', 'caua', 'cauly', 'cavalini', 'cavalo', 'cavichioli', 'cazonatti', 'ceara', 'cebolinha', 'cesar', 'cesinha', 'cezar', 'charles', 'charlys', 'chaves', 'chayene', 'chermont', 'cheron', 'chico', 'chimbinha', 'chiquinho', 'chocolate', 'chu', 'cipriano', 'cirino', 'ciro', 'cittadini', 'claudinho', 'claudino', 'clayson', 'clayton', 'cleber', 'cleiton', 'cleverton', 'cleyton', 'clovis', 'coca', 'cocao', 'coelho', 'collaco', 'conceicao', 'coni', 'copete', 'correia', 'cortes', 'cortez', 'cosmo', 'costa', 'costantini', 'coutinho', 'couto', 'crispim', 'cristiano', 'crivellaro', 'cruz', 'crysan', 'crystopher', 'cunha', 'curua', 'custodio', 'daciel', 'dalberson', 'dalton', 'daltro', 'damiao', 'daniel', 'danielzinho', 'danilo', 'dantas', 'dante', 'darlisson', 'davi', 'david', 'davidson', 'davis', 'dawhan', 'deivity', 'delfim', 'dellatorre', 'dener', 'denilson', 'denis', 'denivys', 'denner', 'denoni', 'dentinho', 'denzel', 'deocleciano', 'derek', 'desco', 'deuner', 'deyverson', 'dheimison', 'dhonata', 'dias', 'dida', 'diegao', 'diego', 'dieguinho', 'dija', 'dimas', 'dini', 'diniz', 'diogenes', 'diogo', 'dioran', 'dirceu', 'dodi', 'dodo', 'doka', 'doma', 'dombroski', 'domingos', 'donato', 'donelli', 'doria', 'dorneles', 'douglas', 'dourado', 'duarte', 'dudu', 'dutra', 'dyego', 'dyogo', 'eber', 'eberth', 'edenilson', 'ederson', 'edinho', 'edmundo', 'ednei', 'edrean', 'edson', 'edu', 'eduardo', 'edvan', 'eguinaldo', 'elber', 'elenilson', 'elias', 'eliel', 'eloir', 'elvinho', 'elvis', 'ely', 'elyeser', 'emerson', 'empereur', 'endrick', 'ennes', 'erick', 'ericson', 'erik', 'erison', 'erivelton', 'ermel', 'escuro', 'esser', 'estevam', 'estevao', 'esteves', 'eudes', 'euller', 'evander', 'evandro', 'evangelista', 'evanilson', 'everaldo', 'everson', 'everton', 'evertton', 'ewerthon', 'ewerton', 'ezequiel', 'fabao', 'fabiano', 'fabinho', 'fabio', 'fabricio', 'fagner', 'falcao', 'faria', 'farias', 'farinha', 'fasson', 'feijao', 'feitosa', 'felipe', 'felipinho', 'felippe', 'felix', 'fellipe', 'fernandao', 'fernandes', 'fernandinho', 'fernando', 'ferrareis', 'ferrari', 'ferreira', 'fessin', 'fialho', 'figueiredo', 'filipe', 'fintelman', 'firmino', 'flavio', 'flores', 'fogaca', 'foguinho', 'fonseca', 'formiga', 'formigoni', 'forster', 'franca', 'francisco', 'franklin', 'fransergio', 'frazan', 'fred', 'fredson', 'freitas', 'friedrich', 'frizzo', 'fuchs', 'furtado', 'fuzato', 'gabriel', 'gabryel', 'galastri', 'galego', 'galeno', 'galhardo', 'galvan', 'galvao', 'gama', 'gamalho', 'ganem', 'ganso', 'garay', 'garcez', 'garcia', 'garraty', 'gasparotto', 'gaucho', 'gava', 'gazal', 'gazao', 'geaze', 'geferson', 'gege', 'geilson', 'gelado', 'genilson', 'geovane', 'geovani', 'gerald', 'germano', 'geromel', 'geronimo', 'gerson', 'getulio', 'gharib', 'ghisleri', 'gian', 'giancarlo', 'gil', 'gilberto', 'gilmar', 'gilvan', 'giovani', 'giovanni', 'girotto', 'giuliano', 'glecio', 'gledson', 'gleibson', 'gleissinho', 'goes', 'golas', 'gomes', 'goncalves', 'grando', 'grasson', 'graziani', 'griggio', 'grohe', 'guedes', 'guerra', 'guga', 'guilherme', 'guimaraes', 'guipira', 'gurgel', 'guss', 'gustavinho', 'gustavo', 'gut', 'guti', 'habraao', 'halerrandrio', 'halls', 'hannyel', 'hayner', 'hebling', 'helerson', 'helinho', 'henri', 'henrique', 'henry', 'hercules', 'hereda', 'hermes', 'hernandes', 'hernani', 'heron', 'hiago', 'hipolito', 'histone', 'honorio', 'hotton', 'hudson', 'huggo', 'hugo', 'hulk', 'hyan', 'hygor', 'hyoran', 'hyuri', 'iacovelli', 'iago', 'ian', 'ibanez', 'ibiapino', 'icaro', 'ignacio', 'igo', 'igor', 'ii', 'inacio', 'indio', 'irmer', 'isaac', 'isac', 'isaque', 'ismaily', 'italo', 'itambe', 'iuri', 'iury', 'ivaldo', 'ivan', 'ivo', 'jacare', 'jackson', 'jaco', 'jacy', 'jaderson', 'jadsom', 'jadson', 'jailson', 'jair', 'jaja', 'jamerson', 'james', 'janderson', 'jandrei', 'japa', 'jardel', 'jardiel', 'jardim', 'jean', 'jeferson', 'jefferson', 'jeffinho', 'jefinho', 'jefte', 'jeh', 'jeimes', 'jemerson', 'jemmes', 'jenison', 'jesiel', 'jesse', 'jesus', 'jhon', 'jhonata', 'jhonatan', 'jhonnathan', 'jhonny', 'jhony', 'jo', 'joaninha', 'joaquim', 'joazi', 'joecio', 'joelinton', 'johny', 'joilson', 'jonatan', 'jonathan', 'jonilson', 'jordan', 'jordi', 'jorge', 'jorginho', 'jori', 'jose', 'joseph', 'jotave', 'joventino', 'jr', 'juan', 'juba', 'judson', 'juliao', 'julio', 'junho', 'juninho', 'junior', 'jussa', 'jussani', 'justen', 'kadu', 'kady', 'kaick', 'kaik', 'kaiki', 'kainandro', 'kaio', 'kaique', 'kal', 'kallyel', 'kanu', 'karanga', 'kardec', 'karl', 'kaua', 'kauan', 'kaue', 'kawan', 'kayan', 'kayke', 'kayon', 'kayque', 'kayser', 'kayzer', 'kazu', 'keiller', 'kelvin', 'kenedy', 'kennedy', 'keno', 'kesley', 'kevin', 'kevyn', 'kevyson', 'keynan', 'khellven', 'khevin', 'kiko', 'kiss', 'kivel', 'klein', 'kleiton', 'klenisson', 'klippel', 'klismahn', 'kozlinski', 'krobel', 'lacerda', 'lamas', 'lang', 'lara', 'lauan', 'lazaro', 'leal', 'leandrinho', 'leandro', 'lecce', 'leineker', 'leite', 'lele', 'lemes', 'lenon', 'leo', 'leonai', 'leonardo', 'leozinho', 'lepo', 'lessa', 'lian', 'ligger', 'lila', 'lima', 'lincoln', 'lindoso', 'lino', 'lins', 'lobato', 'lodi', 'loiola', 'lomba', 'lombardi', 'longo', 'longuine', 'lopes', 'lorran', 'lourenco', 'love', 'luan', 'lucao', 'lucas', 'lucca', 'luccas', 'luciano', 'lucio', 'lucyan', 'luidy', 'luighi', 'luis', 'luisao', 'luiz', 'luizao', 'luizinho', 'lukas', 'lukian', 'luquinha', 'luquinhas', 'lusuardi', 'luz', 'lyanco', 'lyncon', 'macedo', 'machado', 'maciel', 'magalhaes', 'magno', 'magrao', 'maguinho', 'maia', 'maicon', 'maikinho', 'maikon', 'mailson', 'mailton', 'maioli', 'makelele', 'malcom', 'malheiro', 'maltos', 'mana', 'mancha', 'mandai', 'manga', 'mangabeira', 'manoel', 'mantuan', 'maranhao', 'maranini', 'marcao', 'marcelinho', 'marcello', 'marcelo', 'marcilio', 'marcinho', 'marcondes', 'marcos', 'mardley', 'maria', 'mariano', 'marinho', 'mario', 'markson', 'marllon', 'marlon', 'marlone', 'marlos', 'marques', 'marquinho', 'marquinhos', 'marrony', 'martha', 'martineli', 'martinelli', 'martins', 'marzagao', 'masara', 'mascarenhas', 'mateus', 'mateusao', 'mateuzinho', 'matheus', 'matheusinho', 'matheuzinho', 'mathias', 'matias', 'matos', 'mattos', 'mauri', 'mauricio', 'maurides', 'max', 'maxsuell', 'maxwell', 'maycon', 'mayk', 'mayke', 'medeiros', 'medina', 'meer', 'mega', 'megiolaro', 'melo', 'meloni', 'memo', 'mendes', 'mendonca', 'menezes', 'menino', 'meritao', 'messias', 'metinho', 'micael', 'micaias', 'michael', 'michel', 'miguel', 'mikael', 'mike', 'milioransa', 'militao', 'milla', 'miller', 'mina', 'mineiro', 'miqueias', 'miranda', 'misael', 'miullen', 'modesto', 'moises', 'mol', 'monteiro', 'moraes', 'morais', 'morato', 'moreira', 'morelli', 'morisco', 'moscardo', 'mosconi', 'mosquito', 'mota', 'motta', 'moura', 'mt', 'muller', 'muniz', 'muralha', 'muriel', 'murillo', 'murilo', 'mv', 'mychell', 'nadson', 'nagib', 'naldo', 'nannetti', 'napao', 'nascimento', 'nassom', 'nata', 'natan', 'natanael', 'natel', 'nathan', 'navarro', 'naves', 'naylhor', 'negrucci', 'negueba', 'nene', 'neneca', 'neres', 'neris', 'nestor', 'netinho', 'neto', 'neves', 'newerton', 'newton', 'neymar', 'nicolas', 'nilson', 'niltinho', 'nino', 'nogueira', 'nolasco', 'nonato', 'nonoca', 'novaes', 'nycollas', 'oberdan', 'odivan', 'oliv', 'oliveira', 'orobo', 'ortiz', 'oscar', 'osmar', 'osvaldo', 'otavio', 'oyama', 'oziel', 'pablo', 'pacheco', 'packer', 'pagnussat', 'paim', 'paiva', 'paixao', 'pajeu', 'paqueta', 'para', 'paraiba', 'paraizo', 'paranhos', 'parede', 'pascoal', 'pasinato', 'passarinho', 'patati', 'pato', 'patric', 'patrick', 'patryck', 'paula', 'paulao', 'paulinho', 'paulino', 'paulista', 'paulo', 'pavan', 'paz', 'pec', 'pedrao', 'pedrinho', 'pedro', 'pedroso', 'pedrozo', 'pegorari', 'peixoto', 'pele', 'pelezinho', 'pellegrin', 'peninha', 'pepe', 'pepeu', 'pereira', 'peres', 'perotti', 'perpetuo', 'perri', 'person', 'petra', 'petri', 'peu', 'ph', 'phelipe', 'philipe', 'piazon', 'pierre', 'pikachu', 'pimenta', 'pimentinha', 'pingo', 'pipico', 'pirani', 'pires', 'pissinati', 'pituca', 'platiny', 'poffo', 'popo', 'possignolo', 'potiguar', 'pottker', 'poveda', 'poz', 'prado', 'prata', 'praxedes', 'prego', 'pyerre', 'quaresma', 'queiroz', 'queven', 'quintino', 'quirino', 'rabello', 'rael', 'rafael', 'rafinha', 'rai', 'railan', 'raimar', 'ralf', 'ramalho', 'ramires', 'ramiro', 'ramon', 'ramos', 'rangel', 'raniele', 'ranieri', 'raphael', 'raphinha', 'ratao', 'ratinho', 'rato', 'rayan', 'recife', 'refundini', 'regis', 'reinaldo', 'reinier', 'reis', 'renan', 'renato', 'rene', 'renie', 'rennan', 'renyer', 'renzo', 'resende', 'reydson', 'reynaldo', 'rezende', 'rhaldney', 'rhuan', 'rhyan', 'ribamar', 'ribas', 'ribeiro', 'ricardinho', 'ricardo', 'riccieli', 'richard', 'richardson', 'richarlison', 'rick', 'rickson', 'rikelme', 'rildo', 'riquelme', 'riquelmo', 'rissani', 'robert', 'robertinho', 'roberto', 'robinho', 'robson', 'rocha', 'rochinha', 'rodinei', 'rodolfo', 'rodrigao', 'rodrigo', 'rodrigues', 'rodriguinho', 'rodrygo', 'roger', 'rogerio', 'romano', 'romao', 'romarinho', 'romario', 'romercio', 'romulo', 'ronald', 'ronaldo', 'roni', 'ronier', 'rony', 'roque', 'rosa', 'rossetto', 'rossi', 'royal', 'ruan', 'rubens', 'ruschel', 'ruy', 'ryan', 'sabino', 'safira', 'saimon', 'salatiel', 'saldanha', 'sales', 'sam', 'samir', 'sammuel', 'samuel', 'sanches', 'sanchez', 'sander', 'sandre', 'sandro', 'santana', 'santarem', 'santiago', 'santos', 'sara', 'saraiva', 'sarara', 'sasha', 'saulo', 'savinho', 'savio', 'scales', 'scarpa', 'schaffer', 'scheibig', 'schmidt', 'schneider', 'seco', 'sena', 'serafim', 'serginho', 'sergio', 'sergipano', 'severino', 'shaylon', 'sheldon', 'shinyashiki', 'sidimar', 'sidnei', 'sidney', 'silas', 'silva', 'silvano', 'silveira', 'silvinho', 'skilo', 'soares', 'sobral', 'sorriso', 'sousa', 'soutto', 'souza', 'stenio', 'stum', 'tabata', 'tadeu', 'taison', 'taissinho', 'talisca', 'talisson', 'talles', 'tanque', 'tarik', 'tarta', 'tavares', 'teixeira', 'telles', 'tenenbaum', 'tenorio', 'tete', 'thaciano', 'thales', 'thalisson', 'thalles', 'thallyson', 'thalys', 'thamer', 'tharcysio', 'thassio', 'thiago', 'thiaguinho', 'thomas', 'thomaz', 'thomazella', 'thuler', 'thuram', 'thyere', 'tiago', 'tibiri', 'tinga', 'tite', 'titi', 'tito', 'tobias', 'tobinha', 'tocantins', 'todinho', 'toledo', 'tontini', 'torelli', 'tormena', 'toro', 'torres', 'tortello', 'toscano', 'tressoldi', 'trevisan', 'tsunami', 'tubarao', 'tulio', 'tuta', 'uelber', 'uilton', 'ulisses', 'urso', 'uvini', 'vagner', 'vanderlan', 'vanderlei', 'vanderson', 'varanda', 'varao', 'vaz', 'veiga', 'venicius', 'venuto', 'verhon', 'verissimo', 'veron', 'vialle', 'viana', 'vichiatto', 'vico', 'victor', 'vidal', 'vidotto', 'vieira', 'viera', 'viery', 'vilar', 'vilela', 'villela', 'vinicios', 'vinicius', 'vital', 'vitao', 'vitinho', 'vitor', 'vizeu', 'vladimir', 'volnei', 'volpi', 'wagner', 'wagninho', 'waguininho', 'walace', 'walber', 'waldson', 'walfrido', 'waliffer', 'walisson', 'wall', 'wallace', 'wallyson', 'walter', 'walterson', 'wanderson', 'wandinho', 'warley', 'washington', 'welder', 'welington', 'welinton', 'welison', 'weliton', 'wellington', 'wendel', 'wendell', 'werner', 'werton', 'wesley', 'weverson', 'weverton', 'william', 'willian', 'willians', 'willyan', 'wilson', 'wingert', 'xandinho', 'xavier', 'xuxa', 'yago', 'yan', 'yander', 'yann', 'young', 'yuri', 'zanitti', 'zanocelo', 'zeca', 'zen', 'zinho', 'zizu'], 'bw': ['ditlhokwe'], 'by': ['aleksievich', 'anufriev', 'apiatsionak', 'begunov', 'blotski', 'bogomolskiy', 'bykov', 'chernook', 'chernyak', 'chichkan', 'demchenko', 'dergachev', 'ebong', 'gitselev', 'hawrylovich', 'ignatjev', 'kalinin', 'karatay', 'kendysh', 'khadarkevich', 'kholodov', 'khvashchinskiy', 'krolik', 'kudravets', 'lapkes', 'lapoukhov', 'makavchik', 'martynov', 'martynovich', 'melnichenko', 'morozov', 'neskoromnyi', 'nikiforenko', 'nizhnik', 'osipov', 'pashevich', 'pavlyuchenko', 'pigas', 'piletskiy', 'podstrelov', 'politevich', 'potapenko', 'rusenchik', 'sachivko', 'sedko', 'selyava', 'shimakovich', 'shvedchikov', 'shvetsov', 'skopets', 'sokolovskiy', 'sotnikov', 'svidinsky', 'zherdev', 'zhulpa'], 'ca': ['adekugbe', 'afrifa', 'ahmed', 'akinola', 'anchor', 'arfield', 'bassong', 'boehmer', 'bombito', 'borjan', 'breza', 'brym', 'buchanan', 'cambridge', 'cavallini', 'choiniere', 'clair', 'corbeanu', 'cornelius', 'crepeau', 'david', 'davies', 'edwards', 'eustaquio', 'farsi', 'fougerolles', 'franklin', 'fraser', 'gavran', 'gutierrez', 'hoilett', 'james', 'jebbison', 'johnson', 'johnston', 'kaye', 'kerr', 'kone', 'larin', 'laryea', 'macnaughton', 'marshall-rutty', 'mcgill', 'mcgraw', 'millar', 'miller', 'nelson', 'osorio', 'pantemis', 'perruzza', 'piette', 'priso-mbongue', 'raposo', 'russell-rowe', 'saliba', 'shaffelburg', 'sirois', 'thompson', 'vilsaint', 'vitoria', 'waterman', 'zouhir'], 'cd': ['assombalonga', 'bakambu', 'balikwisha', 'baningime', 'banza', 'batubinsika', 'bertaud', 'beya', 'bokadi', 'bolasie', 'bongonda', 'bushiri', 'cipenga', 'diangana', 'elia', 'kalulu', 'kambale', 'kayembe', 'kebano', 'kimvuidi', 'lilepo', 'lualua', 'mabanza', 'mabiala', 'mabruki', 'malango', 'mandanda', 'mangoba', 'mankenda', 'manzinga', 'masuaku', 'mbemba', 'mbuyi', 'mfulu', 'moutoussamy', 'mpoku', 'muleka', 'mundeko', 'muzinga', \"n'simba\", 'ndongala', 'ngakia', 'ngoma', 'ntambwe', 'okita', 'othos', 'pickel', 'sadiki', 'saile', 'silas', 'taddy', 'ungenda', 'wamba', 'wissa'], 'cf': ['gambor', 'kondogbia', 'lembet', 'manzoki', 'ngakoutou', 'youfeigane', 'youga'], 'cg': ['avounou', 'charpentier', 'ganvoula', 'ibayi', 'kokolo', 'loulendo', 'makoumbou', 'makouta', 'ovouka', 'tchibota', 'tchimbembe'], 'ch': ['aebischer', 'afrim', 'akahomen', 'akanji', 'amdouni', 'amenda', 'arigoni', 'avdullahu', 'ballmoos', 'beney', 'benito', 'blasucci', 'blum', 'bollati', 'brecher', 'brunner', 'burch', 'carvalho', 'cavar', 'comert', 'daprela', 'deana', 'decarli', 'deme', 'diagne', 'djokic', 'dominguez', 'drmic', 'duah', 'elvedi', 'embolo', 'fabrizio', 'fassnacht', 'fehr', 'fernandes', 'fink', 'fosso', 'frei', 'freuler', 'frey', 'garcia', 'gasser', 'gelmi', 'glaus', 'grob', 'guzzo', 'haile', 'hammel', 'hefti', 'hitz', 'hodza', 'hunziker', 'husic', 'imeri', 'inler', 'itten', 'jevtic', 'kacuri', 'kamberi', 'kasami', 'kobel', 'kohn', 'kostadinovic', 'krasniqi', 'krauchi', 'lang', 'lauper', 'ligue', 'loosli', 'lopping', 'lotomba', 'lukembila', 'lustenberger', 'malele', 'males', 'marchesano', 'marzino', 'mbabu', 'meyer', 'mol', 'morandi', 'muheim', 'mvogo', 'ndoye', 'nigg', 'nyakossi', 'okafor', 'okoh', 'oliveira', 'omeragic', 'omerovic', 'omlin', 'racioppi', 'rastoder', 'reichmuth', 'rieder', 'rodriguez', 'rohner', 'ruegg', 'salvi', 'schar', 'schmid', 'schurpf', 'seferovic', 'sekularac', 'shaqiri', 'siegrist', 'sierro', 'sohm', 'sommer', 'sow', 'stergiou', 'stober', 'stojilkovic', 'surdez', 'tsawa', 'ugrinic', 'vargas', 'vouilloz', 'wallner', 'werff', 'widmer', 'wuthrich', 'xhaka', 'zakaria', 'ze', 'zeqiri', 'zesiger', 'zuber'], 'ci': ['adingra', 'adriel', 'affi', 'agbadou', 'aholou', 'akpa-akpro', 'amani', 'angban', 'assale', 'aurier', 'bailly', 'bamba', 'bangaly', 'bayo', 'bedia', 'behiratche', 'bile', 'boga', 'boli', 'bolly', 'boly', 'camara', 'cisse', 'cornet', 'coulibaly', 'dabila', 'dao', 'deble', 'debohi', 'diakite', 'diallo', 'diarra', 'diarrassouba', 'didier', 'diomande', 'djidji', 'dorgeles', 'doue', 'doukoure', 'doumbia', 'eboue', 'fofana', 'folly', 'gbane', 'guessand', 'guy', 'haller', 'issa', 'jimoh', 'junior', 'kamara', 'kanga', 'karamoko', 'keita', 'kessie', 'kipre', 'koffi', 'konate', 'kone', 'kossounou', 'kouadio', 'kouame', 'kouan', 'kouao', 'kouassi', 'kramo', 'krasso', 'lassina', 'lath', 'loba', 'macalou', 'maiga', 'mbahia', 'meite', 'mori', \"n'guessan\", 'ndicka', 'operi', 'ouattara', 'paul', 'pepe', 'sahi', 'sako', 'salaou', 'sangare', 'serebe', 'seri', 'sidibe', 'singo', 'sylla', 'tiehi', 'toure', 'traore', 'yameogo', 'yao', 'zaha', 'zogbe', 'zohouri'], 'cl': ['abrigo', 'aedo', 'aguila', 'ahumada', 'alarcon', 'allende', 'alvarez', 'ampuero', 'arancibia', 'araneda', 'aranguiz', 'araos', 'aravena', 'araya', 'arias', 'arriagada', 'assadi', 'baeza', 'ballesteros', 'barrientos', 'barticciotto', 'bejar', 'benegas', 'bernedo', 'berrios', 'bizama', 'bolados', 'bosso', 'bravo', 'brereton', 'briceno', 'buss', 'campos', 'campusano', 'canales', 'carabali', 'carcamo', 'cardenas', 'caroca', 'carrasco', 'carreno', 'carvallo', 'castellon', 'castillo', 'castro', 'catalan', 'cavalleri', 'cepeda', 'cerda', 'cerezo', 'cespedes', 'ceza', 'chamorro', 'cid', 'cisterna', 'collao', 'conelli', 'contreras', 'cordero', 'cornejo', 'cortes', 'cruz', 'cuevas', 'davila', 'diaz', 'dittborn', 'donoso', 'echeverria', 'espejo', 'espinoza', 'esquenazi', 'fernandez', 'ferrario', 'fiamengo', 'fierro', 'filla', 'flores', 'fuentealba', 'fuentes', 'galdames', 'garcia', 'garrido', 'gatica', 'gazzolo', 'gil', 'gillier', 'gonzalez', 'guajardo', 'guerra', 'guerrero', 'gutierrez', 'henriquez', 'hernandez', 'herrera', 'hormazabal', 'huerta', 'hurtado', 'ibacache', 'isla', 'jara', 'jeraldino', 'jorquera', 'kuscevic', 'labrin', 'leiva', 'leon', 'lichnovsky', 'lobos', 'lopez', 'loyola', 'madrid', 'magnasco', 'marin', 'maripan', 'martin', 'martinez', 'massri', 'matamala', 'matus', 'medel', 'medina', 'melendez', 'mena', 'mendez', 'meneses', 'mesias', 'meza', 'miranda', 'molina', 'monreal', 'monroy', 'montecinos', 'montes', 'mora', 'morales', 'moya', 'munder', 'munoz', 'neira', 'norambuena', 'nunez', 'opazo', 'orellana', 'ormeno', 'oroz', 'orrego', 'ortiz', 'osorio', 'osses', 'oyarzo', 'oyarzun', 'pacheco', 'palacios', 'palma', 'parot', 'parra', 'parraguez', 'pastran', 'paul', 'pavez', 'pena', 'penailillo', 'pereira', 'perez', 'pina', 'pinares', 'pizarro', 'plaza', 'poblete', 'ponce', 'pulgar', 'quevedo', 'quinones', 'ramirez', 'ramis', 'ramos', 'rebolledo', 'retamal', 'reyes', 'rios', 'riquelme', 'rivera', 'roco', 'rodriguez', 'rojas', 'roki', 'roman', 'romo', 'ross', 'rozas', 'rubio', 'saavedra', 'sagal', 'saldias', 'sanchez', 'sandoval', 'sanhueza', 'santander', 'sepulveda', 'sierralta', 'soto', 'suarez', 'suazo', 'tapia', 'tati', 'terrazas', 'tiznado', 'toro', 'torrealba', 'torres', 'toselli', 'ulloa', 'urena', 'uribe', 'valdes', 'valencia', 'valenzuela', 'valladares', 'vargas', 'vasquez', 'vega', 'vegas', 'vejar', 'velasquez', 'vidal', 'vigouroux', 'vilches', 'villagra', 'villagran', 'villanueva', 'wassenne', 'wiemberg', 'yanez', 'zaldivia', 'zavala', 'zuniga'], 'cm': ['aboubakar', 'adang', 'agbor', 'alioum', 'anguissa', 'anunga', 'ateba', 'baleba', 'bokele', 'boyomo', 'castelletto', 'cedric', 'choupo-moting', 'danzabe', 'dawa', 'ebong', 'ebosse', 'ekambi', 'elliott', 'essomba', 'etoga', 'eyong', 'foe', 'ganago', 'hongla', 'joel', 'jules', 'kaptoum', 'keben', 'kemen', 'magri', 'malone', 'marou', 'matip', 'mbaizo', 'mbeumo', 'moukoudi', 'moumbagna', 'mvoue', \"n'jie\", 'nagida', 'ndenge', 'ndjeungoue', 'ndjiki', 'ngadeu-ngadjui', 'ngah', 'ngamaleu', 'ngapandouetnbu', 'ngom', 'njalla', 'nkoa', 'nokoue', 'nouhou', 'noukeu', 'onana', 'ondoa', 'privat', 'tameze', 'tchamadeu', 'tchatchoua', 'tchato', 'wamba', 'wooh', 'yongwa', 'ze'], 'cn': ['abbas', 'abdugheni', 'abdusalam', 'abudulam', 'aniwar', 'askhan', 'bai', 'bao', 'bi', 'bin', 'binbin', 'bo', 'boqing', 'boyu', 'boyuan', 'cao', 'chen', 'cheng', 'chengdong', 'chenjie', 'chi', 'chongqiu', 'chunyu', 'dai', 'dalei', 'daoxin', 'di', 'dongsheng', 'fan', 'fang', 'feifan', 'feng', 'gao', 'gu', 'guan', 'guangtai', 'guobao', 'guobo', 'guowen', 'haifeng', 'haijian', 'haiyi', 'han', 'hanchao', 'haoran', 'haoxiang', 'haoyang', 'hou', 'huan', 'huang', 'huanhuan', 'huaze', 'huikang', 'huo', 'jia', 'jiahao', 'jianbo', 'jianfei', 'jiang', 'jiaqi', 'jin', 'jing', 'jinhao', 'jinyong', 'junchen', 'junchi', 'junjie', 'junling', 'ke', 'kudirat', 'kun', 'langzhou', 'lei', 'li', 'liang', 'liangming', 'liao', 'lin', 'linpeng', 'lisheng', 'liu', 'long', 'luo', 'ma', 'mijit', \"ming'an\", 'muhmet', 'pan', 'pang', 'peng', 'pengfei', 'pu', 'qi', 'quanjiang', 'ren', 'rongze', 'ruan', 'shenchao', 'shenglong', 'shibo', 'shiyuan', 'shuai', 'songchen', 'tian', 'tianyi', 'ting', 'tixiang', 'tong', 'wang', 'wei', 'wen', 'wenjun', 'wenxuan', 'will', 'wu', 'xi', 'xiang', 'xiangchuang', 'xiaobin', 'xie', 'xin', 'xinghan', 'xinli', 'xintao', 'xisi', 'xu', 'xuchen', 'yan', 'yang', 'yangyang', 'yao', 'yixuan', 'yu', 'yuanyi', 'yudong', 'yun', 'yunding', 'yuning', 'yupeng', 'yuren', 'zexiang', 'zhang', 'zhao', 'zhen', 'zheng', \"zheng'ao\", 'zhengyu', 'zhou', 'zihao', 'zou'], 'co': ['acosta', 'agron', 'aguilar', 'aguirre', 'albornoz', 'alegria', 'alvarado', 'alvarez', 'alzate', 'andrade', 'angel', 'angulo', 'aponza', 'arango', 'arboleda', 'arevalo', 'arias', 'arizala', 'artunduaga', 'asprilla', 'atuesta', 'azcarate', 'bacca', 'balanta', 'banguero', 'barbosa', 'barreiro', 'barrera', 'barreto', 'barrios', 'bedoya', 'benedetti', 'bernardo', 'berrio', 'bertel', 'blanco', 'bocanegra', 'borja', 'borre', 'borrero', 'bravo', 'brochero', 'bueno', 'cabal', 'cabezas', 'caicedo', 'caldera', 'camacho', 'camargo', 'cambindo', 'campaz', 'campuzano', 'candelo', 'cano', 'cantillo', 'carbonero', 'cardona', 'carrascal', 'carreazo', 'carvajal', 'cassierra', 'castaneda', 'castano', 'castilla', 'castillo', 'castrillon', 'castro', 'catano', 'ceballos', 'cetre', 'chara', 'chaux', 'chaverra', 'colorado', 'cordoba', 'correa', 'cortabarria', 'cortes', 'cuadrado', 'cucho', 'cuellar', 'cuero', 'cuesta', 'cuperman', 'dajome', 'davila', 'denis', 'deossa', 'diaz', 'ditta', 'duarte', 'duque', 'duran', 'enamorado', 'escalante', 'escobar', 'esparragoza', 'espitia', 'estupinan', 'fabra', 'falcao', 'fernandez', 'figueroa', 'florez', 'fory', 'franco', 'fuentes', 'garces', 'garcia', 'giraldo', 'gomez', 'gonzalez', 'guerra', 'guerrero', 'guzman', 'haydar', 'hernandez', 'herrera', 'hinestroza', 'hinojosa', 'huertas', 'hurtado', 'ibarbo', 'james', 'jordan', 'juergen', 'largacha', 'lerma', 'llinas', 'lloreda', 'loaiza', 'londono', 'lopez', 'lucumi', 'machado', 'mahecha', 'manotas', 'mantilla', 'manyoma', 'marquinez', 'martinez', 'marulanda', 'medina', 'mejia', 'melendez', 'mena', 'mendoza', 'mera', 'merino', 'mesa', 'meza', 'mier', 'millan', 'mina', 'miranda', 'mojica', 'monsalve', 'montano', 'montero', 'morelos', 'moreno', 'mosquera', 'muniz', 'munoz', 'muriel', 'murillo', 'navarro', 'nieto', 'novoa', 'obrian', 'ocampo', 'ordonez', 'orejuela', 'ortega', 'ortiz', 'osorio', 'ospina', 'otalvaro', 'otero', 'pacheco', 'palacio', 'palacios', 'patino', 'payares', 'paz', 'pedrozo', 'pena', 'penaloza', 'peralta', 'perea', 'pereira', 'perez', 'perlaza', 'plata', 'polanco', 'portilla', 'preciado', 'puerta', 'quinones', 'quinonez', 'quintero', 'ramirez', 'ramos', 'reina', 'renteria', 'restrepo', 'reyes', 'riascos', 'ricardo', 'ricaurte', 'rios', 'rivas', 'rivera', 'roa', 'robles', 'rodallega', 'rodriguez', 'rojas', 'romero', 'rosales', 'rosero', 'rovira', 'ruiz', 'saiz', 'salazar', 'sanchez', 'sarmiento', 'scarpeta', 'segura', 'serna', 'sierra', 'silva', 'sinisterra', 'solis', 'soto', 'suarez', 'tanton', 'teran', 'tesillo', 'torijano', 'torralvo', 'torres', 'tovar', 'trujillo', 'uribe', 'valencia', 'valle', 'valoyes', 'vanegas', 'vargas', 'vasquez', 'vega', 'velasco', 'velasquez', 'velez', 'vera', 'vergara', 'viafara', 'victoria', 'villarreal', 'villero', 'viveros', 'zapata', 'zuleta', 'zuluaga', 'zuniga'], 'cr': ['aguilar', 'aleman', 'alvarado', 'alvarez', 'araya', 'arboine', 'azofeifa', 'barahona', 'barrantes', 'bennette', 'blanco', 'bolanos', 'borges', 'bran', 'brenes', 'brown', 'cabezas', 'calvo', 'campbell', 'campos', 'canales', 'cascante', 'chacon', 'chamorro', 'cruz', 'diaz', 'faerron', 'forbes', 'fuller', 'galo', 'gamboa', 'gomez', 'gonzalez', 'guzman', 'hadden', 'hernandez', 'hidalgo', 'johnson', 'juarez', 'lassiter', 'lawrence', 'leal', 'lezcano', 'lopez', 'loria', 'madrigal', 'madriz', 'martinez', 'matarrita', 'mitchell', 'mora', 'moreira', 'moya', 'murillo', 'myrie', 'navarro', 'navas', 'orias', 'oviedo', 'putten', 'quiros', 'rodriguez', 'rojas', 'ruiz', 'salas', 'salazar', 'segura', 'sequeira', 'sinclair', 'suarez', 'taylor', 'tejeda', 'torres', 'ugalde', 'valverde', 'vargas', 'vega', 'velasquez', 'venegas', 'villalobos', 'vivi', 'waston', 'wilson', 'zamora', 'zuniga'], 'cu': ['chang', 'hernandez', 'joel', 'paradela'], 'cv': ['andrade', 'arcanjo', 'bebe', 'cabral', 'correia', 'costa', 'duarte', 'duk', 'fernandes', 'garcia', 'graca', 'jojo', 'lenini', 'lopes', 'mendes', 'moreira', 'paulo', 'pereira', 'semedo', 'suker', 'tavares', 'varela'], 'cw': ['bacuna', 'held', 'lachman', 'room', 'rosario', 'sambo', 'severina'], 'cy': ['adoni', 'andreou', 'antoniou', 'artymatas', 'charalambous', 'charalampous', 'christodoulou', 'chrysostomou', 'correa', 'correia', 'demetriou', 'efrem', 'foti', 'ioannou', 'kakoullis', 'karamanolis', 'kastanos', 'kelepeshi', 'keravnos', 'kittos', 'konstantinou', 'kousoulos', 'kyriakou', 'laifis', 'loizou', 'malekkidis', 'mamas', 'markou', 'martis', 'michail', 'naoum', 'ozler', 'panagiotou', 'panayiotou', 'panteli', 'papastylianou', 'paroutis', 'paschali', 'pishias', 'pittas', 'polykarpou', 'pontikou', 'psaltis', 'roberge', 'satsias', 'savva', 'sofokleous', 'soteriou', 'spoljaric', 'toumpas', 'tzionis', 'tzouliou', 'vrontis', 'wheeler'], 'cz': ['backovsky', 'baier', 'barak', 'bednar', 'benes', 'boril', 'brabec', 'breite', 'bucha', 'cerny', 'cerv', 'chalus', 'chory', 'chytil', 'coufal', 'cvancara', 'darida', 'doudera', 'elbel', 'fortelny', 'frydek', 'fukala', 'gabriel', 'hadas', 'hasalik', 'havel', 'hejda', 'hladky', 'hlozek', 'holes', 'hornicek', 'horsky', 'hranac', 'hudak', 'jankto', 'jaros', 'jedlicka', 'jemelka', 'julis', 'jurasek', 'jurecka', 'kaderabek', 'kalas', 'kaloc', 'kalvach', 'karabec', 'kliment', 'kolar', 'kop', 'kopic', 'koubek', 'kovar', 'kral', 'kramar', 'krejci', 'kristal', 'krmencik', 'kubr', 'kuchta', 'kvet', 'langer', 'lecjaks', 'lehoczki', 'lingr', 'macej', 'mandous', 'mares', 'masopust', 'mateju', 'matys', 'medenica', 'medvedev', 'mejdr', 'mikula', 'mikulenka', 'nalezinek', 'navratil', 'novak', 'paluska', 'panak', 'pavelka', 'pavlenka', 'pech', 'pekhart', 'penner', 'pesek', 'petrasek', 'plechaty', 'pokorny', 'pospisil', 'prebsl', 'preisler', 'provod', 'rabusic', 'reznik', 'rynes', 'sadilek', 'samek', 'schick', 'sevcik', 'sevinsky', 'sip', 'sirotnik', 'slama', 'soucek', 'spacil', 'stanek', 'stoppen', 'sulc', 'sykora', 'tecl', 'tetour', 'tredl', 'trefil', 'urica', 'valenta', 'vecerka', 'visinsky', 'vitik', 'vlcek', 'vodhanel', 'vorel', 'vrastil', 'vydra', 'wiesner', 'zamburek', 'zeleny', 'zifcak', 'zima', 'zmrhal', 'zmrzly', 'zorvan'], 'de': ['ache', 'adeyemi', 'agu', 'ahlers', 'alidou', 'amiri', 'amoako', 'andrich', 'ansah', 'anton', 'appelkamp', 'arnold', 'arrey-mbi', 'arslan', 'aseko', 'asllani', 'atubolu', 'aydin', 'ba', 'bachmann', 'bader', 'bakatukanda', 'baku', 'bamba', 'bangerter', 'bangsow', 'basenach', 'batz', 'bauer', 'baum', 'baumann', 'baumgartl', 'baur', 'becker', 'behrens', 'beier', 'beifus', 'belkahia', 'bell', 'bella-kotchap', 'benda', 'benedetto', 'berger', 'berisha', 'beyer', 'biada', 'biankadi', 'bilbija', 'bird', 'bischof', 'bisseck', 'bittencourt', 'blank', 'blaswich', 'boateng', 'boeder', 'borkowski', 'bormuth', 'borner', 'boukhalfa', 'bozdogan', 'brackelmann', 'brandt', 'braun', 'bredlow', 'breithaupt', 'breuer', 'breunig', 'broll', 'broschinski', 'brosinski', 'brown', 'brunker', 'brunner', 'brunst', 'bulter', 'bunk', 'bunning', 'burchert', 'burkardt', 'burnic', 'caliskan', 'can', 'castelle', 'castrop', 'chabot', 'christiansen', 'collins', 'conte', 'conteh', 'copado', 'costa', 'cueto', 'curda', 'czichos', 'daferner', 'dahmen', 'dajaku', 'dal', 'damar', 'dardai', 'daschner', 'david', 'deger', 'dehm', 'demirbay', 'demme', 'dettling', 'diehl', 'dietz', 'donkor', 'donner', 'dorsch', 'downs', 'dressel', 'drewes', 'drexler', 'drljaca', 'ducksch', 'duda', 'dudu', 'dudziak', 'duman', 'ebnoutalib', 'eckert', 'eggestein', 'egloff', 'ehlers', 'eisele', 'engelhardt', 'ennali', 'ens', 'ernst', 'esser', 'ezeh', 'ezekwem', 'fahrmann', 'finkgrafe', 'fischer', 'flick', 'flotho', 'forster', 'framberger', 'franke', 'frey', 'friedrich', 'fruchtl', 'fuhrich', 'fullkrug', 'funger', 'gaus', 'gechter', 'geiger', 'geis', 'gerhardt', 'gersbeck', 'gindorf', 'ginter', 'glatzel', 'gnabry', 'gohlke', 'goller', 'gondorf', 'goretzka', 'gorka', 'gosens', 'gotze', 'grafe', 'grahl', 'greilinger', 'griesbeck', 'grimaldi', 'gross', 'grosser', 'gruda', 'gulde', 'guler', 'gundogan', 'gunter', 'gunther', 'gurleyen', 'guttau', 'haberer', 'hack', 'hagemoser', 'halstenberg', 'handwerker', 'hansen', 'hanslik', 'hartel', 'hauptmann', 'hausmann', 'havertz', 'heeger', 'heintz', 'heise', 'heister', 'henke', 'henrichs', 'herbers', 'hercher', 'herold', 'herrmann', 'heuer', 'heyer', 'hiller', 'himmelmann', 'hoffmann', 'hoffmeier', 'hofler', 'hofmann', 'hoftmann', 'holer', 'holland', 'hollerbach', 'horn', 'hornschuh', 'hubers', 'hubner', 'hulsmann', 'hummels', 'husing', 'huth', 'ibrahimovic', 'ihorst', 'isik', 'iyoha', 'izekor', 'jacob', 'jaeckel', 'janelt', 'jantschke', 'jastrzembski', 'jatta', 'jeltsch', 'jensen', 'jenz', 'jindaoui', 'jung', 'justvan', 'kabadayi', 'kade', 'kalem', 'kania', 'karazor', 'karius', 'kastenmeier', 'katterbach', 'kaufmann', 'kaygin', 'kehrer', 'keitel', 'kemlein', 'kempe', 'kempf', 'kerber', 'kersken', 'kesik', 'khadra', 'khedira', 'kiewitt', 'kijewski', 'kilian', 'kimmich', 'kinsombi', 'kischka', 'kittel', 'klaas', 'klaus', 'klefisch', 'klemens', 'klement', 'klimowicz', 'klinger', 'klos', 'kloss', 'klostermann', 'knauff', 'knoche', 'kobbing', 'koch', 'kohler', 'kohlert', 'kohn', 'kohr', 'kojic', 'kolke', 'komur', 'kopplin', 'kotyrba', 'krahl', 'krahn', 'kramer', 'kratzig', 'kraulich', 'kraus', 'krauss', 'krausse', 'kritzer', 'kroos', 'kruger', 'krumrey', 'kubler', 'kuhn', 'kunze', 'kurt', 'kutschke', 'kwadwo', 'kwarteng', 'kwasigroch', 'lakenmacher', 'lang', 'lannert', 'latza', 'leibold', 'leipertz', 'leistner', 'leitsch', 'lemmer', 'leno', 'lenz', 'leopold', 'lewald', 'leweling', 'limaj', 'lippert', 'loffelsend', 'lohkemper', 'lomb', 'lotka', 'ludewig', 'luhrs', 'lukas', 'luthe', 'mack', 'maier', 'maina', 'malone', 'mamba', 'mamutovic', 'manu', 'martel', 'marx', 'massimo', 'mathenia', 'matriciani', 'max', 'maza', 'meffert', 'mehlem', 'meier', 'meissner', 'menzel', 'mesenholer', 'messeguem', 'meyer', 'michel', 'michele', 'mickel', 'mittelstadt', 'moerstedt', 'mohr', 'momuluh', 'morgalla', 'moukoko', 'muhl', 'mukhtar', 'muller', 'multhaup', 'munz', 'musiala', 'muteba', 'nankishi', 'ndikom', 'nebel', 'neidhart', 'netz', 'neudecker', 'neuer', 'neuhaus', 'neumann', 'ngankam', 'nicolas', 'niederlechner', 'niehues', 'niemiec', 'nikolaou', 'njinmah', 'nmecha', 'noll', 'nubel', 'nurnberger', 'oberdorf', 'oehmichen', 'oermann', 'ogbemudia', 'oliveira', 'olschowsky', 'onyegbule', 'onyeka', 'opitz', 'opoku', 'oppermann', 'oppie', 'ortega', 'ortegel', 'osterhage', 'ouedraogo', 'owusu', 'ozkan', 'oztunali', 'papadopoulos', 'papela', 'passlack', 'paterok', 'paula', 'pavlovic', 'pedrosa', 'pejcinovic', 'pentke', 'pfeiffer', 'philipp', 'pieper', 'platte', 'pledl', 'podolski', 'pohlmann', 'pohls', 'polter', 'proger', 'promel', 'pruhs', 'putaro', 'quarshie', 'raab', 'rabihic', 'raimund', 'ramaj', 'rapp', 'raschl', 'raum', 'recktenwald', 'redondo', 'reese', 'reich', 'reichert', 'reitmaier', 'reitz', 'rente', 'reus', 'rexhbecaj', 'rhein', 'richter', 'riedel', 'rieder', 'riemann', 'riess', 'ritter', 'rittmuller', 'ritzka', 'rizzuto', 'rocker', 'rode', 'rohl', 'rohr', 'rolke', 'rolleke', 'romling', 'ronstadt', 'rosenfelder', 'rossbach', 'rossipal', 'rossmann', 'rudiger', 'rudlin', 'rupp', 'ruschke', 'sane', 'sanne', 'sarenren', 'schade', 'schaffler', 'schallenberg', 'scheller', 'scherff', 'scherhant', 'schindler', 'schleimer', 'schleinitz', 'schleusener', 'schlotterbeck', 'schmidt', 'schmitz', 'schneider', 'schnellhardt', 'schock', 'schonlau', 'schreck', 'schreiber', 'schroter', 'schubert', 'schuhen', 'schulz', 'schumacher', 'schuster', 'schwabe', 'schwolow', 'scott', 'seguin', 'seifert', 'seimen', 'selke', 'semmle', 'serdar', 'seydel', 'shabani', 'shipnoski', 'shuranov', 'siebert', 'silva', 'simakala', 'sippel', 'skarke', 'sobottka', 'sontheimer', 'stach', 'stahl', 'stange', 'stark', 'stegen', 'stehle', 'steinhart', 'stenzel', 'stiller', 'stindl', 'strasner', 'sule', 'suso', 'tachie', 'tah', 'tarnat', 'tauer', 'teklab', 'telalovic', 'tempelmann', 'terodde', 'teuchert', 'thiaw', 'thiede', 'thielmann', 'thoelke', 'thommy', 'tietz', 'tigges', 'tohumcu', 'toljan', 'tomiak', 'topp', 'torsiello', 'toure', 'trapp', 'tresoldi', 'treu', 'trybull', 'tugbenyo', 'uaferro', 'uduokhai', 'ullrich', 'ulreich', 'undav', 'unnerstall', 'uphoff', 'uth', 'vagnoman', 'valentini', 'voglsammer', 'vogt', 'volland', 'voloder', 'wagner', 'wahl', 'walde', 'waldschmidt', 'wanitzek', 'watjen', 'wechsel', 'weigl', 'weinkauf', 'weiper', 'weiser', 'weiss', 'weisshaupt', 'wekesser', 'wellenreuther', 'wenig', 'werner', 'wiebe', 'wilhelm', 'will', 'winkler', 'wintzheimer', 'wirtz', 'wittek', 'wolf', 'woltemade', 'worl', 'yalcinkaya', 'yildirim', 'zehnter', 'zeil', 'zeitz', 'zentner', 'zetterer', 'zieler', 'ziereis', 'zimmer', 'zimmermann', 'zimmerschied', 'zingerle', 'zolinski', 'zoller', 'zuck'], 'dk': ['adelgaard', 'aegidius', 'ahlmann', 'albaek', 'albers', 'alves', 'amundsen', 'andersen', 'ankersen', 'baggesen', 'bah', 'bak', 'bany', 'bech', 'beetson', 'bernat', 'bidstrup', 'biereth', 'billing', 'bischoff', 'boilesen', 'bomholt', 'boving', 'braithwaite', 'brajanac', 'bundgaard', 'busk', 'byskov', 'carstensen', 'christensen', 'christiansen', 'clem', 'corfitzen', 'cornelius', 'crone', 'dalsgaard', 'damgaard', 'damsgaard', 'daramy', 'delaney', 'desler', 'diagne', 'dithmer', 'dolberg', 'dorgu', 'dreyer', 'ejdum', 'elkaer', 'engel', 'enggard', 'eriksen', 'falk', 'fenger', 'fraulo', 'frendrup', 'frese', 'froholdt', 'frokjaer-jensen', 'gaaei', 'gartenmann', 'gogorza', 'graves', 'greve', 'gronbaek', 'grubbe', 'gulstorff', 'gytkjaer', 'hagelskjaer', 'hammershoj-mistrati', 'hansen', 'harder', 'hausner', 'hedvall', 'helenius', 'hermansen', 'hey', 'hjulmand', 'hjulsager', 'hoegh', 'hogh', 'hogsberg', 'hojbjerg', 'hojbjerre-thomsen', 'hojholt', 'hojlund', 'ingvartsen', 'isaksen', 'iversen', 'jelert', 'jensen', 'jonsson', 'jorgensen', 'jungdal', 'junker', 'kadrii', 'kallesoe', 'kaufmann', 'kikkenborg', 'kjaer', 'kjaergaard', 'kjelder', 'kjerrumgaard', 'kornvig', 'kristensen', 'kristiansen', 'kudsk', 'kvist', 'kvistgaarden', 'larsen', 'lauenborg', 'lauritsen', 'lerager', 'lindekilde', 'lindstrom', 'lossl', 'lund', 'madsen', 'maehle', 'marcondes', 'marxen', 'mattsson', 'maxso', 'mensah', 'mikkelsen', 'mouritsen', 'munck', 'nartey', 'nelsson', 'ngabo', 'nicolaisen', 'nielsen', 'norgaard', 'noshe', 'nouck', \"o'riley\", 'odgaard', 'okkels', 'olsen', 'osula', 'otoa', 'paulsen', 'pedersen', 'poulsen', 'pyndt', 'rajovic', 'rasmussen', 'rieks', 'riis', 'roerslev', 'romer', 'ronnow', 'ross', 'rust', 'salquist', 'sander', 'santos', 'schmeichel', 'scholz', 'schwartau', 'sertdemir', 'skov', 'slotsager', 'snorre', 'sorensen', 'stage', 'stryger', 'sviatchenko', 'tengstedt', 'thelander', 'themsen', 'therkildsen', 'thomasen', 'thychosen', 'tiedemann', 'tshiembe', 'tverskov', 'uhre', 'vallys', 'vestergaard', 'vesterlund', 'villadsen', 'vindahl', 'warming', 'wass', 'wind', 'zanka', 'zinckernagel'], 'do': ['boatwright', 'brian', 'firpo', 'flores', 'garcia', 'japa', 'jaquez', 'lopez', 'mariano', 'morales', 'morschel', 'nunez', 'parra', 'peter', 'pujol', 'sandy', 'valdez', 'vasquez', 'ventura'], 'dz': ['abdellaoui', 'abdelli', 'abeid', 'ait-atmane', 'ait-nouri', 'alilet', 'amar', 'amoura', 'aouar', 'babai', 'bakhouche', 'bakir', 'bakrar', 'belaid', 'belaili', 'belkhir', 'belkhiter', 'bellache', 'benayad', 'benayada', 'benbot', 'benkhemassa', 'benlamri', 'bennacer', 'benrahma', 'bensebaini', 'bentaleb', 'benzaid', 'benzia', 'berkani', 'bouanani', 'bouchar', 'boudaoui', 'boudrama', 'bouhakak', 'boukhenchouche', 'boulaya', 'boulhendi', 'bounedjah', 'boussouar', 'boussouf', 'bouzok', 'brahimi', 'chaibi', 'chetti', 'chita', 'dadi', 'dahmani', 'darfalou', 'dehiri', 'djahnit', 'dorval', 'draoui', 'fares', 'ferdjioui', 'ferhat', 'ghezzal', 'gouiri', 'guediri', 'guitane', 'hadded', 'hadid', 'hadj', 'hadjam', 'halaimia', 'hamache', 'hamidi', 'hamroun', 'kebbal', 'kerkhof', 'laitem', 'laouafi', 'larouci', 'leris', 'lopez', \"m'bolhi\", 'maachou', 'mahrez', 'mandi', 'mandrea', 'melali', 'merzougui', 'messali', 'mouali', 'moussa', 'mrezigue', 'naidji', 'neghli', 'omrani', 'oukidja', 'ounas', 'puch-herrantz', 'radouani', 'rahmani', 'rebbach', 'selmi', 'silmi', 'soudani', 'soufi', 'tabti', 'tahar', 'touba', 'zedadka', 'zeffane', 'zerkane', 'zerrouki', 'zuliani'], 'ec': ['aimar', 'alcivar', 'aleman', 'alvarado', 'alvaro', 'anangono', 'angulo', 'arboleda', 'arce', 'arcos', 'arreaga', 'arroyo', 'asprilla', 'avila', 'ayovi', 'balda', 'bedoya', 'bermudez', 'biojo', 'bolanos', 'borja', 'branda', 'burbano', 'burrai', 'cabezas', 'caicedo', 'campana', 'campos', 'carabali', 'carrillo', 'castillo', 'cazares', 'cela', 'chacon', 'chala', 'chamba', 'charcopa', 'chavez', 'chere', 'cifuente', 'cifuentes', 'clavijo', 'corozo', 'cortez', 'cruz', 'davila', 'delgado', 'diaz', 'dominguez', 'espinoza', 'estrada', 'estupinan', 'ferigra', 'francis', 'franco', 'gaibor', 'galindez', 'ganchozo', 'garces', 'garcia', 'gomez', 'gonzalez', 'gracia', 'gruezo', 'guerra', 'guerron', 'guevara', 'herrera', 'hincapie', 'hurtado', 'ibarra', 'intriago', 'iza', 'julio', 'justicia', 'klinger', 'landazuri', 'lara', 'lastre', 'leon', 'lerma', 'linthon', 'loor', 'lopez', 'luna', 'macias', 'maya', 'medina', 'mejia', 'mena', 'mendez', 'mendoza', 'mera', 'mercado', 'mina', 'minda', 'morales', 'morante', 'morocho', 'munoz', 'napa', 'noboa', 'obando', 'ochoa', 'ona', 'ordonez', 'ortiz', 'pacho', 'paez', 'palacios', 'parrales', 'patino', 'pazmino', 'peralta', 'perlaza', 'piedra', 'pierre', 'pineida', 'plata', 'plaza', 'portocarrero', 'preciado', 'quinonez', 'quintero', 'ramirez', 'rangel', 'realpe', 'reasco', 'renteria', 'rodriguez', 'rojas', 'romero', 'ruano', 'ruiz', 'sabando', 'sanchez', 'sarmiento', 'saverio', 'sierra', 'solano', 'solis', 'sornoza', 'tana', 'torres', 'troya', 'valarezo', 'valencia', 'valle', 'vallecilla', 'valverde', 'vargas', 'velez', 'vera', 'vite', 'vivar', 'yepez', 'zambrano', 'zamora', 'zumba'], 'ee': ['alliku', 'eenmaa', 'grunvald', 'hein', 'kait', 'kalimullin', 'kerge', 'kolobov', 'kreida', 'kuraksin', 'lapa', 'lepik', 'lipp', 'lukas', 'lukka', 'mets', 'mihhailov', 'pajo', 'paskotsi', 'pihela', 'poom', 'prunn', 'purg', 'rebane', 'roivassepp', 'seppik', 'soomets', 'tougjas', 'tovstik', 'vaher', 'veering'], 'eg': ['abdalah', 'abdelghani', 'abdelkader', 'abdelmaguid', 'abdelmonem', 'afsha', 'alaa', 'ashour', 'askalany', 'atef', 'attia', 'awwad', 'bisoo', 'debes', 'deen', 'dunga', 'elneny', 'esho', 'fattah', 'fotouh', 'fouad', 'gaafar', 'gabaski', 'gaber', 'hamdi', 'hany', 'hegazy', 'houssam', 'ibrahim', 'kahraba', 'kamal', 'kouka', 'maher', 'makhlouf', 'mansy', 'marmoush', 'megeed', 'metwally', 'mohamed', 'morsy', 'nader', 'nedved', 'obama', 'rabia', 'rahman', 'refai', 'roaa', 'said', 'salah', 'shafy', 'shahat', 'shalaby', 'shehata', 'shenawy', 'shikabala', 'shobeir', 'sobhi', 'solia', 'tawfik', 'trezeguet', 'yaisien', 'yasser', 'zaalouk', 'zenary', 'zizo', 'zonfoly'], 'en': ['jr', 'love', 'massiah-edwards', 'meghoma', 'osong', 'trippier', 'tyjon', 'whitwell'], 'es': ['abraham', 'acerete', 'acin', 'adan', 'adot', 'adrian', 'agirrezabala', 'aguado', 'aguirregabiria', 'akieme', 'alba', 'alberto', 'albiol', 'alcaina', 'alcaniz', 'alcaraz', 'aldasoro', 'alejo', 'alena', 'alfaro', 'algobia', 'alkain', 'almena', 'alonso', 'altimira', 'alvarez', 'alves', 'amo', 'andres', 'angel', 'angelino', 'antoniu', 'aparicio', 'aragoneses', 'arana', 'aranda', 'arbol', 'ares', 'areso', 'arguibide', 'aridane', 'arnaiz', 'arnau', 'arnu', 'arriaza', 'arribas', 'artero', 'asencio', 'asensio', 'aspas', 'astralaga', 'aviles', 'ayesa', 'ayoze', 'azon', 'azpilicueta', 'bacharach', 'badia', 'baena', 'bajcetic', 'balde', 'balenziaga', 'barba', 'barbera', 'barbero', 'barcia', 'barja', 'barrachina', 'barrenetxea', 'barrios', 'bartra', 'bauza', 'belaid', 'bellerin', 'beltran', 'belza', 'benavides', 'benito', 'berenguer', 'bermejo', 'bernabe', 'bernat', 'berry', 'biel', 'bigas', 'bilbao', 'blanco', 'blesa', 'boayar', 'borge', 'bosch', 'brandon', 'bravo', 'brugue', 'budesca', 'bueno', 'bunuel', 'busquets', 'bustillo', 'busto', 'butzke', 'caballo', 'cabello', 'cadete', 'calavia', 'calero', 'callejon', 'camello', 'campana', 'campo', 'campos', 'campuzano', 'camus', 'canales', 'canizares', 'canos', 'cantalapiedra', 'cantero', 'capa', 'capi', 'carbo', 'cardenas', 'cardona', 'carlitos', 'carlos', 'carmona', 'carreira', 'carreras', 'carrillo', 'carvajal', 'casado', 'casas', 'cascajo', 'castel', 'castillejo', 'castillo', 'castro', 'catala', 'catena', 'cayarga', 'ceballos', 'celorio', 'centelles', 'chavarria', 'chetauya', 'chirivella', 'chuki', 'chumi', 'chust', 'clemente', 'clerc', 'clua', 'coello', 'comas', 'comesana', 'copete', 'cordero', 'corral', 'corredera', 'cortes', 'cortina', 'costa', 'cote', 'crespo', 'cruz', 'cubarsi', 'cucurella', 'cuellar', 'cuenca', 'cuesta', 'curbelo', 'dabo', 'dacosta', 'dadie', 'dambelleh', 'damian', 'darder', 'dasilva', 'david', 'davo', 'dela', 'delgado', 'deulofeu', 'diallo', 'diao', 'diaz', 'dioni', 'djalo', 'domenech', 'dominguez', 'dotor', 'duarte', 'duro', 'edgar', 'eguiluz', 'ekain', 'elady', 'elustondo', 'embarba', 'emeterio', 'enrich', 'escandell', 'escudero', 'esnaider', 'espi', 'estanis', 'ethyan', 'exposito', 'ezkieta', 'fabian', 'fali', 'fati', 'fattore', 'febas', 'femenia', 'femenias', 'fernandes', 'fernandez', 'fernando', 'ferreiro', 'ferrer', 'ferri', 'fidalgo', 'flores', 'fofana', 'fontas', 'fornals', 'forns', 'fort', 'fortuno', 'fraga', 'frances', 'fresneda', 'frutos', 'fuidias', 'gabilondo', 'galan', 'galarreta', 'galilea', 'gallego', 'gamez', 'garces', 'garcia', 'garrido', 'garriel', 'garriga', 'gaspar', 'gavi', 'gaya', 'gelabert', 'genaro', 'german', 'gil', 'gila', 'gimeno', 'gismera', 'goku', 'gomez', 'gomis', 'gonzalez', 'gorka', 'gorosabel', 'gorrin', 'gozalbez', 'gragera', 'grande', 'grau', 'grimaldo', 'guaita', 'gual', 'guardiola', 'guerra', 'guerrero', 'guevara', 'guilabert', 'guillamon', 'guiu', 'gumbau', 'guridi', 'guruzeta', 'guti', 'gutierrez', 'guzman', 'hermoso', 'hernandez', 'hernando', 'herrando', 'herranz', 'herrera', 'herrerin', 'herrero', 'herzog', 'hormigo', 'hoz', 'huarte', 'huijsen', 'ibanez', 'iborra', 'iglesias', 'ilie', 'illarramendi', 'insua', 'iranzo', 'iribarne', 'isaac', 'isco', 'ivan', 'iza', 'jaime', 'jason', 'jauregizar', 'jawad', 'jeremy', 'jimenez', 'jofre', 'jonny', 'jordan', 'jorrin', 'josan', 'jose', 'joselito', 'joselu', 'joseph', 'juampe', 'juande', 'juankar', 'juanmi', 'juanpe', 'junca', 'jurado', 'jutgla', 'kenneth', 'kepa', 'kirian', 'koke', 'kortajarena', 'lache', 'lal', 'laporte', 'larios', 'larrubia', 'latasa', 'lato', 'lazo', 'lekue', 'lemos', 'leon', 'ley', 'lirola', 'liso', 'llabres', 'llorente', 'lopez', 'lorenzo', 'loureiro', 'lozano', 'luis', 'magunazelaia', 'mahugo', 'mallo', 'manas', 'manquillo', 'manrique', 'mantilla', 'marcano', 'marcos', 'mari', 'marin', 'marino', 'marmol', 'marotias', 'marquez', 'marrero', 'marti', 'martin', 'martinez', 'martos', 'marvel', 'mascarell', 'mascaro', 'masip', 'mata', 'mayenda', 'mayoral', 'mboula', 'medina', 'medran', 'medrano', 'melamed', 'melendo', 'melero', 'mella', 'mendes', 'mendez', 'mendoza', 'mere', 'merino', 'merquelanz', 'mesa', 'meseguer', 'mestre', 'mier', 'miguelito', 'milla', 'mingueza', 'miquel', 'mir', 'miranda', 'moleiro', 'molina', 'mollejo', 'moncayola', 'monchu', 'montero', 'montes', 'montoya', 'morales', 'morante', 'morata', 'moreno', 'morente', 'morey', 'morlanes', 'moro', 'moron', 'moros', 'mosquera', 'moya', 'mujica', 'munera', 'muniain', 'muniz', 'munoz', 'murillo', 'nacho', 'nadal', 'nano', 'nauzet', 'navarro', 'navas', 'negredo', 'neva', 'nieto', 'nino', 'noguera', 'noriega', 'normand', 'nunez', 'obrador', 'ochoa', 'odriozola', 'olabarrieta', 'olasagasti', 'olivan', 'oliveras', 'olmo', 'omorodion', 'onaindia', 'opere', 'oroz', 'ortiz', 'osambela', 'otero', 'otorbi', 'oyarzabal', 'oyon', 'pacheco', 'padilla', 'palacios', 'palazon', 'palencia', 'pamies', 'parada', 'pardo', 'paredes', 'parejo', 'parera', 'park', 'parra', 'parreno', 'pascual', 'pastor', 'patric', 'pedraza', 'pedri', 'pedro', 'pedrosa', 'pejino', 'pena', 'pepelu', 'peque', 'perea', 'perez', 'pier', 'pineiro', 'pino', 'pipa', 'plano', 'pleguezuelo', 'pola', 'pons', 'porro', 'portu', 'postigo', 'pozo', 'pozuelo', 'prados', 'prats', 'prim', 'primo', 'puado', 'pubill', 'puche', 'puertas', 'puerto', 'puga', 'puig', 'puigmal', 'pulido', 'queipo', 'quevedo', 'quini', 'quintana', 'quintanilla', 'rafus', 'raillo', 'rama', 'ramirez', 'ramon', 'ramos', 'raton', 'raya', 'rebollo', 'recio', 'redon', 'reguilon', 'reina', 'remiro', 'rey', 'ribes', 'rico', 'rincon', 'rioja', 'riquelme', 'risco', 'rivera', 'rivero', 'roberto', 'roca', 'rodado', 'rodri', 'rodriguez', 'roger', 'roman', 'romero', 'romeu', 'ropero', 'rosa', 'rosanas', 'rosas', 'rubio', 'ruibal', 'ruiz', 'ruly', 'ruperez', 'saborit', 'sadick', 'saenz', 'sainz', 'sainz-maza', 'sala', 'salas', 'salinas', 'salvador', 'sancet', 'sanchez', 'sandro', 'sangalli', 'sangare', 'sans', 'santaella', 'santamaria', 'santiago', 'sanz', 'sarabia', 'sastre', 'satrustegui', 'saul', 'sebastian', 'seck', 'selles', 'serrano', 'serred', 'sevilla', 'sielva', 'simo', 'simon', 'sintes', 'sivera', 'sobrino', 'sol', 'sola', 'soler', 'son', 'soria', 'soriano', 'sotelo', 'suarez', 'suso', 'susoho', 'svensson', 'tarrega', 'tejera', 'tejon', 'tenas', 'terrats', 'terrer', 'thiago', 'tiri', 'tomas', 'torre', 'torrente', 'torres', 'torro', 'toscano', 'traore', 'tresaco', 'trigueros', 'tristan', 'turrientes', 'valcarce', 'valencia', 'valentin', 'valera', 'valery', 'valle', 'vallejo', 'valles', 'vaquero', 'vazquez', 'veiga', 'velez', 'venteo', 'vesga', 'vicente', 'victor', 'vidal', 'vieites', 'viera', 'vilarrasa', 'villa', 'villacanas', 'villalba', 'villalibre', 'villar', 'villares', 'visus', 'vitolo', 'vivian', 'waldo', 'whalley', 'williams', 'yamal', 'yanez', 'yarek', 'yepes', 'yeray', 'yeremay', 'yuri', 'zaldua', 'zaragoza', 'zarraga', 'zubeldia', 'zubimendi'], 'et': ['eyasu', 'nassir'], 'fi': ['anini', 'antman', 'benissan', 'boamah', 'eriksson', 'ezeh', 'forss', 'hakala', 'halme', 'hamalainen', 'heinonen', 'henriksson', 'hostikka', 'hradecky', 'ivanov', 'jensen', 'joronen', 'kairinen', 'kamara', 'keskinen', 'kujasalo', 'lampinen', 'lappalainen', 'liimatta', 'lod', 'lotjonen', 'marhiev', 'miettinen', 'moisander', 'moller', \"o'shaughnessy\", 'oksanen', 'ollila', 'olusanya', 'ost', 'pallas', 'peltola', 'pennanen', 'pettersson', 'pitkanen', 'pohjanpalo', 'pukki', 'ring', 'ruoppi', 'saarinen', 'sadiku', 'samooja', 'savolainen', 'schmid', 'schuller', 'siltanen', 'skytta', 'suhonen', 'tauriainen', 'taylor', 'tenho', 'terho', 'toivio', 'toivonen', 'tomas', 'uronen', 'vaananen', 'vaisanen', 'vayrynen', 'vidjeskog', 'voutilainen', 'yli-kokko', 'ylitolva'], 'fj': ['krishna', 'prasad'], 'fr': ['aaneba', 'abdallah', 'abeddou', 'aberdin', 'abergel', 'abline', 'achi', 'ackra', 'adiceam', 'adli', 'adopo', 'affamah', 'agoume', 'aguilar', 'ahamada', 'ajorque', 'akliouche', 'akpa', 'alfarela', 'ali', 'allix', 'alvero', 'amadou', 'amavi', 'amian', 'amougou', 'andre', 'angely', 'aouchiche', 'appiah', 'appuah', 'aradj', 'areola', 'argney', 'ariss', 'armougom', 'arouch', 'ascone', 'assignon', 'atangana', 'atta', 'augustin', 'autret', 'aye', 'ba', 'bade', 'badiashile', 'bah', 'bahoya', 'bakayoko', 'bakola', 'bakwa', 'balde', 'bamba', 'barbet', 'barcola', 'bard', 'barreto', 'barry', 'barthelme', 'baseya', 'basilio', 'bastian', 'bayiha', 'bechikh', 'bedfian', 'beka', 'belahyane', 'bellegarde', 'belocian', 'benama', 'bengui', 'benhaim', 'bentoumi', 'benzema', 'berenguer', 'bermont', 'bernauer', 'berthomier', 'bery', 'bianay', 'bianchini', 'biancone', 'bihan', 'bitshiabu', 'bladi', 'blas', 'blasco', 'blin', 'bloch', 'blot', 'bodiger', 'boey', 'boisgard', 'bolumbu', 'bondo', 'bonnet', 'bonny', 'bopesu', 'borne', 'boscagli', 'bouabdelli', 'bouabre', 'bouaddi', 'bouchenna', 'boumaaoui', 'bouriaud', 'bourigeaud', 'bourles', 'boutobba', 'boutrah', 'boutsingkham', 'brahimi', 'brassier', 'briancon', 'bris', 'buayi-kiala', 'butelle', 'butez', 'cabella', 'cabot', 'cabral', 'caci', 'cafaro', 'caillard', 'camacho', 'camara', 'camavinga', 'camblan', 'campanini', 'caoki', 'capelle', 'capoue', 'caqueret', 'cardinal', 'cardona', 'carlier', 'carnot', 'cartillier', 'cassubie', 'castillo', 'centonze', 'chahid', 'chambost', 'charbonnier', 'chardonnet', 'chergui', 'cherif', 'cherki', 'chevalier', 'cho', 'chotard', 'cisse', 'claude', 'claude-maurice', 'clauss', 'coeff', 'colau', 'colin', 'coman', 'confais', 'congre', 'contena', 'coquelin', 'cornud', 'costa', 'costil', 'coudert', 'coulibaly', 'courcoul', 'cozza', 'cyprien', 'dacourt', 'dagba', 'dago', 'daho', 'danho', 'danois', 'dao', 'daubin', 'defrel', 'delaine', 'delaye', 'delos', 'delpech', 'dembele', 'deminguet', 'demouchy', 'depussay', 'descamps', 'desmas', 'diaby', 'diaby-fadiga', 'diagouraga', 'diakhaby', 'diakhon', 'diakite', 'diallo', 'diani', 'dias', 'diawara', 'dietsch', 'digne', 'diony', 'diop', 'diouf', 'disasi', 'domingues', 'dompe', 'dosso', 'douaron', 'doucet', 'doucoure', 'doue', 'doukansy', 'doukoure', 'doumbouya', 'drammeh', 'dreyer', 'drouhin', 'dubois', 'ducrocq', 'dupe', 'ebimbe', 'ebonog', 'edjouma', 'edouard', 'ekitike', 'ekwah', 'emeran', 'escartin', 'esteve', 'fabri', 'fadiaga', 'faivre', 'fakili', 'faraj', 'fatar', 'fayad', 'fdaouch', 'fee', 'fekir', 'ferrah', 'ferri', 'fofana', 'fomba', 'fosse', 'francoise', 'fulgini', 'gadou', 'gallon', 'galves', 'gameiro', 'gastien', 'gaudin', 'gauthier', 'gavory', 'gboho', 'gendrey', 'ghedjemis', 'gigliotti', 'gignac', 'gigot', 'giroud', 'gomel', 'gomes', 'gomis', 'gonalons', 'gorby', 'gorgelin', 'gory', 'gourna-douath', 'gradit', 'grandsir', 'grenier', 'griezmann', 'grillot', 'gromat', 'gueguin', 'guendouz', 'guendouzi', 'guenouche', 'guidi', 'guilavogui', 'guilbert', 'gusto', 'hainaut', 'hamel', 'hanin', 'hassan', 'hein', 'henry', 'hernandez', 'himeur', 'hoggas', 'honorat', 'huard', 'hunou', 'ibrahima', 'ikone', 'ilenikhena', 'isidor', 'isimat-mirin', 'issoufou', 'jabol-folcarelli', 'jacob', 'jacquesson', 'jacquet', 'joly', 'joujou', 'jousselin', 'jullien', 'kaba', 'kalimuendo', 'kalulu', 'kalumba', 'kamara', 'kamate', 'kambwala', 'kante', 'kapuadi', 'karamoh', 'kari', 'kayembe', 'kayombo', 'keita', 'kembo', 'keyta', 'khaled', 'khalid', 'khamali', 'khelifa', 'kimpembe', 'koeberle', 'koffi', 'kolli', 'kolodziejczak', 'konate', 'kone', 'kore', 'koudou', 'kouini', 'koumetio', 'kounde', 'kroupi', 'kumbedi', 'kurzawa', 'kyei', 'kyeremeh', 'labila', 'laborde', 'lacazette', 'lacoux', 'lacroix', 'lafont', 'lage', 'lahmadi', 'lambourde', 'laporte', 'larkeche', 'larsonneur', 'lasme', 'lasne', 'laurens', 'lauriente', 'lebeau', 'lebreton', 'leca', 'lecoeuche', 'lecolier', 'lecomte', 'lefort', 'lein', 'lejeune', 'lemaangr', 'lemar', 'lemina', 'lemonnier', 'lenglet', 'lepaul', 'lepenant', 'leroy', 'letellier', 'letono', 'leverbe', 'lienard', 'lihadji', 'lima', 'livolant', 'lloris', 'lobry', 'locko', 'logbo', 'loiodice', 'lombardo', 'lopez', 'losilla', 'loubatieres', 'louchet', 'louis', 'louiserre', 'lukeba', 'lunardi', 'luvambo', \"m'bemba\", \"m'vila\", 'machach', 'macon', 'magassa', 'maggiotti', 'magnetti', 'magnin', 'maignan', 'makengo', 'makutungu', 'malanda', 'malouda', 'manceau', 'mandanda', 'mangala', 'mangani', 'maouassa', 'mara', 'marcelin', 'marchetti', 'marec', 'marie', 'marillat', 'maronnier', 'martial', 'martin', 'martinez', 'massengo', 'matam', 'mateta', 'matsima', 'maupay', 'mawissa', 'mayilla', 'mayulu', 'mazou-sacko', 'mbala', 'mbappe', 'mbemba', 'mbock', 'mbuku', 'meddah', 'meite', 'mellot', 'melou', 'mendy', 'merghem', 'merlin', 'meslier', 'messi', 'meupiyou', 'meynadier', 'michal', 'michel', 'michelin', 'mikelbrencis', 'millot', 'mincarelli', 'modeste', 'mollet', 'monconduit', 'mongo', 'montfort', 'mouyokolo', 'muani', 'mukiele', 'muntu', 'muyumba', 'mwanga', \"n'diaye\", \"n'doram\", \"n'duquidi\", \"n'gatta\", 'nade', 'nadje', 'naifi', 'nair', 'nardi', 'nassi', 'nchobi', 'ndiaye', 'ndombele', 'negouai', 'negrel', 'ngoumou', 'ngoura', 'nguena', 'nianzou', 'nkambadio', 'nkounkou', 'nkunku', 'nonnenmacher', 'nordin', 'normand', 'nouri', 'nsiala', 'nsoki', 'nsona', 'nteka', 'nyamsi', 'nzingoula', 'odobert', 'oger', 'ogier', 'okou', 'olise', 'olliero', 'olmeta', 'omari', 'ott', 'ouattara', 'oudin', 'ourega', 'owusu', 'pallois', 'pannafit', 'papeau', 'paradowski', 'patouillet', 'pavard', 'payet', 'pellegrini', 'pellenard', 'pelmard', 'pelon', 'pembele', 'pereira', 'perraud', 'perrin', 'petrot', 'peybernes', 'philippe', 'picard', 'picouleau', 'pierre-gabriel', 'pintor', 'platret', 'plea', 'pogba', 'poleri', 'pona', 'ponceau', 'pouilly', 'poussin', 'prouchet', 'quemper', 'rabiot', 'rahmani', 'rangon', 'rao-lisoa', 'raveyre', 'restes', 'riou', 'risser', 'rivera', 'roncaglia', 'rongier', 'rosier', 'rouault', 'roux', 'rutter', 'sacko', 'sagnan', 'said', 'saint-maximin', 'sainte-luce', 'salama', 'saliba', 'salles', 'samba', 'sambia', 'sangui', 'sanson', 'santamaria', 'santelli', 'sarr', 'sasso', 'savanier', 'sbai', 'schur', 'senaya', 'seydi', 'sidibe', 'sildillia', 'silva', 'simakan', 'simon', 'sissoko', 'sivis', 'siwe', 'solet', 'sollacaro', 'soppy', 'sotoca', 'souare', 'souici', 'soumahoro', 'soumano', 'soumaoro', 'soumare', 'souprayen', 'souquet', 'sparagna', 'stambouli', 'swiderski', 'sy', 'sylla', 'tabibou', 'tacafred', 'taoui', 'tardieu', 'tayot-savina', 'tchaouna', 'tchaptchet', 'tchouameni', 'tebili', 'tel', 'temanfo', 'terrier', 'thauvin', 'thomas', 'thomasson', 'thoumin', 'thuram', 'todibo', 'tolisso', 'tomi', 'toure', 'tousart', 'tramoni', 'traore', 'truffert', 'tunkadi', 'udol', 'ugochukwu', 'umtiti', 'upamecano', 'valbuena', 'valette', 'vallier', 'valme', 'vanbaleghem', 'varane', 'veretout', 'verge', 'vetro', 'vidal', 'viltard', 'vincent', 'vion', 'virginius', 'vitelli', 'vogel', 'wade', 'wahi', 'walter', 'wasbauer', 'wattel', 'weissbeck', 'yedder', 'yoro', 'youan', 'youssouf', 'youte', 'zagadou', 'zague', 'zaire-emery', 'zeze', 'zidane', 'zinga', 'zoubir', 'zouma'], 'ga': ['allevinah', 'ameka', 'appindangoye', 'aubameyang', 'babicka', 'bouanga', 'boupendza', 'ekomie', 'kanga', 'lemina', \"n'doumbou\", 'openda', 'oyono', 'poko'], 'gb': ['aarons', 'abbey', 'aboh', 'abraham', 'acheampong', 'adarabioyo', 'adedeji', 'afolayan', 'akpom', 'albrighton', 'alese', 'alexander-arnold', 'alli', 'allsop', 'alnwick', 'amass', 'amo-ameyaw', 'amos', 'anang', 'anderson', 'andrews', 'aneke', 'anjorin', 'ansen', 'anthony', 'antwi', 'appiah', 'arblaster', 'archer', 'armstrong', 'arthur', 'asiimwe', 'austin', 'ayling', 'azeez', 'bainbridge', 'baker', 'bakinson', 'balcombe', 'ball', 'ballard', 'bamford', 'barkhuizen', 'barlaser', 'barnes', 'barnett', 'barrington', 'bartley', 'basham', 'batth', 'batty', 'baxter', 'beesley', 'beevers', 'bellingham', 'bent', 'bentley', 'best', 'bettinelli', 'bird', 'bishop', 'blacker', 'blackett', 'blake', 'bogle', 'bowen', 'bowler', 'bradley', 'bragg', 'bramall', 'branthwaite', 'bree', 'brewster', 'bridge', 'brierley', 'brittain', 'brooking', 'brooks', 'broome', 'brown', 'brownhill', 'bryan', 'buabo', 'buchanan', 'buck', 'buckley', 'burgess', 'burn', 'bursik', 'burstow', 'burton', 'butland', 'button', 'bynoe-gittens', 'byram', 'byrne', 'calvert-lewin', 'campbell', 'cann', 'cantwell', 'carey', 'carson', 'carter', 'cartwright', 'casey', 'castledine', 'chalobah', 'chambers', 'chang', 'chaplin', 'chapman', 'chilwell', 'chirewa', 'choudhury', 'chrisene', 'chukwuemeka', 'cirkin', 'clare', 'clark', 'clarke', 'clarke-salter', 'clarkson', 'cleary', 'clough', 'clucas', 'clyne', 'coady', 'coburn', 'cochrane', 'cogley', 'colback', 'coleman', 'collins', 'collyer', 'colwill', 'connolly', 'connor', 'conte', 'cook', 'cooper', 'cork', 'coulson', 'coyle', 'cresswell', 'crooks', 'cundle', 'curd', 'dack', 'daley', 'danns', 'darling', 'darlow', 'dasilva', 'davies', 'davis', 'dawson', 'dean', 'delap', 'dembele', 'dempsey', 'devine', 'dewsbury-hall', 'diallo', 'dibling', 'dier', 'dixon-bonner', 'dobbin', 'dobson', 'dolan', 'donley', 'donovan', 'dorrington', 'dowell', 'downes', 'doyle', 'dozzell', 'drameh', 'drewe', 'duffus', 'dunk', 'durrant', 'duru', 'dyer', 'eames', 'earthy', 'eaves', 'edmonds-green', 'edmondson', 'edmunson', 'edozie', 'edun', 'edwards', 'ehibhatiomhan', 'ekpiteta', 'elliott', 'embleton', 'ennis', 'esse', 'etete', 'eze', 'fapetu', 'fellows', 'ferguson', 'field', 'fielding', 'finch', 'finnigan', 'fish', 'fisher', 'fleming', 'foden', 'foderingham', 'fondre', 'ford', 'forrester', 'forshaw', 'forson', 'forster', 'fredericks', 'fry', 'furlong', 'gabriel', 'gallagher', 'gamble', 'gardner', 'garner', 'garrett', 'gayle', 'gelhardt', 'george', 'gibbs', 'gibbs-white', 'gibson', 'gidaree', 'gilchrist', 'giles', 'gillesphey', 'gillespie', 'ginnelly', 'godfrey', 'godo', 'goldson', 'gomes', 'gomez', 'goode', 'gordon', 'grant', 'gray', 'grealish', 'greaves', 'green', 'greenwood', 'grieves', 'griffiths', 'grimes', 'grimshaw', 'guehi', 'gyabi', 'hackney', 'hall', 'hamer', 'hamilton', 'harratt', 'harris', 'harrison', 'hart', 'harwood-bellis', 'hatton', 'hause', 'hayden', 'headley', 'healey', 'heaton', 'henderson', 'henry', 'higgins', 'hill', 'hinshelwood', 'hirst', 'hogg', 'holding', 'holgate', 'holman', 'holmes', 'home', 'honeyman', 'houghton', 'howson', 'hudson-odoi', 'hughes', 'hugill', 'humphreys', 'humphrys', 'hungbo', 'hunt', 'husband', 'hutchinson', 'ibrahim', 'ince', 'ingram', 'ings', 'iorpenda', 'iroegbunam', 'isted', 'jackson', 'jacob', 'james', 'jenkinson', 'john-jules', 'johnson', 'johnstone', 'jones', 'junior', 'justin', 'jutkiewicz', 'kamara', 'kane', 'kasumu', 'keane', 'kelly', 'kellyman', 'kenny', 'kent', 'kesler', 'key', 'kilman', 'king', 'kinsey-wellings', 'knibbs', 'konsa', 'koroma', 'kouassi', 'ladapo', 'laing', 'laird', 'lallana', 'lang', 'lascelles', 'laurent', 'lavery', 'lawrence', 'leaburn', 'leahy', 'ledson', 'lees', 'lennon', 'leonard', 'lewis', 'lewis-potter', 'lewis-skelly', 'lingard', 'lissah', 'livermore', 'livramento', 'loach', 'loftus-cheek', 'lolley', 'lonergan', 'long', 'longelo', 'longman', 'longstaff', 'lowe', 'lowery', 'lumley', 'lundstram', 'lyons-foster', 'macdonald', 'macey', 'maddison', 'madueke', 'maghoma', 'maguire', 'mainoo', 'maitland-niles', 'malcolm', 'march', 'markanday', 'marsh', 'martin', 'mathurin', 'matos', 'matthews', 'mavididi', 'mawene', 'may', 'mayor', 'mbick', 'mcatee', 'mcateer', 'mccabe', 'mccallum', 'mccarthy', 'mcconnell', 'mcfadzean', 'mcfarlane', 'mcmanaman', 'mcneil', 'mee', 'metcalfe', 'michalski', 'miley', 'miller', 'milner', 'mings', 'mitchell', 'mola', 'monlouis', 'moore', 'morgan', 'morley', 'morris', 'morrison', 'morton', 'mount', 'mowatt', 'moxon', 'mubama', 'muller', 'mumba', 'mundle', 'munroe', 'murkin', 'murphy', \"n'lundulu\", 'nallo', 'namaso', 'naughton', 'ndiweni', 'neil', 'nelson', 'ness', 'nevers', 'newell', 'ng', 'nicholls', 'nketiah', 'nombe', 'norris', 'norton-cuffy', 'nwaneri', 'nyoni', \"o'brien\", \"o'donnell\", \"o'nien\", 'oakley', 'obita', 'odofin', 'odubajo', 'offiah', 'ogbeta', 'ogilvie', 'ogunneye', 'okoduwa', 'onyango', 'orford', 'osborn', 'oxford', 'oxlade-chamberlain', 'ozoh', 'pack', 'palmer', 'panzo', 'parkinson', 'paterson', 'patino', 'patterson', 'pearce', 'pears', 'pearson', 'peart-harris', 'peck', 'pedder', 'peltier', 'pennington', 'perkins', 'phillips', 'philogene', 'pickering', 'pickford', 'plange', 'pollock', 'pope', 'potts', 'pritchard', 'proctor', 'quansah', 'radcliffe', 'raggett', 'raikhy', 'rak-sakyi', 'ralls', 'ramsay', 'ramsdale', 'ramsey', 'randell', 'rankin', 'rashford', 'rathbone', 'reach', 'redmond', 'reed', 'reid', 'revan', 'rice', 'richards', 'rigg', 'roberts', 'robinson', 'rodney', 'rodriguez', 'rodwell', 'rogers', 'rooney', 'rothwell', 'rowe', 'ruddy', 'ruffels', 'rushworth', 'rylah', 'sadi', 'saka', 'salamon', 'samuels', 'sancho', 'sanderson', 'saydee', 'scanlon', 'scarles', 'scarlett', 'scarr', 'schofield', 'scott', 'sellars-fleming', 'seriki', 'sessegnon', 'setford', 'shackelton', 'sharman', 'sharp', 'shaw', 'shelvey', 'sibley', 'sidibe', 'skipp', 'slater', 'small', 'smalling', 'smith', 'soglo', 'solanke', 'sorinola', 'sousa', 'sparkes', 'spence', 'stacey', 'stansfield', 'steele', 'stephens', 'sterling', 'stevenson', 'stewart', 'stone', 'stones', 'storey', 'sturge', 'stutter', 'surridge', 'swanson', 'swift', 'sykes', 'sze', 'tanganga', 'tanner', 'targett', 'tarkowski', 'tavernier', 'taylor', 'thomas', 'thomason', 'thompson', 'tickle', 'toffolo', 'tomkins', 'tomori', 'toney', 'towler', 'townsend', 'trafford', 'travis', 'trevitt', 'trueman', 'tuanzebe', 'tunnicliffe', 'turton', 'tymon', 'vardy', 'vickers', 'vieira', 'virtue', 'waghorn', 'walker', 'walker-peters', 'wallace', 'walsh', 'walters', 'walton', 'wan', 'wan-bissaka', 'ward', 'ward-prowse', 'wareham', 'warrington', 'watkins', 'watmore', 'watson', 'watts', 'webster', 'welbeck', 'welch', 'weston', 'westwood', 'wharton', 'whatmough', 'wheatley', 'white', 'whiteman', 'whittaker', 'whittingham', 'whitworth', 'wickham', 'wildsmith', 'wiles', 'williams', 'willis', 'willock', 'wilmot', 'wilson', 'wilson-esbrand', 'wing', 'winks', 'wintle', 'wood', 'woodman', 'woolfenden', 'woolston', 'wootton', 'worrall', 'wright', 'wyke', 'yates', 'yearwood', 'young'], 'gd': ['baptiste', 'jerome', 'john-brown', 'norburn'], 'ge': ['azarov', 'beruashvili', 'chabradze', 'chakvetadze', 'davitashvili', 'dvali', 'gadrani', 'gagnidze', 'gagua', 'gelashvili', 'gocholeishvili', 'goglichidze', 'gognadze', 'gordeziani', 'gugeshashvili', 'gvelesiani', 'iakobidze', 'iobashvili', 'kalandadze', 'kankava', 'kashia', 'khocholava', 'kirkitadze', 'kiteishvili', 'kobouri', 'kochorashvili', 'kvaratskhelia', 'kvekveskiri', 'kvernadze', 'kvilitaia', 'latsabidze', 'lobjanidze', 'lochoshvili', 'lominadze', 'loria', 'maisuradze', 'makatsaria', 'mamardashvili', 'mikautadze', 'moistsrapeshvili', 'odisharia', 'okriashvili', 'osikmashvili', 'peikrishvili', 'qazaishvili', 'salia', 'salukvadze', 'sazonov', 'sigua', 'sikharulashvili', 'tsetskhladze', 'ugrekhelidze', 'zaria', 'zivzivadze'], 'gf': ['leon', 'salmier'], 'gh': ['abagna', 'abass', 'abdulai', 'abrefa', 'abubakar', 'acheampong', 'adams', 'addo', 'adjei', 'adomah', 'afena-gyan', 'afrane', 'afriyie', 'agyiri', 'aidoo', 'akonnor', 'alhassan', 'amankwah', 'amartey', 'ambrosius', 'amissah', 'ansah', 'antwi', 'antwi-adjej', 'ashimeru', 'asubonteng', 'attah', 'ayew', 'ayi', 'aziz', 'baafi', 'baba', 'baidoo', 'blessing', 'boateng', 'bolma', 'bonsu', 'bukari', 'cann', 'djiku', 'donkor', 'duncan', 'ekuban', 'enyan', 'esso', 'fatawu', 'forson', 'frimpong', 'fuseini', 'gidi', 'gyamerah', 'gyasi', 'ibrahim', 'inkoom', 'konigsdorffer', 'korsah', 'kudus', 'kyereh', 'kyeremeh', 'lamptey', 'manu', 'mensah', 'mohammed', 'moses', 'mumin', 'musah', 'mustapha', 'nuamah', 'nufour', 'nurudeen', 'obeng', 'odoi', 'ofori', 'ogura', 'ohene', 'opoku', 'osei', 'osman', 'owusu', 'paintsil', 'pfeiffer', 'sadiq', 'salisu', 'samed', 'sarfo', 'sarpei', 'say', 'schlupp', 'seidu', 'semenyo', 'sosu', 'sowah', 'sulemana', 'suraj', 'tekpetey', 'tetteh', 'thomas', 'thomas-asante', 'toku', 'twumasi', 'ushau', 'wakaso', 'waris', 'williams', 'wollacott', 'yahaya', 'yeboah', 'yegbe', 'yiadom', 'zuberu'], 'gi': ['annesley', 'barr', 'britto', 'casciaro', 'chipolina', 'clinton', 'coeling', 'coombes', 'gonzalez', 'lopes', 'sergeant', 'walker'], 'gm': ['adams', 'barrow', 'bojang', 'ceesay', 'colley', 'darboe', 'fadera', 'gomez', 'jallow', 'janko', 'jatta', 'kalley', 'manneh', 'minteh', 'njie', 'sanyang', 'singhateh', 'sinyan', 'sonko-sundberg', 'suso', 'tambedou'], 'gn': ['bah', 'bangoura', 'bayo', 'camara', 'cisse', 'conde', 'conte', 'diakhaby', 'diawara', 'doumbouya', 'guilavogui', 'guirassy', 'ibrahima', 'kaba', 'keita', 'koita', 'moriba', 'soumah', 'sow', 'sylla', 'toure'], 'gp': ['avinel', 'bartouche', 'casimir', 'coco', 'foulquier', 'moco', 'nangis', 'phaeton', 'roussillon', 'rouyard'], 'gq': ['akapo', 'balboa', 'buyla', 'coco', 'judson', 'obiang', 'owono', 'pepin'], 'gr': ['agorastos', 'alexandropoulos', 'angelidis', 'antzoulas', 'apostolakis', 'athanasiadis', 'bakasetas', 'baldock', 'barkas', 'bekiaridis', 'bouchalakis', 'charisis', 'choutesiotis', 'chrisopoulos', 'christodoulopoulos', 'delizisis', 'donis', 'douvikas', 'fetfatzidis', 'fortounis', 'fountas', 'galanopoulos', 'giakoumakis', 'giannoulis', 'ginis', 'goutas', 'hatzidiakos', 'iliadis', 'ioannidis', 'kanellopoulos', 'kargas', 'katranis', 'katseris', 'konstantelias', 'kostis', 'kotsiras', 'koulierakis', 'koutsias', 'koutsoupias', 'kyriakopoulos', 'kyriazis', 'lamprou', 'limnios', 'lykogiannis', 'macheras', 'mandas', 'manolas', 'mantalos', 'masouras', 'mavropanos', 'michailidis', 'mitoglou', 'nikolaou', 'panagidis', 'papadopoulos', 'papadoudis', 'pasalidis', 'paschalakis', 'pavlidis', 'pelkas', 'pilios', 'poungouras', 'pourzitidis', 'retsos', 'risvanis', 'rota', 'saliakas', 'savvidis', 'sideras', 'siopis', 'sokratis', 'stafylidis', 'stamatakis', 'tachtsidis', 'talichmanidis', 'theocharis', 'triantafyllopoulos', 'tsimikas', 'tsingaras', 'tzimas', 'tzolakis', 'tzolis', 'vagiannidis', 'vasiliadis', 'vlachodimos', 'vrousai', 'xenopoulos', 'zagaritis', 'zeca'], 'gt': ['hagen', 'herrera', 'mendez-laing', 'rubin', 'santis'], 'gw': ['balde', 'camara', 'cande', 'cassama', 'djabi', 'franculino', 'gerso', 'gomes', 'mane', 'mendes', 'mendy', 'quizera', 'salifo', 'sanca', 'simao'], 'gy': ['moriah-welsh'], 'hk': ['leung', 'nunez'], 'hn': ['aceituno', 'alvarez', 'argueta', 'arriaga', 'barahona', 'beckeles', 'benavidez', 'bengtson', 'benguche', 'calix', 'carrasco', 'carter', 'casildo', 'castellanos', 'castillo', 'chirinos', 'decas', 'delgado', 'elis', 'espinal', 'felix', 'flores', 'garcia', 'gomez', 'gonzales', 'licona', 'lopez', 'lozano', 'maldonado', 'martinez', 'matute', 'mejia', 'melendez', 'mencia', 'mendoza', 'menjivar', 'moncada', 'montes', 'moya', 'mungia', 'najar', 'nunez', 'obando', 'oliva', 'orellana', 'osorto', 'palma', 'paz', 'pereira', 'perello', 'pike', 'pineda', 'pinto', 'quaye', 'reyes', 'rodriguez', 'rosales', 'rougier', 'ruiz', 'sanchez', 'santos', 'solano', 'tatum', 'toro', 'vargas', 'vega', 'vuelto', 'zapata'], 'hr': ['andrijasevic', 'babec', 'badelj', 'barac', 'barisic', 'basic', 'baturina', 'beljo', 'benkovic', 'bezeljak', 'biuk', 'borevkovic', 'bosancic', 'bradaric', 'brajkovic', 'brekalo', 'briski', 'brkic', 'brnic', 'brodic', 'brozovic', 'budimir', 'bulat', 'buljan', 'caktas', 'caleta-car', 'cancar', 'cavara', 'cirjak', 'colak', 'condric', 'cubelic', 'cuze', 'cvetko', 'divkovic', 'dizdarevic', 'djokovic', 'durasek', 'durdov', 'elez', 'erlic', 'filipovic', 'franjic', 'galovic', 'grbic', 'gvardiol', 'halilovic', 'hrgovic', 'ivancic', 'ivanusec', 'jakic', 'jakolis', 'jedvaj', 'jonjic', 'jovic', 'julardzija', 'juranovic', 'jureskin', 'juric', 'kacavenda', 'kahlina', 'kalinic', 'katic', 'katinic', 'kavelj', 'kis', 'kolar', 'kotarski', 'kovacic', 'kramaric', 'kreilach', 'kresic', 'krovinovic', 'kulenovic', 'lausic', 'leskovic', 'livaja', 'livakovic', 'ljubic', 'ljubicic', 'lovren', 'lukanic', 'lulic', 'magdic', 'maglica', 'majer', 'malekinusic', 'mamic', 'maric', 'marin', 'matanovic', 'medic', 'melnjak', 'mijic', 'mikanovic', 'mikic', 'milic', 'misic', 'modric', 'moro', 'musa', 'nevistic', 'oroz', 'orsic', 'pandur', 'pantalon', 'pasalic', 'pavic', 'peric', 'perica', 'perisic', 'perkovic', 'petkovic', 'petrasilo', 'petrovic', 'pongracic', 'posavec', 'prpic', 'radosevic', 'rebic', 'rog', 'rogic', 'santini', 'sarlija', 'semper', 'shatri', 'sigur', 'silic', 'simic', 'skoko', 'sluga', 'smolcic', 'soldo', 'sosa', 'spikic', 'stanisic', 'stojkovic', 'sucic', 'sunjic', 'sutalo', 'sverko', 'ticinovic', 'tikvic', 'tolic', 'tomasov', 'uremovic', 'vida', 'vidovic', 'vlasic', 'vrbancic', 'vukovic', 'vulikic', 'vuskovic', 'zagorac', 'zaper', 'zivkovic', 'zuparic', 'zvonarek'], 'ht': ['ade', 'arcus', 'borgelin', 'ceus', 'deedson', 'duverne', 'etienne', 'jacques', 'jean', 'picault', 'pierre', 'pierrot', 'placide', 'sainte', 'simonsen'], 'hu': ['adam', 'adorjan', 'antal', 'bakti', 'balogh', 'banai', 'barany', 'baranyai', 'barath', 'batai', 'benczenleitner', 'bobal', 'bocskay', 'bodi', 'botka', 'bukta', 'dardai', 'deutsch', 'dibusz', 'doktorics', 'dzsudzsak', 'engedi', 'eordogh', 'erdelyi', 'feher', 'ferenczi', 'futacs', 'gazdag', 'geiger', 'girsik', 'gulacsi', 'gyetvan', 'gyurcso', 'halmai', 'hidi', 'hinora', 'holender', 'holman', 'hornyak', 'huszti', 'jova', 'kalnoki-kis', 'katona', 'keresztes', 'kerkez', 'kiss', 'kleinheisler', 'kocsis', 'kovacs', 'krajcsovics', 'kusnyir', 'lang', 'lisztes', 'litauszki', 'lorinczy', 'mamusits', 'maty', 'megyeri', 'molnar', 'nagy', 'nego', 'nemeth', 'nyitrai', 'odor', 'orban', 'otigba', 'papp', 'paszka', 'pekar', 'puskas', 'rab', 'rado', 'ruisz', 'sallai', 'salloi', 'schafer', 'simon', 'styles', 'szabo', 'szalai', 'szantho', 'szecsi', 'szoboszlai', 'sztojka', 'szuhodovszki', 'tamas', 'toth', 'tuboly', 'tujvel', 'uram', 'vajda', 'varga', 'vida', 'yaakobishvili', 'zimonyi'], 'i1': ['atcheson', 'ballard', 'boyce', 'bradley', 'charles', 'dallas', 'devlin', 'evans', 'falls', 'ferguson', 'hazard', 'hume', 'jones', 'kenny', 'lane', 'lavery', 'lewis', 'magennis', 'marshall', 'mccann', 'mccausland', 'mcdonnell', 'mcguckin', 'mcnair', 'mee', 'norwood', 'price', 'robinson', 'saville', 'smyth', 'spencer', 'thompson', 'toal', 'washington', 'whyte'], 'id': ['abdillah', 'agus', 'alam', 'amat', 'amping', 'ansori', 'ardiansyah', 'arel', 'arfan', 'ari', 'arya', 'aryantara', 'asraf', 'baharsyah', 'bakri', 'bangswan', 'bernanda', 'brown', 'catur', 'chandra', 'dethan', 'dewari', 'dimas', 'donald', 'fadlillah', 'febriansyah', 'fernando', 'firmansyah', 'gutawa', 'hafizh', 'handika', 'harjito', 'haye', 'hehanusa', 'herdiana', 'hidayat', 'hubner', 'idrus', 'idzes', 'igbonefo', 'infantri', 'iqbal', 'irianto', 'ivansyah', 'jaya', 'jenner', 'jufriyanto', 'kallon', 'kambuaya', 'kasim', 'klok', 'kurnia', 'kusnandar', 'lauhim', 'lestaluhu', 'm.', 'maheswara', 'makarin', 'malaifani', 'mancini', 'mandowen', 'mulyana', 'nanda', 'pamungkas', 'pellu', 'pondaag', 'pratama', 'putra', 'raehan', 'rahmat', 'reski', 'ridho', 'rizki', 'rudianto', 'rustapa', 'saiful', 'saimima', 'santoso', 'sausu', 'sayuri', 'setiawan', 'spasojevic', 'suaib', 'surya', 'tahar', 'tanjung', 'tata', 'tjoe-a-on', 'utomo', 'wahyudi', 'walian', 'wiguna', 'wijaya', 'wiratama', 'yunan', 'zaky', 'zalnando'], 'ie': ['abankwah', 'adedokun', 'adeeko', 'animasahun', 'armstrong', 'arter', 'ashbee', 'azaz', 'barrett', 'bazunu', 'bonham', 'boyle', 'brady', 'britton', 'browne', 'burke', 'burns', 'byrne', 'cannon', 'casey', 'cashin', 'christie', 'clark', 'clarke', 'cleary', 'coleman', 'collins', 'connolly', 'coventry', 'cullen', 'cunningham', 'curtis', 'doherty', 'doyle', 'duffy', 'dunne', 'ebosele', 'egan', 'emakhu', 'farrugia', 'ferguson', 'finneran', 'fraser', 'furlong', 'gaffney', 'gallagher', 'gilbert', 'gilsenan', 'grace', 'greene', 'hamilton', 'harness', 'hayes', 'hoare', 'hodge', 'hogan', 'honohan', 'horgan', 'hourihane', 'idah', 'johansson', 'johnston', 'kavanagh', 'keane', 'kelleher', 'kenny', 'keogh', 'kioso', 'lenihan', 'long', 'lyons', 'mahon', 'manning', 'mceneff', 'mcgrath', 'mcguinness', 'mchugh', 'mcloughlin', 'mcnally', 'mcnamara', 'meara', 'molloy', 'molumby', 'moran', 'mountney', 'murphy', 'noonan', 'nugent', \"o'brien\", \"o'dowda\", \"o'kane\", \"o'mahony\", \"o'neill\", \"o'riordan\", \"o'shea\", \"o'sullivan\", 'obafemi', 'ochoa', 'odubeko', 'oko-flex', 'omobamidele', 'orazi', 'patrick', 'phillips', 'rafferty', 'randolph', 'robinson', 'ronan', 'scales', 'scully', 'seary', 'shaughnessy', 'smallbone', 'steacy', 'stevens', 'szmodics', 'taylor', 'towell', 'travers', 'umeh', 'watson', 'watts', 'williams'], 'il': ['abada', 'abaid', 'almog', 'alon', 'altman', 'arad', 'arania', 'archel', 'ashmandi', 'atzili', 'badash', 'baltaxa', 'baranes', 'baribo', 'binyamin', 'biton', 'bitton', 'blorian', 'cohen', 'dabbur', 'dadia', 'dasa', 'david', 'davida', 'davidazde', 'einbinder', 'elias', 'eliasi', 'fadida', 'fani', 'feingold', 'fucs', 'ganah', 'ganayem', 'gandelman', 'gershon', 'glazer', 'gloukh', 'golan', 'golasa', 'goldberg', 'gordana', 'gropper', 'hajaj', 'hatuel', 'haziza', 'hemed', 'israelov', 'jaber', 'jehezkel', 'kaiuf', 'kancepolsky', 'kandil', 'kanichowsky', 'karzev', 'kasa', 'katri', 'khalaili', 'kinda', 'lavi', 'layous', 'leidner', 'lemkin', 'madmon', 'malede', 'marciano', 'meir', 'menachem', 'mishpati', 'morgan', 'nachmias', 'naor', 'natcho', 'nitzan', 'ohana', 'peretz', 'podgoreanu', 'ramot', 'ratson', 'refaelov', 'revivo', 'rohana', 'sabag', 'safuri', 'senior', 'shahar', 'shalom', 'shamir', 'shimol', 'shlomo', 'solomon', 'tibi', 'torial', 'turgeman', 'vitor', 'weissman', 'yeini', 'yitzhak', 'zahavi'], 'in': ['ali', 'apuia', 'bheke', 'bhumij', 'borges', 'chakraborty', 'chhangte', 'chhetri', 'chote', 'choudhary', \"d'silva\", 'dakshinamurthy', 'das', 'desai', 'fernandes', 'gahlot', 'gill', 'golui', 'gupta', 'jhadav', 'kattimani', 'khabra', 'kotal', 'lachenpa', 'lalchungnunga', 'lalrinzuala', 'lalthathanga', 'lara', 'madambillath', 'majumder', 'mawihmingthanga', 'meetei', 'mishra', 'mitra', 'mohammad', 'moirangthem', 'nawaz', 'nazareth', 'nemil', 'pandita', 'parray', 'partap', 'patra', 'praveen', 'rabeeh', 'rafi', 'rai', 'rakip', 'ralte', 'ramhlunchhunga', 'ranawade', 'rane', 'rebello', 'rodrigues', 'ruivah', 'sahni', 'saji', 'sangwan', 'sekar', 'sharma', 'singh', 'stalin', 'tamang', 'unnikrishnan', 'valpuia', 'vanlalruatfela', 'vanspaul', 'vp', 'yasir', 'yumnam', 'zothanpuia'], 'iq': ['abbas', 'abdul-raheem', 'aboud', 'al-hamadi', 'ali', 'amir', 'amyn', 'bayesh', 'fawzi', 'gawad', 'hadi', 'hussein', 'iqbal', 'jabbar', 'jassim', 'jeahze', 'kamil', 'nadhim', 'natiq', 'raad', 'raed', 'sadeq', 'solaka', 'tahseen'], 'ir': ['abedzadeh', 'aghasi', 'alekasir', 'alipour', 'ansarifard', 'asadbeigi', 'asadi', 'azmoun', 'babaei', 'beiranvand', 'cheshmi', 'esmaeilifar', 'ezatolahi', 'fakhreddini', 'faraji', 'forouzan', 'ghoddos', 'gholizadeh', 'hajsafi', 'hamedifar', 'hazbavi', 'hosseini', 'hosseinzadeh', 'jahanbakhsh', 'jalali', 'kamyabinia', 'karimi', 'khaledabadi', 'khalilazadeh', 'khodabandelou', 'mehdipour', 'mehri', 'mirzazad', 'moghanlou', 'mohammadi', 'moharrami', 'mohebi', 'moradmand', 'motahari', 'naderi', 'nafari', 'nemati', 'niazmand', 'niknafas', 'noorafkan', 'pouraliganji', 'pourhamidi', 'r.', 'rafiei', 'rezaeian', 'rezavand', 'sadeghi', 'salimi', 'salmani', 'shekari', 'shiri', 'taheri', 'taremi', 'torabi', 'yazdani', 'yekta', 'yousefi', 'zahedi', 'zakipour'], 'is': ['baldursson', 'benediktsson', 'bjarkason', 'bodvarsson', 'ellertsson', 'gudjohnsen', 'gudmundsson', 'gunnarsson', 'haraldsson', 'helgason', 'hermannsson', 'hlynsson', 'ingason', 'johannesson', 'magnusson', 'oskarsson', 'runarsson', 'sampsted', 'sigurdsson', 'sigurgeirsson', 'thordarson', 'thorhallsson', 'traustason', 'ulfarsson', 'valdimarsson'], 'it': ['acampora', 'acerbi', 'adorni', 'alesi', 'alessio', 'alfonso', 'allocca', 'altare', 'anderson', 'angella', 'antenucci', 'antolini', 'aramu', 'arboscello', 'arena', 'aresti', 'audero', 'augello', 'aurelio', 'avella', 'bagnolini', 'baldanzi', 'bamba', 'bandinelli', 'bani', 'barberis', 'barbieri', 'barella', 'barilla', 'barreca', 'bartesaghi', 'bartoccioni', 'bartolomei', 'baschirotto', 'bassoli', 'bastoni', 'battocchio', 'beghetto', 'belardinelli', 'bellanova', 'bellomo', 'belotti', 'belpanno', 'beltrame', 'benedetti', 'berardi', 'bernardeschi', 'berretta', 'bertagnoli', 'bertini', 'bertola', 'beruatto', 'besaggio', 'bettella', 'bezziccheri', 'biagetti', 'bianchetti', 'bianchi', 'biraghi', 'birindelli', 'bisoli', 'boer', 'boloca', 'bonaventura', 'bonazzoli', 'bonfanti', 'bonifazi', 'bonucci', 'borini', 'borrelli', 'bove', 'bozzolan', 'bragantini', 'brahja', 'brancolini', 'brescianini', 'brezzo', 'bright', 'brignoli', 'brunori', 'bruscagin', 'buonaiuto', 'buongiorno', 'busato', 'buttaro', 'calabrese', 'calabresi', 'calabria', 'calafiori', 'caldara', 'caldirola', 'calligaris', 'calvani', 'camarda', 'cambiaghi', 'cambiaso', 'campani', 'cancellieri', 'candela', 'candelari', 'candreva', 'canestrelli', 'canotto', 'caprari', 'caprile', 'caprini', 'caputo', 'caracciolo', 'carboni', 'carnesecchi', 'carraro', 'cartano', 'casadei', 'casale', 'caso', 'cassata', 'castagnetti', 'castrovilli', 'cataldi', 'ceccaroni', 'cella', 'cerofolini', 'cerri', 'cesare', 'cherubini', 'chiara', 'chiarodia', 'chiesa', 'ciammaglichella', 'cicioni', 'ciciretti', 'ciofani', 'cisse', 'cistana', 'cittadini', 'ciurria', 'coda', 'colangiuli', 'collocolo', 'collodel', 'colombo', 'colpani', 'comi', 'comuzzo', 'consigli', 'conti', 'contiliano', 'contini', 'cooper', 'coppola', 'corazza', 'corbo', 'corona', 'coronado', 'corradi', 'corradini', 'cortese', 'corvi', 'cotali', 'cozzella', 'cragno', 'crespi', 'cristante', 'cudrig', \"d'alessandro\", \"d'alessio\", \"d'ambrosio\", \"d'amore\", \"d'avino\", 'daffara', 'dalmonte', 'darmian', 'deiola', \"dell'orco\", 'dellavalle', 'depaoli', 'desplanches', 'destro', 'diaw', 'dickmann', 'dimarco', 'donati', 'donnarumma', 'dossena', 'eder', 'edera', 'elia', 'emerson', 'esposito', 'fabbian', 'fabbro', 'fagioli', 'falasca', 'falcinelli', 'falco', 'falcone', 'faraoni', 'favero', 'fazzini', 'felipe', 'ferrari', 'ferraris', 'ferro', 'fini', 'fiordaliso', 'fiorillo', 'florenzi', 'fogliata', 'folorunsho', 'forestieri', 'francesco', 'frattali', 'frattesi', 'gabbia', 'gaetano', 'gagliardini', 'galazzi', 'galeotti', 'gallo', 'garofani', 'garritano', 'gasperini', 'gatti', 'gaudio', 'gelli', 'gemello', 'gennaro', 'ghiglione', 'ghilardi', 'ghiringhelli', 'giaccherini', 'gioielli', 'giordano', 'girasole', 'girelli', 'giunti', 'gnonto', 'gollini', 'gori', 'grandi', 'grassi', 'gregorio', 'grifo', 'hammond', 'hasa', 'iannoni', 'iglio', 'immobile', 'indragoli', 'ingegneri', 'insigne', 'izzo', 'jorginho', 'kayode', 'kean', 'koleosho', 'kouda', 'kumi', 'langella', 'lapo', 'lazzari', 'leali', 'lella', 'leonardi', 'leoni', 'lezzerini', 'lipani', 'lisi', 'livieri', 'locatelli', 'lombardi', 'lorenzo', 'loria', 'lovato', 'luca', 'lucca', 'lucioni', 'lungo', 'luperto', 'maggiore', 'magnani', 'maiello', 'maistro', 'maldini', 'malusa', 'mancini', 'mancosu', 'mancuso', 'mandragora', 'mangraviti', 'mannone', 'manzoni', 'marchizza', 'marconi', 'margiotta', 'mariano', 'marin', 'marras', 'marrone', 'martinelli', 'mascardi', 'masucci', 'matino', 'mauri', 'mazza', 'mazzitelli', 'mazzocchi', 'mendicino', 'meneghetti', 'meret', 'metlika', 'mezzoni', 'mirante', 'miretti', 'missori', 'modolo', 'moncini', 'monterisi', 'montipo', 'morachioli', 'moreo', 'moro', 'mosca', 'motta', 'motti', 'mulattieri', 'munaretti', 'mungo', 'murru', 'napolitano', 'nasti', 'natuzzi', 'nava', 'ndour', 'nespola', 'nicolussi', 'nuamah', 'nwachukwu', 'ogbonna', 'ojinnaka', 'okoli', 'olivieri', 'olzer', 'orfei', 'oristanio', 'orsolini', 'padelli', 'pagano', 'paghera', 'palmiero', 'palmisani', 'papetti', 'pardo', 'parisi', 'parodi', 'partipilo', 'passador', 'patane', 'pavoletti', 'pedro', 'pegolo', 'pellegri', 'pellegrini', 'perilli', 'perin', 'perisan', 'perri', 'pessina', 'petagna', 'petretta', 'pezzella', 'piccini', 'piccinini', 'piccoli', 'pierini', 'pierozzi', 'pietra', 'pigliacelli', 'pinamonti', 'pinsoglio', 'pirola', 'pisilli', 'pissardo', 'piton', 'pittino', 'pobega', 'politano', 'polizzi', 'porcino', 'pozzato', 'prati', 'prato', 'priore', 'provazza', 'provedel', 'pucino', 'quagliata', 'rabbi', 'rana', 'ranieri', 'ranocchia', 'rao', 'raspadori', 'ravaglia', 'ravanelli', 'reinthaler', 'renzetti', 'retegui', 'ricci', 'rigione', 'rocchetti', 'romagnoli', 'ronchi', 'rosseti', 'rossi', 'rovella', 'rovere', 'rugani', 'ruggeri', 'russo', 'sabelli', 'saiani', 'sala', 'salandria', 'salvati', 'sansone', 'saro', 'sarr', 'scacchetti', 'scaglia', 'scalvini', 'scamacca', 'sciglio', 'scuffet', 'seculin', 'seghetti', 'segre', 'sekulov', 'sensi', 'sepe', 'serio', 'sernicola', 'shaarawy', 'siligardi', 'silvestri', 'sodero', 'soleri', 'sommariva', 'sorrentino', 'sottil', 'spinazzola', 'sportiello', 'stabile', 'tantalocchi', 'tavernaro', 'terracciano', 'theiner', 'toloi', 'tonali', 'tonelli', 'tongya', 'torrasi', 'tripaldelli', 'troiani', 'trombini', 'tsadjout', 'tuia', 'turati', 'tuzzo', 'udogie', 'valente', 'valeri', 'valoti', 'vannucchi', 'venuti', 'verde', 'verratti', 'verre', 'vicario', 'vignali', 'vignato', 'vinciguerra', 'viola', 'vismara', 'viti', 'vitis', 'viviani', 'vogliacco', 'volpato', 'yeboah', 'zaccagni', 'zampano', 'zanchi', 'zanimacchia', 'zaniolo', 'zanoli', 'zappa', 'zappacosta', 'zerbin', 'zeroli', 'zilli', 'zortea', 'zucco', 'zuelli'], 'jm': ['anderson', 'antonio', 'bailey', 'bell', 'blake', 'boyce-clarke', 'brown', 'burke', 'east', 'fray', 'gray', 'harding', 'hector', 'hutchinson', 'johnson', 'lembikisa', 'lowe', 'nicholson', 'pinnock', 'powell', 'reid', 'roofe'], 'jo': ['al-shanaineh', 'al-tamari'], 'jp': ['abe', 'akiyama', 'amano', 'ando', 'anzai', 'aoki', 'aoyama', 'arai', 'araki', 'arano', 'asada', 'asano', 'awaka', 'baba', 'bangunagande', 'barada', 'chajima', 'chase', 'chiba', 'chida', 'chinen', 'disaro', 'doan', 'doi', 'egawa', 'endo', 'esaka', 'fantini', 'fitzgerald', 'fujii', 'fujimoto', 'fujita', 'fujiwara', 'fukai', 'fukazawa', 'fukuda', 'fukui', 'fukumori', 'fukuoka', 'fukuta', 'funabashi', 'funaki', 'furuhashi', 'furukawa', 'goddard', 'gyotoku', 'hakamata', 'handa', 'hara', 'harada', 'haraguchi', 'harakawa', 'hasebe', 'hasegawa', 'hashimoto', 'hata', 'hatanaka', 'hatano', 'hatate', 'hatsuse', 'hayakawa', 'hayasaka', 'hayashi', 'hidaka', 'higashi', 'higashiguchi', 'higuchi', 'hino', 'hiraga', 'hirano', 'hiraoka', 'hirato', 'hirose', 'homma', 'honda', 'horigome', 'horiuchi', 'hoshi', 'hosoya', 'ibusuki', 'ichikawa', 'ichimi', 'ichimori', 'ide', 'ideguchi', 'ieizumi', 'ienaga', 'iida', 'iikura', 'iino', 'ikeda', 'inagaki', 'inami', 'inamura', 'inoue', 'inukai', 'ishige', 'ishihara', 'ishii', 'ishikawa', 'ishiyama', 'itakura', 'ito', 'iwanami', 'iwao', 'iwata', 'iwatake', 'iyoha', 'izumi', 'kabayama', 'kagawa', 'kajikawa', 'kakita', 'kamada', 'kamifukumoto', 'kamijima', 'kamiya', 'kanda', 'kaneko', 'karashima', 'kashiwa', 'katayama', 'kato', 'kawabe', 'kawaguchi', 'kawahara', 'kawamura', 'kawanami', 'kawasaki', 'kawata', 'kawazura', 'kazuki', 'kazunari', 'kida', 'kido', 'kikuchi', 'kimoto', 'kimura', 'kinoshita', 'kishimoto', 'kitano', 'kiyotake', 'ko', 'kobayashi', 'kodama', 'koga', 'koike', 'koizumi', 'kojima', 'kokubo', 'komai', 'komi', 'kondo', 'konno', 'koroki', 'koshimichi', 'kosugi', 'koyamatsu', 'kozuki', 'kubo', 'kumasaka', 'kumasawa', 'kunimoto', 'kurata', 'kurokawa', 'kurumaya', 'kuwasaki', 'machida', 'maeda', 'maekawa', 'maie', 'maikuma', 'maruhashi', 'maruyama', 'masa', 'masui', 'masukake', 'matsubara', 'matsuda', 'matsuhashi', 'matsuki', 'matsumoto', 'matsumura', 'matsuo', 'mawatari', 'meshino', 'miki', 'mikuni', 'minamino', 'misao', 'mita', 'mito', 'mitoma', 'mitsumaru', 'mitsuta', 'miura', 'miyagi', 'miyahara', 'miyaichi', 'miyamoto', 'miyashiro', 'miyayoshi', 'miyazawa', 'miyoshi', 'mizoguchi', 'mizunuma', 'mizuta', 'mori', 'morishige', 'morishima', 'morishita', 'morita', 'moriya', 'morooka', 'murakami', 'murata', 'muroi', 'muroya', 'muto', 'nagai', 'nagakura', 'naganuma', 'nagasawa', 'nagato', 'nagatomo', 'nago', 'nakagawa', 'nakahara', 'nakajima', 'nakama', 'nakamura', 'nakano', 'nakasaka', 'nakatani', 'nakayama', 'nambu', 'narahara', 'nduka', 'nemoto', 'niekawa', 'nishikawa', 'nishimura', 'nishino', 'nishio', 'noborizato', 'noda', 'nogami', 'nono', 'notsuda', 'nozawa', 'obinna', 'oda', 'ogashiwa', 'ogawa', 'ogihara', 'ogiwara', 'ohara', 'ohashi', 'ohata', 'oiwa', 'oka', 'okada', 'okamoto', 'okamura', 'okubo', 'okuda', 'okugawa', 'okuno', 'okunuki', 'ominami', 'omori', 'onaga', 'onaiwu', 'ono', 'onose', 'osako', 'oshima', 'ota', 'owie', 'park', 'pisano', 'popp', 'saito', 'saka', 'sakai', 'sakaiya', 'sakakibara', 'sakamoto', 'sakata', 'sakuragawa', 'sakurai', 'sana', 'sanada', 'saneto', 'sano', 'saruta', 'sasaki', 'sato', 'schmidt', 'segawa', 'sekigawa', 'sekine', 'seko', 'shibasaki', 'shibayama', 'shichi', 'shigehiro', 'shiihashi', 'shimada', 'shimizu', 'shindo', 'shiogai', 'shiotani', 'shirai', 'shirasaki', 'someno', 'stayman', 'suga', 'sugai', 'sugawara', 'sugeno', 'sugimoto', 'sugioka', 'sugita', 'suto', 'suwama', 'suzuki', 'tachi', 'tachibanada', 'tagawa', 'taira', 'takagi', 'takahashi', 'takai', 'takamine', 'takao', 'takaoka', 'takayama', 'takeda', 'taku', 'tameda', 'tanabe', 'tanaka', 'taniguchi', 'tatsuta', 'tawaratsumida', 'tawiah', 'terakado', 'terasaka', 'terayama', 'tezuka', 'togashi', 'tokuda', 'tokumoto', 'tomii', 'tomiyasu', 'tono', 'toriumi', 'toshima', 'toyama', 'toyokawa', 'tsuchiya', 'tsukagawa', 'tsukui', 'tsunashima', 'uchida', 'uchino', 'ueda', 'ueebisu', 'uejo', 'uenaka', 'ugajin', 'unoki', 'ura', 'urata', 'usami', 'usui', 'wada', 'wakisaka', 'watanabe', 'wermeskerken', 'yachida', 'yamada', 'yamagishi', 'yamaguchi', 'yamakawa', 'yamakoshi', 'yamami', 'yamamoto', 'yamamura', 'yamanaka', 'yamane', 'yamasaki', 'yamashita', 'yamauchi', 'yamazaki', 'yasui', 'yokota', 'yokoyama', 'yonemoto', 'yoshida', 'yoshimitsu', 'yoshino', 'yoshio', 'yui', 'yuruki', 'zhang'], 'ke': ['odada', 'okumu', 'olunga', 'onyango', 'ouma', 'shichenje', 'sichenje', 'wanyama'], 'kg': ['duishoev', 'merk'], 'kh': ['choun', 'lim', 'vicheth'], 'km': ['bachirou', 'bakari', 'daou', 'hamada', 'mahamoud', 'maolida', 'pandor', 'said', 'youssouf', 'zahary'], 'kn': ['sawyers'], 'kp': ['an'], 'kr': ['ahn', 'an', 'bae', 'baek', 'cheon', 'cho', 'choe', 'choi', 'eo', 'eom', 'gi', 'go', 'gong', 'goo', 'gu', 'gun-hee', 'ha', 'han', 'hong', 'hwang', 'hyeon-mu', 'im', 'ja-woong', 'jang', 'jeon', 'jeong', 'ji', 'ji-hwan', 'jin', 'jo', 'joo', 'joon-ho', 'joung', 'jun-ho', 'jung', 'kang', 'ki', 'kim', 'ko', 'koh', 'koo', 'kwak', 'kweon', 'kwon', 'lee', 'lim', 'ma', 'maeng', 'min', 'min-hyeok', 'min-kwang', 'mo', 'moon', 'myung', 'nam', 'oh', 'paik', 'park', 'rim', 'ryu', 'sang-joon', 'seo', 'seol', 'shin', 'sim', 'sin', 'son', 'song', 'sung', 'sung-hoon', 'um', 'won', 'yang', 'yeon', 'yong-jun', 'yoo', 'yoon', 'yu', 'yu-sung', 'yun'], 'kz': ['abdulla', 'alip', 'askarov', 'asrankulov', 'astanov', 'aymbetov', 'azhimov', 'basmanov', 'baytana', 'beysebekov', 'bozhko', 'buranchiev', 'buribayev', 'busurmanov', 'bystrov', 'chesnokov', 'chirkov', 'dosmagambetov', 'emirov', 'ermekbaev', 'kairov', 'karimov', 'kasabulat', 'kassym', 'kenessov', 'kenzhegulov', 'kuat', 'kurgin', 'kusyapov', 'marochkin', 'melikhov', 'muzhikov', 'orazov', 'pivkin', 'podymskiy', 'pokatilov', 'sadybekov', 'samorodov', 'seidakhmet', 'seisen', 'shatskiy', 'shomko', 'shushenachev', 'shvyrev', 'sovet', 'tanzharikov', 'tapalov', 'tkachenko', 'trofimets', 'trufanov', 'ulshin', 'ustimenko', 'valiullin', 'vasiljev', 'vorogovskiy', 'zainutdinov', 'zarutskiy', 'zhaksylyk', 'zhakupov', 'zhumabek', 'zhumabekov', 'zhumashev'], 'lb': ['lajud', 'lawati', 'maatouk', 'michel', 'sisi'], 'lc': ['donacien', 'thomas'], 'li': ['buchel', 'foser', 'hasler', 'luchinger', 'tiado', 'traber', 'wieser'], 'lk': ['hingert', 'kammerknecht'], 'lr': ['dorley', 'dweh', 'farkarlun', 'gono', 'njie', 'weah'], 'lt': ['adamonis', 'aliukonis', 'baksys', 'cernych', 'gineitis', 'golubickas', 'jansonas', 'kazukolovas', 'lasickas', 'lickunas', 'matulevicius', 'matyzonok', 'mikulenas', 'romanovskij', 'sadauskas', 'sasnauskas', 'setkus', 'sirvys', 'verbickas', 'zubas'], 'lu': ['barreiro', 'bohnert', 'chanot', 'mahmutovic', 'martins', 'moris', 'pinto', 'rodrigues', 'selimovic', 'sinani'], 'lv': ['beks', 'cernomordijs', 'cucurs', 'daskevics', 'ikaunieks', 'iljins', 'jurkovskis', 'kigurs', 'leitis', 'makreckis', 'matrevics', 'mickevics', 'nerugals', 'oss', 'purins', 'regza', 'savalnieks', 'sedols', 'sits', 'steinbors', 'stuglis', 'tobers', 'valutadatils', 'zaleiko', 'zelenkovs', 'zommers'], 'ly': ['benali', 'musrati', 'shafshuf', 'suleiman'], 'ma': ['abde', 'abdelhamid', 'aboukhlal', 'aboulfath', 'abqar', 'achik', 'adli', 'agouzoul', 'aguerd', 'akhomach', 'alakouch', 'amallah', 'amloud', 'amrabat', 'amri', 'anuar', 'arguigue', 'arrassi', 'aynaoui', 'aznou', 'azzouzi', 'baallal', 'bahri', 'bari', 'barkok', 'bassi', 'belammari', 'belkhdim', 'bellaarouch', 'bencharki', 'benoun', 'benrahou', 'bentarcha', 'bentayg', 'bidaoui', 'bono', 'boualam', 'boucheta', 'bouchouari', 'boufal', 'bouftini', 'bougrine', 'bouhra', 'boujellab', 'boulacsout', 'bouldini', 'boutouil', 'brahim', 'chair', 'chebake', 'cheddira', 'diaz', 'diop', 'edjouma', 'el-arabi', 'el-maach', 'en-nesyri', 'ennaffati', 'falouh', 'farhane', 'fettal', 'gaddarine', 'gazaoui', 'ghalidi', 'habach', 'haddad', 'hafid', 'haimoud', 'haitam', 'hajjam', 'hakimi', 'hamdallah', 'harit', 'harkass', 'harroui', 'hilali', 'housni', 'idrissi', 'jabbari', 'jabrane', 'jahouh', 'jawar', 'jebari', 'kaabi', 'kaddouri', 'kandouss', 'karouani', 'kechta', 'khafifi', 'khammas', 'khannouss', 'labib', 'lahtimi', 'louza', 'maamma', 'maftah', 'mahrous', 'makaazi', 'maleh', 'maouhoub', 'marmouk', 'masina', 'mazraoui', 'mchakhchekh', 'messaoudi', 'mmaee', 'mokadem', 'motie', 'moubarik', 'moueffek', 'moufi', 'moumen', 'mourabet', 'mourad', 'munir', 'nachet', 'nadir', 'omari', 'ouahdi', 'ouahim', 'ouazzani', 'oudrhiri', 'ounahi', 'ounajem', 'rabii', 'rahimi', 'raihani', 'riad', 'richardson', 'sadaoui', 'sadik', 'saibari', 'sakhi', 'salah', 'seghir', 'serrhat', 'slim', 'souboul', 'taha', 'tahiri', 'tallal', 'targhalline', 'tissoudali', 'wardi', 'zarkane', 'zaroury', 'zemraoui', 'zerhouni', 'zila', 'ziyech', 'zniti', 'zoubir', 'zrida'], 'md': ['birdan', 'botan', 'celeadnic', 'cociuc', 'dijinari', 'forov', 'gaiu', 'ghecev', 'nicolaescu', 'pascenco', 'plesca', 'reabciuk', 'straistari'], 'me': ['bakic', 'bardic', 'cavnic', 'djuka', 'djurickovic', 'dreskovic', 'drincic', 'grubac', 'haksabanovic', 'ivanic', 'jankovic', 'jovetic', 'krstovic', 'kuc', 'lagator', 'ljuljanovic', 'loncar', 'marusic', 'matanovic', 'mugosa', 'osmajic', 'radinovic', 'radunovic', 'raso', 'rubezic', 'sarkic', 'savic', 'scekic', 'sipcic', 'stojkovic', 'tuci', 'uskokovic', 'vesovic', 'vujacic', 'vukcevic', 'vukotic'], 'mf': ['lebon'], 'mg': ['fontaine', 'gardies', 'laiton', 'lala', 'lapoussin', 'raveloson'], 'mk': ['abdurahimi', 'ademi', 'alioski', 'altiparmakovski', 'amanovic', 'babunski', 'bardhi', 'bejtulai', 'churlinov', 'colakovski', 'desnikj', 'dimitrievski', 'elezi', 'elmas', 'gacevski', 'glisic', 'iliev', 'janevski', 'micevski', 'miovski', 'musliu', 'najdovski', 'nikolovski', 'rakip', 'ristovski', 'stojchevski', 'trajkovski', 'trickovski', 'veceski'], 'ml': ['bissouma', 'camara', 'cisse', 'coulibaly', 'dante', 'diaby', 'diakite', 'diambou', 'diarra', 'diawara', 'dicko', 'dieng', 'djenepo', 'dorgeles', 'doucoure', 'doumbia', 'drame', 'fofana', 'guindo', 'haidara', 'keita', 'koita', 'konate', 'kone', 'kouame', 'koumare', 'kouyate', 'kyabou', 'marega', 'niakate', 'sacko', 'samake', 'samassekou', 'siby', 'sidibe', 'sinayoko', 'sissokho', 'sissoko', 'toungara', 'tounkara', 'toure', 'traore', 'yalcouye', 'zohi'], 'mq': ['burner', 'clementia', 'duville-parsemain', 'farade', 'herelle', 'labonne', 'mandouki', 'moltenis', 'moutachy', 'percin', 'sebas', 'theophile-catherine'], 'mr': ['aly', 'amar', 'diaw', 'houbeib', 'kamara', 'niasse', 'soueid'], 'ms': ['dorsett'], 'mt': ['attard', 'scicluna', 'teuma', 'tuma'], 'mu': ['collard', 'rose'], 'mw': ['banda', 'phiri'], 'mx': ['abella', 'acevedo', 'aceves', 'acuna', 'aguayo', 'aguila', 'aguilar', 'aguirre', 'alba', 'alcantar', 'allison', 'almanza', 'alvarado', 'alvarez', 'ambriz', 'andrade', 'angulo', 'antuna', 'aquino', 'arana', 'araujo', 'arciga', 'armenta', 'arteaga', 'ayala', 'ayon', 'baltazar', 'barajas', 'barbosa', 'barragan', 'barrera', 'bass', 'basulto', 'bautista', 'bellon', 'beltran', 'berlanga', 'bermudez', 'betancourt', 'blanco', 'bravo', 'brigido', 'briseno', 'brizuela', 'budib', 'buen', 'bustos', 'calderon', 'camacho', 'campillo', 'campos', 'cantu', 'cardenas', 'carmona', 'carrillo', 'castaneda', 'castillo', 'castro', 'cerna', 'cervantes', 'chavez', 'chicharito', 'cisneros', 'colula', 'contreras', 'cordova', 'corona', 'cortes', 'cortez', 'cortizo', 'cota', 'cruz', 'damm', 'derbez', 'diaz', 'dominguez', 'duenas', 'duran', 'echeverria', 'egurrola', 'el-mesmari', 'escamilla', 'escobar', 'escoboza', 'escoto', 'espinoza', 'esqueda', 'esquivel', 'estrada', 'eulogio', 'fernandez', 'fierro', 'figueroa', 'flores', 'franco', 'fuentes', 'fulgencio', 'galdames', 'galicia', 'gallardo', 'gamboa', 'garcia', 'garnica', 'garza', 'gimenez', 'godinez', 'gomez', 'gonzalez', 'govea', 'grijalva', 'guardado', 'gudino', 'guemez', 'guerrero', 'guillen', 'gutierrez', 'guzman', 'hernandez', 'herrera', 'higuera', 'holguin', 'huescas', 'iniestra', 'isais', 'iturbide', 'jaime', 'jimenez', 'jordan', 'juarez', 'jurado', 'lainez', 'lajud', 'lara', 'larios', 'ledesma', 'leone', 'levy', 'lira', 'lopez', 'lorona', 'lozano', 'luna', 'macias', 'madrid', 'madrigal', 'maduena', 'magana', 'malagon', 'manzanarez', 'marin', 'mariscal', 'marquez', 'martin', 'martinez', 'mayorga', 'medina', 'mejia', 'mendoza', 'meraz', 'meza', 'monreal', 'montano', 'montes', 'montiel', 'mora', 'morales', 'moreno', 'moxica', 'mozo', 'munoz', 'navarro', 'naveda', 'ocejo', 'ochoa', 'olivas', 'ordonez', 'organista', 'orona', 'orozco', 'orquin', 'orrantia', 'ortega', 'ortiz', 'padilla', 'parra', 'partida', 'pedraza', 'pena', 'perez', 'perez-bouquet', 'pineda', 'pinuelas', 'pizarro', 'pizzuto', 'prieto', 'pulido', 'purata', 'quinones', 'ramirez', 'ramos', 'rangel', 'rey', 'reyes', 'rios', 'robles', 'rocha', 'rodas', 'rodriguez', 'romero', 'romo', 'rosa', 'rubio', 'ruiz', 'salas', 'salcedo', 'sanchez', 'sandoval', 'sansores', 'santana', 'santillan', 'santillana', 'santos', 'sepulveda', 'serrato', 'silva', 'suarez', 'talavera', 'tapia', 'tapias', 'tecatito', 'tejeda', 'tercero', 'tona', 'torres', 'trejo', 'uribe', 'urtiaga', 'valadez', 'valenzuela', 'vargas', 'vasquez', 'vazquez', 'vega', 'velazquez', 'venegas', 'vigon', 'villa', 'villal', 'villalpando', 'villanueva', 'villarreal', 'villegas', 'violante', 'yrizar', 'zago', 'zaldivar', 'zaleta', 'zapata'], 'my': ['abba', 'ahmad', 'aidil', 'aiman', 'azlin', 'cools', 'corbin-ong', 'davies', 'endrick', 'faiz', 'faizal', 'fazail', 'feroz', 'hazmi', 'insa', 'marlias', 'nadzli', 'rahim', 'rashid', 'rasid', 'saad', 'safari', 'saifullah', 'sumareh'], 'mz': ['catamo', 'edmilson', 'guima', 'junior', 'langa', 'miquissone', 'reinildo', 'witi'], 'na': ['hotto', 'nyambe', 'shalulile', 'starke'], 'ne': ['badamassi', 'diadje', 'mohamed', 'moumouni', 'moussa', 'soumana', 'wonkoye'], 'ng': ['abdullahi', 'abiama', 'adams', 'adeboyejo', 'adegbenro', 'adejo', 'ademo', 'adeola', 'agada', 'agba', 'agbo', 'ahanonu', 'aina', 'ajagun', 'ajayi', 'akas', 'akinsanmiro', 'akpan', 'akpoguma', 'akpudje', 'aliyu', 'aluko', 'ambrose', 'ankeye', 'aremu', 'aribo', 'arokodare', 'awaziem', 'awoniyi', 'balogun', 'bamgboye', 'bassey', 'bello', 'benito', 'boniface', 'buhari', 'chukwueze', 'collins', 'daga', 'dele-bashiru', 'dennis', 'dessers', 'durosinmi', 'ebere', 'ebuehi', 'edet', 'ejuke', 'ekpolo', 'eletu', 'esiti', 'essien', 'ewemade', 'fredrick', 'ghali', 'harrison', 'ibrahim', 'iheanacho', 'ikwuemesi', 'innocent', 'israel', 'kehinde', 'lawal', 'lookman', 'lucky', 'maja', 'matthew', 'michael', 'moffi', 'momoh', 'moses', 'mukairu', 'ndah', 'ndidi', 'nwakali', 'nwobodo', 'nwokoma', 'obi', 'obiora', 'odey', 'ogbu', 'ogungbayi', 'ogunji', 'oguns', 'ojediran', 'ojo', 'okardi', 'okereke', 'okoye', 'olanare', 'olatunji', 'olayinka', 'olusegun', 'oluwaseyi', 'onovo', 'onuachu', 'onyedika', 'onyeka', 'onyemaechi', 'orban', 'osayi-samuel', 'osimhen', 'otele', 'otubanjo', 'pius', 'rafiu', 'rasheed', 'sadiq', 'samson', 'sarki', 'simon', 'simy', 'somiari', 'sor', 'success', 'taiwo', 'tella', 'tijani', 'tochukwu', 'torunarigha', 'troost-ekong', 'ubah', 'ubandoma', 'udoh', 'ujah', 'usor', 'uzoho', 'yusuf', 'zaidu'], 'ni': ['acevedo', 'batiz', 'cerda', 'chavarria', 'fletes', 'flores', 'forvis', 'garcia', 'guardado', 'gutierrez', 'hernandez', 'loaisiga', 'lopez', 'martinez', 'nino', 'obando', 'ordonez', 'perez', 'quijano', 'salandia', 'soto', 'talavera', 'vallecillo'], 'nl': ['aanholt', 'abels', 'addai', 'aertssen', 'ake', 'altena', 'amadin', 'amersfoort', 'avest', 'azarkan', 'babadi', 'bais', 'bakker', 'bal', 'banel', 'baron', 'bazoer', 'beek', 'beelen', 'bekkema', 'belt', 'berg', 'bergen', 'berger', 'berghuis', 'bergsen', 'bergwijn', 'besselink', 'beukema', 'beukers', 'bijlow', 'bizot', 'blind', 'blokzijl', 'boadu', 'boer', 'boevink', 'bohemen', 'bommel', 'boomen', 'botman', 'boultam', 'bramel', 'branderhorst', 'brandes', 'brederode', 'breemen', 'brenet', 'brobbey', 'brouwers', 'bruns', 'buitink', 'buren', 'burger', 'burgzorg', 'burnet', 'cissoko', 'clasie', 'clement', 'cornelisse', 'dahri', 'dallinga', 'dammers', 'danjuma', 'deen', 'dekker', 'diemers', 'dijk', 'diks', 'dilrosun', 'doekhi', 'dongen', 'drommel', 'duivenbooden', 'dumfries', 'edhart', 'eduardo', 'ee', 'eerdhuijzen', 'egbring', 'ehizibue', 'eiting', 'ekkelenkamp', 'emegha', 'fernandes', 'fitz-jim', 'flamingo', 'flekken', 'flemming', 'fofana', 'fosu-mensah', 'frimpong', 'gadellaa', 'gakpo', 'geertruida', 'ginkel', 'goes', 'gooijer', 'gorter', 'goselink', 'gouweleeuw', 'graaff', 'gravenberch', 'grot', 'guzman', 'haan', 'haar', 'haas', 'hall', 'hamer', 'hart', 'hartman', 'hateboer', 'hato', 'hecke', 'hendriks', 'hendrix', 'henriques', 'heuvel', 'hilgers', 'hoedt', 'hoever', 'hooijdonk', 'hoorn', 'huisman', 'indi', 'ismail', 'janssen', 'jonathans', 'jong', 'jonge', 'jurjus', 'juste', 'kaap', 'kalokoh', 'kaparos', 'karsdorp', 'karssies', 'kasanwirjo', 'kasius', 'kerk', 'klaassen', 'klaverboer', 'kluivert', 'koch', 'kok', 'kongolo', 'koopmeiners', 'kooy', 'kostons', 'kramer', 'kuijsten', 'kuiper', 'kuipers', 'kwakman', 'lammers', 'land', 'lang', 'leeuwenburgh', 'leicester', 'leliendal', 'lewis', 'ligt', 'linssen', 'loeffen', 'looi', 'lourens', 'luckassen', 'maarel', 'maatsen', 'maddy', 'mahdioui', 'malacia', 'malen', 'manhoef', 'mariani', 'martha', 'mastoras', 'mattheij', 'matusiwa', 'meerdink', 'meijer', 'meijster', 'meissen', 'memphis', 'menig', 'mesbahi', 'meulensteen', 'mijnans', 'milambo', 'misehouy', 'mukeh', 'musampa', 'nieff', 'nieuwkoop', 'nijhuis', 'nooijer', 'noppert', 'noslin', 'nunumete', 'obispo', 'ohio', 'olij', 'oostenbrink', 'oosterwolde', 'ottele', 'oulad', 'ouwejan', 'overeem', 'owusu-oduro', 'owusu-sekyere', 'padt', 'paes', 'pasveer', 'pelupessy', 'pherai', 'pieters', 'piroe', 'plaat', 'poku', 'postema', 'potma', 'prins', 'promes', 'propper', 'ramselaar', 'read', 'regeer', 'regt', 'rehmi', 'reijnders', 'reis', 'rekik', 'remie', 'rensch', 'riedewald', 'rijkhoff', 'romeny', 'roon', 'roos', 'rosario', 'rots', 'salah-eddine', 'sambo', 'sas', 'schenkeveld', 'scherpen', 'schiks', 'schoonderwaldt', 'schouten', 'schraven', 'schreuders', 'schuurs', 'seelt', 'simons', 'sinkgraven', 'sloot', 'slor', 'slory', 'smal', 'smit', 'spierings', 'stam', 'steijn', 'stengs', 'streek', 'strootman', 'struijk', 'summerville', 'symons', 'taabouni', 'tavsan', 'taylor', 'tete', 'teze', 'tielemans', 'til', 'timber', 'toornstra', 'triep', 'turay', 'uneken', 'veerman', 'velthuis', 'veltman', 'ven', 'vennegoor', 'vente', 'verbruggen', 'verhulst', 'verlaat', 'vermeij', 'vianello', 'viergever', 'vilhena', 'visser', 'vlap', 'vos', 'vriends', 'vrij', 'wageningen', 'warmerdam', 'waterman', 'weert', 'weghorst', 'westerveld', 'wieffer', 'wijnaldum', 'wijndal', 'wijs', 'wit', 'witteveen', 'wolfswinkel', 'yuksel', 'zechiel', 'zeefuik', 'zeggen', 'zirkzee', 'zoet', 'zwam', 'zwarts'], 'no': ['aasgaard', 'ajer', 'amundsen', 'arnstad', 'asen', 'askildsen', 'auklend', 'aursnes', 'austbo', 'bakke', 'bassi', 'berg', 'berge', 'berisha', 'bjorkan', 'bjornbak', 'bjorshol', 'bjortuft', 'blomberg', 'bobb', 'bohinen', 'borkeeiet', 'borsheim', 'botheim', 'braude', 'breivik', 'broholm', 'brondbo', 'brynhildsen', 'ceide', 'cornic', 'daehli', 'donnum', 'dyngeland', 'edh', 'egeli', 'eid', 'eikrem', 'elabdellaoui', 'ellingsen', 'elyounoussi', 'eriksen', 'espejord', 'evjen', 'fet', 'fiabema', 'finne', 'foss', 'furaha', 'gabrielsen', 'garnas', 'gjengaar', 'glesnes', 'granaas', 'gregersen', 'gulbrandsen', 'gulliksen', 'gundersen', 'haaland', 'hagerup', 'hanche-olsen', 'hansen-aaroen', 'haug', 'haugan', 'hauge', 'haugen', 'hedenstad', 'heggebo', 'heggheim', 'heintz', 'helland', 'henriksen', 'hernes', 'hestad', 'hjelde', 'hoff', 'hoibraten', 'holm', 'holte', 'horn', 'hove', 'inge', 'jamne', 'jatta', 'jenssen', 'johansen', 'johnsen', 'juberg-hovland', 'kaasa', 'kamanzi', 'kapskarmo', 'karlsbakk', 'karlstrom', 'kartum', 'king', 'kitolano', 'kjolo', 'klaesson', 'klausen', 'klingen', 'knudsen', 'knudtzon', 'kristiansen', 'kvia-egeskog', 'lanlay', 'larsen', 'lauritsen', 'lien', 'lindseth', 'linnes', 'lokberg', 'lovik', 'lund', 'lundemo', 'maatta', 'mannsverk', 'mathisen', 'meling', 'mikkelsen', 'moe', 'mvuka', 'myhra', 'nasberg', 'nguen', 'nielsen', 'nilsen', 'nordli', 'nusa', 'nyheim', 'nyland', 'nypan', 'odegaard', 'omoijuanfo', 'ostbo', 'ostigard', 'ove', 'oyvann', 'paulsen', 'pedersen', 'pellegrino', 'pereira', 'petersen', 'ranger', 'rasmussen', 'remmem', 'risa', 'roaldsoy', 'rosted', 'ryerson', 'saeter', 'sahraoui', 'saltnes', 'salvesen', 'sandberg', 'sande', 'schjelderup', 'sebulonsen', 'seferi', 'selnaes', 'sjong', 'sjovold', 'skaarud', 'skarsem', 'skeide', 'skjelvik', 'skogvold', 'solbakken', 'soltvedt', 'sorli', 'sorloth', 'stenevik', 'sunde', 'svendsen', 'svensson', 'tagseth', 'tangen', 'tangvik', 'thorsby', 'thorstvedt', 'tonnesen', 'torsvik', 'tripic', 'trondsen', 'tronstad', 'velde', 'vetlesen', 'vetti', 'vevatne', 'volden', 'wallem', 'wassberg', 'wembangomo', 'wikheim', 'witry', 'wolfe', 'zachariassen', 'zafeiris', 'zahid'], 'nz': ['barbarouses', 'bell', 'bindon', 'boxall', 'cacace', 'conchie', 'dibley-dias', 'gillion', 'gray', 'hattum', 'heijer', 'herdman', 'howieson', 'hughes', 'ilich', 'ingham', 'kelly-heald', 'kilkolly', 'lee', 'lobo', 'manickum', 'mcgarry', 'mitchell', 'morris', 'old', 'paulsen', 'payne', 'rogers', 'rojas', 'roux', 'rufer', 'sail', 'sheridan', 'singh', 'sloane', 'stamenic', 'supyk', 'surman', 'sutton', 'tracey', 'tuiloma', 'ukich', 'vries', 'waine', 'wallis', 'wood'], 'om': ['al-aghbari', 'al-rusheidi'], 'pa': ['anderson', 'andrade', 'barcenas', 'blackman', 'carrasquilla', 'cedeno', 'cordoba', 'cunningham', 'diaz', 'escobar', 'fajardo', 'godoy', 'gunn', 'gutierrez', 'harvey', 'mejia', 'mosquera', 'murillo', 'ramos', 'rodriguez', 'serrano', 'small', 'valencia', 'vargas', 'waterman', 'welch'], 'pe': ['abram', 'advincula', 'aguinaga', 'aguirre', 'alarcon', 'alcala', 'alfaro', 'amasifuen', 'ancajima', 'anderson', 'angeles', 'aparicio', 'aquino', 'aranda', 'araujo', 'archimbaud', 'arevalo', 'arias', 'ascues', 'aucca', 'avila', 'ballon', 'bances', 'barbieri', 'barco', 'barreto', 'benavente', 'benites', 'bilbao', 'bolivar', 'caballero', 'cabanillas', 'cabello', 'cabellos', 'cabezudo', 'cabrera', 'caceda', 'caceres', 'calcaterra', 'calderon', 'callens', 'campos', 'cana', 'cano', 'carbajal', 'carranza', 'carreno', 'cartagena', 'carvallo', 'castillo', 'cavagna', 'cavero', 'ccorahua', 'celi', 'cespedes', 'chavez', 'chicoma', 'concha', 'cordova', 'correa', 'corzo', 'cossio', 'costa', 'cruz', \"d'arrigo\", 'david', 'davila', 'deneumostier', 'diaz', 'dioses', 'duarte', 'enrique', 'espinoza', 'estrada', 'farro', 'fernandez', 'ferreyra', 'flores', 'franco', 'fuentes', 'gallese', 'ganoza', 'gaona', 'garces', 'garcia', 'garro', 'goicochea', 'gomez', 'gonzales', 'gordillo', 'grados', 'grimaldo', 'guadalupe', 'guerrero', 'guivin', 'gutierrez', 'guzman', 'heredia', 'hohberg', 'huaccha', 'huaman', 'hurtado', 'iberico', 'inga', 'lagos', 'lapadula', 'lazo', 'lecaros', 'liza', 'lliuya', 'llontop', 'lopez', 'lora', 'loyola', 'lutiger', 'madrid', 'medina', 'mesias', 'mifflin', 'minaya', 'morales', 'moyano', 'murrugarra', 'neira', 'nolasco', 'noronha', 'nunes', 'nunez', 'ojeda', 'olaya', 'olivares', 'ormeno', 'otoya', 'pacheco', 'palacios', 'panduro', 'paredes', 'pena', 'perez', 'pinto', 'polo', 'portales', 'portugal', 'posito', 'pretell', 'quevedo', 'quina', 'quinones', 'quintana', 'quispe', 'rabanal', 'rabines', 'ramirez', 'ramos', 'reategui', 'requena', 'reyes', 'reyna', 'rios', 'rivadeneyra', 'rivera', 'roca', 'rodriguez', 'rojas', 'romero', 'rueda', 'rugel', 'ruidiaz', 'ruiz', 'saba', 'salazar', 'salcedo', 'sanchez', 'sandoval', 'santamaria', 'santibanez', 'saravia', 'schmidt', 'schuler', 'serrano', 'solis', 'soyer', 'stucchi', 'succar', 'tamariz', 'tandazo', 'tapia', 'tavara', 'torre', 'torrejon', 'trauco', 'urrutia', 'valenzuela', 'valera', 'valle', 'vargas', 'vasquez', 'verlarde', 'vidal', 'vidales', 'vilchez', 'villalta', 'villamarin', 'villar', 'wisdom', 'yotun', 'yovera', 'ysique', 'zambrano', 'zamudio', 'zanelatto', 'zarabia', 'zevallos', 'zubczuk'], 'ph': ['baldisimo', 'etheridge', 'holtmann', 'kempter', 'linares', 'mendoza', 'obermair', 'strauss', 'tabinas'], 'pl': ['augustyniak', 'barczak', 'bednarek', 'benedyczak', 'bereszynski', 'bialkowski', 'bieganski', 'bielica', 'bielik', 'bochniewicz', 'bogusz', 'broda', 'brzozowski', 'buksa', 'bulka', 'capiga', 'cash', 'chrupalla', 'czerwinski', 'czyz', 'dawidowicz', 'dragowski', 'duda', 'dziuba', 'dzwigala', 'fabianski', 'fila', 'frankowski', 'gogol', 'grabara', 'gumny', 'gurgul', 'helik', 'hladun', 'idasiak', 'jagiello', 'janicki', 'jaroch', 'jedrzejczyk', 'jozwiak', 'kaluzinski', 'kaminski', 'kapustka', 'karbownik', 'kedziora', 'kiwior', 'klich', 'kolanko', 'kowalczyk', 'kownacki', 'kozlowski', 'krawczyk', 'krzyzanowski', 'kun', 'lachowicz', 'lakomy', 'lasicki', 'legowski', 'lewandowski', 'linetty', 'lisman', 'lubik', 'lukoszek', 'majecki', 'marchwinski', 'milik', 'miszta', 'moder', 'monka', 'mrozek', 'murawski', 'musiolik', 'nadolski', 'nawrocki', 'niemczycki', 'olejarka', 'olkowski', 'paclawski', 'peda', 'piatek', 'piatkowski', 'piotrowski', 'placheta', 'plewa', 'poreba', 'posiadala', 'pruchniewski', 'puchacz', 'rasak', 'reca', 'rosolek', 'rybus', 'salamon', 'sapala', 'sarga', 'skoras', 'skorupski', 'slisz', 'sobczak', 'soberka', 'sobiech', 'stepinski', 'stolarczyk', 'straczek', 'swiderski', 'szala', 'szczesniak', 'szczesny', 'szewczyk', 'szot', 'szromnik', 'szymanski', 'szymczak', 'szysz', 'talar', 'tobiasz', 'tomaszewski', 'tyton', 'urbanski', 'uryga', 'walukiewicz', 'wieteska', 'wisniewski', 'wlodarczyk', 'wszolek', 'zalewski', 'zawada', 'zielinski', 'ziolkowski', 'zurkowski', 'zyro'], 'pr': ['leon', 'rivera', 'valentin'], 'ps': ['aldeen', 'ali', 'hamed', 'jaber', 'mahajna', 'rashid'], 'pt': ['abreu', 'abubakar', 'agra', 'alcobia', 'aldair', 'almeida', 'alvaro', 'alves', 'amador', 'amaral', 'amaro', 'amorim', 'andre', 'andrezinho', 'antunes', 'araujo', 'aurelio', 'baio', 'bandarra', 'bandeira', 'baro', 'bastos', 'batista', 'benny', 'berna', 'bernardo', 'beto', 'bica', 'bondoso', 'borges', 'braganca', 'bras', 'brito', 'bruma', 'bruno', 'buta', 'cabrita', 'cafu', 'calila', 'camacho', 'cancelo', 'cardoso', 'carlos', 'carraca', 'carrico', 'carvalho', 'chaby', 'chermiti', 'china', 'chiquinho', 'chissumba', 'conceicao', 'correia', 'costa', 'costinha', 'crespo', 'cruz', 'cunha', 'dabo', 'dalot', 'daniel', 'dantas', 'delgado', 'dias', 'diga', 'djalo', 'domingos', 'duarte', 'embalo', 'encarnacao', 'erivaldo', 'esgaio', 'essugo', 'esteves', 'estrela', 'felix', 'fernandes', 'ferreira', 'ferro', 'figueira', 'figueiredo', 'firmino', 'florentino', 'folha', 'fonseca', 'fonte', 'franca', 'franco', 'freitas', 'gama', 'ganchas', 'garcia', 'gil', 'gomes', 'goncalves', 'gouveia', 'graca', 'grilo', 'guedes', 'guerreiro', 'guga', 'guilherme', 'guimaraes', 'guzzo', 'handel', 'henrique', 'horta', 'ii', 'ilori', 'inacio', 'joca', 'josue', 'jota', 'kiko', 'lamba', 'leao', 'ledes', 'leite', 'lopes', 'lourenco', 'macedo', 'machado', 'maga', 'malheiro', 'manafa', 'mangas', 'manso', 'manu', 'manuel', 'marafona', 'marakis', 'marcal', 'mario', 'marques', 'martins', 'matos', 'maximiano', 'melro', 'mendes', 'mica', 'miguel', 'miranda', 'monte', 'monteiro', 'montoia', 'morais', 'moreira', 'morim', 'mota', 'mouquet', 'moura', 'moutinho', 'nascimiento', 'neto', 'neves', 'nobrega', 'nogueira', 'nunes', 'oliveira', 'otavio', 'pacheco', 'paciencia', 'palhinha', 'patricio', 'paulinho', 'paulo', 'pedro', 'penetra', 'pepe', 'pereira', 'pina', 'pinheiro', 'pinho', 'pinto', 'pizzi', 'podence', 'prioste', 'quaresma', 'quenda', 'rafa', 'ramos', 'reisinho', 'reko', 'relvas', 'resende', 'ribeiro', 'ricardinho', 'robinho', 'rocha', 'rodrigues', 'roger', 'ronaldo', 'rui', 'sa', 'said', 'sambu', 'sanches', 'santos', 'seco', 'semedo', 'sena', 'serginho', 'serra', 'silla', 'silva', 'simao', 'simoes', 'soares', 'sousa', 'spencer', 'stitch', 'sualehe', 'tamble', 'tavares', 'taveira', 'teixeira', 'teles', 'tiba', 'tomane', 'tomas', 'travassos', 'trincao', 'tusso', 'ukra', 'valente', 'valido', 'veiga', 'veloso', 'vezo', 'vidigal', 'vieira', 'vieirinha', 'vinagre', 'virginia', 'vital', 'vitinha', 'watts', 'wilson', 'xadas', 'zequinha'], 'py': ['acosta', 'adorno', 'aguayo', 'aguilar', 'alborno', 'alcaraz', 'alderete', 'alegre', 'alfonzo', 'almada', 'almeida', 'almiron', 'alonso', 'alvarez', 'amarilla', 'aranda', 'arce', 'ardian', 'arevalo', 'arguello', 'armoa', 'arrua', 'arzamendia', 'avalos', 'baez', 'balbuena', 'barbotte', 'bareiro', 'barreto', 'barrios', 'benegas', 'benitez', 'blanco', 'bobadilla', 'bogado', 'bogarin', 'brizuela', 'caballero', 'cabrera', 'caceres', 'campuzano', 'canale', 'cano', 'cantero', 'cardozo', 'castellano', 'colman', 'cornet', 'coronel', 'cristaldo', 'cruz', 'cubas', 'delvalle', 'diaz', 'dietze', 'dionisi', 'doldan', 'dominguez', 'duarte', 'enciso', 'escobar', 'espinola', 'espinoza', 'farina', 'fernandez', 'ferreira', 'franco', 'fretes', 'frutos', 'galarza', 'galeano', 'gamarra', 'gavilan', 'gimenez', 'gomez', 'gonzalez', 'ibarrola', 'iturbe', 'jacquet', 'jara', 'jesus', 'jimenez', 'kaku', 'leguizamon', 'lesme', 'lezcano', 'lopez', 'lucena', 'lugo', 'marabel', 'marin', 'martinez', 'medina', 'melgarejo', 'mencia', 'mendieta', 'mendoza', 'meza', 'miers', 'mino', 'molinas', 'montenegro', 'morales', 'moreira', 'morel', 'morinigo', 'noguera', 'nunez', 'ocampos', 'ojeda', 'olmedo', 'ortigoza', 'ortiz', 'orzu', 'otazu', 'ovelar', 'oviedo', 'paiva', 'paniagua', 'paredes', 'parzajuk', 'peralta', 'pereira', 'perez', 'piris', 'pitta', 'portillo', 'quintana', 'ramirez', 'recalde', 'redes', 'rivas', 'riveros', 'robles', 'rodriguez', 'rojas', 'roman', 'romero', 'rotela', 'ruiz', 'salcedo', 'samudio', 'sanabria', 'sanchez', 'santacruz', 'santander', 'serdan', 'servin', 'silva', 'silvero', 'sosa', 'suarez', 'torales', 'torres', 'valdez', 'valiente', 'vargas', 'velazquez', 'vera', 'viera', 'villalba', 'villalva', 'villasanti', 'zaracho', 'zarate', 'zayas'], 'qa': ['aaeldin', 'abbasi', 'abdulla', 'abdullah', 'abdulsalam', 'abdurisag', 'abouelela', 'abunada', 'abweny', 'afif', 'ahmed', 'al-abdulla', 'al-ahrak', 'al-ali', 'al-brake', 'al-enazi', 'al-ganehi', 'al-hadhrami', 'al-hail', 'al-haydos', 'al-jalabi', 'al-oui', 'al-rawi', 'al-saeed', 'al-salati', 'al-sheeb', 'al-tairi', 'al-yahri', 'al-yazidi', 'al-zarra', 'alaaeldin', 'alghareeb', 'ali', 'almoez', 'anad', 'ansari', 'asad', 'awad', 'ayman', 'bader', 'bakri', 'baksh', 'baloushi', 'barsham', 'boudiaf', 'bustami', 'ceara', 'doozandeh', 'ellethy', 'emadi', 'essam', 'fadlalla', 'fathy', 'gaber', 'gannan', 'hajiri', 'harazi', 'haroon', 'hassan', 'hatem', 'hussein', 'ismaeil', 'jaad', 'jamin', 'kahiout', 'kala', 'karami', 'katoul', 'khidir', 'khoukhi', 'korbi', 'madibo', 'madjer', 'mahmoudi', 'majid', 'mansour', 'marafee', 'mashaal', 'minhali', 'mohammad', 'mohammed', 'muftah', 'muntari', 'murisi', 'musa', 'mutasem', \"n'diaye\", 'palangi', 'qaderi', 'qesaimi', 'rabiei', 'rawi', 'ro-ro', 'saadi', 'saaed', 'saeed', 'saei', 'said', 'saleh', 'salman', 'sayyar', 'sebaei', 'shehata', 'soria', 'suhail', 'surag', 'tabata', 'tamer', 'traore', 'waad', 'yasser', 'younes', 'yousif', 'zakaria'], 'ro': ['aioani', 'albu', 'alin', 'antal', 'badescu', 'balgradean', 'baluta', 'birligea', 'borbei', 'borza', 'burnete', 'chiriches', 'cimpoesu', 'cirjan', 'ciupei', 'coman', 'costache', 'cretu', 'cristea', 'dobre', 'draghia', 'dragusin', 'fica', 'filip', 'ganea', 'grigore', 'hagi', 'harut', 'hindrich', 'iacob', 'koren', 'lixandru', 'man', 'manea', 'marin', 'matan', 'matei', 'mazilu', 'miculescu', 'mihaila', 'mogos', 'moldovan', 'nedelcearu', 'oaida', 'olaru', 'onea', 'pandele', 'pantea', 'pantiru', 'pascanu', 'petrila', 'pitu', 'popa', 'popescu', 'puscas', 'radaslavescu', 'radu', 'ratiu', 'sali', 'sapunaru', 'sava', 'sefer', 'sfait', 'strata', 'sut', 'tarnovanu', 'tordai', 'udrea', 'ungureanu', 'vatajelu', 'velcea', 'vlad'], 'rs': ['aleksic', 'andric', 'antic', 'babic', 'banjac', 'bazdar', 'belic', 'bijelovic', 'birmancevic', 'boranijasevic', 'bosancic', 'burmaz', 'ceran', 'cirkovic', 'cocic', 'cumic', 'cvetkovic', 'deletic', 'djordjevic', 'djuric', 'djuricic', 'dmitrovic', 'drezgic', 'erakovic', 'filipovic', 'gacinovic', 'gajic', 'grujic', 'gudelj', 'gutesa', 'ilic', 'ivanovic', 'jakovljevic', 'jankovic', 'janosevic', 'jocic', 'jojic', 'jovanovic', 'joveljic', 'jovic', 'jovicic', 'kabic', 'katai', 'knezevic', 'kostic', 'kovacevic', 'kremenovic', 'krunic', 'lazovic', 'lekovic', 'lemajic', 'ljujic', 'lucic', 'lukic', 'majstorovic', 'maksimovic', 'maras', 'marezi', 'markovic', 'masovic', 'matic', 'micovic', 'mihajlovic', 'mijailovic', 'mijatovic', 'milenkovic', 'miletic', 'milicic', 'milinkovic-savic', 'milivojevic', 'milosavljevic', 'milunovic', 'mimovic', 'mircetic', 'mitrovic', 'mituljikic', 'mladenovic', 'motika', 'mrkaic', 'mulic', 'nastasic', 'nedeljkovic', 'nikolic', 'ninkovic', 'palocevic', 'panic', 'pankov', 'pantic', 'pauljevic', 'pavlovic', 'pesic', 'petkovic', 'petrovic', 'planic', 'popovic', 'racic', 'radoja', 'radojevic', 'radonjic', 'radosevic', 'radovanovic', 'radovic', 'radulovic', 'radunovic', 'rajkovic', 'randjelovic', 'ratkov', 'ristic', 'rodic', 'samardzic', 'savic', 'sedlar', 'simic', 'sljivic', 'spajic', 'sremcevic', 'stankovic', 'stevanovic', 'stjepanovic', 'stojkovic', 'svilar', 'tadic', 'tanasijevic', 'terzic', 'tomovic', 'topic', 'trifunovic', 'tufegdzic', 'vasic', 'vasiljevic', 'veljkovic', 'veselinovic', 'vlahovic', 'vukic', 'zdjelar', 'zivkovic'], 'ru': ['adamov', 'agapov', 'agkatsev', 'akhmetov', 'akinfeev', 'apshatsev', 'bakaev', 'bardachev', 'barinov', 'barovskiy', 'bessmertniy', 'bezrukov', 'burmistrov', 'bykovskiy', 'chalov', 'chernikov', 'chernov', 'cheryshev', 'chirkov', 'chistyakov', 'degtev', 'denisov', 'diveev', 'dyupin', 'dzhikiya', 'dzyuba', 'ektov', 'erokhin', 'fadeev', 'fernandes', 'fomin', 'gabaraev', 'gladyshev', 'glebov', 'glushenkov', 'golenkov', 'golikov', 'golovin', 'goylo', 'gritsaenko', 'grulev', 'guilherme', 'i.tikhomirov', 'ignatov', 'iljutcenko', 'ivanov', 'joaozinho', 'kabutov', 'kamyshenko', 'karavaev', 'karpukas', 'kerzhakov', 'khaikin', 'khlusevich', 'khudyakov', 'kirsch', 'kislyak', 'klassen', 'koksharov', 'komarov', 'komlichenko', 'korets', 'korolev', 'kovalenko', 'kravtsov', 'kritsyuk', 'krivtsov', 'krugovoi', 'kuptsov', 'kutitskiy', 'kuzyaev', 'langovich', 'lantratov', 'leshchuk', 'lesovoy', 'litvinov', 'lodygin', 'lomovitski', 'lukin', 'lunev', 'magkeev', 'makarchuk', 'makarov', 'maksetsov', 'maksimenko', 'margasov', 'maslov', 'medvedev', 'melekhin', 'meleshin', 'miranchuk', 'mironov', 'mirzov', 'mitrov', 'moiseev', 'morozov', 'mostovoy', 'mukhin', 'musaev', 'mustafaev', 'nababkin', 'nenakhov', 'oblyakov', 'osipenko', 'ozdoev', 'panyukov', 'parshivlyuk', 'pesyakov', 'petrov', 'pinyaev', 'prutsev', 'rakov', 'rasulov', 'roshchin', 'rozhkov', 'rudakov', 'ryadno', 'safonov', 'safronov', 'samoshnikov', 'sarveli', 'selikhov', 'semenchuk', 'sergeev', 'shamov', 'shantaliy', 'shaykhutdinov', 'shchetinin', 'shevchenko', 'shiryaev', 'shkolik', 'shtepa', 'shunin', 'silyanov', 'skopintsev', 'smolov', 'sobolev', 'solovyev', 'stolbov', 'stolyarov', 'suleimanov', 'suleymanov', 'sutormin', 'svinov', 'terentjev', 'teslenko', 'torop', 'tsulaya', 'tyukavin', 'ulyanov', 'umaev', 'umyarov', 'utkin', 'vakhania', 'vasiljev', 'vasyutin', 'volkov', 'yanovich', 'yarlykov', 'yusupov', 'zabolotnyi', 'zaika', 'zakharyan', 'zaydenzal', 'zhemaletdinov', 'zinkovskiy', 'zlobin', 'zobnin', 'zorin', 'zotov'], 'rw': ['mutsinzi', 'sahabo', 'wenssens'], 'sa': ['abdo', 'abdulhamid', 'abdullah', 'abdulrahamn', 'adam', 'afandy', 'al-aboud', 'al-absi', 'al-ahmed', 'al-alaeli', 'al-ammar', 'al-amri', 'al-aqidi', 'al-asiri', 'al-bishi', 'al-bukhari', 'al-bulaihi', 'al-buraikan', 'al-burayk', 'al-dawsari', 'al-dossari', 'al-faraj', 'al-farhan', 'al-fatil', 'al-ghamdi', 'al-ghannam', 'al-hamad', 'al-hamdan', 'al-hammami', 'al-harbi', 'al-hassan', 'al-hawsawi', 'al-hurayji', 'al-jaadi', 'al-jadani', 'al-johani', 'al-joui', 'al-juwayr', 'al-khaibari', 'al-kuwaykibi', 'al-mahasna', 'al-majhad', 'al-malki', 'al-manhali', 'al-mayouf', 'al-mermesh', 'al-mousa', 'al-mufarrij', 'al-muwallad', 'al-nabit', 'al-najei', 'al-nashri', 'al-oaisher', 'al-ohaymid', 'al-olayan', 'al-otaibe', 'al-owais', 'al-qahtani', 'al-qarni', 'al-rashidi', 'al-rubaie', 'al-sadi', 'al-sagourq', 'al-sahafi', 'al-saluli', 'al-sanbi', 'al-shahrani', 'al-shammrani', 'al-sharari', 'al-shehri', 'al-sibyani', 'al-sulaiheem', 'al-watyan', 'al-yami', 'aldhulayfi', 'aliwa', 'altulayhi', 'ashraf', 'asiri', 'asmari', 'bahebri', 'bahusayn', 'baker', 'bamasud', 'boushal', 'camara', 'dawran', 'faqeehi', 'faraj', 'ghareeb', 'haji', 'hamidou', 'harbush', 'hassan', 'hawsawi', 'hazzazi', 'hindi', 'jaber', 'jahfali', 'johani', 'kadesh', 'kanabah', 'kanno', 'khalifa', 'khateeb', 'lajami', 'madu', 'mahzari', 'majrashi', 'malayekah', 'maran', 'matuq', 'najjar', 'nasser', 'nemer', 'otayf', 'oyayari', 'qassem', 'radif', 'rasen', 'rashwodi', 'roqi', 'shamat', 'shammary', 'shamrani', 'shanqeeti', 'shanqiti', 'sharahili', 'shuayl', 'subiani', 'tambakti', 'yahya', 'yaslam'], 'sd': ['abooja', 'adam', 'agab', 'alsawy', 'elnour', 'eshrein', 'fatih', 'khidir', 'mamoun', 'mozamil', 'nemer', 'nooh', 'rahman', 'tahir', 'yuel'], 'se': ['abraham', 'ahlstrand', 'ali', 'almqvist', 'alvarez', 'amoran', 'amos', 'andersson', 'andren', 'antonsson', 'ask', 'asoro', 'atlee', 'augustinsson', 'ayari', 'bardghji', 'bergvall', 'bishesari', 'bjork', 'bjorkengren', 'bjornstrom', 'bojanic', 'bolin', 'boman', 'cajuste', 'carlen', 'carlgren', 'carlstrand', 'carneil', 'ceesay', 'claesson', 'colley', 'croon', 'dagerstal', 'dahl', 'dahlberg', 'dahlin', 'danielson', 'eile', 'ekdal', 'elanga', 'eliasson', 'eriksson', 'fallenius', 'faqa', 'faraj', 'fesshaie', 'finndell', 'forsberg', 'fransson', 'frick', 'froling', 'gigovic', 'gudmundsson', 'guidetti', 'gustafson', 'gyokeres', 'hajj', 'hedlund', 'helander', 'henriksson', 'hien', 'holm', 'holmen', 'hoog-jansson', 'hult', 'hussein', 'imbrechts', 'ingelsson', 'isak', 'ishak', 'isherwood', 'jallow', 'jansson', 'jebara', 'jeremejeff', 'johan', 'johansson', 'johnsson', 'jonsson', 'kahed', 'karlin', 'karlsson', 'karlstrom', 'khazeni', 'kolja', 'krafth', 'kulusevski', 'lagerbielke', 'lahdo', 'larsson', 'lewicki', 'lidberg', 'lindelof', 'lindvall', 'loukili', 'ludwigson', 'makolli', 'mcvey', 'mendes', 'milosevic', 'moberg', 'nanasi', 'nije', 'nilsson', 'nordfeldt', 'norlin', 'nygren', 'nyman', 'ohlsson', 'olsen', 'olsson', 'ondrejka', 'ortmark', 'papagiannopoulos', 'persson', 'pettersson', 'prica', 'qasem', 'quaison', 'rapp', 'richtner', 'ring', 'rosengren', 'sabocic', 'saletros', 'salihovic', 'salomonsson', 'sandberg', 'sarr', 'sernelius', 'simba', 'smith', 'soderberg', 'sogaard', 'sonko', 'ssewankambo', 'starfelt', 'sundgren', 'svanberg', 'svensson', 'swedberg', 'thelin', 'tinnerholm', 'une-larsson', 'vaiho', 'vecchia', 'vilhelmsson', 'voelkerling', 'wahlstedt', 'walemark', 'watson', 'wendt', 'widell', 'zanden', 'zatterstrom'], 'si': ['bajric', 'barisic', 'begic', 'belec', 'bijol', 'blazic', 'boben', 'brekalo', 'brest', 'cerin', 'cipot', 'cuk', 'drkusic', 'elsnik', 'golic', 'gril', 'horvat', 'ilenic', 'ilicic', 'ivacic', 'jakupovic', 'jankovic', 'janza', 'jug', 'jurcevic', 'kampl', 'karic', 'kolmanic', 'kramaric', 'kramer', 'lipuscek', 'lorbek', 'lorber', 'lovric', 'majer', 'mauricio', 'milec', 'mitrovic', 'mlakar', 'nukic', 'oblak', 'ozbolt', 'pahic', 'pavlev', 'pecar', 'pejicic', 'petric', 'pihler', 'pintol', 'poredos', 'ratnik', 'repas', 'sesko', 'sikosek', 'sokler', 'sporar', 'stankovic', 'stojanovic', 'strajnar', 'stulac', 'susnjara', 'tomazic', 'trdan', 'turk', 'urbancic', 'verbic', 'vidmar', 'vidovsek', 'vipotnik', 'vrhovec', 'zajc', 'zalokar', 'zinic', 'zugelj', 'zunec', 'zuzek'], 'sk': ['badzgon', 'bari', 'belanik', 'belko', 'benes', 'bero', 'bozenik', 'bozik', 'cavric', 'chvatal', 'datko', 'digana', 'dubravka', 'duda', 'gomola', 'gregus', 'greif', 'gyomber', 'habodasz', 'hancko', 'haraslin', 'hranica', 'hrdina', 'hromada', 'hrosovsky', 'hubocan', 'ilko', 'jakubech', 'jambor', 'jasso', 'javorcek', 'jirka', 'kapralik', 'krizan', 'kucka', 'leitner', 'letenay', 'lichy', 'lobotka', 'macik', 'mak', 'marcelli', 'minarik', 'misovic', 'myslovic', 'nemcik', 'obert', 'pauschek', 'pekarik', 'ravas', 'rodak', 'rusnak', 'sauer', 'schranz', 'sekulic', 'siplak', 'skriniar', 'spisak', 'strelec', 'surovcik', 'suslov', 'tomic', 'toth', 'trnovsky', 'tupta', 'tvrdon', 'urblik', 'valjent', 'vavro', 'ventura', 'vojtko', 'vojtus', 'weiss'], 'sl': ['bangura', 'bundu', 'fornah', 'janneh', 'jones', 'kakay', 'kallon', 'kamara', 'kanu'], 'sn': ['ba', 'babacar', 'balde', 'ballo-toure', 'bane', 'baraye', 'camara', 'ciss', 'coulibaly', 'danfa', 'dia', 'diack', 'diallo', 'diarra', 'diatta', 'diaw', 'diedhiou', 'dieng', 'dionkou', 'diop', 'diouf', 'diousse', 'fadiga', 'fall', 'faye', 'gassama', 'gomis', 'gueye', 'jackson', 'jakobs', 'kanoute', 'keita', 'keny', 'koulibaly', 'kouyate', 'lo', 'lopy', 'ly', 'mane', 'mbaye', 'mbengue', 'mbow', 'mendy', 'momo', \"n'diaye\", 'ndiaye', 'ndour', 'ngom', 'niakhate', 'niane', 'niang', 'niasse', 'sabaly', 'sagna', 'sane', 'sangante', 'sano', 'sarr', 'seck', 'sene', 'senghor', 'sima', 'soumare', 'sow', 'sylla', 'thialaw', 'thiare', 'thioune', 'wadji', 'wague'], 'so': ['nuh', 'salim'], 'sr': ['abena', 'balker', 'becker', 'denswil', 'dijksteel', 'gelderen', 'hahn', 'haps', 'klaiber', 'kust', 'nunnely'], 'ss': ['abdulai', 'adams', 'aldred', 'anderson', 'angelini', 'archer', 'armstrong', 'ashby', 'bain', 'banks', 'barron', 'burke', 'byers', 'cadden', 'cairney', 'campbell', 'christie', 'clark', 'cooper', 'craig', 'dembele', 'denholm', 'devlin', 'doak', 'docherty', 'doig', 'doohan', 'douglas', 'duncan', 'dykes', 'elliott', 'ferguson', 'fiorini', 'fleck', 'forrest', 'forsyth', 'fraser', 'fulton', 'gauld', 'gilmour', 'gordon', 'gunn', 'halkett', 'hanley', 'hanlon', 'hardie', 'henderson', 'hendry', 'hickey', 'high', 'holsgrove', 'hornby', 'hyam', 'jack', 'jackson', 'johnson', 'johnston', 'joseph', 'kelly', 'kerr', 'king', 'kingsley', 'lindsay', 'mackenzie', 'marshall', 'mcburnie', 'mccarron', 'mccrorie', 'mcginn', 'mcgregor', 'mcintyre', 'mckay', 'mckenna', 'mclean', 'mctominay', 'milne', 'montgomery', 'morgan', 'morrison', 'munro', 'nisbet', 'one', 'owens', 'patterson', 'phillips', 'pollock', 'porteous', 'ralston', 'ramsay', 'rhodes', 'ritchie', 'robertson', 'rose', 'russell', 'shankland', 'shields', 'shinnie', 'slicker', 'souttar', 'stevenson', 'stewart', 'tait', 'taylor', 'tierney', 'turnbull', 'ure', 'walker', 'wallace', 'welsh', 'wright'], 'st': ['afonso', 'fernandes'], 'sv': ['borjas', 'canales', 'cartagena', 'ceren', 'chevez', 'corea', 'diaz', 'espinoza', 'estrada', 'gil', 'gomez', 'gonzalez', 'granitto', 'hernandez', 'jacobo', 'jimenez', 'larin', 'mancia', 'mauricio', 'mayen', 'menjivar', 'mercado', 'mondragon', 'monterroza', 'montes', 'ordaz', 'orellana', 'pineda', 'portillo', 'reyes', 'rivas', 'rodriguez', 'roldan', 'romero', 'sibrian', 'torres', 'villalobos', 'zavaleta', 'zelaya'], 'sy': ['anez', 'dahoud', 'halbouni', 'hesar', 'janeer', 'krouma', 'ousou', 'sabbag', 'shamoun', 'somah'], 'tg': ['amenyido', 'bebou', 'djene', 'henen', 'laba', 'mesanvi', 'metsoko', 'nador', 'tchakei'], 'th': ['chamratsamee', 'chotmuangpak', 'dolah', 'hemviboon', 'lakhonphon', 'maikami', 'mickelson', 'panya', 'peenagatapho', 'sarachat', 'tanklang', 'tedsungnoen', 'weerawatnodom'], 'tj': ['khanonov', 'shukurov', 'toirov'], 'tn': ['abdi', 'achouri', 'alarbi', 'chaouat', 'chouchane', 'dhaoui', 'djebali', 'drager', 'farhat', 'fernandez', 'fredj', 'hannibal', 'hnid', 'jaziri', 'jebali', 'jelassi', 'kaib', 'karoui', 'khazri', 'khelifi', 'laidouni', 'maaloul', 'mathlouthi', 'mohamed', 'msakni', 'rafia', 'romdhane', 'saad', 'saoudi', 'sassi', 'skhiri', 'slimane', 'talbi', 'touzghar', 'valery', 'youssef', 'zouaoui', 'zouhir'], 'tr': ['akaydin', 'akcay', 'akcicek', 'akdag', 'akgun', 'akman', 'akturkoglu', 'akyazi', 'akyol', 'akyuz', 'albayrak', 'altinoluk', 'altintas', 'aptioglu', 'ari', 'arican', 'arikan', 'arslan', 'ay', 'aydin', 'aydogmus', 'ayhan', 'aziz', 'babacan', 'bakis', 'balci', 'baniya', 'bardakci', 'bassan', 'bayindir', 'bayram', 'baytekin', 'bilgin', 'bingol', 'bora', 'bosluk', 'bozkurt', 'bozok', 'bulbul', 'bulut', 'caglayan', 'cakir', 'calhanoglu', 'canak', 'celik', 'cetin', 'cevikkan', 'ciftci', 'ciftkanatli', 'cobanoglu', 'colpan', 'dadakdeniz', 'dalkiran', 'demir', 'demiral', 'demiroglu', 'destan', 'destanoglu', 'dilek', 'dilmen', 'dursun', 'egribayat', 'elmali', 'elmaz', 'erdal', 'erdogan', 'ergun', 'erhan', 'ersungur', 'ertorun', 'fedai', 'fidan', 'gokay', 'gorguc', 'guler', 'gunes', 'gunok', 'gureler', 'gurler', 'gurpuz', 'guvenc', 'hummet', 'ilkhan', 'imre', 'kabak', 'kadioglu', 'kahraman', 'kahveci', 'kapacak', 'kaplan', 'kaptan', 'karaagac', 'karagoz', 'karaman', 'karatas', 'karayazi', 'kavraz', 'kavustu', 'kelleci', 'kesgin', 'kilic', 'kilicsoy', 'kizilkaya', 'kok', 'kokcu', 'komec', 'konak', 'korkut', 'koyuncu', 'kurucay', 'kutlu', 'malkocoglu', 'meras', 'moradaoglu', 'muldur', 'okumus', 'omur', 'osmanpasa', 'ozcan', 'ozdemir', 'ozkacar', 'ozkan', 'ozturk', 'paluli', 'pinar', 'saatci', 'saglam', 'sahin', 'sahiner', 'sanuc', 'sari', 'sen', 'sengezer', 'sertkaya', 'sihlaroglu', 'simsir', 'sirin', 'soyler', 'soyuncu', 'suna', 'sur', 'tanir', 'tasci', 'tekdemir', 'tepe', 'terzi', 'tiknaz', 'toprak', 'tosun', 'tufan', 'tunali', 'turkmen', 'turuc', 'ucan', 'unal', 'under', 'unuvar', 'unver', 'uyanik', 'uysal', 'uzun', 'uzunhan', 'vural', 'yandas', 'yasar', 'yazici', 'yesilyurt', 'yildirim', 'yildiz', 'yilmaz', 'yokuslu', 'yuksek', 'yumurtaci', 'yuvakuran'], 'tt': ['fortune', 'garcia', 'ranjitsingh'], 'tz': ['bocco', 'kapombe', 'maguri', 'miroshi', 'msuva', 'prosper', 'samatta', 'yassini'], 'ua': ['adamyuk', 'andriyevskyi', 'aussi', 'avramenko', 'babenko', 'badenko', 'barchenko', 'bezus', 'bilovar', 'bondar', 'bondarenko', 'bratkov', 'brazhko', 'bushchan', 'buyalsky', 'cheberko', 'chygrynskiy', 'dovbyk', 'dubinchak', 'dyachuk', 'filippov', 'gorbunov', 'hadzhyiev', 'horin', 'hrebeniuk', 'husiev', 'ignatenko', 'ihnatenko', 'kabaev', 'karavaev', 'kashchuk', 'kivinda', 'kogut', 'konoplya', 'kovalenko', 'krapyvtsov', 'kryskiv', 'kryvtsov', 'kukharevych', 'kulbachuk', 'lednev', 'lunin', 'malinovskyi', 'malysh', 'matkevych', 'matvienko', 'mazur', 'melichenko', 'melnychenko', 'milovanov', 'miroshnichenko', 'morgun', 'mudryk', 'mykhavko', 'mykolenko', 'nazaryna', 'neshcheret', 'ocheretko', 'ordets', 'pasich', 'pikhalyonok', 'ponomarenko', 'popov', 'puzankov', 'rakitsky', 'riznyk', 'romanchuk', 'rubchynskyi', 'rudko', 'rusyn', 'salenko', 'sarapyi', 'shakhov', 'shaparenko', 'shepelev', 'sholupets', 'shved', 'sikan', 'sobol', 'stepanenko', 'sudakov', 'supryaga', 'svatok', 'syrota', 'taloverov', 'tanchyk', 'tretyakov', 'trubin', 'tsarenko', 'tsukanov', 'tsygankov', 'tvardovskyi', 'tymchyk', 'udod', 'vakulenko', 'vanat', 'varfolomieiev', 'vivcharenko', 'voloshyn', 'volynets', 'yaremchuk', 'yarmolenko', 'yarmolyuk', 'yurchuk', 'zabarnyi', 'zaloha', 'zinchenko', 'zubkov'], 'ug': ['abdu', 'bellagambi', 'juuko', 'karisa', 'kiggundu', 'lukwago', 'mulondo', 'mutyaba', 'okello', 'onyango', 'sentamu', 'sibbick', 'sserunkuma', 'tumwine', 'waiswa'], 'us': ['aaronson', 'acosta', 'adams', 'adebayo-smith', 'aghedo', 'aguirre', 'agyemang', 'akinmboni', 'alberto', 'allen', 'alvarado', 'amaya', 'anderson', 'antley', 'arce', 'arfsten', 'arriola', 'arroyave', 'atencio', 'augusto', 'awodesu', 'baiera', 'baird', 'bajraktarevic', 'baker', 'baker-whiting', 'balogun', 'bandre', 'barlow', 'barone', 'barraza', 'bartlett', 'bartlow', 'bassett', 'bauer', 'beason', 'beaudry', 'beavers', 'bedoya', 'bello', 'bender', 'bendik', 'berchimas', 'berhalter', 'bersano', 'bingham', 'birnbaum', 'blackmon', 'bombino', 'bono', 'booth', 'boyd', 'brady', 'brennan', 'brody', 'bronico', 'brooks', 'bunbury', 'bush', 'busio', 'bye', 'callender', 'campbell', 'candela', 'cannon', 'canouse', 'cappis', 'cardoso', 'carter-vickers', 'casas', 'castellanos', 'castro', 'celentano', 'cerrillo', 'chandler', 'clark', 'cleveland', 'cobb', 'cohen', 'corboz', 'corona', 'covil', 'cowell', 'cremaschi', 'crockford', 'cuevas', 'davis', 'dean', 'delgado', 'denis', 'dest', 'diaz', 'dike', 'dodson', 'donovan', 'dorsey', 'dotson', 'dowd', 'duke', 'duncan', 'ebobisse', 'edelman', 'edwards', 'endeley', 'eneli', 'estrela', 'farfan', 'farnsworth', 'farrell', 'farrington', 'ferkranus', 'fernandez', 'ferreira', 'finlay', 'flach', 'fletcher', 'flores', 'fodrey', 'fossey', 'foster', 'frank', 'freeman', 'freese', 'frei', 'gaines', 'gal', 'galvao', 'gasper', 'glad', 'gomez', 'gonzalez', 'gooch', 'gressel', 'gutierrez', 'gutman', 'guzan', 'haak', 'habroune', 'hagglund', 'hall', 'halliday', 'halsey', 'harkes', 'harper', 'harriel', 'hawkins', 'hedges', 'hees', 'hernandez', 'hines-ike', 'hollingshead', 'holmes', 'holt', 'hope-gund', 'hopkins', 'hoppe', 'horvath', 'ibeagha', 'iloski', 'imasuen', 'irwin', 'jabang', 'jackson', 'jasson', 'jensen', 'jimenez', 'johnson', 'jones', 'jordan', 'jr.', 'judd', 'junqua', 'kallman', 'kamungo', 'kann', 'kei', 'keller', 'kelman', 'kessler', 'ketterer', 'kikanovic', 'kitahara', 'kocevski', 'kochen', 'korca', 'ku-dipietro', 'larraz', 'ledezma', 'leflore', 'lennon', 'leroux', 'lewis', 'leyva', 'lima', 'lindsey', 'llanez', 'lletget', 'long', 'louro', 'lovitz', 'loyola', 'luna', 'lund', 'lynn', 'macmath', 'maher', 'mansaray', 'marcinkowski', 'marcucci', 'marks', 'martino', 'maurer', 'mccarthy', 'mccarty', 'mcglynn', 'mcguire', 'mckennie', 'mckenzie', 'mcnamara', 'melia', 'miazga', 'mihailovic', 'miljevic', 'miller', 'mitchell', 'montenegro', 'moore', 'morales', 'morris', 'mueller', 'munie', 'murphy', 'musah', 'muse', 'musovski', 'muyl', 'nagbe', 'neal', 'nealis', 'neeley', 'nelson', 'ngoma', 'norris', 'nyeman', \"o'connor\", \"o'neill\", \"o'toole\", 'ofori', 'omsberg', 'oregel', 'ouro-tagha', 'padelford', 'palmer-brown', 'panayotou', 'panicco', 'paredes', 'pariano', 'parker', 'parks', 'paul', 'pepi', 'perea', 'pierre', 'pineda', 'pinto', 'polster', 'polvara', 'pomykal', 'pondeca', 'privett', 'pukstas', 'pulisic', 'pulskamp', 'quinton', 'rafanello', 'ragen', 'raines', 'ramirez', 'rando', 'ream', 'reid-brown', 'reyna', 'richards', 'richey', 'richmond', 'rick', 'rindov', 'rivera', 'robinson', 'rodriguez', 'roldan', 'romero', 'romney', 'rosales', 'rosenberry', 'rothrock', 'sabbi', 'saief', 'sailor', 'sands', 'santos', 'sargeant', 'sargent', 'saucedo', 'scally', 'scardina', 'schmitt', 'schulte', 'scott', 'sealy', 'segal', 'sejdic', 'servania', 'shelton', 'shore', 'silva', 'skahan', 'skinner', 'smir', 'smith', 'sonora', 'spaulding', 'stajduhar', 'steffen', 'steres', 'storlie', 'stroud', 'stuver', 'suarez', 'sullivan', 'sunderland', 'szetela', 'tafari', 'tarbell', 'taylor', 'tenjo', 'tessmann', 'teves', 'thomas', 'thompson', 'tillman', 'tolkin', 'torre', 'toye', 'trapp', 'travis', 'trent', 'trusty', 'tsakiris', 'turcios-castillo', 'turner', 'valenzuela', 'vargas', 'vazquez', 'vines', 'walls', 'washington', 'weah', 'wellings', 'westberg', 'white', 'wiley', 'williams', 'williamson', 'willis', 'wingo', 'wolff', 'wood', 'yapi', 'yarbrough', 'yedlin', 'yueill', 'zamudio', 'zardes', 'zawadzki', 'zendejas', 'zimmerman'], 'uy': ['abaldo', 'abascal', 'abreu', 'acevedo', 'acosta', 'adamo', 'agazzi', 'aguerre', 'aguirre', 'aja', 'alaniz', 'albarracin', 'alberti', 'alles', 'alvarez', 'alvaro', 'amaral', 'amaro', 'amores', 'ancheta', 'antoni', 'arambarri', 'araujo', 'arezo', 'arguello', 'arismendi', 'arrascaeta', 'arruabarrena', 'baez', 'balboa', 'barboza', 'barcelo', 'barcia', 'barrios', 'batista', 'benavidez', 'benitez', 'bentancourt', 'bentancur', 'bernal', 'betancor', 'boggio', 'bone', 'borbas', 'borges', 'boselli', 'brazionis', 'bregante', 'britos', 'brugman', 'brun', 'bueno', 'cabaco', 'cabral', 'cabrera', 'caceres', 'cairus', 'calleros', 'cambon', 'candia', 'candido', 'carballo', 'cardozo', 'carneiro', 'carrizo', 'castillo', 'castro', 'cauteruccio', 'cavani', 'cayetano', 'ceppelini', 'chagas', 'coates', 'coccaro', 'coelho', 'coirolo', 'cristoforo', 'crucci', 'cruz', 'cuello', 'darias', 'dawson', 'diaz', 'dominguez', 'dorrego', 'duarte', 'dudok', 'dufour', 'elizalde', 'espino', 'etchebarne', 'fagundez', 'falcon', 'falletti', 'fernandez', 'ferreira', 'ferrer', 'fiermarin', 'figueredo', 'fonseca', 'formiliano', 'fracchia', 'franco', 'fratta', 'freitas', 'garcia', 'gaston', 'gianoli', 'gimenez', 'ginella', 'goicoechea', 'gomez', 'gonzalez', 'gorriaran', 'greising', 'guerrero', 'gularte', 'guruceaga', 'guzman', 'haller', 'helguera', 'hernandez', 'herrera', 'hornos', 'iglesias', 'israel', 'izquierdo', 'jorge', 'kagelmacher', 'kidd', 'labandeira', 'laborda', 'lacerda', 'lavandeira', 'laxalt', 'lemos', 'lentinelly', 'lewis', 'leyes', 'lima', 'lodeiro', 'lopez', 'lorenzi', 'lozano', 'lugano', 'luna', 'machado', 'mallo', 'mansilla', 'marichal', 'martinez', 'martirena', 'matturro', 'may', 'mayada', 'medina', 'mele', 'mendez', 'mendoza', 'merentiel', 'miguez', 'milan', 'milans', 'millan', 'montes', 'monzeglio', 'morales', 'mourino', 'munoz', 'muslera', 'nacho', 'nandez', 'napoli', 'neris', 'neves', 'nicola', 'novick', 'nunez', 'ocampo', 'olaza', 'oliva', 'olivera', 'oliveros', 'olveira', 'orihuela', 'ortega', 'otormin', 'pacifico', 'palacios', 'pellistri', 'pena', 'peralta', 'perdomo', 'pereira', 'pereyra', 'perez', 'petit', 'pinatares', 'pineiro', 'pintado', 'pintos', 'piquerez', 'piriz', 'poggi', 'polenta', 'quintana', 'ramirez', 'rea', 'recoba', 'redin', 'rio', 'risso', 'ritis', 'rivero', 'rocha', 'rochet', 'rodrigo', 'rodriguez', 'rogel', 'rolon', 'romero', 'rossi', 'rosso', 'saldivia', 'sanabria', 'sanchez', 'sanseviero', 'santos', 'saracchi', 'saravia', 'satriano', 'schiappacasse', 'segovia', 'siles', 'silva', 'silveira', 'silvera', 'silvestre', 'simone', 'sirino', 'soria', 'sosa', 'stuani', 'suarez', 'techera', 'terans', 'tizon', 'torgnascioli', 'torreira', 'torres', 'trezza', 'trindade', 'ugarte', 'univaso', 'valiente', 'valverde', 'varela', 'vargas', 'vecino', 'vega', 'veglio', 'velazquez', 'vergara', 'viacava', 'vidart', 'villalba', 'vina', 'vinas', 'viudez', 'waller', 'wasilewsky', 'wunsch', 'ymbert', 'zabala', 'zalazar', 'zarfino', 'zazpe'], 'uz': ['abdukholikov', 'abdulaev', 'abdumajidov', 'alizhonov', 'ashurmatov', 'ashurov', 'askarov', 'asrolov', 'azmiddinov', 'boymurodov', 'erkinov', 'fayzullaev', 'ganiev', 'karimov', 'khamdamov', 'khamraliyev', 'kholdorkhonov', 'kholmatov', 'khusanov', 'makhamadzhonov', 'masharipov', 'nazarov', 'normurodov', 'ortikboev', 'poyonov', 'rahmonaleiv', 'sabirkhodjaev', 'saidov', 'saitov', 'shomurodov', 'todorov', 'tulkunbekov', 'turgunbayev', 'usmonov', 'yuldoshev'], 'vc': ['stewart-baynes'], 've': ['acosta', 'acuna', 'alexander', 'alfonzo', 'andrade', 'angel', 'arace', 'aramburu', 'araque', 'arenas', 'arias', 'astudillo', 'baroja', 'bello', 'benitez', 'bolivar', 'bueno', 'cadiz', 'calzadilla', 'camacho', 'camargo', 'canelon', 'caraballo', 'caricote', 'carmona', 'casiani', 'casimiro', 'casseres', 'castillo', 'castrillo', 'castro', 'chacon', 'chuchu', 'contreras', 'cordova', 'correa', 'custodio', 'diaz', 'duarte', 'echenique', 'farias', 'farinez', 'ferraresi', 'figuera', 'figueroa', 'flores', 'garcia', 'gomez', 'gonzalez', 'graterol', 'guarirapa', 'guerra', 'gutierrez', 'hernandez', 'herrera', 'hurtado', 'ibarra', 'jimenez', 'kelsy', 'kinsler', 'labrador', 'lima', 'lobo', 'lopez', 'machis', 'makoun', 'manrique', 'mantia', 'marques', 'marquez', 'martinez', 'melo', 'mendez', 'mendoza', 'mollica', 'montero', 'montilla', 'moreno', 'murillo', 'navarro', 'navas', 'ortega', 'osorio', 'otero', 'padilla', 'paez', 'palacios', 'palmezano', 'pena', 'penaranda', 'perdomo', 'pereira', 'perez', 'pernia', 'pinzon', 'profeta', 'quijada', 'quintero', 'ramirez', 'rangel', 'reinoso', 'rincon', 'rivas', 'rivillo', 'rodriguez', 'romero', 'romo', 'rondon', 'rosales', 'rueda', 'saggiomo', 'salazar', 'sanchez', 'santis', 'silva', 'sosa', 'soteldo', 'sulbaran', 'tamayo', 'teran', 'topito', 'torregrossa', 'trujillo', 'uribe', 'urpin', 'varela', 'vargas', 'vegas', 'velazquez', 'villanueva', 'vivas', 'yeye'], 'vn': ['chung', 'dung', 'hai', 'hoang', 'i', 'manh', 'nguyen', 'phuong', 'quyet', 'toan'], 'vu': ['kaltak'], 'wa': ['allen', 'ampadu', 'ashford', 'ashworth', 'barden', 'bradshaw', 'broadhead', 'brooks', 'burns', 'cabango', 'collins', 'colwill', 'congreve', 'cooper', 'cornell', 'crew', 'cullen', 'davies', 'dummett', 'evans', 'fox', 'giles', 'hampson', 'hedges', 'hennessey', 'huggins', 'hughes', 'issaka', 'james', 'johnson', 'jones', 'king', 'koumas', 'lawlor', 'lawrence', 'levitt', 'mafico', 'matondo', 'matthews', 'maxwell', 'mepham', 'moore', 'morrell', 'norrington-davies', 'parker', 'poole', 'ramsey', 'raymond', 'roberts', 'rodon', 'savage', 'sheehan', 'smith', 'sweet', 'taylor', 'turner', 'ward', 'williams', 'wilson', 'woodburn'], 'wo': ['alswad', 'e.', 'filevski', 'h.', 'popovic', 'ramirez-espain'], 'xk': ['abdullahu', 'ajzeraj', 'behluli', 'berisha', 'broja', 'celina', 'dabiqaj', 'dellova', 'domgjoni', 'dulaj', 'emerllahu', 'emini', 'gerxhaliu', 'halili', 'halitjaha', 'hasani', 'hoxha', 'huruglica', 'ibrahimaj', 'idrizi', 'jashanica', 'kololli', 'korenica', 'krasniqi', 'kryeziu', 'lushaku', 'maksutaj', 'maliqi', 'maloku', 'miftari', 'murati', 'muric', 'muriqi', 'muslija', 'paqarada', 'potoku', 'prapashtica', 'rahimi', 'rashani', 'rashica', 'rrahmani', 'sahiti', 'selmani', 'shala', 'smakiqi', 'sulejmani', 'thaqi', 'tolaj', 'vitija', 'vojvoda', 'vrenezi', 'zejnullahu', 'zeneli', 'zhegrova', 'zyba'], 'ye': ['alchadli', 'alsomhi'], 'yt': ['djailane'], 'za': ['aubaas', 'baloni', 'buthelezi', 'bvuma', 'chaine', 'chivaviro', 'coetzee', 'dlamini', 'dolly', 'domingo', 'duba', 'erasmus', 'february', 'foster', 'frosler', 'hlanti', 'hlongwane', 'kapinga', 'kekana', 'khune', 'kwinika', 'lebitso', 'lebusa', 'lepasa', 'lorch', 'maart', 'mabasa', 'mabena', 'maboe', 'maela', 'maema', 'mailula', 'makaringe', 'makgopa', 'makhanya', 'makhaula', 'mako', 'maseko', 'mashego', 'mashiane', 'matlou', 'matrose', 'matthews', 'mbatha', 'mbule', 'mccarthy', 'mdatsene', 'mdunyelwa', 'mkhulise', 'mmodi', 'modiba', 'mofokeng', 'mokoena', 'monare', 'monyane', 'morena', 'mothiba', 'mpontshane', 'msimango', 'mthethwa', 'mudau', 'mvala', 'ndlondlo', 'ngcobo', 'ngezama', 'nkosi', 'nku', 'ntsabeleng', 'nyanga', 'otladisa', 'peterson', 'phete', 'phiri', 'pieterse', 'potsane', 'preez', 'pule', 'radebe', 'renecke', 'reuck', 'saleng', 'seabi', 'sesane', 'shabalala', 'shandu', 'sibisi', 'sithebe', 'solomons', 'tau', 'timm', 'tito', 'vilakazi', 'williams', 'xoki', 'zungu', 'zwane'], 'zm': ['banda', 'daka', 'mabika', 'mutandwa'], 'zw': ['chiwome', 'darikwa', 'galloway', 'kadewere', 'lunga', 'maswanhise', 'mhari', 'mhlanga', 'moyo', 'munetsi', 'murwira', 'musona', 'mutimbanyoka', 'ngoma', 'rinomhota', 'rushesha', 'zemura']}\n"
     ]
    }
   ],
   "source": [
    "football_player_data = pd.read_pickle('grouped_football_player_last_names.pkl')\n",
    "print(football_player_data)"
   ]
  },
  {
   "cell_type": "code",
   "execution_count": null,
   "metadata": {},
   "outputs": [
    {
     "data": {
      "application/vnd.jupyter.widget-view+json": {
       "model_id": "42848ee2d3984eed99dc20d7b96934c7",
       "version_major": 2,
       "version_minor": 0
      },
      "text/plain": [
       "Pandas Apply:   0%|          | 0/86843 [00:00<?, ?it/s]"
      ]
     },
     "metadata": {},
     "output_type": "display_data"
    },
    {
     "data": {
      "application/vnd.jupyter.widget-view+json": {
       "model_id": "df1b1f8a2e3848ee99dd00b9f11ed24f",
       "version_major": 2,
       "version_minor": 0
      },
      "text/plain": [
       "Pandas Apply:   0%|          | 0/86843 [00:00<?, ?it/s]"
      ]
     },
     "metadata": {},
     "output_type": "display_data"
    },
    {
     "data": {
      "application/vnd.jupyter.widget-view+json": {
       "model_id": "453309ff87974a919debe4ecaa4adcfb",
       "version_major": 2,
       "version_minor": 0
      },
      "text/plain": [
       "Pandas Apply:   0%|          | 0/86843 [00:00<?, ?it/s]"
      ]
     },
     "metadata": {},
     "output_type": "display_data"
    },
    {
     "data": {
      "application/vnd.jupyter.widget-view+json": {
       "model_id": "460c96f2d2e94e38b64b2e2e7bba5d5d",
       "version_major": 2,
       "version_minor": 0
      },
      "text/plain": [
       "Pandas Apply:   0%|          | 0/86843 [00:00<?, ?it/s]"
      ]
     },
     "metadata": {},
     "output_type": "display_data"
    },
    {
     "data": {
      "application/vnd.jupyter.widget-view+json": {
       "model_id": "9554358acb484c419be11b61341ce375",
       "version_major": 2,
       "version_minor": 0
      },
      "text/plain": [
       "Pandas Apply:   0%|          | 0/272389 [00:00<?, ?it/s]"
      ]
     },
     "metadata": {},
     "output_type": "display_data"
    },
    {
     "data": {
      "application/vnd.jupyter.widget-view+json": {
       "model_id": "7f8f2b5777b14618a6c35202cd32bb8d",
       "version_major": 2,
       "version_minor": 0
      },
      "text/plain": [
       "Pandas Apply:   0%|          | 0/272389 [00:00<?, ?it/s]"
      ]
     },
     "metadata": {},
     "output_type": "display_data"
    },
    {
     "data": {
      "application/vnd.jupyter.widget-view+json": {
       "model_id": "e13d1f8087c64c2ca85bfedabe24d9a8",
       "version_major": 2,
       "version_minor": 0
      },
      "text/plain": [
       "Pandas Apply:   0%|          | 0/272389 [00:00<?, ?it/s]"
      ]
     },
     "metadata": {},
     "output_type": "display_data"
    },
    {
     "data": {
      "application/vnd.jupyter.widget-view+json": {
       "model_id": "aab618c96caa4d11a320eec6e19d8129",
       "version_major": 2,
       "version_minor": 0
      },
      "text/plain": [
       "Pandas Apply:   0%|          | 0/272389 [00:00<?, ?it/s]"
      ]
     },
     "metadata": {},
     "output_type": "display_data"
    },
    {
     "data": {
      "application/vnd.jupyter.widget-view+json": {
       "model_id": "e31f8d7b8ffb4949b9bdbc9df9ff7dc0",
       "version_major": 2,
       "version_minor": 0
      },
      "text/plain": [
       "Pandas Apply:   0%|          | 0/148298 [00:00<?, ?it/s]"
      ]
     },
     "metadata": {},
     "output_type": "display_data"
    },
    {
     "data": {
      "application/vnd.jupyter.widget-view+json": {
       "model_id": "6a69f15239c341ee8319e46fdd1df165",
       "version_major": 2,
       "version_minor": 0
      },
      "text/plain": [
       "Pandas Apply:   0%|          | 0/148298 [00:00<?, ?it/s]"
      ]
     },
     "metadata": {},
     "output_type": "display_data"
    },
    {
     "data": {
      "application/vnd.jupyter.widget-view+json": {
       "model_id": "e6f4b3ab9ed04d6d8073308eeed0e873",
       "version_major": 2,
       "version_minor": 0
      },
      "text/plain": [
       "Pandas Apply:   0%|          | 0/148298 [00:00<?, ?it/s]"
      ]
     },
     "metadata": {},
     "output_type": "display_data"
    },
    {
     "data": {
      "application/vnd.jupyter.widget-view+json": {
       "model_id": "30cb4fc8dcfd4303897d2b6583e13f71",
       "version_major": 2,
       "version_minor": 0
      },
      "text/plain": [
       "Pandas Apply:   0%|          | 0/148298 [00:00<?, ?it/s]"
      ]
     },
     "metadata": {},
     "output_type": "display_data"
    },
    {
     "data": {
      "application/vnd.jupyter.widget-view+json": {
       "model_id": "94a4a0a1f0d2453b82a506ea18117d06",
       "version_major": 2,
       "version_minor": 0
      },
      "text/plain": [
       "Pandas Apply:   0%|          | 0/973985 [00:00<?, ?it/s]"
      ]
     },
     "metadata": {},
     "output_type": "display_data"
    },
    {
     "data": {
      "application/vnd.jupyter.widget-view+json": {
       "model_id": "375e52fe80d54c76b322ff217bfd0d42",
       "version_major": 2,
       "version_minor": 0
      },
      "text/plain": [
       "Pandas Apply:   0%|          | 0/973985 [00:00<?, ?it/s]"
      ]
     },
     "metadata": {},
     "output_type": "display_data"
    },
    {
     "data": {
      "application/vnd.jupyter.widget-view+json": {
       "model_id": "9c7d82799d6f48488e28e38b689a9b2f",
       "version_major": 2,
       "version_minor": 0
      },
      "text/plain": [
       "Pandas Apply:   0%|          | 0/973985 [00:00<?, ?it/s]"
      ]
     },
     "metadata": {},
     "output_type": "display_data"
    },
    {
     "data": {
      "application/vnd.jupyter.widget-view+json": {
       "model_id": "30b868f04b37430c917d36dae90cc335",
       "version_major": 2,
       "version_minor": 0
      },
      "text/plain": [
       "Pandas Apply:   0%|          | 0/973985 [00:00<?, ?it/s]"
      ]
     },
     "metadata": {},
     "output_type": "display_data"
    },
    {
     "data": {
      "application/vnd.jupyter.widget-view+json": {
       "model_id": "883d61119a0045eab45a1467aa255b59",
       "version_major": 2,
       "version_minor": 0
      },
      "text/plain": [
       "Pandas Apply:   0%|          | 0/99192 [00:00<?, ?it/s]"
      ]
     },
     "metadata": {},
     "output_type": "display_data"
    },
    {
     "data": {
      "application/vnd.jupyter.widget-view+json": {
       "model_id": "1b29d6f877074db98ffaabe885773b3d",
       "version_major": 2,
       "version_minor": 0
      },
      "text/plain": [
       "Pandas Apply:   0%|          | 0/99192 [00:00<?, ?it/s]"
      ]
     },
     "metadata": {},
     "output_type": "display_data"
    },
    {
     "data": {
      "application/vnd.jupyter.widget-view+json": {
       "model_id": "1e2a6bfd71fa4faab15fbb81074c9226",
       "version_major": 2,
       "version_minor": 0
      },
      "text/plain": [
       "Pandas Apply:   0%|          | 0/99192 [00:00<?, ?it/s]"
      ]
     },
     "metadata": {},
     "output_type": "display_data"
    },
    {
     "data": {
      "application/vnd.jupyter.widget-view+json": {
       "model_id": "fd35e82e946c4418802a0b35a2c97b40",
       "version_major": 2,
       "version_minor": 0
      },
      "text/plain": [
       "Pandas Apply:   0%|          | 0/99192 [00:00<?, ?it/s]"
      ]
     },
     "metadata": {},
     "output_type": "display_data"
    },
    {
     "data": {
      "application/vnd.jupyter.widget-view+json": {
       "model_id": "7211e8831cb14e8da9f089088ebb9f96",
       "version_major": 2,
       "version_minor": 0
      },
      "text/plain": [
       "Pandas Apply:   0%|          | 0/95108 [00:00<?, ?it/s]"
      ]
     },
     "metadata": {},
     "output_type": "display_data"
    },
    {
     "data": {
      "application/vnd.jupyter.widget-view+json": {
       "model_id": "f25c673e81374872a9e825325283a91b",
       "version_major": 2,
       "version_minor": 0
      },
      "text/plain": [
       "Pandas Apply:   0%|          | 0/95108 [00:00<?, ?it/s]"
      ]
     },
     "metadata": {},
     "output_type": "display_data"
    },
    {
     "data": {
      "application/vnd.jupyter.widget-view+json": {
       "model_id": "36f2271cdff34de89f8440712210740a",
       "version_major": 2,
       "version_minor": 0
      },
      "text/plain": [
       "Pandas Apply:   0%|          | 0/95108 [00:00<?, ?it/s]"
      ]
     },
     "metadata": {},
     "output_type": "display_data"
    },
    {
     "data": {
      "application/vnd.jupyter.widget-view+json": {
       "model_id": "4dce4d0cb04e4056837e26222d170155",
       "version_major": 2,
       "version_minor": 0
      },
      "text/plain": [
       "Pandas Apply:   0%|          | 0/95108 [00:00<?, ?it/s]"
      ]
     },
     "metadata": {},
     "output_type": "display_data"
    },
    {
     "data": {
      "application/vnd.jupyter.widget-view+json": {
       "model_id": "ce847bde2666461cbfa4544258b1a360",
       "version_major": 2,
       "version_minor": 0
      },
      "text/plain": [
       "Pandas Apply:   0%|          | 0/712525 [00:00<?, ?it/s]"
      ]
     },
     "metadata": {},
     "output_type": "display_data"
    },
    {
     "data": {
      "application/vnd.jupyter.widget-view+json": {
       "model_id": "6ecdd0e7db584bacbde9ce675f3f1940",
       "version_major": 2,
       "version_minor": 0
      },
      "text/plain": [
       "Pandas Apply:   0%|          | 0/712525 [00:00<?, ?it/s]"
      ]
     },
     "metadata": {},
     "output_type": "display_data"
    },
    {
     "data": {
      "application/vnd.jupyter.widget-view+json": {
       "model_id": "3fe17431ab48455dbb5257d13b50b6cc",
       "version_major": 2,
       "version_minor": 0
      },
      "text/plain": [
       "Pandas Apply:   0%|          | 0/712525 [00:00<?, ?it/s]"
      ]
     },
     "metadata": {},
     "output_type": "display_data"
    },
    {
     "data": {
      "application/vnd.jupyter.widget-view+json": {
       "model_id": "e3f70634e49745fc9f72f7a35177fb9f",
       "version_major": 2,
       "version_minor": 0
      },
      "text/plain": [
       "Pandas Apply:   0%|          | 0/712525 [00:00<?, ?it/s]"
      ]
     },
     "metadata": {},
     "output_type": "display_data"
    },
    {
     "data": {
      "application/vnd.jupyter.widget-view+json": {
       "model_id": "f81a81ffee8743c184b1f318b95c7d8f",
       "version_major": 2,
       "version_minor": 0
      },
      "text/plain": [
       "Pandas Apply:   0%|          | 0/525725 [00:00<?, ?it/s]"
      ]
     },
     "metadata": {},
     "output_type": "display_data"
    },
    {
     "data": {
      "application/vnd.jupyter.widget-view+json": {
       "model_id": "1c735a0ca2104ab083e6382c643fed76",
       "version_major": 2,
       "version_minor": 0
      },
      "text/plain": [
       "Pandas Apply:   0%|          | 0/525725 [00:00<?, ?it/s]"
      ]
     },
     "metadata": {},
     "output_type": "display_data"
    },
    {
     "data": {
      "application/vnd.jupyter.widget-view+json": {
       "model_id": "e542912a796e4990b9576e87163bf98c",
       "version_major": 2,
       "version_minor": 0
      },
      "text/plain": [
       "Pandas Apply:   0%|          | 0/525725 [00:00<?, ?it/s]"
      ]
     },
     "metadata": {},
     "output_type": "display_data"
    },
    {
     "data": {
      "application/vnd.jupyter.widget-view+json": {
       "model_id": "48618f73e31d46e1a74d7725145b724c",
       "version_major": 2,
       "version_minor": 0
      },
      "text/plain": [
       "Pandas Apply:   0%|          | 0/525725 [00:00<?, ?it/s]"
      ]
     },
     "metadata": {},
     "output_type": "display_data"
    },
    {
     "data": {
      "application/vnd.jupyter.widget-view+json": {
       "model_id": "147dbe2400b94e7397675e687a00c45f",
       "version_major": 2,
       "version_minor": 0
      },
      "text/plain": [
       "Pandas Apply:   0%|          | 0/155549 [00:00<?, ?it/s]"
      ]
     },
     "metadata": {},
     "output_type": "display_data"
    },
    {
     "data": {
      "application/vnd.jupyter.widget-view+json": {
       "model_id": "017f9eee1cc4475da8d6eca4141c540a",
       "version_major": 2,
       "version_minor": 0
      },
      "text/plain": [
       "Pandas Apply:   0%|          | 0/155549 [00:00<?, ?it/s]"
      ]
     },
     "metadata": {},
     "output_type": "display_data"
    },
    {
     "data": {
      "application/vnd.jupyter.widget-view+json": {
       "model_id": "403b6351a3ad471fbce2ed152a43cb1c",
       "version_major": 2,
       "version_minor": 0
      },
      "text/plain": [
       "Pandas Apply:   0%|          | 0/155549 [00:00<?, ?it/s]"
      ]
     },
     "metadata": {},
     "output_type": "display_data"
    },
    {
     "data": {
      "application/vnd.jupyter.widget-view+json": {
       "model_id": "c0700a6a21864db68fa5783b6b752ceb",
       "version_major": 2,
       "version_minor": 0
      },
      "text/plain": [
       "Pandas Apply:   0%|          | 0/155549 [00:00<?, ?it/s]"
      ]
     },
     "metadata": {},
     "output_type": "display_data"
    },
    {
     "data": {
      "application/vnd.jupyter.widget-view+json": {
       "model_id": "ca74906e84e34b6ea1e808370ca16c7b",
       "version_major": 2,
       "version_minor": 0
      },
      "text/plain": [
       "Pandas Apply:   0%|          | 0/367899 [00:00<?, ?it/s]"
      ]
     },
     "metadata": {},
     "output_type": "display_data"
    },
    {
     "data": {
      "application/vnd.jupyter.widget-view+json": {
       "model_id": "4bfb78bf440049b0a405df3759904892",
       "version_major": 2,
       "version_minor": 0
      },
      "text/plain": [
       "Pandas Apply:   0%|          | 0/367899 [00:00<?, ?it/s]"
      ]
     },
     "metadata": {},
     "output_type": "display_data"
    },
    {
     "data": {
      "application/vnd.jupyter.widget-view+json": {
       "model_id": "37789c3c755c47e9bb696d5cf13072e0",
       "version_major": 2,
       "version_minor": 0
      },
      "text/plain": [
       "Pandas Apply:   0%|          | 0/367899 [00:00<?, ?it/s]"
      ]
     },
     "metadata": {},
     "output_type": "display_data"
    },
    {
     "data": {
      "application/vnd.jupyter.widget-view+json": {
       "model_id": "8188cd72e65d4c87b764c27c7f08ad49",
       "version_major": 2,
       "version_minor": 0
      },
      "text/plain": [
       "Pandas Apply:   0%|          | 0/367899 [00:00<?, ?it/s]"
      ]
     },
     "metadata": {},
     "output_type": "display_data"
    },
    {
     "data": {
      "application/vnd.jupyter.widget-view+json": {
       "model_id": "2cc7a6f01f9c4a959c069ad53dad240c",
       "version_major": 2,
       "version_minor": 0
      },
      "text/plain": [
       "Pandas Apply:   0%|          | 0/96834 [00:00<?, ?it/s]"
      ]
     },
     "metadata": {},
     "output_type": "display_data"
    },
    {
     "data": {
      "application/vnd.jupyter.widget-view+json": {
       "model_id": "dd8aaceb251541b4a1231c114ecbadaf",
       "version_major": 2,
       "version_minor": 0
      },
      "text/plain": [
       "Pandas Apply:   0%|          | 0/96834 [00:00<?, ?it/s]"
      ]
     },
     "metadata": {},
     "output_type": "display_data"
    },
    {
     "data": {
      "application/vnd.jupyter.widget-view+json": {
       "model_id": "5c304a52a4754da3b8aaf14cecc990f9",
       "version_major": 2,
       "version_minor": 0
      },
      "text/plain": [
       "Pandas Apply:   0%|          | 0/96834 [00:00<?, ?it/s]"
      ]
     },
     "metadata": {},
     "output_type": "display_data"
    },
    {
     "data": {
      "application/vnd.jupyter.widget-view+json": {
       "model_id": "1655250897e64d549183f518ba87680f",
       "version_major": 2,
       "version_minor": 0
      },
      "text/plain": [
       "Pandas Apply:   0%|          | 0/96834 [00:00<?, ?it/s]"
      ]
     },
     "metadata": {},
     "output_type": "display_data"
    },
    {
     "data": {
      "application/vnd.jupyter.widget-view+json": {
       "model_id": "22c58121bb02476286f38aa5544db2d7",
       "version_major": 2,
       "version_minor": 0
      },
      "text/plain": [
       "Pandas Apply:   0%|          | 0/41539 [00:00<?, ?it/s]"
      ]
     },
     "metadata": {},
     "output_type": "display_data"
    },
    {
     "data": {
      "application/vnd.jupyter.widget-view+json": {
       "model_id": "a72638dd61484ec2bbdeb27e181a1390",
       "version_major": 2,
       "version_minor": 0
      },
      "text/plain": [
       "Pandas Apply:   0%|          | 0/41539 [00:00<?, ?it/s]"
      ]
     },
     "metadata": {},
     "output_type": "display_data"
    },
    {
     "data": {
      "application/vnd.jupyter.widget-view+json": {
       "model_id": "22c3b2799da24cdeb3adaecb639e4993",
       "version_major": 2,
       "version_minor": 0
      },
      "text/plain": [
       "Pandas Apply:   0%|          | 0/41539 [00:00<?, ?it/s]"
      ]
     },
     "metadata": {},
     "output_type": "display_data"
    },
    {
     "data": {
      "application/vnd.jupyter.widget-view+json": {
       "model_id": "15189446ca3e4f50b5b637c7abc37ac0",
       "version_major": 2,
       "version_minor": 0
      },
      "text/plain": [
       "Pandas Apply:   0%|          | 0/41539 [00:00<?, ?it/s]"
      ]
     },
     "metadata": {},
     "output_type": "display_data"
    },
    {
     "data": {
      "application/vnd.jupyter.widget-view+json": {
       "model_id": "e439e956d514464bb5a3b0aa782a8b81",
       "version_major": 2,
       "version_minor": 0
      },
      "text/plain": [
       "Pandas Apply:   0%|          | 0/824241 [00:00<?, ?it/s]"
      ]
     },
     "metadata": {},
     "output_type": "display_data"
    },
    {
     "data": {
      "application/vnd.jupyter.widget-view+json": {
       "model_id": "7926cb80135543cab9641e86a0e5748f",
       "version_major": 2,
       "version_minor": 0
      },
      "text/plain": [
       "Pandas Apply:   0%|          | 0/824241 [00:00<?, ?it/s]"
      ]
     },
     "metadata": {},
     "output_type": "display_data"
    },
    {
     "data": {
      "application/vnd.jupyter.widget-view+json": {
       "model_id": "cd286b5c56814189944bc325bc00d8b9",
       "version_major": 2,
       "version_minor": 0
      },
      "text/plain": [
       "Pandas Apply:   0%|          | 0/824241 [00:00<?, ?it/s]"
      ]
     },
     "metadata": {},
     "output_type": "display_data"
    },
    {
     "data": {
      "application/vnd.jupyter.widget-view+json": {
       "model_id": "241a6c3e320746428b6d858e96df76be",
       "version_major": 2,
       "version_minor": 0
      },
      "text/plain": [
       "Pandas Apply:   0%|          | 0/824241 [00:00<?, ?it/s]"
      ]
     },
     "metadata": {},
     "output_type": "display_data"
    },
    {
     "data": {
      "application/vnd.jupyter.widget-view+json": {
       "model_id": "57e845e9da744947b2f06635060f6911",
       "version_major": 2,
       "version_minor": 0
      },
      "text/plain": [
       "Pandas Apply:   0%|          | 0/313803 [00:00<?, ?it/s]"
      ]
     },
     "metadata": {},
     "output_type": "display_data"
    },
    {
     "data": {
      "application/vnd.jupyter.widget-view+json": {
       "model_id": "0e5f3e602d4647a08e11f0b1a1d8dc55",
       "version_major": 2,
       "version_minor": 0
      },
      "text/plain": [
       "Pandas Apply:   0%|          | 0/313803 [00:00<?, ?it/s]"
      ]
     },
     "metadata": {},
     "output_type": "display_data"
    },
    {
     "data": {
      "application/vnd.jupyter.widget-view+json": {
       "model_id": "96fe933da50645be9894aa89be481f8c",
       "version_major": 2,
       "version_minor": 0
      },
      "text/plain": [
       "Pandas Apply:   0%|          | 0/313803 [00:00<?, ?it/s]"
      ]
     },
     "metadata": {},
     "output_type": "display_data"
    },
    {
     "data": {
      "application/vnd.jupyter.widget-view+json": {
       "model_id": "075e2ccd6fd547aebc1d35fcaeac43b1",
       "version_major": 2,
       "version_minor": 0
      },
      "text/plain": [
       "Pandas Apply:   0%|          | 0/313803 [00:00<?, ?it/s]"
      ]
     },
     "metadata": {},
     "output_type": "display_data"
    },
    {
     "data": {
      "application/vnd.jupyter.widget-view+json": {
       "model_id": "cc0c219d4276430d8338001e74dee3ec",
       "version_major": 2,
       "version_minor": 0
      },
      "text/plain": [
       "Pandas Apply:   0%|          | 0/85675 [00:00<?, ?it/s]"
      ]
     },
     "metadata": {},
     "output_type": "display_data"
    },
    {
     "data": {
      "application/vnd.jupyter.widget-view+json": {
       "model_id": "68b554022bce44f3914df6f7257d8d05",
       "version_major": 2,
       "version_minor": 0
      },
      "text/plain": [
       "Pandas Apply:   0%|          | 0/85675 [00:00<?, ?it/s]"
      ]
     },
     "metadata": {},
     "output_type": "display_data"
    },
    {
     "data": {
      "application/vnd.jupyter.widget-view+json": {
       "model_id": "ffcf57d943014ed0a1eb0db4c4218625",
       "version_major": 2,
       "version_minor": 0
      },
      "text/plain": [
       "Pandas Apply:   0%|          | 0/85675 [00:00<?, ?it/s]"
      ]
     },
     "metadata": {},
     "output_type": "display_data"
    },
    {
     "data": {
      "application/vnd.jupyter.widget-view+json": {
       "model_id": "76890e45d60840f8866245cebe6b44db",
       "version_major": 2,
       "version_minor": 0
      },
      "text/plain": [
       "Pandas Apply:   0%|          | 0/85675 [00:00<?, ?it/s]"
      ]
     },
     "metadata": {},
     "output_type": "display_data"
    },
    {
     "data": {
      "application/vnd.jupyter.widget-view+json": {
       "model_id": "5a56e89945744cc9b4155ebb2eb38e23",
       "version_major": 2,
       "version_minor": 0
      },
      "text/plain": [
       "Pandas Apply:   0%|          | 0/256445 [00:00<?, ?it/s]"
      ]
     },
     "metadata": {},
     "output_type": "display_data"
    },
    {
     "data": {
      "application/vnd.jupyter.widget-view+json": {
       "model_id": "921016901fcb43f09d07b3c68cd8f374",
       "version_major": 2,
       "version_minor": 0
      },
      "text/plain": [
       "Pandas Apply:   0%|          | 0/256445 [00:00<?, ?it/s]"
      ]
     },
     "metadata": {},
     "output_type": "display_data"
    },
    {
     "data": {
      "application/vnd.jupyter.widget-view+json": {
       "model_id": "2f585bf543274dd38535ae3e4d78cac7",
       "version_major": 2,
       "version_minor": 0
      },
      "text/plain": [
       "Pandas Apply:   0%|          | 0/256445 [00:00<?, ?it/s]"
      ]
     },
     "metadata": {},
     "output_type": "display_data"
    },
    {
     "data": {
      "application/vnd.jupyter.widget-view+json": {
       "model_id": "95083f304eca4e64b30916af65dd8844",
       "version_major": 2,
       "version_minor": 0
      },
      "text/plain": [
       "Pandas Apply:   0%|          | 0/256445 [00:00<?, ?it/s]"
      ]
     },
     "metadata": {},
     "output_type": "display_data"
    }
   ],
   "source": [
    "#####PREPROCESSING TRAIN DATA AND SAVING IT#####\n",
    "\n",
    "# # Directories\n",
    "input_folder = \"train_tweets\"\n",
    "output_folder = \"train_tweets_preprocessed\"\n",
    "os.makedirs(output_folder, exist_ok=True)  # Ensure the output folder exists\n",
    "\n",
    "# Process each file in the input folder\n",
    "csv_files = [os.path.join(input_folder, f) for f in os.listdir(input_folder) if f.endswith(\".csv\")]\n",
    "for file_path in csv_files:\n",
    "    # Load the CSV\n",
    "    current_df = pd.read_csv(file_path)\n",
    "    \n",
    "    # Extract teams from filename\n",
    "    filename = os.path.basename(file_path)\n",
    "    home_team, away_team = extract_teams_from_filename(filename) \n",
    "    current_df['HomeTeam'] = home_team\n",
    "    current_df['AwayTeam'] = away_team\n",
    "    \n",
    "    # Preprocess the tweets\n",
    "    current_df['Tweet'] = current_df.swifter.apply(\n",
    "        lambda row: preprocess_text(row['Tweet'], home_team, away_team), axis=1\n",
    "    )\n",
    "\n",
    "    # Update HomeTeam and AwayTeam to their corresponding country codes\n",
    "    current_df['HomeTeamCode'] = current_df['HomeTeam'].swifter.apply(lambda x: map_team_to_country_code(x, country_code_mapping))\n",
    "    current_df['AwayTeamCode'] = current_df['AwayTeam'].swifter.apply(lambda x: map_team_to_country_code(x, country_code_mapping))\n",
    "    \n",
    "    home_team_code = current_df['HomeTeamCode'].iloc[0]\n",
    "    away_team_code = current_df['AwayTeamCode'].iloc[0]\n",
    "    \n",
    "    home_team_players = football_player_data.get(home_team_code, [])\n",
    "    away_team_players = football_player_data.get(away_team_code, [])\n",
    "\n",
    "    combined_player_names = home_team_players + away_team_players\n",
    "\n",
    "    current_df['Tweet'] = current_df.swifter.apply(lambda row: remove_player_names(row, combined_player_names), axis=1)\n",
    "    \n",
    "    # Save the preprocessed data to the output folder\n",
    "    output_path = os.path.join(output_folder, filename)\n",
    "    current_df.to_csv(output_path, index=False)"
   ]
  },
  {
   "cell_type": "code",
   "execution_count": null,
   "metadata": {},
   "outputs": [],
   "source": [
    "\n"
   ]
  },
  {
   "cell_type": "markdown",
   "metadata": {},
   "source": [
    "*PREPROCESSING ALL DATA AND SAVING IT*\n",
    "\n",
    "Use this to make weights and tfidf, Could be more efficient. But eitherway nice to have preprocessed df saved.\n"
   ]
  },
  {
   "cell_type": "code",
   "execution_count": 25,
   "metadata": {},
   "outputs": [
    {
     "data": {
      "application/vnd.jupyter.widget-view+json": {
       "model_id": "43df4543ef154ae080aebb0b6c8ca44a",
       "version_major": 2,
       "version_minor": 0
      },
      "text/plain": [
       "Pandas Apply:   0%|          | 0/285804 [00:00<?, ?it/s]"
      ]
     },
     "metadata": {},
     "output_type": "display_data"
    },
    {
     "data": {
      "application/vnd.jupyter.widget-view+json": {
       "model_id": "cd34f34a9b024980859362ae9a74989f",
       "version_major": 2,
       "version_minor": 0
      },
      "text/plain": [
       "Pandas Apply:   0%|          | 0/285804 [00:00<?, ?it/s]"
      ]
     },
     "metadata": {},
     "output_type": "display_data"
    },
    {
     "data": {
      "application/vnd.jupyter.widget-view+json": {
       "model_id": "46afa1651e394817b110f2df268a4aca",
       "version_major": 2,
       "version_minor": 0
      },
      "text/plain": [
       "Pandas Apply:   0%|          | 0/285804 [00:00<?, ?it/s]"
      ]
     },
     "metadata": {},
     "output_type": "display_data"
    },
    {
     "data": {
      "application/vnd.jupyter.widget-view+json": {
       "model_id": "3a8a2634a08c4215ae4d9225e286872c",
       "version_major": 2,
       "version_minor": 0
      },
      "text/plain": [
       "Pandas Apply:   0%|          | 0/285804 [00:00<?, ?it/s]"
      ]
     },
     "metadata": {},
     "output_type": "display_data"
    },
    {
     "data": {
      "application/vnd.jupyter.widget-view+json": {
       "model_id": "d02b578ded374f56a280582216525755",
       "version_major": 2,
       "version_minor": 0
      },
      "text/plain": [
       "Pandas Apply:   0%|          | 0/45024 [00:00<?, ?it/s]"
      ]
     },
     "metadata": {},
     "output_type": "display_data"
    },
    {
     "data": {
      "application/vnd.jupyter.widget-view+json": {
       "model_id": "89179cee363c4bf2adc5834934158386",
       "version_major": 2,
       "version_minor": 0
      },
      "text/plain": [
       "Pandas Apply:   0%|          | 0/45024 [00:00<?, ?it/s]"
      ]
     },
     "metadata": {},
     "output_type": "display_data"
    },
    {
     "data": {
      "application/vnd.jupyter.widget-view+json": {
       "model_id": "754006f5b0aa4427a051b4f57caf0ffa",
       "version_major": 2,
       "version_minor": 0
      },
      "text/plain": [
       "Pandas Apply:   0%|          | 0/45024 [00:00<?, ?it/s]"
      ]
     },
     "metadata": {},
     "output_type": "display_data"
    },
    {
     "data": {
      "application/vnd.jupyter.widget-view+json": {
       "model_id": "3ab860daaa9a4d79bb89b865157865ab",
       "version_major": 2,
       "version_minor": 0
      },
      "text/plain": [
       "Pandas Apply:   0%|          | 0/45024 [00:00<?, ?it/s]"
      ]
     },
     "metadata": {},
     "output_type": "display_data"
    },
    {
     "data": {
      "application/vnd.jupyter.widget-view+json": {
       "model_id": "e240e189428845dfa81791665464dd1c",
       "version_major": 2,
       "version_minor": 0
      },
      "text/plain": [
       "Pandas Apply:   0%|          | 0/628698 [00:00<?, ?it/s]"
      ]
     },
     "metadata": {},
     "output_type": "display_data"
    },
    {
     "data": {
      "application/vnd.jupyter.widget-view+json": {
       "model_id": "7557ebe90bab4dca814cfd0ce176842b",
       "version_major": 2,
       "version_minor": 0
      },
      "text/plain": [
       "Pandas Apply:   0%|          | 0/628698 [00:00<?, ?it/s]"
      ]
     },
     "metadata": {},
     "output_type": "display_data"
    },
    {
     "data": {
      "application/vnd.jupyter.widget-view+json": {
       "model_id": "515f2bd742ed41898e668cbd0ee0535d",
       "version_major": 2,
       "version_minor": 0
      },
      "text/plain": [
       "Pandas Apply:   0%|          | 0/628698 [00:00<?, ?it/s]"
      ]
     },
     "metadata": {},
     "output_type": "display_data"
    },
    {
     "data": {
      "application/vnd.jupyter.widget-view+json": {
       "model_id": "65203366ceaa411aaa49f05824a6baaa",
       "version_major": 2,
       "version_minor": 0
      },
      "text/plain": [
       "Pandas Apply:   0%|          | 0/628698 [00:00<?, ?it/s]"
      ]
     },
     "metadata": {},
     "output_type": "display_data"
    },
    {
     "data": {
      "application/vnd.jupyter.widget-view+json": {
       "model_id": "df084f8a18704e36b41f8f65e7ffac7a",
       "version_major": 2,
       "version_minor": 0
      },
      "text/plain": [
       "Pandas Apply:   0%|          | 0/113402 [00:00<?, ?it/s]"
      ]
     },
     "metadata": {},
     "output_type": "display_data"
    },
    {
     "data": {
      "application/vnd.jupyter.widget-view+json": {
       "model_id": "976c35db12a242028ec294d49bb0ff83",
       "version_major": 2,
       "version_minor": 0
      },
      "text/plain": [
       "Pandas Apply:   0%|          | 0/113402 [00:00<?, ?it/s]"
      ]
     },
     "metadata": {},
     "output_type": "display_data"
    },
    {
     "data": {
      "application/vnd.jupyter.widget-view+json": {
       "model_id": "05200a38b46a4e828d50486902e77dfc",
       "version_major": 2,
       "version_minor": 0
      },
      "text/plain": [
       "Pandas Apply:   0%|          | 0/113402 [00:00<?, ?it/s]"
      ]
     },
     "metadata": {},
     "output_type": "display_data"
    },
    {
     "data": {
      "application/vnd.jupyter.widget-view+json": {
       "model_id": "878654f074814598bde3f5db19a03e1e",
       "version_major": 2,
       "version_minor": 0
      },
      "text/plain": [
       "Pandas Apply:   0%|          | 0/113402 [00:00<?, ?it/s]"
      ]
     },
     "metadata": {},
     "output_type": "display_data"
    }
   ],
   "source": [
    "#####PREPROCESSING EVAL DATA AND SAVING IT#####\n",
    "\n",
    "# # Directories\n",
    "input_folder = \"eval_tweets\"\n",
    "output_folder = \"eval_tweets_preprocessed\"\n",
    "os.makedirs(output_folder, exist_ok=True)  # Ensure the output folder exists\n",
    "\n",
    "# Process each file in the input folder\n",
    "csv_files = [os.path.join(input_folder, f) for f in os.listdir(input_folder) if f.endswith(\".csv\")]\n",
    "for file_path in csv_files:\n",
    "    # Load the CSV\n",
    "    current_df = pd.read_csv(file_path)\n",
    "    \n",
    "    # Extract teams from filename\n",
    "    filename = os.path.basename(file_path)\n",
    "    home_team, away_team = extract_teams_from_filename(filename) \n",
    "    current_df['HomeTeam'] = home_team\n",
    "    current_df['AwayTeam'] = away_team\n",
    "    \n",
    "    # Preprocess the tweets\n",
    "    current_df['Tweet'] = current_df.swifter.apply(\n",
    "        lambda row: preprocess_text(row['Tweet'], home_team, away_team), axis=1\n",
    "    )\n",
    "\n",
    "    # Update HomeTeam and AwayTeam to their corresponding country codes\n",
    "    current_df['HomeTeamCode'] = current_df['HomeTeam'].swifter.apply(lambda x: map_team_to_country_code(x, country_code_mapping))\n",
    "    current_df['AwayTeamCode'] = current_df['AwayTeam'].swifter.apply(lambda x: map_team_to_country_code(x, country_code_mapping))\n",
    "    \n",
    "    home_team_code = current_df['HomeTeamCode'].iloc[0]\n",
    "    away_team_code = current_df['AwayTeamCode'].iloc[0]\n",
    "    \n",
    "    home_team_players = football_player_data.get(home_team_code, [])\n",
    "    away_team_players = football_player_data.get(away_team_code, [])\n",
    "\n",
    "    combined_player_names = home_team_players + away_team_players\n",
    "\n",
    "    current_df['Tweet'] = current_df.swifter.apply(lambda row: remove_player_names(row, combined_player_names), axis=1)\n",
    "    \n",
    "    # Save the preprocessed data to the output folder\n",
    "    output_path = os.path.join(output_folder, filename)\n",
    "    current_df.to_csv(output_path, index=False)"
   ]
  },
  {
   "cell_type": "code",
   "execution_count": 121,
   "metadata": {},
   "outputs": [],
   "source": [
    "import os\n",
    "import pandas as pd\n",
    "from sklearn.preprocessing import MinMaxScaler\n",
    "MMscaler = MinMaxScaler()\n",
    "\n",
    "# Directory containing the preprocessed CSV files\n",
    "input_folder_train = \"train_tweets_preprocessed_no_player\"\n",
    "input_folder_eval = \"eval_tweets_preprocessed_no_player\"\n",
    "\n",
    "\n",
    "# List all CSV files in the input folder\n",
    "csv_files_train = [os.path.join(input_folder_train, f) for f in os.listdir(input_folder_train) if f.endswith(\".csv\")]\n",
    "csv_files_eval = [os.path.join(input_folder_eval, f) for f in os.listdir(input_folder_eval) if f.endswith(\".csv\")]\n",
    "\n",
    "# Load each CSV file and concatenate them into one DataFrame\n",
    "dataframes_train = [pd.read_csv(file) for file in csv_files_train]\n",
    "dataframes_eval = [pd.read_csv(file) for file in csv_files_eval]\n",
    "\n",
    "combined_train_df = pd.concat(dataframes_train, ignore_index=True)\n",
    "combined_eval_df = pd.concat(dataframes_eval, ignore_index=True)\n",
    "\n",
    "# Feature creation\n",
    "\n",
    "\n",
    "\n",
    "loaded_df = pd.read_pickle('preprocessed_train.pkl')\n",
    "\n",
    "# Add the length of each tweet as a feature\n",
    "combined_train_df['TweetLength'] = combined_train_df['Tweet'].apply(len)\n",
    "combined_train_df['TweetCount'] = combined_train_df.groupby(['MatchID', 'PeriodID', 'Timestamp'])['Timestamp'].transform('count')\n",
    "combined_train_df['WordCount'] = combined_train_df['Tweet'].apply(lambda x: len(x.split()))\n",
    "\n",
    "combined_eval_df['TweetLength'] = combined_eval_df['Tweet'].apply(len)\n",
    "combined_eval_df['TweetCount'] = combined_eval_df.groupby(['MatchID', 'PeriodID', 'Timestamp'])['Timestamp'].transform('count')\n",
    "combined_eval_df['WordCount'] = combined_eval_df['Tweet'].apply(lambda x: len(x.split()))\n",
    "\n",
    "\n",
    "combined_train_df.to_pickle('preprocessed_train.pkl')\n",
    "combined_eval_df.to_pickle('preprocessed_eval.pkl')\n"
   ]
  },
  {
   "cell_type": "code",
   "execution_count": 122,
   "metadata": {},
   "outputs": [],
   "source": [
    "# Load the two pickle files into separate DataFrames\n",
    "train_df = pd.read_pickle('preprocessed_train.pkl')\n",
    "eval_df = pd.read_pickle('preprocessed_eval.pkl')\n",
    "\n",
    "# Concatenate the DataFrames\n",
    "full_df = pd.concat([train_df, eval_df], ignore_index=True)\n",
    "\n",
    "# Save the combined DataFrame as a new pickle file\n",
    "full_df.to_pickle('preprocessed_full.pkl')"
   ]
  },
  {
   "cell_type": "code",
   "execution_count": 123,
   "metadata": {},
   "outputs": [],
   "source": [
    "from sklearn.feature_extraction.text import TfidfVectorizer\n",
    "import pickle\n",
    "# Compute TF-IDF weights for the corpus\n",
    "\n",
    "# Optional: start from zero and fit on tweets\n",
    "# Initialize TF-IDF Vectorizer\n",
    "vectorizer_all_tweets = TfidfVectorizer(\n",
    "    max_features=15000,           # Limit vocabulary size to 10,000 terms\n",
    "    min_df=3,                     # Ignore terms in fewer than 3 documents\n",
    "    #max_df=0.90,                  # Ignore overly frequent terms\n",
    "    sublinear_tf=True,            # Apply logarithmic scaling to term frequencies     \n",
    "    norm='l2',                    # L2 normalization\n",
    ") \n",
    "\n",
    "# Fit the TF-IDF vectorizer on minute-level documents\n",
    "vectorizer_all_tweets.fit(full_df['Tweet'])\n",
    "\n",
    "# Save the vectorizer\n",
    "with open(\"tfidf_vectorizer_all_tweets.pkl\", \"wb\") as f:\n",
    "    pickle.dump(vectorizer_all_tweets, f)\n",
    "\n",
    "# Load pre-computed\n",
    "with open('tfidf_vectorizer_all_tweets.pkl', 'rb') as f:\n",
    "   vectorizer_all_tweets = pickle.load(f)\n",
    "\n",
    "# Extract TF-IDF weights\n",
    "tfidf_weights_all_tweets = dict(zip(vectorizer_all_tweets.get_feature_names_out(), vectorizer_all_tweets.idf_))\n",
    "\n",
    "\n",
    "# Weighted average embeddings\n",
    "def get_weighted_avg_embedding(tweet, model, vector_size=200, weights=tfidf_weights_all_tweets):\n",
    "    words = tweet.split()\n",
    "    word_vectors = [model[word] * weights.get(word, 1) for word in words if word in model]\n",
    "    if not word_vectors:\n",
    "        return np.zeros(vector_size)\n",
    "    return np.mean(word_vectors, axis=0)\n"
   ]
  },
  {
   "cell_type": "code",
   "execution_count": 125,
   "metadata": {},
   "outputs": [
    {
     "data": {
      "application/vnd.jupyter.widget-view+json": {
       "model_id": "8bc51e2a7aca4979b71684f89d01d512",
       "version_major": 2,
       "version_minor": 0
      },
      "text/plain": [
       "Pandas Apply:   0%|          | 0/5312495 [00:00<?, ?it/s]"
      ]
     },
     "metadata": {},
     "output_type": "display_data"
    },
    {
     "name": "stdout",
     "output_type": "stream",
     "text": [
      "Embeddings saved successfully!\n",
      "Embeddings loaded successfully!\n",
      "Loaded vectors shape: (5312495, 200)\n"
     ]
    }
   ],
   "source": [
    "# Generate embeddings for each tweet\n",
    "loaded_df = pd.read_pickle('preprocessed_train.pkl')\n",
    "\n",
    "# vector_size = 200  # GloVe embedding dimension\n",
    "tweet_vectors = loaded_df['Tweet'].swifter.apply(lambda tweet: get_weighted_avg_embedding(tweet, model=glove_model, vector_size=200, weights=tfidf_weights_all_tweets))\n",
    "tweet_vectors = np.array(list(tweet_vectors), dtype=np.float32)\n",
    "\n",
    "# Save the tweet vectors\n",
    "with open(\"tweet_vectors_all_data.pkl\", \"wb\") as f:\n",
    "    pickle.dump(tweet_vectors, f)\n",
    "\n",
    "print(\"Embeddings saved successfully!\")\n",
    "\n",
    "# Load the tweet vectors\n",
    "with open(\"tweet_vectors_all_data.pkl\", \"rb\") as f:\n",
    "    loaded_tweet_vectors = pickle.load(f)\n",
    "\n",
    "print(\"Embeddings loaded successfully!\")\n",
    "print(\"Loaded vectors shape:\", loaded_tweet_vectors.shape)\n",
    "\n"
   ]
  },
  {
   "cell_type": "code",
   "execution_count": 126,
   "metadata": {},
   "outputs": [
    {
     "name": "stdout",
     "output_type": "stream",
     "text": [
      "X_train_reshaped shape: (5312495, 207)\n",
      "Period features saved successfully!\n",
      "Period features loaded successfully!\n",
      "Loaded vectors shape: (2137, 207)\n"
     ]
    }
   ],
   "source": [
    "###### Use if no period features ######\n",
    "tweet_df = pd.DataFrame(loaded_tweet_vectors)\n",
    "\n",
    "# Attach the vectors into the original dataframe\n",
    "period_features = pd.concat([loaded_df, tweet_df], axis=1)\n",
    "\n",
    "# Drop the columns that are not useful anymore\n",
    "period_features = period_features.drop(columns=['Timestamp', 'Tweet', 'HomeTeam', 'AwayTeam', 'HomeTeamCode', 'AwayTeamCode'])\n",
    "\n",
    "print(\"X_train_reshaped shape:\", period_features.shape)\n",
    "# Group the tweets into their corresponding periods. This way we generate an average embedding vector for each period\n",
    "period_features = period_features.groupby(['MatchID', 'PeriodID', 'ID']).mean().reset_index()\n",
    "\n",
    "# Save the tweet vectors\n",
    "with open(\"period_features.pkl\", \"wb\") as f:\n",
    "    pickle.dump(period_features, f)\n",
    "\n",
    "print(\"Period features saved successfully!\")\n",
    "\n",
    "# Load the tweet vectors\n",
    "with open(\"period_features.pkl\", \"rb\") as f:\n",
    "    loaded_period_features = pickle.load(f)\n",
    "\n",
    "print(\"Period features loaded successfully!\")\n",
    "print(\"Loaded vectors shape:\", loaded_period_features.shape)"
   ]
  },
  {
   "cell_type": "code",
   "execution_count": 127,
   "metadata": {},
   "outputs": [],
   "source": [
    "# We drop the non-numerical features and keep the embeddings values for each period\n",
    "X = loaded_period_features.drop(columns=['EventType', 'MatchID', 'ID']).values\n",
    "# We extract the labels of our training samples\n",
    "y = loaded_period_features['EventType'].values\n",
    "\n",
    "\n",
    "# One-hot encode labels\n",
    "encoder = OneHotEncoder(sparse_output=False)\n",
    "y_encoded = encoder.fit_transform(y.reshape(-1, 1))\n",
    "\n",
    "# Train-test split\n",
    "X_train, X_test, y_train, y_test = train_test_split(X, y_encoded, test_size=0.2, random_state=SEED)\n",
    "\n",
    "# Add a time step dimension to match the LSTM input shape\n",
    "X_train_reshaped = X_train[:, None, :]  # Add a new axis for timesteps\n",
    "X_test_reshaped = X_test[:, None, :]    # Add a new axis for timesteps"
   ]
  },
  {
   "cell_type": "code",
   "execution_count": 128,
   "metadata": {},
   "outputs": [
    {
     "name": "stdout",
     "output_type": "stream",
     "text": [
      "Epoch 1/50\n",
      "\u001b[1m43/43\u001b[0m \u001b[32m━━━━━━━━━━━━━━━━━━━━\u001b[0m\u001b[37m\u001b[0m \u001b[1m3s\u001b[0m 16ms/step - accuracy: 0.5974 - loss: 0.6828 - val_accuracy: 0.5439 - val_loss: 0.6879\n",
      "Epoch 2/50\n",
      "\u001b[1m43/43\u001b[0m \u001b[32m━━━━━━━━━━━━━━━━━━━━\u001b[0m\u001b[37m\u001b[0m \u001b[1m0s\u001b[0m 6ms/step - accuracy: 0.6110 - loss: 0.6495 - val_accuracy: 0.5906 - val_loss: 0.6667\n",
      "Epoch 3/50\n",
      "\u001b[1m43/43\u001b[0m \u001b[32m━━━━━━━━━━━━━━━━━━━━\u001b[0m\u001b[37m\u001b[0m \u001b[1m0s\u001b[0m 6ms/step - accuracy: 0.6471 - loss: 0.6249 - val_accuracy: 0.6111 - val_loss: 0.6514\n",
      "Epoch 4/50\n",
      "\u001b[1m43/43\u001b[0m \u001b[32m━━━━━━━━━━━━━━━━━━━━\u001b[0m\u001b[37m\u001b[0m \u001b[1m0s\u001b[0m 6ms/step - accuracy: 0.6589 - loss: 0.5988 - val_accuracy: 0.6520 - val_loss: 0.6339\n",
      "Epoch 5/50\n",
      "\u001b[1m43/43\u001b[0m \u001b[32m━━━━━━━━━━━━━━━━━━━━\u001b[0m\u001b[37m\u001b[0m \u001b[1m0s\u001b[0m 5ms/step - accuracy: 0.6832 - loss: 0.5786 - val_accuracy: 0.6725 - val_loss: 0.6219\n",
      "Epoch 6/50\n",
      "\u001b[1m43/43\u001b[0m \u001b[32m━━━━━━━━━━━━━━━━━━━━\u001b[0m\u001b[37m\u001b[0m \u001b[1m0s\u001b[0m 6ms/step - accuracy: 0.7162 - loss: 0.5630 - val_accuracy: 0.6842 - val_loss: 0.6157\n",
      "Epoch 7/50\n",
      "\u001b[1m43/43\u001b[0m \u001b[32m━━━━━━━━━━━━━━━━━━━━\u001b[0m\u001b[37m\u001b[0m \u001b[1m0s\u001b[0m 6ms/step - accuracy: 0.7291 - loss: 0.5529 - val_accuracy: 0.6696 - val_loss: 0.6032\n",
      "Epoch 8/50\n",
      "\u001b[1m43/43\u001b[0m \u001b[32m━━━━━━━━━━━━━━━━━━━━\u001b[0m\u001b[37m\u001b[0m \u001b[1m0s\u001b[0m 5ms/step - accuracy: 0.7363 - loss: 0.5399 - val_accuracy: 0.6784 - val_loss: 0.5943\n",
      "Epoch 9/50\n",
      "\u001b[1m43/43\u001b[0m \u001b[32m━━━━━━━━━━━━━━━━━━━━\u001b[0m\u001b[37m\u001b[0m \u001b[1m0s\u001b[0m 6ms/step - accuracy: 0.7470 - loss: 0.5310 - val_accuracy: 0.6813 - val_loss: 0.5903\n",
      "Epoch 10/50\n",
      "\u001b[1m43/43\u001b[0m \u001b[32m━━━━━━━━━━━━━━━━━━━━\u001b[0m\u001b[37m\u001b[0m \u001b[1m0s\u001b[0m 5ms/step - accuracy: 0.7583 - loss: 0.5222 - val_accuracy: 0.7018 - val_loss: 0.5845\n",
      "Epoch 11/50\n",
      "\u001b[1m43/43\u001b[0m \u001b[32m━━━━━━━━━━━━━━━━━━━━\u001b[0m\u001b[37m\u001b[0m \u001b[1m0s\u001b[0m 10ms/step - accuracy: 0.7643 - loss: 0.5143 - val_accuracy: 0.6988 - val_loss: 0.5823\n",
      "Epoch 12/50\n",
      "\u001b[1m43/43\u001b[0m \u001b[32m━━━━━━━━━━━━━━━━━━━━\u001b[0m\u001b[37m\u001b[0m \u001b[1m0s\u001b[0m 6ms/step - accuracy: 0.7616 - loss: 0.5078 - val_accuracy: 0.6988 - val_loss: 0.5766\n",
      "Epoch 13/50\n",
      "\u001b[1m43/43\u001b[0m \u001b[32m━━━━━━━━━━━━━━━━━━━━\u001b[0m\u001b[37m\u001b[0m \u001b[1m0s\u001b[0m 6ms/step - accuracy: 0.7659 - loss: 0.4997 - val_accuracy: 0.7076 - val_loss: 0.5751\n",
      "Epoch 14/50\n",
      "\u001b[1m43/43\u001b[0m \u001b[32m━━━━━━━━━━━━━━━━━━━━\u001b[0m\u001b[37m\u001b[0m \u001b[1m0s\u001b[0m 5ms/step - accuracy: 0.7690 - loss: 0.4940 - val_accuracy: 0.7047 - val_loss: 0.5687\n",
      "Epoch 15/50\n",
      "\u001b[1m43/43\u001b[0m \u001b[32m━━━━━━━━━━━━━━━━━━━━\u001b[0m\u001b[37m\u001b[0m \u001b[1m0s\u001b[0m 5ms/step - accuracy: 0.7817 - loss: 0.4892 - val_accuracy: 0.7047 - val_loss: 0.5692\n",
      "Epoch 16/50\n",
      "\u001b[1m43/43\u001b[0m \u001b[32m━━━━━━━━━━━━━━━━━━━━\u001b[0m\u001b[37m\u001b[0m \u001b[1m0s\u001b[0m 6ms/step - accuracy: 0.7811 - loss: 0.4824 - val_accuracy: 0.7076 - val_loss: 0.5676\n",
      "Epoch 17/50\n",
      "\u001b[1m43/43\u001b[0m \u001b[32m━━━━━━━━━━━━━━━━━━━━\u001b[0m\u001b[37m\u001b[0m \u001b[1m0s\u001b[0m 5ms/step - accuracy: 0.7806 - loss: 0.4783 - val_accuracy: 0.7076 - val_loss: 0.5635\n",
      "Epoch 18/50\n",
      "\u001b[1m43/43\u001b[0m \u001b[32m━━━━━━━━━━━━━━━━━━━━\u001b[0m\u001b[37m\u001b[0m \u001b[1m0s\u001b[0m 5ms/step - accuracy: 0.7825 - loss: 0.4720 - val_accuracy: 0.7018 - val_loss: 0.5616\n",
      "Epoch 19/50\n",
      "\u001b[1m43/43\u001b[0m \u001b[32m━━━━━━━━━━━━━━━━━━━━\u001b[0m\u001b[37m\u001b[0m \u001b[1m0s\u001b[0m 5ms/step - accuracy: 0.7823 - loss: 0.4692 - val_accuracy: 0.7018 - val_loss: 0.5618\n",
      "Epoch 20/50\n",
      "\u001b[1m43/43\u001b[0m \u001b[32m━━━━━━━━━━━━━━━━━━━━\u001b[0m\u001b[37m\u001b[0m \u001b[1m0s\u001b[0m 6ms/step - accuracy: 0.7802 - loss: 0.4637 - val_accuracy: 0.7105 - val_loss: 0.5591\n",
      "Epoch 21/50\n",
      "\u001b[1m43/43\u001b[0m \u001b[32m━━━━━━━━━━━━━━━━━━━━\u001b[0m\u001b[37m\u001b[0m \u001b[1m0s\u001b[0m 5ms/step - accuracy: 0.7857 - loss: 0.4573 - val_accuracy: 0.7047 - val_loss: 0.5612\n",
      "Epoch 22/50\n",
      "\u001b[1m43/43\u001b[0m \u001b[32m━━━━━━━━━━━━━━━━━━━━\u001b[0m\u001b[37m\u001b[0m \u001b[1m0s\u001b[0m 5ms/step - accuracy: 0.7923 - loss: 0.4519 - val_accuracy: 0.7076 - val_loss: 0.5612\n",
      "Epoch 23/50\n",
      "\u001b[1m43/43\u001b[0m \u001b[32m━━━━━━━━━━━━━━━━━━━━\u001b[0m\u001b[37m\u001b[0m \u001b[1m0s\u001b[0m 5ms/step - accuracy: 0.7906 - loss: 0.4466 - val_accuracy: 0.7076 - val_loss: 0.5589\n",
      "Epoch 24/50\n",
      "\u001b[1m43/43\u001b[0m \u001b[32m━━━━━━━━━━━━━━━━━━━━\u001b[0m\u001b[37m\u001b[0m \u001b[1m0s\u001b[0m 5ms/step - accuracy: 0.7986 - loss: 0.4413 - val_accuracy: 0.7105 - val_loss: 0.5570\n",
      "Epoch 25/50\n",
      "\u001b[1m43/43\u001b[0m \u001b[32m━━━━━━━━━━━━━━━━━━━━\u001b[0m\u001b[37m\u001b[0m \u001b[1m0s\u001b[0m 5ms/step - accuracy: 0.7978 - loss: 0.4376 - val_accuracy: 0.7222 - val_loss: 0.5568\n",
      "Epoch 26/50\n",
      "\u001b[1m43/43\u001b[0m \u001b[32m━━━━━━━━━━━━━━━━━━━━\u001b[0m\u001b[37m\u001b[0m \u001b[1m0s\u001b[0m 5ms/step - accuracy: 0.7940 - loss: 0.4309 - val_accuracy: 0.7164 - val_loss: 0.5588\n",
      "Epoch 27/50\n",
      "\u001b[1m43/43\u001b[0m \u001b[32m━━━━━━━━━━━━━━━━━━━━\u001b[0m\u001b[37m\u001b[0m \u001b[1m0s\u001b[0m 5ms/step - accuracy: 0.7987 - loss: 0.4291 - val_accuracy: 0.7135 - val_loss: 0.5598\n",
      "Epoch 28/50\n",
      "\u001b[1m43/43\u001b[0m \u001b[32m━━━━━━━━━━━━━━━━━━━━\u001b[0m\u001b[37m\u001b[0m \u001b[1m0s\u001b[0m 5ms/step - accuracy: 0.8084 - loss: 0.4232 - val_accuracy: 0.7135 - val_loss: 0.5577\n",
      "Epoch 29/50\n",
      "\u001b[1m43/43\u001b[0m \u001b[32m━━━━━━━━━━━━━━━━━━━━\u001b[0m\u001b[37m\u001b[0m \u001b[1m0s\u001b[0m 6ms/step - accuracy: 0.8090 - loss: 0.4206 - val_accuracy: 0.7105 - val_loss: 0.5598\n",
      "Epoch 30/50\n",
      "\u001b[1m43/43\u001b[0m \u001b[32m━━━━━━━━━━━━━━━━━━━━\u001b[0m\u001b[37m\u001b[0m \u001b[1m0s\u001b[0m 6ms/step - accuracy: 0.8063 - loss: 0.4162 - val_accuracy: 0.7164 - val_loss: 0.5588\n",
      "\u001b[1m14/14\u001b[0m \u001b[32m━━━━━━━━━━━━━━━━━━━━\u001b[0m\u001b[37m\u001b[0m \u001b[1m0s\u001b[0m 4ms/step - accuracy: 0.7888 - loss: 0.5093 \n",
      "Test Accuracy: 0.7991\n"
     ]
    }
   ],
   "source": [
    "\n",
    "\n",
    "# Define the early stopping callback\n",
    "early_stopping = EarlyStopping(\n",
    "    monitor='val_loss',      # Monitor validation loss\n",
    "    patience=5,              # Stop training if no improvement after 3 epochs\n",
    "    restore_best_weights=True  # Restore the best weights when stopping\n",
    ")\n",
    "\n",
    "# Define the LSTM model with deterministic initializers\n",
    "model = Sequential([\n",
    "    tf.keras.layers.Input(shape=(1, X_train_reshaped.shape[2])),  \n",
    "    LSTM(\n",
    "        128, \n",
    "        return_sequences=False, \n",
    "        kernel_initializer=GlorotUniform(seed=SEED), \n",
    "        recurrent_initializer=Orthogonal(seed=SEED),\n",
    "        bias_initializer='zeros'\n",
    "    ),             \n",
    "    Dense(y_encoded.shape[1], activation='softmax', kernel_initializer=GlorotUniform(seed=SEED))\n",
    "])\n",
    "\n",
    "# Compile the model\n",
    "model.compile(optimizer=Adam(learning_rate=0.001),\n",
    "              loss='categorical_crossentropy',\n",
    "              metrics=['accuracy'])\n",
    "\n",
    "# Train the model\n",
    "history = model.fit(X_train_reshaped, y_train,\n",
    "                    epochs=50,\n",
    "                    batch_size=32,\n",
    "                    validation_split=0.2,\n",
    "                    callbacks=[early_stopping],  # Include the early stopping callback\n",
    "                    verbose=1)\n",
    "\n",
    "# Evaluate on the test set\n",
    "test_loss, test_accuracy = model.evaluate(X_test_reshaped, y_test, verbose=1)\n",
    "\n",
    "print(f\"Test Accuracy: {test_accuracy:.4f}\")"
   ]
  },
  {
   "cell_type": "code",
   "execution_count": null,
   "metadata": {},
   "outputs": [],
   "source": [
    "eval_data = pd.read_pickle('preprocessed_eval.pkl')\n",
    "print(eval_data)"
   ]
  },
  {
   "cell_type": "code",
   "execution_count": 131,
   "metadata": {},
   "outputs": [
    {
     "data": {
      "application/vnd.jupyter.widget-view+json": {
       "model_id": "156c0d44a0ab419592e250df25f14b07",
       "version_major": 2,
       "version_minor": 0
      },
      "text/plain": [
       "Pandas Apply:   0%|          | 0/1072928 [00:00<?, ?it/s]"
      ]
     },
     "metadata": {},
     "output_type": "display_data"
    },
    {
     "name": "stdout",
     "output_type": "stream",
     "text": [
      "\u001b[1m17/17\u001b[0m \u001b[32m━━━━━━━━━━━━━━━━━━━━\u001b[0m\u001b[37m\u001b[0m \u001b[1m1s\u001b[0m 17ms/step\n"
     ]
    }
   ],
   "source": [
    "###### For Kaggle submission\n",
    "\n",
    "predictions = []\n",
    "dummy_predictions = []\n",
    "# We read each file separately, we preprocess the tweets and then use the classifier to predict the labels.\n",
    "# Finally, we concatenate all predictions into a list that will eventually be concatenated and exported\n",
    "# to be submitted on Kaggle.\n",
    "\n",
    "val_df = pd.read_pickle('preprocessed_eval.pkl')\n",
    "\n",
    "tweet_vectors = val_df['Tweet'].swifter.apply(lambda tweet: get_weighted_avg_embedding(tweet, model=glove_model, vector_size=200, weights= tfidf_weights_all_tweets))\n",
    "\n",
    "tweet_vectors = np.array(list(tweet_vectors), dtype=np.float32)\n",
    "\n",
    "tweet_df = pd.DataFrame(tweet_vectors)\n",
    "\n",
    "period_features_val = pd.concat([val_df, tweet_df], axis=1)\n",
    "period_features_val = period_features_val.drop(columns=['Timestamp', 'Tweet', 'HomeTeam', 'AwayTeam', 'HomeTeamCode', 'AwayTeamCode'])\n",
    "period_features_val = period_features_val.groupby(['MatchID', 'PeriodID', 'ID']).mean().reset_index()\n",
    "\n",
    "X = period_features_val.drop(columns=['MatchID', 'ID']).values\n",
    "\n",
    "# Reshape input for LSTM\n",
    "X_reshaped = X[:, None, :]  # Add timestep dimension\n",
    "\n",
    "preds = model.predict(X_reshaped)\n",
    "preds = preds.argmax(axis=1)  # Convert probabilities to class indices\n",
    "period_features_val['EventType'] = preds\n",
    "predictions.append(period_features_val[['ID', 'EventType']])\n",
    "\n",
    "\n",
    "pred_df = pd.concat(predictions)\n",
    "pred_df.to_csv('LSTM_predictions.csv', index=False)\n",
    "\n"
   ]
  },
  {
   "cell_type": "code",
   "execution_count": null,
   "metadata": {},
   "outputs": [],
   "source": [
    "import pickle\n",
    "# Save TF-IDF trained on the training data\n",
    "with open('tfidf_vectorizer.pkl', 'wb') as f:\n",
    "    pickle.dump(vectorizer, f)"
   ]
  },
  {
   "cell_type": "code",
   "execution_count": null,
   "metadata": {},
   "outputs": [],
   "source": [
    "print(val_df)"
   ]
  },
  {
   "cell_type": "code",
   "execution_count": null,
   "metadata": {},
   "outputs": [],
   "source": [
    "from sklearn.feature_extraction.text import TfidfVectorizer\n",
    "import numpy as np\n",
    "import pandas as pd\n",
    "\n",
    "# Load dataset\n",
    "loaded_df = pd.read_pickle('preprocessed_train.pkl')\n",
    "\n",
    "# Single vectorizer for consistent vocabulary\n",
    "vectorizer = TfidfVectorizer(max_features=20000, stop_words='english', ngram_range=(1, 2))\n",
    "X = vectorizer.fit_transform(loaded_df['Tweet'])\n",
    "\n",
    "# Separate event and non-event tweets\n",
    "event_X = X[loaded_df['EventType'] == 1]\n",
    "non_event_X = X[loaded_df['EventType'] == 0]\n",
    "\n",
    "# Compute mean TF-IDF scores for sparse matrices\n",
    "event_tfidf_scores = np.array(event_X.mean(axis=0)).flatten()\n",
    "non_event_tfidf_scores = np.array(non_event_X.mean(axis=0)).flatten()\n",
    "\n",
    "# Get feature names\n",
    "tfidf_words = vectorizer.get_feature_names_out()\n",
    "\n",
    "# Compute differences and sort\n",
    "tfidf_differences = event_tfidf_scores - non_event_tfidf_scores\n",
    "tfidf_word_differences = sorted(zip(tfidf_words, tfidf_differences), key=lambda x: abs(x[1]), reverse=True)\n",
    "\n",
    "# Output top words\n",
    "print(\"Top words by TF-IDF difference:\")\n",
    "print(tfidf_word_differences[:10])\n"
   ]
  },
  {
   "cell_type": "code",
   "execution_count": null,
   "metadata": {},
   "outputs": [],
   "source": [
    "from sklearn.feature_extraction.text import CountVectorizer\n",
    "from sklearn.feature_selection import chi2\n",
    "import pandas as pd\n",
    "\n",
    "# Convert tweets into a bag-of-words representation\n",
    "vectorizer = CountVectorizer(max_features=5000, stop_words='english', binary=True)\n",
    "X = vectorizer.fit_transform(loaded_df['Tweet'])  # Word presence (binary matrix)\n",
    "y = loaded_df['EventType']  # Binary labels: 1 (event), 0 (no event)\n",
    "\n",
    "# Perform chi-square test\n",
    "chi2_scores, p_values = chi2(X, y)\n",
    "\n",
    "# Create a DataFrame of words and chi-square scores\n",
    "chi2_results = pd.DataFrame({\n",
    "    'Word': vectorizer.get_feature_names_out(),\n",
    "    'Chi2_Score': chi2_scores,\n",
    "    'P_Value': p_values\n",
    "}).sort_values(by='Chi2_Score', ascending=False)\n",
    "\n",
    "# Display the top 10 words most associated with events\n",
    "print(\"Top event-specific words by Chi2 score:\")\n",
    "print(chi2_results.head(10))"
   ]
  },
  {
   "cell_type": "code",
   "execution_count": null,
   "metadata": {},
   "outputs": [],
   "source": [
    "name_list = [\n",
    "    'messi', 'ronaldo', 'neymar', 'beckham', 'villa', 'modric', 'suarez', 'griezmann',\n",
    "    'mbappe', 'kroos', 'kane', 'iniesta', 'xavi', 'pogba', 'drogba', 'gerard', 'hummels',\n",
    "    'ribery', 'salah', 'hazard', 'benzema', 'aguero', 'zlatan', 'kaka', 'rooney', 'degea',\n",
    "    'ozil', 'bale', 'schweinsteiger', 'pirlo', 'terry', 'alves', 'pique', 'david', 'cristiano', \n",
    "    'kramer', 'klose', 'muller', 'lahm', 'neuer', 'gotze', 'reus', 'schurrle', 'kroos', 'boateng',\n",
    "    'cromex', 'chicharito', 'torres', 'leroy', 'hernandez', 'christoph', 'vertonghen', 'john',\n",
    "    'javier', 'fernandez', 'slimani', 'matshummels', 'romero', 'porgha', 'marquez', 'guajevilla',\n",
    "    'honsui', 'cahill', 'neymarjr', 'porgha'\n",
    "]\n",
    "\n",
    "\n",
    "def remove_rows_with_names(df, name_list):\n",
    "    # Filter the DataFrame to exclude rows where the \"Word\" column matches any name in the name list\n",
    "    return df[~df['Word'].str.lower().isin(name_list)]\n"
   ]
  },
  {
   "cell_type": "code",
   "execution_count": null,
   "metadata": {},
   "outputs": [],
   "source": [
    "chi2_results = remove_rows_with_names(chi2_results, name_list)\n",
    "\n"
   ]
  },
  {
   "cell_type": "code",
   "execution_count": null,
   "metadata": {},
   "outputs": [],
   "source": [
    "print(chi2_results)"
   ]
  },
  {
   "cell_type": "code",
   "execution_count": null,
   "metadata": {},
   "outputs": [],
   "source": [
    "top_words = chi2_results[:62]"
   ]
  },
  {
   "cell_type": "code",
   "execution_count": null,
   "metadata": {},
   "outputs": [],
   "source": [
    "# Create a dictionary for the chi² scores\n",
    "chi2_dict = dict(zip(top_words['Word'], top_words['Chi2_Score']))\n",
    "\n",
    "# Compute weighted score features for each important word\n",
    "for word in chi2_dict.keys():\n",
    "    loaded_df[f'WeightedScore_{word}'] = loaded_df['Tweet'].apply(\n",
    "        lambda tweet: tweet.split().count(word) * chi2_dict.get(word, 0)\n",
    "    )\n",
    "\n",
    "print(\"loaded_df shape:\", loaded_df.shape)\n"
   ]
  },
  {
   "cell_type": "code",
   "execution_count": null,
   "metadata": {},
   "outputs": [],
   "source": [
    "loaded_df.to_pickle('preprocessed_train_extra_weights.pkl')"
   ]
  },
  {
   "cell_type": "code",
   "execution_count": null,
   "metadata": {},
   "outputs": [],
   "source": [
    "correlation = loaded_df[['TweetLength', 'WordCount']].corr()\n",
    "print(\"Correlation between TweetLength and WordCount:\")\n",
    "print(correlation)\n"
   ]
  },
  {
   "cell_type": "code",
   "execution_count": null,
   "metadata": {},
   "outputs": [],
   "source": [
    "import matplotlib.pyplot as plt\n",
    "\n",
    "plt.scatter(loaded_df['TweetLength'], loaded_df['WordCount'], alpha=0.5)\n",
    "plt.xlabel('TweetLength')\n",
    "plt.ylabel('WordCount')\n",
    "plt.title('Relationship Between Tweet Length and Word Count')\n",
    "plt.show()"
   ]
  },
  {
   "cell_type": "code",
   "execution_count": null,
   "metadata": {},
   "outputs": [],
   "source": [
    "# Average word length in a tweet\n",
    "loaded_df['AvgWordLength'] = loaded_df['TweetLength'] / (loaded_df['WordCount'] + 1)  # Add 1 to avoid division by zero\n"
   ]
  },
  {
   "cell_type": "code",
   "execution_count": 81,
   "metadata": {},
   "outputs": [
    {
     "data": {
      "application/vnd.jupyter.widget-view+json": {
       "model_id": "5f8ca0db543246b88329f9594bb55f82",
       "version_major": 2,
       "version_minor": 0
      },
      "text/plain": [
       "Pandas Apply:   0%|          | 0/86843 [00:00<?, ?it/s]"
      ]
     },
     "metadata": {},
     "output_type": "display_data"
    },
    {
     "data": {
      "application/vnd.jupyter.widget-view+json": {
       "model_id": "59ddaf42cbd0441db0c163db0228b907",
       "version_major": 2,
       "version_minor": 0
      },
      "text/plain": [
       "Pandas Apply:   0%|          | 0/272389 [00:00<?, ?it/s]"
      ]
     },
     "metadata": {},
     "output_type": "display_data"
    },
    {
     "data": {
      "application/vnd.jupyter.widget-view+json": {
       "model_id": "78fc13653bf24b4aa9ebcdfbcf4e5297",
       "version_major": 2,
       "version_minor": 0
      },
      "text/plain": [
       "Pandas Apply:   0%|          | 0/148298 [00:00<?, ?it/s]"
      ]
     },
     "metadata": {},
     "output_type": "display_data"
    },
    {
     "data": {
      "application/vnd.jupyter.widget-view+json": {
       "model_id": "495bda5b56ff42438cac84b0e074ae7b",
       "version_major": 2,
       "version_minor": 0
      },
      "text/plain": [
       "Pandas Apply:   0%|          | 0/973985 [00:00<?, ?it/s]"
      ]
     },
     "metadata": {},
     "output_type": "display_data"
    },
    {
     "data": {
      "application/vnd.jupyter.widget-view+json": {
       "model_id": "2072ce3c59974fd8918ee25ca1de0d22",
       "version_major": 2,
       "version_minor": 0
      },
      "text/plain": [
       "Pandas Apply:   0%|          | 0/99192 [00:00<?, ?it/s]"
      ]
     },
     "metadata": {},
     "output_type": "display_data"
    },
    {
     "data": {
      "application/vnd.jupyter.widget-view+json": {
       "model_id": "b6e34c928bf646a0a6978459fc31870e",
       "version_major": 2,
       "version_minor": 0
      },
      "text/plain": [
       "Pandas Apply:   0%|          | 0/95108 [00:00<?, ?it/s]"
      ]
     },
     "metadata": {},
     "output_type": "display_data"
    },
    {
     "data": {
      "application/vnd.jupyter.widget-view+json": {
       "model_id": "df4a43f74b094666b8a1062da1e28157",
       "version_major": 2,
       "version_minor": 0
      },
      "text/plain": [
       "Pandas Apply:   0%|          | 0/712525 [00:00<?, ?it/s]"
      ]
     },
     "metadata": {},
     "output_type": "display_data"
    },
    {
     "data": {
      "application/vnd.jupyter.widget-view+json": {
       "model_id": "466b0e568ce848d5aa88fb81b2f257a2",
       "version_major": 2,
       "version_minor": 0
      },
      "text/plain": [
       "Pandas Apply:   0%|          | 0/525725 [00:00<?, ?it/s]"
      ]
     },
     "metadata": {},
     "output_type": "display_data"
    },
    {
     "data": {
      "application/vnd.jupyter.widget-view+json": {
       "model_id": "0f9b1444421448b581b7a8b03d92d032",
       "version_major": 2,
       "version_minor": 0
      },
      "text/plain": [
       "Pandas Apply:   0%|          | 0/155549 [00:00<?, ?it/s]"
      ]
     },
     "metadata": {},
     "output_type": "display_data"
    },
    {
     "data": {
      "application/vnd.jupyter.widget-view+json": {
       "model_id": "db4d100080c747f9821964e1eb80b3fe",
       "version_major": 2,
       "version_minor": 0
      },
      "text/plain": [
       "Pandas Apply:   0%|          | 0/367899 [00:00<?, ?it/s]"
      ]
     },
     "metadata": {},
     "output_type": "display_data"
    },
    {
     "data": {
      "application/vnd.jupyter.widget-view+json": {
       "model_id": "fd5a9e40899e449b9002a7495e362fb9",
       "version_major": 2,
       "version_minor": 0
      },
      "text/plain": [
       "Pandas Apply:   0%|          | 0/96834 [00:00<?, ?it/s]"
      ]
     },
     "metadata": {},
     "output_type": "display_data"
    },
    {
     "data": {
      "application/vnd.jupyter.widget-view+json": {
       "model_id": "a7c688a67a2b4015b7cbf605abab9f4a",
       "version_major": 2,
       "version_minor": 0
      },
      "text/plain": [
       "Pandas Apply:   0%|          | 0/41539 [00:00<?, ?it/s]"
      ]
     },
     "metadata": {},
     "output_type": "display_data"
    },
    {
     "data": {
      "application/vnd.jupyter.widget-view+json": {
       "model_id": "da90ecfb2f6c42ffa6559391ae77f135",
       "version_major": 2,
       "version_minor": 0
      },
      "text/plain": [
       "Pandas Apply:   0%|          | 0/824241 [00:00<?, ?it/s]"
      ]
     },
     "metadata": {},
     "output_type": "display_data"
    },
    {
     "data": {
      "application/vnd.jupyter.widget-view+json": {
       "model_id": "36810248b7204781926adbffa395d11c",
       "version_major": 2,
       "version_minor": 0
      },
      "text/plain": [
       "Pandas Apply:   0%|          | 0/313803 [00:00<?, ?it/s]"
      ]
     },
     "metadata": {},
     "output_type": "display_data"
    },
    {
     "data": {
      "application/vnd.jupyter.widget-view+json": {
       "model_id": "7142e65471a242499b09af0ede7c1d13",
       "version_major": 2,
       "version_minor": 0
      },
      "text/plain": [
       "Pandas Apply:   0%|          | 0/85675 [00:00<?, ?it/s]"
      ]
     },
     "metadata": {},
     "output_type": "display_data"
    },
    {
     "data": {
      "application/vnd.jupyter.widget-view+json": {
       "model_id": "26d0bc0cf5084cef9f3844919b4cb099",
       "version_major": 2,
       "version_minor": 0
      },
      "text/plain": [
       "Pandas Apply:   0%|          | 0/256445 [00:00<?, ?it/s]"
      ]
     },
     "metadata": {},
     "output_type": "display_data"
    },
    {
     "data": {
      "application/vnd.jupyter.widget-view+json": {
       "model_id": "76d047242d8b49eda1fb6838db609ba1",
       "version_major": 2,
       "version_minor": 0
      },
      "text/plain": [
       "Pandas Apply:   0%|          | 0/285804 [00:00<?, ?it/s]"
      ]
     },
     "metadata": {},
     "output_type": "display_data"
    },
    {
     "data": {
      "application/vnd.jupyter.widget-view+json": {
       "model_id": "e7ff2a9c37a34735bf1042c48b329473",
       "version_major": 2,
       "version_minor": 0
      },
      "text/plain": [
       "Pandas Apply:   0%|          | 0/45024 [00:00<?, ?it/s]"
      ]
     },
     "metadata": {},
     "output_type": "display_data"
    },
    {
     "data": {
      "application/vnd.jupyter.widget-view+json": {
       "model_id": "26c71d16c4554439b529b80bedfc2f06",
       "version_major": 2,
       "version_minor": 0
      },
      "text/plain": [
       "Pandas Apply:   0%|          | 0/628698 [00:00<?, ?it/s]"
      ]
     },
     "metadata": {},
     "output_type": "display_data"
    },
    {
     "data": {
      "application/vnd.jupyter.widget-view+json": {
       "model_id": "be8a2869f89c4432ad39546905da437f",
       "version_major": 2,
       "version_minor": 0
      },
      "text/plain": [
       "Pandas Apply:   0%|          | 0/113402 [00:00<?, ?it/s]"
      ]
     },
     "metadata": {},
     "output_type": "display_data"
    },
    {
     "name": "stdout",
     "output_type": "stream",
     "text": [
      "Mentions with teams saved to mentions_with_teams.pkl\n"
     ]
    }
   ],
   "source": [
    "import os\n",
    "import pandas as pd\n",
    "import re\n",
    "import swifter\n",
    "\n",
    "# Directories\n",
    "folders = [\"train_tweets\", \"eval_tweets\"]\n",
    "\n",
    "# Function to extract mentions, excluding those from retweets\n",
    "def extract_mentions(text):\n",
    "    # Find all mentions in the text\n",
    "    mentions = re.findall(r'@\\w+', text)\n",
    "    # Exclude mentions in the format \"RT @NAME:\"\n",
    "    filtered_mentions = [\n",
    "        mention for mention in mentions if not re.search(rf'^RT {mention}:', text)\n",
    "    ]\n",
    "    return filtered_mentions\n",
    "\n",
    "# List to store all mentions with HomeTeam and AwayTeam\n",
    "all_mentions_data = []\n",
    "\n",
    "# Process each file in the specified folders\n",
    "for folder in folders:\n",
    "    csv_files = [os.path.join(folder, f) for f in os.listdir(folder) if f.endswith(\".csv\")]\n",
    "    for file_path in csv_files:\n",
    "        # Extract teams from filename\n",
    "        filename = os.path.basename(file_path)\n",
    "        home_team, away_team = extract_teams_from_filename(filename)  # Assumes this function exists\n",
    "        \n",
    "        # Load the CSV\n",
    "        current_df = pd.read_csv(file_path)\n",
    "        \n",
    "        # Add HomeTeam and AwayTeam to DataFrame\n",
    "        current_df['HomeTeam'] = home_team\n",
    "        current_df['AwayTeam'] = away_team\n",
    "        \n",
    "        # Extract mentions from each tweet using swifter\n",
    "        current_df['Mentions'] = current_df['Tweet'].swifter.apply(extract_mentions)\n",
    "        \n",
    "        # Flatten mentions and include HomeTeam and AwayTeam for each mention\n",
    "        all_mentions_data.extend(\n",
    "            {\n",
    "                'Mention': mention,\n",
    "                'HomeTeam': row['HomeTeam'],\n",
    "                'AwayTeam': row['AwayTeam']\n",
    "            }\n",
    "            for _, row in current_df.iterrows() for mention in row['Mentions']\n",
    "        )\n",
    "\n",
    "# Create a DataFrame from the mentions data\n",
    "mentions_df = pd.DataFrame(all_mentions_data)\n",
    "\n",
    "# Save the DataFrame as a pickle file\n",
    "mentions_df.to_pickle(\"mentions_with_teams.pkl\")\n",
    "\n",
    "print(\"Mentions with teams saved to mentions_with_teams.pkl\")\n"
   ]
  },
  {
   "cell_type": "code",
   "execution_count": 82,
   "metadata": {},
   "outputs": [
    {
     "name": "stdout",
     "output_type": "stream",
     "text": [
      "               Mention   HomeTeam    AwayTeam\n",
      "0          @theadamccx  Australia       Spain\n",
      "1           @OSAussies  Australia       Spain\n",
      "2           @StatsZone  Australia       Spain\n",
      "3           @Socceroos  Australia       Spain\n",
      "4          @VillasArmy  Australia       Spain\n",
      "...                ...        ...         ...\n",
      "1142201         @Deen8     Greece  IvoryCoast\n",
      "1142202  @Naijablogger     Greece  IvoryCoast\n",
      "1142203     @jayayensu     Greece  IvoryCoast\n",
      "1142204   @bobbykemp81     Greece  IvoryCoast\n",
      "1142205  @Naijablogger     Greece  IvoryCoast\n",
      "\n",
      "[1142206 rows x 3 columns]\n"
     ]
    }
   ],
   "source": [
    "print(mentions_df)"
   ]
  },
  {
   "cell_type": "code",
   "execution_count": 100,
   "metadata": {},
   "outputs": [
    {
     "data": {
      "application/vnd.jupyter.widget-view+json": {
       "model_id": "2da2d5956ec6415b9b1e6271f58983a4",
       "version_major": 2,
       "version_minor": 0
      },
      "text/plain": [
       "Pandas Apply:   0%|          | 0/7799 [00:00<?, ?it/s]"
      ]
     },
     "metadata": {},
     "output_type": "display_data"
    },
    {
     "name": "stdout",
     "output_type": "stream",
     "text": [
      "                Mention   HomeTeam    AwayTeam  is_name\n",
      "3            @Socceroos  Australia       Spain        0\n",
      "5        @FutballTweets  Australia       Spain        0\n",
      "6             @PReina25  Australia       Spain        1\n",
      "11         @FutbolBible  Australia       Spain        0\n",
      "12               @21LVA  Australia       Spain        0\n",
      "...                 ...        ...         ...      ...\n",
      "1137718  @Vine_Football     Greece  IvoryCoast        0\n",
      "1137822      @idriselba     Greece  IvoryCoast        0\n",
      "1137965     @PhilaUnion     Greece  IvoryCoast        0\n",
      "1139110    @SeppBlatter     Greece  IvoryCoast        0\n",
      "1139786             @AP     Greece  IvoryCoast        0\n",
      "\n",
      "[7799 rows x 4 columns]\n"
     ]
    }
   ],
   "source": [
    "import pandas as pd\n",
    "import re\n",
    "import swifter\n",
    "\n",
    "# Load the mentions DataFrame\n",
    "mentions = pd.read_pickle(\"mentions_with_teams.pkl\")\n",
    "\n",
    "# Filter mentions based on their occurrences in a specific HomeTeam and AwayTeam combination\n",
    "mentions['mention_count'] = mentions.groupby(['HomeTeam', 'AwayTeam', 'Mention'])['Mention'].transform('count')\n",
    "mentions = mentions[mentions['mention_count'] > 10]\n",
    "\n",
    "# Drop duplicates\n",
    "mentions = mentions.drop_duplicates()\n",
    "\n",
    "# Load the last names DataFrame\n",
    "last_names_df = pd.read_csv(\"last_names.csv\")\n",
    "\n",
    "# Ensure the last names DataFrame contains 'last_name' and 'team' columns\n",
    "if {'last_name', 'nationality'}.issubset(last_names_df.columns):\n",
    "    # Add the 'is_name' column\n",
    "    def is_name(mention, home_team, away_team):\n",
    "        # Filter last names for the HomeTeam and AwayTeam\n",
    "        team_last_names = last_names_df[last_names_df['nationality'].isin([home_team, away_team])]['last_name'].str.lower().tolist()\n",
    "        # Check if any last name from these teams matches the mention\n",
    "        return 1 if any(last_name in mention.lower() for last_name in team_last_names) else 0\n",
    "\n",
    "    # Apply the function row-wise using swifter\n",
    "    mentions['is_name'] = mentions.swifter.apply(\n",
    "        lambda row: is_name(row['Mention'], row['HomeTeam'], row['AwayTeam']), axis=1\n",
    "    )\n",
    "\n",
    "    # Drop the temporary mention_count column\n",
    "    mentions.drop(columns=['mention_count'], inplace=True)\n",
    "\n",
    "    # Print the updated DataFrame\n",
    "    print(mentions)\n",
    "\n",
    "    # Optionally, save the updated DataFrame to a new pickle file\n",
    "    mentions.to_pickle(\"mentions_with_is_name.pkl\")\n",
    "\n",
    "else:\n",
    "    print(\"The last_names.csv file must contain 'last_name' and 'team' columns.\")\n"
   ]
  },
  {
   "cell_type": "code",
   "execution_count": 101,
   "metadata": {},
   "outputs": [
    {
     "name": "stdout",
     "output_type": "stream",
     "text": [
      "                Mention   HomeTeam    AwayTeam  is_name\n",
      "3            @Socceroos  Australia       Spain        0\n",
      "5        @FutballTweets  Australia       Spain        0\n",
      "6             @PReina25  Australia       Spain        1\n",
      "11         @FutbolBible  Australia       Spain        0\n",
      "12               @21LVA  Australia       Spain        0\n",
      "...                 ...        ...         ...      ...\n",
      "1137718  @Vine_Football     Greece  IvoryCoast        0\n",
      "1137822      @idriselba     Greece  IvoryCoast        0\n",
      "1137965     @PhilaUnion     Greece  IvoryCoast        0\n",
      "1139110    @SeppBlatter     Greece  IvoryCoast        0\n",
      "1139786             @AP     Greece  IvoryCoast        0\n",
      "\n",
      "[7799 rows x 4 columns]\n"
     ]
    }
   ],
   "source": [
    "mentions_with_is_name = pd.read_pickle(\"mentions_with_is_name.pkl\")\n",
    "mentions_with_is_name = mentions_with_is_name\n",
    "print(mentions_with_is_name)"
   ]
  },
  {
   "cell_type": "code",
   "execution_count": 107,
   "metadata": {},
   "outputs": [
    {
     "name": "stdout",
     "output_type": "stream",
     "text": [
      "                  Mention     HomeTeam    AwayTeam  is_name\n",
      "6               @PReina25    Australia       Spain        1\n",
      "14           @Guaje7Villa    Australia       Spain        1\n",
      "57            @19SCazorla    Australia       Spain        1\n",
      "59         @BenHalloran23    Australia       Spain        1\n",
      "70         @oliverbozanic    Australia       Spain        1\n",
      "...                   ...          ...         ...      ...\n",
      "1088958     @ShawnBerrios  Netherlands      Mexico        1\n",
      "1096603  @AnthonyIbarra10  Netherlands      Mexico        1\n",
      "1111115        @LaRAWRura  Netherlands      Mexico        1\n",
      "1128712  @KoloKolotoure28       Greece  IvoryCoast        1\n",
      "1129388  @GervinhOfficial       Greece  IvoryCoast        1\n",
      "\n",
      "[564 rows x 4 columns]\n"
     ]
    }
   ],
   "source": [
    "import pandas as pd\n",
    "\n",
    "# Load the DataFrame\n",
    "mentions_with_is_name = pd.read_pickle(\"mentions_with_is_name.pkl\")\n",
    "\n",
    "# Convert mentions to lowercase\n",
    "mentions_with_is_name['Mention'] = mentions_with_is_name['Mention']\n",
    "\n",
    "mentions_with_is_name = mentions_with_is_name[mentions_with_is_name['is_name'] != 0]\n",
    "\n",
    "\n",
    "mentions_with_is_name = mentions_with_is_name[~mentions_with_is_name['Mention'].str.contains('Brazil', na=False)]\n",
    "mentions_with_is_name = mentions_with_is_name[~mentions_with_is_name['Mention'].str.contains('soccer', na=False)]\n",
    "mentions_with_is_name = mentions_with_is_name[~mentions_with_is_name['Mention'].str.contains('ball', na=False)]\n",
    "mentions_with_is_name = mentions_with_is_name[~mentions_with_is_name['Mention'].str.contains('Twitter', na=False)]\n",
    "\n",
    "\n",
    "\n",
    "# Print the updated DataFrame\n",
    "print(mentions_with_is_name)\n",
    "\n",
    "# Optionally, save the updated DataFrame to a new pickle file\n",
    "mentions_with_is_name.to_pickle(\"mentions_without_football.pkl\")"
   ]
  },
  {
   "cell_type": "code",
   "execution_count": 116,
   "metadata": {},
   "outputs": [
    {
     "data": {
      "application/vnd.jupyter.widget-view+json": {
       "model_id": "9c92c8425e48428d9fc19bfbc890d580",
       "version_major": 2,
       "version_minor": 0
      },
      "text/plain": [
       "Pandas Apply:   0%|          | 0/564 [00:00<?, ?it/s]"
      ]
     },
     "metadata": {},
     "output_type": "display_data"
    },
    {
     "name": "stdout",
     "output_type": "stream",
     "text": [
      "                  Mention     HomeTeam    AwayTeam  is_name  \\\n",
      "6               @PReina25    Australia       Spain        1   \n",
      "14           @Guaje7Villa    Australia       Spain        1   \n",
      "57            @19SCazorla    Australia       Spain        1   \n",
      "59         @BenHalloran23    Australia       Spain        1   \n",
      "70         @oliverbozanic    Australia       Spain        1   \n",
      "...                   ...          ...         ...      ...   \n",
      "1088958     @ShawnBerrios  Netherlands      Mexico        1   \n",
      "1096603  @AnthonyIbarra10  Netherlands      Mexico        1   \n",
      "1111115        @LaRAWRura  Netherlands      Mexico        1   \n",
      "1128712  @KoloKolotoure28       Greece  IvoryCoast        1   \n",
      "1129388  @GervinhOfficial       Greece  IvoryCoast        1   \n",
      "\n",
      "        PreprocessedMention  \n",
      "6                    preina  \n",
      "14               guajevilla  \n",
      "57                 scazorla  \n",
      "59              benhalloran  \n",
      "70            oliverbozanic  \n",
      "...                     ...  \n",
      "1088958        shawnberrios  \n",
      "1096603       anthonyibarra  \n",
      "1111115           larawrura  \n",
      "1128712       kolokolotoure  \n",
      "1129388     gervinhofficial  \n",
      "\n",
      "[564 rows x 5 columns]\n"
     ]
    }
   ],
   "source": [
    "mentions_with_is_name = pd.read_pickle(\"mentions_without_football.pkl\")\n",
    "mentions_with_is_name['PreprocessedMention'] = mentions_with_is_name.swifter.apply(\n",
    "    lambda row: preprocess_text(row['Mention'], row['HomeTeam'], row['AwayTeam']), axis=1\n",
    ")\n",
    "mentions_with_is_name.to_pickle(\"mentions_processed.pkl\")\n",
    "print(mentions_with_is_name)"
   ]
  },
  {
   "cell_type": "code",
   "execution_count": 119,
   "metadata": {},
   "outputs": [
    {
     "name": "stdout",
     "output_type": "stream",
     "text": [
      "Processing: train_tweets_preprocessed/AustraliaSpain34.csv\n"
     ]
    },
    {
     "data": {
      "application/vnd.jupyter.widget-view+json": {
       "model_id": "37c4cc2748b4427ea7f23ac7d651944e",
       "version_major": 2,
       "version_minor": 0
      },
      "text/plain": [
       "Pandas Apply:   0%|          | 0/86843 [00:00<?, ?it/s]"
      ]
     },
     "metadata": {},
     "output_type": "display_data"
    },
    {
     "name": "stdout",
     "output_type": "stream",
     "text": [
      "Saved: train_tweets_preprocessed_no_player/AustraliaSpain34.csv\n",
      "Processing: train_tweets_preprocessed/PortugalGhana58.csv\n"
     ]
    },
    {
     "data": {
      "application/vnd.jupyter.widget-view+json": {
       "model_id": "c9d594bfaa2a4c56b6d9f0b4e361e511",
       "version_major": 2,
       "version_minor": 0
      },
      "text/plain": [
       "Pandas Apply:   0%|          | 0/272389 [00:00<?, ?it/s]"
      ]
     },
     "metadata": {},
     "output_type": "display_data"
    },
    {
     "name": "stdout",
     "output_type": "stream",
     "text": [
      "Saved: train_tweets_preprocessed_no_player/PortugalGhana58.csv\n",
      "Processing: train_tweets_preprocessed/CameroonBrazil36.csv\n"
     ]
    },
    {
     "data": {
      "application/vnd.jupyter.widget-view+json": {
       "model_id": "2c7ef564dce34013afac41790fa951e4",
       "version_major": 2,
       "version_minor": 0
      },
      "text/plain": [
       "Pandas Apply:   0%|          | 0/148298 [00:00<?, ?it/s]"
      ]
     },
     "metadata": {},
     "output_type": "display_data"
    },
    {
     "name": "stdout",
     "output_type": "stream",
     "text": [
      "Saved: train_tweets_preprocessed_no_player/CameroonBrazil36.csv\n",
      "Processing: train_tweets_preprocessed/GermanyBrazil74.csv\n"
     ]
    },
    {
     "data": {
      "application/vnd.jupyter.widget-view+json": {
       "model_id": "3adf03bbe6744270b4f329304f981a18",
       "version_major": 2,
       "version_minor": 0
      },
      "text/plain": [
       "Pandas Apply:   0%|          | 0/973985 [00:00<?, ?it/s]"
      ]
     },
     "metadata": {},
     "output_type": "display_data"
    },
    {
     "name": "stdout",
     "output_type": "stream",
     "text": [
      "Saved: train_tweets_preprocessed_no_player/GermanyBrazil74.csv\n",
      "Processing: train_tweets_preprocessed/BelgiumSouthKorea59.csv\n"
     ]
    },
    {
     "data": {
      "application/vnd.jupyter.widget-view+json": {
       "model_id": "aab9d7c1a7a74b1b83d09b5f8f967142",
       "version_major": 2,
       "version_minor": 0
      },
      "text/plain": [
       "Pandas Apply:   0%|          | 0/99192 [00:00<?, ?it/s]"
      ]
     },
     "metadata": {},
     "output_type": "display_data"
    },
    {
     "name": "stdout",
     "output_type": "stream",
     "text": [
      "Saved: train_tweets_preprocessed_no_player/BelgiumSouthKorea59.csv\n",
      "Processing: train_tweets_preprocessed/NetherlandsChile35.csv\n"
     ]
    },
    {
     "data": {
      "application/vnd.jupyter.widget-view+json": {
       "model_id": "f6ff752e915848fa8a5305d230428a54",
       "version_major": 2,
       "version_minor": 0
      },
      "text/plain": [
       "Pandas Apply:   0%|          | 0/95108 [00:00<?, ?it/s]"
      ]
     },
     "metadata": {},
     "output_type": "display_data"
    },
    {
     "name": "stdout",
     "output_type": "stream",
     "text": [
      "Saved: train_tweets_preprocessed_no_player/NetherlandsChile35.csv\n",
      "Processing: train_tweets_preprocessed/GermanyAlgeria67.csv\n"
     ]
    },
    {
     "data": {
      "application/vnd.jupyter.widget-view+json": {
       "model_id": "a1f26eb356674280a3e775a5207a4c55",
       "version_major": 2,
       "version_minor": 0
      },
      "text/plain": [
       "Pandas Apply:   0%|          | 0/712525 [00:00<?, ?it/s]"
      ]
     },
     "metadata": {},
     "output_type": "display_data"
    },
    {
     "name": "stdout",
     "output_type": "stream",
     "text": [
      "Saved: train_tweets_preprocessed_no_player/GermanyAlgeria67.csv\n",
      "Processing: train_tweets_preprocessed/FranceGermany70.csv\n"
     ]
    },
    {
     "data": {
      "application/vnd.jupyter.widget-view+json": {
       "model_id": "b96b18f40f10430991b6dc82e4cc553c",
       "version_major": 2,
       "version_minor": 0
      },
      "text/plain": [
       "Pandas Apply:   0%|          | 0/525725 [00:00<?, ?it/s]"
      ]
     },
     "metadata": {},
     "output_type": "display_data"
    },
    {
     "name": "stdout",
     "output_type": "stream",
     "text": [
      "Saved: train_tweets_preprocessed_no_player/FranceGermany70.csv\n",
      "Processing: train_tweets_preprocessed/MexicoCroatia37.csv\n"
     ]
    },
    {
     "data": {
      "application/vnd.jupyter.widget-view+json": {
       "model_id": "077e9caad5854570a40dcd21b1dbc5eb",
       "version_major": 2,
       "version_minor": 0
      },
      "text/plain": [
       "Pandas Apply:   0%|          | 0/155549 [00:00<?, ?it/s]"
      ]
     },
     "metadata": {},
     "output_type": "display_data"
    },
    {
     "name": "stdout",
     "output_type": "stream",
     "text": [
      "Saved: train_tweets_preprocessed_no_player/MexicoCroatia37.csv\n",
      "Processing: train_tweets_preprocessed/FranceNigeria66.csv\n"
     ]
    },
    {
     "data": {
      "application/vnd.jupyter.widget-view+json": {
       "model_id": "c03bd764ba8f493fbd502fd0f750d528",
       "version_major": 2,
       "version_minor": 0
      },
      "text/plain": [
       "Pandas Apply:   0%|          | 0/367899 [00:00<?, ?it/s]"
      ]
     },
     "metadata": {},
     "output_type": "display_data"
    },
    {
     "name": "stdout",
     "output_type": "stream",
     "text": [
      "Saved: train_tweets_preprocessed_no_player/FranceNigeria66.csv\n",
      "Processing: train_tweets_preprocessed/AustraliaNetherlands29.csv\n"
     ]
    },
    {
     "data": {
      "application/vnd.jupyter.widget-view+json": {
       "model_id": "b7e520abacdf4ca697e0852f5862ecce",
       "version_major": 2,
       "version_minor": 0
      },
      "text/plain": [
       "Pandas Apply:   0%|          | 0/96834 [00:00<?, ?it/s]"
      ]
     },
     "metadata": {},
     "output_type": "display_data"
    },
    {
     "name": "stdout",
     "output_type": "stream",
     "text": [
      "Saved: train_tweets_preprocessed_no_player/AustraliaNetherlands29.csv\n",
      "Processing: train_tweets_preprocessed/HondurasSwitzerland54.csv\n"
     ]
    },
    {
     "data": {
      "application/vnd.jupyter.widget-view+json": {
       "model_id": "d836bee1818c45fe91362a14d035d911",
       "version_major": 2,
       "version_minor": 0
      },
      "text/plain": [
       "Pandas Apply:   0%|          | 0/41539 [00:00<?, ?it/s]"
      ]
     },
     "metadata": {},
     "output_type": "display_data"
    },
    {
     "name": "stdout",
     "output_type": "stream",
     "text": [
      "Saved: train_tweets_preprocessed_no_player/HondurasSwitzerland54.csv\n",
      "Processing: train_tweets_preprocessed/ArgentinaGermanyFinal77.csv\n"
     ]
    },
    {
     "data": {
      "application/vnd.jupyter.widget-view+json": {
       "model_id": "108992fa0dab4d259aadd2772eb60f08",
       "version_major": 2,
       "version_minor": 0
      },
      "text/plain": [
       "Pandas Apply:   0%|          | 0/824241 [00:00<?, ?it/s]"
      ]
     },
     "metadata": {},
     "output_type": "display_data"
    },
    {
     "name": "stdout",
     "output_type": "stream",
     "text": [
      "Saved: train_tweets_preprocessed_no_player/ArgentinaGermanyFinal77.csv\n",
      "Processing: train_tweets_preprocessed/ArgentinaBelgium72.csv\n"
     ]
    },
    {
     "data": {
      "application/vnd.jupyter.widget-view+json": {
       "model_id": "8b233779fdd64a059a3c0a08fe570ad1",
       "version_major": 2,
       "version_minor": 0
      },
      "text/plain": [
       "Pandas Apply:   0%|          | 0/313803 [00:00<?, ?it/s]"
      ]
     },
     "metadata": {},
     "output_type": "display_data"
    },
    {
     "name": "stdout",
     "output_type": "stream",
     "text": [
      "Saved: train_tweets_preprocessed_no_player/ArgentinaBelgium72.csv\n",
      "Processing: train_tweets_preprocessed/USASlovenia2010.csv\n"
     ]
    },
    {
     "data": {
      "application/vnd.jupyter.widget-view+json": {
       "model_id": "dffe7d8df5e74cbcb94ce63916444869",
       "version_major": 2,
       "version_minor": 0
      },
      "text/plain": [
       "Pandas Apply:   0%|          | 0/85675 [00:00<?, ?it/s]"
      ]
     },
     "metadata": {},
     "output_type": "display_data"
    },
    {
     "name": "stdout",
     "output_type": "stream",
     "text": [
      "Saved: train_tweets_preprocessed_no_player/USASlovenia2010.csv\n",
      "Processing: train_tweets_preprocessed/GermanyUSA57.csv\n"
     ]
    },
    {
     "data": {
      "application/vnd.jupyter.widget-view+json": {
       "model_id": "6c24ac7175db42b8bbaeda0cb0f78a56",
       "version_major": 2,
       "version_minor": 0
      },
      "text/plain": [
       "Pandas Apply:   0%|          | 0/256445 [00:00<?, ?it/s]"
      ]
     },
     "metadata": {},
     "output_type": "display_data"
    },
    {
     "name": "stdout",
     "output_type": "stream",
     "text": [
      "Saved: train_tweets_preprocessed_no_player/GermanyUSA57.csv\n"
     ]
    }
   ],
   "source": [
    "##### PREPROCESSING TRAIN DATA AND SAVING IT #####\n",
    "import os\n",
    "import pandas as pd\n",
    "import swifter\n",
    "\n",
    "# Load mentions with preprocessed mentions\n",
    "mentions_with_is_name = pd.read_pickle(\"mentions_processed.pkl\")\n",
    "combined_player_names = set(mentions_with_is_name[\"PreprocessedMention\"].dropna().unique())  # Use set for faster lookup\n",
    "\n",
    "# Directories\n",
    "input_folder = \"train_tweets_preprocessed\"\n",
    "output_folder = \"train_tweets_preprocessed_no_player\"\n",
    "os.makedirs(output_folder, exist_ok=True)  # Ensure the output folder exists\n",
    "\n",
    "# Define the remove_player_names function\n",
    "def remove_player_names(row, football_player_data):\n",
    "    \"\"\"\n",
    "    Replace player names in the tweet with 'footballplayername'.\n",
    "    \"\"\"\n",
    "    if not isinstance(row['Tweet'], str):  # Ensure Tweet is a string\n",
    "        return row['Tweet']\n",
    "    \n",
    "    words = row['Tweet'].split()  # Split tweet into words\n",
    "    normalized_words = [\n",
    "        'footballplayername' if word in football_player_data else word for word in words\n",
    "    ]\n",
    "    return ' '.join(normalized_words)\n",
    "\n",
    "# Process each file in the input folder\n",
    "csv_files = [os.path.join(input_folder, f) for f in os.listdir(input_folder) if f.endswith(\".csv\")]\n",
    "for file_path in csv_files:\n",
    "    print(f\"Processing: {file_path}\")\n",
    "    current_df = pd.read_csv(file_path)\n",
    "    \n",
    "    if 'Tweet' not in current_df.columns:\n",
    "        print(f\"Skipping file {file_path} (missing 'Tweet' column).\")\n",
    "        continue\n",
    "\n",
    "    # Apply the remove_player_names function\n",
    "    current_df['Tweet'] = current_df.swifter.apply(\n",
    "        lambda row: remove_player_names(row, combined_player_names), axis=1\n",
    "    )\n",
    "    \n",
    "    # Save the preprocessed data to the output folder\n",
    "    output_path = os.path.join(output_folder, os.path.basename(file_path))\n",
    "    current_df.to_csv(output_path, index=False)\n",
    "    print(f\"Saved: {output_path}\")\n"
   ]
  },
  {
   "cell_type": "code",
   "execution_count": 120,
   "metadata": {},
   "outputs": [
    {
     "name": "stdout",
     "output_type": "stream",
     "text": [
      "Processing: eval_tweets_preprocessed/GermanyGhana32.csv\n"
     ]
    },
    {
     "data": {
      "application/vnd.jupyter.widget-view+json": {
       "model_id": "b6b8d333931947ec9d1ded81a8730651",
       "version_major": 2,
       "version_minor": 0
      },
      "text/plain": [
       "Pandas Apply:   0%|          | 0/285804 [00:00<?, ?it/s]"
      ]
     },
     "metadata": {},
     "output_type": "display_data"
    },
    {
     "name": "stdout",
     "output_type": "stream",
     "text": [
      "Saved: eval_tweets_preprocessed_no_player/GermanyGhana32.csv\n",
      "Processing: eval_tweets_preprocessed/GermanySerbia2010.csv\n"
     ]
    },
    {
     "data": {
      "application/vnd.jupyter.widget-view+json": {
       "model_id": "bfbff1265373472485c3fc16f408de8e",
       "version_major": 2,
       "version_minor": 0
      },
      "text/plain": [
       "Pandas Apply:   0%|          | 0/45024 [00:00<?, ?it/s]"
      ]
     },
     "metadata": {},
     "output_type": "display_data"
    },
    {
     "name": "stdout",
     "output_type": "stream",
     "text": [
      "Saved: eval_tweets_preprocessed_no_player/GermanySerbia2010.csv\n",
      "Processing: eval_tweets_preprocessed/NetherlandsMexico64.csv\n"
     ]
    },
    {
     "data": {
      "application/vnd.jupyter.widget-view+json": {
       "model_id": "9b176c15d4f54ed8826db926c8052e5e",
       "version_major": 2,
       "version_minor": 0
      },
      "text/plain": [
       "Pandas Apply:   0%|          | 0/628698 [00:00<?, ?it/s]"
      ]
     },
     "metadata": {},
     "output_type": "display_data"
    },
    {
     "name": "stdout",
     "output_type": "stream",
     "text": [
      "Saved: eval_tweets_preprocessed_no_player/NetherlandsMexico64.csv\n",
      "Processing: eval_tweets_preprocessed/GreeceIvoryCoast44.csv\n"
     ]
    },
    {
     "data": {
      "application/vnd.jupyter.widget-view+json": {
       "model_id": "683e13ba0ed9479d858f7ce4d3fc7217",
       "version_major": 2,
       "version_minor": 0
      },
      "text/plain": [
       "Pandas Apply:   0%|          | 0/113402 [00:00<?, ?it/s]"
      ]
     },
     "metadata": {},
     "output_type": "display_data"
    },
    {
     "name": "stdout",
     "output_type": "stream",
     "text": [
      "Saved: eval_tweets_preprocessed_no_player/GreeceIvoryCoast44.csv\n"
     ]
    }
   ],
   "source": [
    "# # Directories\n",
    "\n",
    "##### PREPROCESSING TRAIN DATA AND SAVING IT #####\n",
    "import os\n",
    "import pandas as pd\n",
    "import swifter\n",
    "\n",
    "# Load mentions with preprocessed mentions\n",
    "mentions_with_is_name = pd.read_pickle(\"mentions_processed.pkl\")\n",
    "combined_player_names = set(mentions_with_is_name[\"PreprocessedMention\"].dropna().unique())  # Use set for faster lookup\n",
    "\n",
    "# Directories\n",
    "input_folder = \"eval_tweets_preprocessed\"\n",
    "output_folder = \"eval_tweets_preprocessed_no_player\"\n",
    "os.makedirs(output_folder, exist_ok=True)  # Ensure the output folder exists\n",
    "\n",
    "# Define the remove_player_names function\n",
    "def remove_player_names(row, football_player_data):\n",
    "    \"\"\"\n",
    "    Replace player names in the tweet with 'footballplayername'.\n",
    "    \"\"\"\n",
    "    if not isinstance(row['Tweet'], str):  # Ensure Tweet is a string\n",
    "        return row['Tweet']\n",
    "    \n",
    "    words = row['Tweet'].split()  # Split tweet into words\n",
    "    normalized_words = [\n",
    "        'footballplayername' if word in football_player_data else word for word in words\n",
    "    ]\n",
    "    return ' '.join(normalized_words)\n",
    "\n",
    "# Process each file in the input folder\n",
    "csv_files = [os.path.join(input_folder, f) for f in os.listdir(input_folder) if f.endswith(\".csv\")]\n",
    "for file_path in csv_files:\n",
    "    print(f\"Processing: {file_path}\")\n",
    "    current_df = pd.read_csv(file_path)\n",
    "    \n",
    "    if 'Tweet' not in current_df.columns:\n",
    "        print(f\"Skipping file {file_path} (missing 'Tweet' column).\")\n",
    "        continue\n",
    "\n",
    "    # Apply the remove_player_names function\n",
    "    current_df['Tweet'] = current_df.swifter.apply(\n",
    "        lambda row: remove_player_names(row, combined_player_names), axis=1\n",
    "    )\n",
    "    \n",
    "    # Save the preprocessed data to the output folder\n",
    "    output_path = os.path.join(output_folder, os.path.basename(file_path))\n",
    "    current_df.to_csv(output_path, index=False)\n",
    "    print(f\"Saved: {output_path}\")\n"
   ]
  },
  {
   "cell_type": "code",
   "execution_count": null,
   "metadata": {},
   "outputs": [],
   "source": []
  }
 ],
 "metadata": {
  "kernelspec": {
   "display_name": ".venv",
   "language": "python",
   "name": "python3"
  },
  "language_info": {
   "codemirror_mode": {
    "name": "ipython",
    "version": 3
   },
   "file_extension": ".py",
   "mimetype": "text/x-python",
   "name": "python",
   "nbconvert_exporter": "python",
   "pygments_lexer": "ipython3",
   "version": "3.11.0"
  }
 },
 "nbformat": 4,
 "nbformat_minor": 2
}
