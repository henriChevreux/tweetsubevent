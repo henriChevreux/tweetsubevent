{
 "cells": [
  {
   "cell_type": "code",
   "execution_count": 24,
   "metadata": {},
   "outputs": [],
   "source": [
    "country_code_mapping = {\n",
    "    \"Argentina\": \"ar\", \"Belgium\": \"be\", \"Germany\": \"de\", \"Serbia\": \"rs\", \"Greece\": \"gr\",\n",
    "    \"IvoryCoast\": \"ci\", \"Netherlands\": \"nl\", \"Mexico\": \"mx\", \"Australia\": \"au\", \"Spain\": \"es\",\n",
    "    \"SouthKorea\": \"kr\", \"Cameroon\": \"cm\", \"Brazil\": \"br\", \"France\": \"fr\", \"Nigeria\": \"ng\",\n",
    "    \"Algeria\": \"dz\", \"USA\": \"us\", \"Honduras\": \"hn\", \"Switzerland\": \"ch\", \"Croatia\": \"hr\",\n",
    "    \"Chile\": \"cl\", \"Portugal\": \"pt\", \"Ghana\": \"gh\", \"Slovenia\": \"si\"\n",
    "}"
   ]
  },
  {
   "cell_type": "code",
   "execution_count": 38,
   "metadata": {},
   "outputs": [
    {
     "name": "stdout",
     "output_type": "stream",
     "text": [
      "      last_name  nationality\n",
      "0         messi    Argentina\n",
      "2         pogba       France\n",
      "5          dijk  Netherlands\n",
      "6        mbappe       France\n",
      "7        aguero    Argentina\n",
      "...         ...          ...\n",
      "17941    bruyne      Belgium\n",
      "17944   ronaldo     Portugal\n",
      "17945     serra      Germany\n",
      "17951   bekkema  Netherlands\n",
      "17953   brumado       Brazil\n",
      "\n",
      "[8413 rows x 2 columns]\n",
      "All countries are included.\n"
     ]
    },
    {
     "name": "stderr",
     "output_type": "stream",
     "text": [
      "/var/folders/zk/yx6v2s9j65vf9txb_j71tvn00000gn/T/ipykernel_18649/2354917304.py:43: SettingWithCopyWarning: \n",
      "A value is trying to be set on a copy of a slice from a DataFrame.\n",
      "Try using .loc[row_indexer,col_indexer] = value instead\n",
      "\n",
      "See the caveats in the documentation: https://pandas.pydata.org/pandas-docs/stable/user_guide/indexing.html#returning-a-view-versus-a-copy\n",
      "  last_names_df['nationality'] = last_names_df['nationality'].replace({\n"
     ]
    }
   ],
   "source": [
    "country_code_mapping = {\n",
    "    \"Argentina\": \"ar\", \"Belgium\": \"be\", \"Germany\": \"de\", \"Serbia\": \"rs\", \"Greece\": \"gr\",\n",
    "    \"Ivory Coast\": \"ci\", \"Netherlands\": \"nl\", \"Mexico\": \"mx\", \"Australia\": \"au\", \"Spain\": \"es\",\n",
    "    \"Korea Republic\": \"kr\", \"Cameroon\": \"cm\", \"Brazil\": \"br\", \"France\": \"fr\", \"Nigeria\": \"ng\",\n",
    "    \"Algeria\": \"dz\", \"United States\": \"us\", \"Honduras\": \"hn\", \"Switzerland\": \"ch\", \"Croatia\": \"hr\",\n",
    "    \"Chile\": \"cl\", \"Portugal\": \"pt\", \"Ghana\": \"gh\", \"Slovenia\": \"si\"\n",
    "}\n",
    "\n",
    "import pandas as pd\n",
    "from unidecode import unidecode\n",
    "\n",
    "# Load the CSV file into a DataFrame\n",
    "df = pd.read_csv('fifa_players.csv')\n",
    "\n",
    "# Filter the DataFrame to include only rows where the country code is in the country_code_mapping values\n",
    "df = df[df['nationality'].isin(country_code_mapping.keys())]\n",
    "\n",
    "# Function to extract the last name, convert it to lower case, handle special characters, and replace hyphens with underscores\n",
    "def get_last_name(name):\n",
    "    last_name = name.split()[-1]\n",
    "    if len(last_name) >= 4:\n",
    "        last_name = unidecode(last_name).replace('-', '_')\n",
    "        return last_name.lower()\n",
    "    return None\n",
    "\n",
    "# Apply the function to the 'name' column and filter out None values\n",
    "df['last_name'] = df['name'].apply(get_last_name)\n",
    "df = df[df['last_name'].notna()]\n",
    "\n",
    "# Extract the last names and nationalities into a new DataFrame\n",
    "last_names_df = df[['last_name', 'nationality']]\n",
    "\n",
    "# Print the DataFrame with last names and nationalities\n",
    "print(last_names_df)\n",
    "\n",
    "# Check if all country mapping keys are included\n",
    "missing_countries = set(country_code_mapping.keys()) - set(last_names_df['nationality'])\n",
    "if missing_countries:\n",
    "    print(f\"Missing countries: {missing_countries}\")\n",
    "else:\n",
    "    print(\"All countries are included.\")\n",
    "\n",
    "last_names_df['nationality'] = last_names_df['nationality'].replace({\n",
    "    'Korea Republic': 'SouthKorea',\n",
    "    'Ivory Coast': 'IvoryCoast',\n",
    "    'United States': 'USA'\n",
    "})\n",
    "\n",
    "\n",
    "\n",
    "# Optionally, save the DataFrame to a new CSV file or pickle file\n",
    "last_names_df.to_csv('last_names.csv', index=False)\n",
    "last_names_df.to_pickle('last_names.pkl')"
   ]
  },
  {
   "cell_type": "code",
   "execution_count": null,
   "metadata": {},
   "outputs": [],
   "source": []
  },
  {
   "cell_type": "code",
   "execution_count": null,
   "metadata": {},
   "outputs": [],
   "source": []
  }
 ],
 "metadata": {
  "kernelspec": {
   "display_name": ".venv",
   "language": "python",
   "name": "python3"
  },
  "language_info": {
   "codemirror_mode": {
    "name": "ipython",
    "version": 3
   },
   "file_extension": ".py",
   "mimetype": "text/x-python",
   "name": "python",
   "nbconvert_exporter": "python",
   "pygments_lexer": "ipython3",
   "version": "3.11.0"
  }
 },
 "nbformat": 4,
 "nbformat_minor": 2
}
