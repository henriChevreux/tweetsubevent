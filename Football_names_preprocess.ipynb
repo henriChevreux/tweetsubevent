{
 "cells": [
  {
   "cell_type": "code",
   "execution_count": 2,
   "metadata": {},
   "outputs": [],
   "source": [
    "# Map of countries and their corresponding codes\n",
    "country_code_mapping = {\n",
    "    \"Argentina\": \"ar\", \"Belgium\": \"be\", \"Germany\": \"de\", \"Serbia\": \"rs\", \"Greece\": \"gr\",\n",
    "    \"IvoryCoast\": \"ci\", \"Netherlands\": \"nl\", \"Mexico\": \"mx\", \"Australia\": \"au\", \"Spain\": \"es\",\n",
    "    \"SouthKorea\": \"kr\", \"Cameroon\": \"cm\", \"Brazil\": \"br\", \"France\": \"fr\", \"Nigeria\": \"ng\",\n",
    "    \"Algeria\": \"dz\", \"USA\": \"us\", \"Honduras\": \"hn\", \"Switzerland\": \"ch\", \"Croatia\": \"hr\",\n",
    "    \"Chile\": \"cl\", \"Portugal\": \"pt\", \"Ghana\": \"gh\", \"Slovenia\": \"si\"\n",
    "}\n"
   ]
  },
  {
   "cell_type": "code",
   "execution_count": 12,
   "metadata": {},
   "outputs": [
    {
     "data": {
      "text/plain": [
       "(array(['de', 'ci', 'be', 'pt', 'fr', 'ar', 'br', 'hr', 'gh', 'ng', 'nl',\n",
       "        'si', 'rs', 'cm', 'es', 'gr', 'au', 'cl', 'us', 'kr', 'ch', 'hn',\n",
       "        'dz', 'mx'], dtype=object),\n",
       " 'filtered_football_players.csv')"
      ]
     },
     "execution_count": 12,
     "metadata": {},
     "output_type": "execute_result"
    }
   ],
   "source": [
    "# Re-importing necessary library since the environment was reset\n",
    "import pandas as pd\n",
    "\n",
    "# Load the uploaded football player names dataset\n",
    "file_path = 'jogadores.csv'\n",
    "football_df = pd.read_csv(file_path)\n",
    "\n",
    "# Copy the dataset to ensure the original remains unchanged\n",
    "football_df_copy = football_df.copy()\n",
    "\n",
    "# Map of countries and their corresponding codes\n",
    "country_code_mapping = {\n",
    "    \"Argentina\": \"ar\", \"Belgium\": \"be\", \"Germany\": \"de\", \"Serbia\": \"rs\", \"Greece\": \"gr\",\n",
    "    \"IvoryCoast\": \"ci\", \"Netherlands\": \"nl\", \"Mexico\": \"mx\", \"Australia\": \"au\", \"Spain\": \"es\",\n",
    "    \"SouthKorea\": \"kr\", \"Cameroon\": \"cm\", \"Brazil\": \"br\", \"France\": \"fr\", \"Nigeria\": \"ng\",\n",
    "    \"Algeria\": \"dz\", \"USA\": \"us\", \"Honduras\": \"hn\", \"Switzerland\": \"ch\", \"Croatia\": \"hr\",\n",
    "    \"Chile\": \"cl\", \"Portugal\": \"pt\", \"Ghana\": \"gh\", \"Slovenia\": \"si\"\n",
    "}\n",
    "\n",
    "# Extract the relevant country codes\n",
    "relevant_country_codes = set(country_code_mapping.values())\n",
    "\n",
    "# Filter the dataset to only include players from relevant countries\n",
    "filtered_football_df = football_df_copy[football_df_copy['country'].isin(relevant_country_codes)]\n",
    "\n",
    "# Print the unique country codes remaining to ensure all are included\n",
    "remaining_country_codes = filtered_football_df['country'].unique()\n",
    "\n",
    "# Save the filtered dataset for further use\n",
    "filtered_file_path = 'filtered_football_players.csv'\n",
    "filtered_football_df.to_csv(filtered_file_path, index=False)\n",
    "\n",
    "remaining_country_codes, filtered_file_path\n"
   ]
  },
  {
   "cell_type": "code",
   "execution_count": 13,
   "metadata": {},
   "outputs": [
    {
     "data": {
      "text/plain": [
       "(set(), set())"
      ]
     },
     "execution_count": 13,
     "metadata": {},
     "output_type": "execute_result"
    }
   ],
   "source": [
    "\n",
    "\n",
    "expected_country_codes = [\n",
    "    'ar', 'be', 'de', 'rs', 'gr', 'ci', 'nl', 'mx', 'au', 'es',\n",
    "    'kr', 'cm', 'br', 'fr', 'ng', 'dz', 'us', 'hn', 'ch', 'hr',\n",
    "    'cl', 'pt', 'gh', 'si'\n",
    "]\n",
    "dataset_country_codes = [\n",
    "    'au', 'br', 'ng', 'cm', 'gh', 'dz', 'ch', 'fr', 'de', 'nl', \n",
    "    'cl', 'mx', 'ar', 'be', 'es', 'hr', 'us', 'rs', 'gr', 'pt', \n",
    "    'hn', 'si', 'ci', 'kr'\n",
    "]\n",
    "\n",
    "# Find missing countries\n",
    "missing_countries = set(expected_country_codes) - set(dataset_country_codes)\n",
    "\n",
    "# Find extra countries in the dataset not in the expected list\n",
    "extra_countries = set(dataset_country_codes) - set(expected_country_codes)\n",
    "\n",
    "missing_countries, extra_countries"
   ]
  },
  {
   "cell_type": "code",
   "execution_count": 16,
   "metadata": {},
   "outputs": [
    {
     "name": "stderr",
     "output_type": "stream",
     "text": [
      "/var/folders/zk/yx6v2s9j65vf9txb_j71tvn00000gn/T/ipykernel_18649/2620808639.py:7: SettingWithCopyWarning: \n",
      "A value is trying to be set on a copy of a slice from a DataFrame.\n",
      "Try using .loc[row_indexer,col_indexer] = value instead\n",
      "\n",
      "See the caveats in the documentation: https://pandas.pydata.org/pandas-docs/stable/user_guide/indexing.html#returning-a-view-versus-a-copy\n",
      "  names['LastName'] = names['name'].apply(lambda x: x.split()[-1].lower() if isinstance(x, str) else '')\n"
     ]
    },
    {
     "data": {
      "text/plain": [
       "'grouped_football_player_last_names.pkl'"
      ]
     },
     "execution_count": 16,
     "metadata": {},
     "output_type": "execute_result"
    }
   ],
   "source": [
    "import pickle\n",
    "\n",
    "# Extract 'name' and 'country' columns from the dataset\n",
    "names = football_df_copy[['name', 'country']]\n",
    "\n",
    "# Split names and extract the last names\n",
    "names['LastName'] = names['name'].apply(lambda x: x.split()[-1].lower() if isinstance(x, str) else '')\n",
    "\n",
    "# Group last names by country\n",
    "country_last_names = names.groupby('country')['LastName'].apply(lambda x: sorted(set(x))).to_dict()\n",
    "\n",
    "# Save the dictionary as a Pickle file\n",
    "grouped_last_names_pickle_path = 'grouped_football_player_last_names.pkl'\n",
    "with open(grouped_last_names_pickle_path, 'wb') as pickle_file:\n",
    "    pickle.dump(country_last_names, pickle_file)\n",
    "\n",
    "# Output the file path for reference\n",
    "grouped_last_names_pickle_path\n"
   ]
  },
  {
   "cell_type": "code",
   "execution_count": null,
   "metadata": {},
   "outputs": [],
   "source": [
    "country_last_names"
   ]
  }
 ],
 "metadata": {
  "kernelspec": {
   "display_name": ".venv",
   "language": "python",
   "name": "python3"
  },
  "language_info": {
   "codemirror_mode": {
    "name": "ipython",
    "version": 3
   },
   "file_extension": ".py",
   "mimetype": "text/x-python",
   "name": "python",
   "nbconvert_exporter": "python",
   "pygments_lexer": "ipython3",
   "version": "3.11.0"
  }
 },
 "nbformat": 4,
 "nbformat_minor": 2
}
