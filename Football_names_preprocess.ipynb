{
 "cells": [
  {
   "cell_type": "code",
   "execution_count": 24,
   "metadata": {},
   "outputs": [],
   "source": [
    "country_code_mapping = {\n",
    "    \"Argentina\": \"ar\", \"Belgium\": \"be\", \"Germany\": \"de\", \"Serbia\": \"rs\", \"Greece\": \"gr\",\n",
    "    \"IvoryCoast\": \"ci\", \"Netherlands\": \"nl\", \"Mexico\": \"mx\", \"Australia\": \"au\", \"Spain\": \"es\",\n",
    "    \"SouthKorea\": \"kr\", \"Cameroon\": \"cm\", \"Brazil\": \"br\", \"France\": \"fr\", \"Nigeria\": \"ng\",\n",
    "    \"Algeria\": \"dz\", \"USA\": \"us\", \"Honduras\": \"hn\", \"Switzerland\": \"ch\", \"Croatia\": \"hr\",\n",
    "    \"Chile\": \"cl\", \"Portugal\": \"pt\", \"Ghana\": \"gh\", \"Slovenia\": \"si\"\n",
    "}"
   ]
  },
  {
   "cell_type": "code",
   "execution_count": 41,
   "metadata": {},
   "outputs": [
    {
     "name": "stdout",
     "output_type": "stream",
     "text": [
      "        first_name   last_name  positions   nationality\n",
      "0           Lionel  Cuccittini   CF,RW,ST     Argentina\n",
      "1        Christian     Eriksen  CAM,RM,CM       Denmark\n",
      "2             Paul       Pogba     CM,CAM        France\n",
      "3          Lorenzo     Insigne      LW,ST         Italy\n",
      "4          Kalidou   Koulibaly         CB       Senegal\n",
      "...            ...         ...        ...           ...\n",
      "17949         Rory    McKenzie  RM,CAM,CM      Scotland\n",
      "17950       Michal      Sipľak         LB      Slovakia\n",
      "17951          Jan     Bekkema         GK   Netherlands\n",
      "17952  Abdulrahman        Yami      ST,LM  Saudi Arabia\n",
      "17953         José      Júnior         ST        Brazil\n",
      "\n",
      "[17954 rows x 4 columns]\n"
     ]
    }
   ],
   "source": [
    "import pandas as pd\n",
    "\n",
    "# Load the dataset (replace 'your_dataset.csv' with the actual file name)\n",
    "df = pd.read_csv('fifa_players.csv')\n",
    "\n",
    "# Function to extract the first word of the full name\n",
    "def get_first_name(full_name):\n",
    "    return full_name.split()[0]\n",
    "\n",
    "# Function to extract the last word of the full name\n",
    "def get_last_name(full_name):\n",
    "    return full_name.split()[-1]\n",
    "\n",
    "# Apply the functions to extract first and last names\n",
    "df['first_name'] = df['full_name'].apply(get_first_name)\n",
    "df['last_name'] = df['full_name'].apply(get_last_name)\n",
    "\n",
    "# Create a new DataFrame with the required fields\n",
    "extracted_df = df[['first_name', 'last_name', 'positions', 'nationality']]\n",
    "\n",
    "# Save the new DataFrame to a CSV file\n",
    "extracted_df.to_csv('extracted_names_positions.csv', index=False)\n",
    "\n",
    "# Print the resulting DataFrame to verify\n",
    "print(extracted_df)\n"
   ]
  },
  {
   "cell_type": "code",
   "execution_count": null,
   "metadata": {},
   "outputs": [],
   "source": []
  },
  {
   "cell_type": "code",
   "execution_count": null,
   "metadata": {},
   "outputs": [],
   "source": []
  }
 ],
 "metadata": {
  "kernelspec": {
   "display_name": ".venv",
   "language": "python",
   "name": "python3"
  },
  "language_info": {
   "codemirror_mode": {
    "name": "ipython",
    "version": 3
   },
   "file_extension": ".py",
   "mimetype": "text/x-python",
   "name": "python",
   "nbconvert_exporter": "python",
   "pygments_lexer": "ipython3",
   "version": "3.11.0"
  }
 },
 "nbformat": 4,
 "nbformat_minor": 2
}
